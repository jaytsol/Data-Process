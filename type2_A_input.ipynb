{
 "cells": [
  {
   "cell_type": "code",
   "execution_count": 14,
   "id": "47135d82-0454-425c-b18f-7ed3bf6f58cd",
   "metadata": {},
   "outputs": [],
   "source": [
    "# type2_A_input 예시 json 데이터 생성 (행정처분)"
   ]
  },
  {
   "cell_type": "code",
   "execution_count": 15,
   "id": "b26a778b-4fa4-4438-ad68-37080c596583",
   "metadata": {},
   "outputs": [],
   "source": [
    "import json"
   ]
  },
  {
   "cell_type": "code",
   "execution_count": 16,
   "id": "9eff34cd-ecfd-4440-9469-da99475dc224",
   "metadata": {},
   "outputs": [],
   "source": [
    "def zerolists(num):\n",
    "    listofzeros = [0] * num\n",
    "    return listofzeros"
   ]
  },
  {
   "cell_type": "code",
   "execution_count": 17,
   "id": "6a49c720-9120-4f5d-b6a5-2ac306580769",
   "metadata": {},
   "outputs": [],
   "source": [
    "difficult_word = {\"행정처분\":[],\n",
    "                 \"조세회피\":[],}\n",
    "difficult_word[\"행정처분\"] = zerolists(2)\n",
    "difficult_word[\"조세회피\"] = zerolists(2)\n",
    "difficult_word[\"행정처분\"][0] = {\n",
    "                                    \"sentence\":\"[1] 행정처분을 다툴 소의 이익은 개별·구체적 사정을 고려하여 판단하여야 한다.\",\n",
    "                                    \"word\":\n",
    "                                        [ \n",
    "                                            \"행정처분\", \n",
    "                                            \"소의 이익\", \n",
    "                                        ],\n",
    "                                    \"wordOccurence\":\n",
    "                                        [ \n",
    "                                            {\"start\" : 4, \"end\": 7 },  \n",
    "                                            {\"start\": 13, \"end\" : 17} \n",
    "                                        ],\n",
    "                                }\n",
    "difficult_word[\"행정처분\"][1] = {\n",
    "                                    \"sentence\":\"행정처분의 무효확인 또는 취소를 구하는 소가 제소 당시에는 소의 이익이 있어 적법하였더라도, 소송 계속 중 처분청이 다툼의 대상이 되는 행정처분을 직권으로 취소하면 그 처분은 효력을 상실하여 더 이상 존재하지 않는 것이므로, 존재하지 않는 처분을 대상으로 한 항고소송은 원칙적으로 소의 이익이 소멸하여 부적법하다고 보아야 한다.\",\n",
    "                                    \"word\":\n",
    "                                        [ \n",
    "                                            \"행정처분\", \n",
    "                                            \"제소\", \n",
    "                                            \"소의 이익\", \n",
    "                                            \"항고소송\", \n",
    "                                        ],\n",
    "                                    \"wordOccurence\":\n",
    "                                        [\n",
    "                                            {\"start\" : 0, \"end\": 3 },\n",
    "                                            {\"start\": 25, \"end\" : 26}\n",
    "                                        ],\n",
    "                                }\n",
    "difficult_word[\"조세회피\"][0] = {\n",
    "                                    \"sentence\":\"재산 귀속명의자는 이를 지배·관리할 능력이 없고 명의자에 대한 지배권 등을 통하여 실질적으로 이를 지배·관리하는 사람이 따로 있으며 그와 같은 명의와 실질의 괴리가 조세 회피 목적에서 비롯된 경우에는、 그 재산에 관한 소득은 재산을 실질적으로 지배·관리하는 사람에게 귀속된 것으로 보아 그를 납세의무자로 보아 과세하여야 한다.\",\n",
    "                                    \"word\":\n",
    "                                        [ \n",
    "                                            \"귀속\",\n",
    "                                            \"조세 회피\", \n",
    "                                        ],\n",
    "                                    \"wordOccurence\":\n",
    "                                        [\n",
    "                                            {\"start\" : 3, \"end\": 4 },  \n",
    "                                            {\"start\": 92, \"end\" : 96},  \n",
    "                                            {\"start\": 149, \"end\" : 150} \n",
    "                                        ],\n",
    "                                }\n",
    "difficult_word[\"조세회피\"][1] = {\n",
    "                                    \"sentence\":\"[1] 재산의 귀속 명의자가 지배·관리 능력이 없고、 명의자에 대한 지배권 등을 통하여 실질적으로 지배·관리하는 자가 따로 있으며、 명의와 실질의 괴리가 조세 회피 목적에서 비롯된 경우、 재산에 관한 소득의 납세의무자(=재산의 실질적 지배·관리자) 및 이 원칙이 조세조약의 해석과 적용에서도 그대로 적용되는지 여부(원칙적 적극)\",\n",
    "                                     \"word\":\n",
    "                                        [ \n",
    "                                            \"귀속\",\n",
    "                                            \"조세 회피\", \n",
    "                                            \"조세조약\", \n",
    "                                        ],\n",
    "                                     \"wordOccurence\":\n",
    "                                        [\n",
    "                                            {\"start\" : 8, \"end\": 9 },  \n",
    "                                            {\"start\": 86, \"end\" : 90}, \n",
    "                                            {\"start\": 147, \"end\" : 150}\n",
    "                                        ],\n",
    "                                }"
   ]
  },
  {
   "cell_type": "code",
   "execution_count": 18,
   "id": "a21d6c99-971f-4e83-b8bf-a581123ea848",
   "metadata": {},
   "outputs": [
    {
     "data": {
      "text/plain": [
       "{'행정처분': [{'sentence': '[1] 행정처분을 다툴 소의 이익은 개별·구체적 사정을 고려하여 판단하여야 한다.',\n",
       "   'word': ['행정처분', '소의 이익'],\n",
       "   'wordOccurence': [{'start': 4, 'end': 7}, {'start': 13, 'end': 17}]},\n",
       "  {'sentence': '행정처분의 무효확인 또는 취소를 구하는 소가 제소 당시에는 소의 이익이 있어 적법하였더라도, 소송 계속 중 처분청이 다툼의 대상이 되는 행정처분을 직권으로 취소하면 그 처분은 효력을 상실하여 더 이상 존재하지 않는 것이므로, 존재하지 않는 처분을 대상으로 한 항고소송은 원칙적으로 소의 이익이 소멸하여 부적법하다고 보아야 한다.',\n",
       "   'word': ['행정처분', '제소', '소의 이익', '항고소송'],\n",
       "   'wordOccurence': [{'start': 0, 'end': 3}, {'start': 25, 'end': 26}]}],\n",
       " '조세회피': [{'sentence': '재산 귀속명의자는 이를 지배·관리할 능력이 없고 명의자에 대한 지배권 등을 통하여 실질적으로 이를 지배·관리하는 사람이 따로 있으며 그와 같은 명의와 실질의 괴리가 조세 회피 목적에서 비롯된 경우에는、 그 재산에 관한 소득은 재산을 실질적으로 지배·관리하는 사람에게 귀속된 것으로 보아 그를 납세의무자로 보아 과세하여야 한다.',\n",
       "   'word': ['귀속', '조세 회피'],\n",
       "   'wordOccurence': [{'start': 3, 'end': 4},\n",
       "    {'start': 92, 'end': 96},\n",
       "    {'start': 149, 'end': 150}]},\n",
       "  {'sentence': '[1] 재산의 귀속 명의자가 지배·관리 능력이 없고、 명의자에 대한 지배권 등을 통하여 실질적으로 지배·관리하는 자가 따로 있으며、 명의와 실질의 괴리가 조세 회피 목적에서 비롯된 경우、 재산에 관한 소득의 납세의무자(=재산의 실질적 지배·관리자) 및 이 원칙이 조세조약의 해석과 적용에서도 그대로 적용되는지 여부(원칙적 적극)',\n",
       "   'word': ['귀속', '조세 회피', '조세조약'],\n",
       "   'wordOccurence': [{'start': 8, 'end': 9},\n",
       "    {'start': 86, 'end': 90},\n",
       "    {'start': 147, 'end': 150}]}]}"
      ]
     },
     "execution_count": 18,
     "metadata": {},
     "output_type": "execute_result"
    }
   ],
   "source": [
    "difficult_word"
   ]
  },
  {
   "cell_type": "code",
   "execution_count": 19,
   "id": "edd8ddf8-33a9-44e6-ad69-c1d3d3fc8a89",
   "metadata": {},
   "outputs": [
    {
     "data": {
      "text/plain": [
       "'귀속'"
      ]
     },
     "execution_count": 19,
     "metadata": {},
     "output_type": "execute_result"
    }
   ],
   "source": [
    "difficult_word['조세회피'][1]['word'][0]"
   ]
  },
  {
   "cell_type": "code",
   "execution_count": 20,
   "id": "52850a9b-0301-41bd-b4f2-d9e9fe589098",
   "metadata": {},
   "outputs": [],
   "source": [
    "with open('C:/Users/jayts/OneDrive/바탕 화면/Tictag/json/KAS/type2_A_input_example.json', 'w', encoding='UTF-8') as file:\n",
    "    file.write(json.dumps(difficult_word, indent=4, ensure_ascii=False))"
   ]
  },
  {
   "cell_type": "code",
   "execution_count": null,
   "id": "1ee4ee05-78df-4bf4-ab98-aa8e68c85c05",
   "metadata": {},
   "outputs": [],
   "source": []
  }
 ],
 "metadata": {
  "kernelspec": {
   "display_name": "Python 3",
   "language": "python",
   "name": "python3"
  },
  "language_info": {
   "codemirror_mode": {
    "name": "ipython",
    "version": 3
   },
   "file_extension": ".py",
   "mimetype": "text/x-python",
   "name": "python",
   "nbconvert_exporter": "python",
   "pygments_lexer": "ipython3",
   "version": "3.8.8"
  }
 },
 "nbformat": 4,
 "nbformat_minor": 5
}
