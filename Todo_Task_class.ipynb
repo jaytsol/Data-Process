{
 "cells": [
  {
   "cell_type": "markdown",
   "id": "4c814191-be41-402d-b946-1ebfba638687",
   "metadata": {},
   "source": [
    "# 전체 파일 중에서 최종검수 완료한 라인넘버 제외하고 나머지만 뽑도록 하는 코드<br>\n",
    "## 1. 입력, 출력 데이터<br>\n",
    "#### input : 누적 작업 데이터셋<br>\n",
    "#### output = 해야할 작업 데이터셋 = 전체 데이터셋 - 누적 작업 데이터셋<br><br><br><br>\n",
    "\n",
    "## 2. 사용자 입력\n",
    "#### input_repo : 입력 디렉토리 경로<br>\n",
    "#### output_repo : 출력 디렉토리 경로<br>\n",
    "#### database_repo : 누적 작업 데이터셋<br><br><br>"
   ]
  },
  {
   "cell_type": "markdown",
   "id": "8e90b90d-383a-48f9-be40-0d1c86a30952",
   "metadata": {},
   "source": [
    "## 3. class 불러와서 start 하면..\n",
    "start :<br>\n",
    "- get_filelist : 입력 디렉토리의 파일리스트 추출<br>\n",
    "- get_csvlist : 입력 디렉토리의 csv파일리스트 추출<br>\n",
    "- print_howmuchleft : 작업 몇개 남았는지 프린트<br><br>\n",
    "\n",
    "- generate_Todo_Task_list : 해야할 작업 번호 리스트로 추출<br>\n",
    "- generate_Todo_Task : 해야할 작업 데이터프레임 형태로 생성<br>\n",
    "- save_as_csv : 최종결과 csv 형식으로 저장<br><br>"
   ]
  },
  {
   "cell_type": "code",
   "execution_count": 1,
   "id": "98aec332-1f52-430a-b2bd-4210ec9cc6f4",
   "metadata": {},
   "outputs": [],
   "source": [
    "import json\n",
    "import csv\n",
    "import pandas as pd\n",
    "import os\n",
    "from os import walk\n",
    "import datetime\n",
    "from tqdm.notebook import tnrange\n",
    "\n",
    "\n",
    "class Todo_Task:\n",
    "    \n",
    "    # main\n",
    "    def start(self, input_repo, output_repo, database_repo):\n",
    "        processed = self.howmuchleft(input_repo, output_repo, database_repo)\n",
    "        Todo_Task_lineNumber_list, database = self.generate_Todo_Task_list(database_repo, processed)\n",
    "        Todo_Task = self.generate_Todo_Task(Todo_Task_lineNumber_list, database)\n",
    "        self.save_as_csv(input_repo, output_repo, Todo_Task)\n",
    "        \n",
    "    \n",
    "    \n",
    "    \n",
    "    \n",
    "    # 작업 얼마나 남음?\n",
    "    def howmuchleft(self, input_repo, output_repo, database_repo):\n",
    "        file_list = self.get_filelist(input_repo)\n",
    "        csv_list = self.get_csvlist(input_repo, file_list)\n",
    "        processed = self.print_howmuchleft(database_repo, csv_list)\n",
    "        \n",
    "        return processed\n",
    "        \n",
    "\n",
    "    # 해당 경로의 파일리스트 추출\n",
    "    def get_filelist(self, input_repo):\n",
    "        file_list = []\n",
    "        for (dirpath, dirnames, filenames) in walk(input_repo):\n",
    "            file_list.extend(filenames)\n",
    "            break\n",
    "        \n",
    "        return file_list\n",
    "    \n",
    "    \n",
    "    # 해당 경로의 csv파일의 경로+파일명 리스트 추출\n",
    "    def get_csvlist(self, input_repo, file_list):\n",
    "        csv_list = []\n",
    "        for i in range(len(file_list)):\n",
    "            filename, file_extension = os.path.splitext(f'{input_repo}/{file_list[i]}')\n",
    "\n",
    "            if file_extension == '.csv':\n",
    "                csv_list.append(filename+file_extension)\n",
    "                \n",
    "        return csv_list\n",
    "    \n",
    "    \n",
    "    # 작업 진행 정도 체크\n",
    "    # 작업한 리스트 : processed_lineNumber_list\n",
    "    # 누적 데이터베이스 리스트 : database_lineNumber_list\n",
    "    def print_howmuchleft(self, database_repo, csv_list):\n",
    "        processed = pd.concat([pd.read_csv(f) for f in csv_list])    # 라인넘버 기준 안합친파일 합치기\n",
    "        processed_lineNumber_list = list(processed['lineNumber'])    # 작업한 lineNumber list\n",
    "\n",
    "        database = pd.read_csv(f'{database_repo}/{database_filename}')    # 누적 데이터베이스 read\n",
    "        database_lineNumber_list = list(database['lineNumber'])    # 누적 데이터베이스의 lineNumber List\n",
    "\n",
    "        print('전체 38451개에서 태깅된 '+str(len(list(database['lineNumber'])))+'개 중 '+str(len(list(processed['lineNumber'])))+'개의 검수를 마쳤습니다.')\n",
    "        \n",
    "        return processed\n",
    "\n",
    "        \n",
    "    # 작업해야할 lineNumber_list 추출\n",
    "    def generate_Todo_Task_list(self, database_repo, processed):\n",
    "        database = pd.read_csv(f'{database_repo}/{database_filename}')    # 누적 데이터베이스 read\n",
    "        processed_lineNumber_set = set(processed['lineNumber'])    # 검수작업 완료된 문장\n",
    "        database_lineNumber_set = set(database['lineNumber'])    # 전체 데이터베이스\n",
    "\n",
    "        Todo_Task_lineNumber_list = list(database_lineNumber_set.difference(processed_lineNumber_set))    # database - processed.. 즉 아직 작업하지 않은 문장들을 추출\n",
    "\n",
    "        return Todo_Task_lineNumber_list, database\n",
    "    \n",
    "    # Todo_Task 생성\n",
    "    def generate_Todo_Task(self, Todo_Task_lineNumber_list, database):\n",
    "        COLUMNS = ['lineNumber', 'originalText', 'transcription']\n",
    "        Todo_Task = pd.DataFrame(columns=COLUMNS)\n",
    "        print('해야할 작업 리스트를 생성 중입니다...')\n",
    "    \n",
    "        for i in tnrange(len(Todo_Task_lineNumber_list)):\n",
    "            for j in range(len(database)):\n",
    "                if Todo_Task_lineNumber_list[i]==database['lineNumber'][j]:\n",
    "                    Todo_Task = Todo_Task.append({'lineNumber':database['lineNumber'][j], 'originalText':database['originalText'][j], 'transcription':database['transcription'][j]},  ignore_index=True)\n",
    "                else:\n",
    "                    pass\n",
    "\n",
    "        Todo_Task = Todo_Task.sort_values(by=['lineNumber'])    # 작업물 sort by lineNumber\n",
    "        print('작업 리스트의 생성이 완료되었습니다.')\n",
    "        \n",
    "        return Todo_Task\n",
    "\n",
    "        \n",
    "    # csv형태로 저장\n",
    "    def save_as_csv(self, input_repo, output_repo, Todo_Task):\n",
    "        year = str(datetime.datetime.now().year)[2:]\n",
    "        month = str(datetime.datetime.now().month)\n",
    "        day = str(datetime.datetime.now().day)\n",
    "        hour = str(datetime.datetime.now().hour)\n",
    "        minute = str(datetime.datetime.now().minute)\n",
    "        \n",
    "        print(f'{output_repo}의 경로에 남은 작업_{year}{month}{day}_{hour}{minute}.csv의 이름으로 파일 생성이 완료되었습니다.')\n",
    "        \n",
    "        Todo_Task.to_csv(f'{output_repo}/남은 작업_{year}{month}{day}_{hour}{minute}.csv', index=False, encoding='utf-8-sig')"
   ]
  },
  {
   "cell_type": "code",
   "execution_count": 2,
   "id": "c615071f-300a-4555-88a7-de3b89d0d7b9",
   "metadata": {},
   "outputs": [],
   "source": [
    "a=Todo_Task()"
   ]
  },
  {
   "cell_type": "code",
   "execution_count": 3,
   "id": "2e1070d6-29ed-45b0-83c1-93c72cc05feb",
   "metadata": {},
   "outputs": [],
   "source": [
    "input_repo = '/Users/jaytsol/Desktop/Type23 (2)/누적/concat'              # 건드릴 필요 X\n",
    "database_repo = '/Users/jaytsol/Desktop/Type23 (2)/오리지널/downloaded'    # 건드릴 필요 X\n",
    "database_filename = '다운로드데이터_21117_1752.csv'                        # 매번 수정 필요\n",
    "\n",
    "output_repo = '/Users/jaytsol/Desktop/Type23 (2)/누적/남은 작업'            # 건드릴 필요 X"
   ]
  },
  {
   "cell_type": "code",
   "execution_count": 4,
   "id": "8df40394-86f9-4ec8-b8d1-5cadf3932b43",
   "metadata": {},
   "outputs": [
    {
     "name": "stdout",
     "output_type": "stream",
     "text": [
      "전체 38451개에서 태깅된 39498개 중 51249개의 검수를 마쳤습니다.\n",
      "해야할 작업 리스트를 생성 중입니다...\n"
     ]
    },
    {
     "data": {
      "application/vnd.jupyter.widget-view+json": {
       "model_id": "e646914e051442aa8af1ebd191dbec48",
       "version_major": 2,
       "version_minor": 0
      },
      "text/plain": [
       "  0%|          | 0/3550 [00:00<?, ?it/s]"
      ]
     },
     "metadata": {},
     "output_type": "display_data"
    },
    {
     "name": "stdout",
     "output_type": "stream",
     "text": [
      "작업 리스트의 생성이 완료되었습니다.\n",
      "/Users/jaytsol/Desktop/Type23 (2)/누적/남은 작업의 경로에 남은 작업_21118_1744.csv의 이름으로 파일 생성이 완료되었습니다.\n"
     ]
    }
   ],
   "source": [
    "a.start(input_repo, output_repo, database_repo)"
   ]
  },
  {
   "cell_type": "code",
   "execution_count": null,
   "id": "2f5db5ae-0cf4-49f5-b9d6-de41d55376ad",
   "metadata": {},
   "outputs": [],
   "source": []
  }
 ],
 "metadata": {
  "kernelspec": {
   "display_name": "Python 3",
   "language": "python",
   "name": "python3"
  },
  "language_info": {
   "codemirror_mode": {
    "name": "ipython",
    "version": 3
   },
   "file_extension": ".py",
   "mimetype": "text/x-python",
   "name": "python",
   "nbconvert_exporter": "python",
   "pygments_lexer": "ipython3",
   "version": "3.8.8"
  }
 },
 "nbformat": 4,
 "nbformat_minor": 5
}
