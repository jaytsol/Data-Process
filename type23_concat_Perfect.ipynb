{
 "cells": [
  {
   "cell_type": "code",
   "execution_count": 1,
   "id": "14040af5-18ab-4fa3-abfc-60b4bce1aaaf",
   "metadata": {},
   "outputs": [],
   "source": [
    "import pandas as pd\n",
    "import os\n",
    "from os import walk\n",
    "from collections import Counter"
   ]
  },
  {
   "cell_type": "code",
   "execution_count": 2,
   "id": "697289bf-fd92-44d4-88aa-c4d27a7712af",
   "metadata": {},
   "outputs": [],
   "source": [
    "input_repo = '/Users/jaytsol/Desktop/Type23 (2)/누적/concat'\n",
    "ref_repo = '/Users/jaytsol/Desktop/Type23 (2)/오리지널/total_original'\n",
    "\n",
    "ref_filename = 'total_with_lineNumber.csv'"
   ]
  },
  {
   "cell_type": "code",
   "execution_count": 3,
   "id": "6497b025-c91a-43e6-907a-9bffdd71ab5a",
   "metadata": {},
   "outputs": [],
   "source": [
    "# 해당 경로의 파일리스트 추출\n",
    "def get_filelist(input_repo):\n",
    "    file_list = []\n",
    "    for (dirpath, dirnames, filenames) in walk(input_repo):\n",
    "        file_list.extend(filenames)\n",
    "        break\n",
    "\n",
    "    return file_list"
   ]
  },
  {
   "cell_type": "code",
   "execution_count": 4,
   "id": "39035346-4b52-4fed-ae82-0a713ca7d8cf",
   "metadata": {},
   "outputs": [],
   "source": [
    "# 해당 경로의 csv파일의 경로+파일명 리스트 추출\n",
    "def get_csvlist(input_repo, file_list):\n",
    "    csv_list = []\n",
    "    for i in range(len(file_list)):\n",
    "        filename, file_extension = os.path.splitext(f'{input_repo}/{file_list[i]}')\n",
    "\n",
    "        if file_extension == '.csv':\n",
    "            csv_list.append(filename+file_extension)\n",
    "\n",
    "    return csv_list"
   ]
  },
  {
   "cell_type": "code",
   "execution_count": 5,
   "id": "f9f65605-561b-4924-be84-8d5ca9d03940",
   "metadata": {},
   "outputs": [],
   "source": [
    "def concat_csvfile(csv_list):\n",
    "    result = pd.concat([pd.read_csv(f) for f in csv_list])    # 라인넘버 기준 안합친파일 합치기\n",
    "    result = result.sort_values(by=['lineNumber'])    # 작업물 sort by lineNumber\n",
    "    \n",
    "    return result"
   ]
  },
  {
   "cell_type": "code",
   "execution_count": 6,
   "id": "c5abfc54-1681-495e-8f7e-250e0facc3a2",
   "metadata": {},
   "outputs": [],
   "source": [
    "file_list = get_filelist(input_repo)\n",
    "csv_list = get_csvlist(input_repo, file_list)\n",
    "result = concat_csvfile(csv_list)"
   ]
  },
  {
   "cell_type": "code",
   "execution_count": 7,
   "id": "49b2a90f-b7f9-49e4-9166-c9142f803dbd",
   "metadata": {},
   "outputs": [
    {
     "data": {
      "text/html": [
       "<div>\n",
       "<style scoped>\n",
       "    .dataframe tbody tr th:only-of-type {\n",
       "        vertical-align: middle;\n",
       "    }\n",
       "\n",
       "    .dataframe tbody tr th {\n",
       "        vertical-align: top;\n",
       "    }\n",
       "\n",
       "    .dataframe thead th {\n",
       "        text-align: right;\n",
       "    }\n",
       "</style>\n",
       "<table border=\"1\" class=\"dataframe\">\n",
       "  <thead>\n",
       "    <tr style=\"text-align: right;\">\n",
       "      <th></th>\n",
       "      <th>lineNumber</th>\n",
       "      <th>originalText</th>\n",
       "      <th>transcription</th>\n",
       "      <th>name</th>\n",
       "    </tr>\n",
       "  </thead>\n",
       "  <tbody>\n",
       "    <tr>\n",
       "      <th>0</th>\n",
       "      <td>1</td>\n",
       "      <td>&lt;&lt;&lt;직전의 재판&lt;=원심&gt;판결 이유에&gt;&gt;&gt; 의하면, &lt;&lt;&lt;직전의 재판&lt;=원심&gt;은 이...</td>\n",
       "      <td>&lt;&lt;&lt;직전의 재판&lt;=원심&gt;판결 이유에&gt;&gt;&gt; 의하면, &lt;&lt;&lt;직전의 재판&lt;=원심&gt;은 이...</td>\n",
       "      <td>NaN</td>\n",
       "    </tr>\n",
       "    <tr>\n",
       "      <th>1</th>\n",
       "      <td>2</td>\n",
       "      <td>비록 양 발명의 구성에 &lt;&lt;&lt;서로 다름&lt;=상이&gt;점이 있어도&gt;&gt;&gt; 그 기술분야에서 &lt;...</td>\n",
       "      <td>비록 양 발명의 구성에 &lt;&lt;&lt;서로 다른&lt;=상이&gt; 점이 있어도&gt;&gt;&gt; 그 기술분야에서 ...</td>\n",
       "      <td>NaN</td>\n",
       "    </tr>\n",
       "    <tr>\n",
       "      <th>2</th>\n",
       "      <td>3</td>\n",
       "      <td>[2] 등록의장의 대상물품인 \"스위치\"가 독립거래의 대상성 및 &lt;&lt;&lt;연결되는 데 문...</td>\n",
       "      <td>[2] 등록의장의 대상물품인 \"스위치\"가 독립거래의 대상성 및 &lt;&lt;&lt;연결되는 데 문...</td>\n",
       "      <td>NaN</td>\n",
       "    </tr>\n",
       "    <tr>\n",
       "      <th>3</th>\n",
       "      <td>4</td>\n",
       "      <td>③ 이 사건 프로젝터에 사용된 LCD는 ***** 컴퓨터나 그 &lt;&lt;&lt;연결되는 데 문...</td>\n",
       "      <td>③ 이 사건 프로젝터에 사용된 LCD는 ***** 컴퓨터나 그 &lt;&lt;&lt;연결되는 데 문...</td>\n",
       "      <td>NaN</td>\n",
       "    </tr>\n",
       "    <tr>\n",
       "      <th>4</th>\n",
       "      <td>5</td>\n",
       "      <td>구 의장법 제2조 제1호에서 말하는 \"물품\"이란 독립성이 있는 구체적인 유체동산을 ...</td>\n",
       "      <td>구 의장법 제2조 제1호에서 말하는 \"물품\"이란 독립성이 있는 구체적인 유체동산을 ...</td>\n",
       "      <td>NaN</td>\n",
       "    </tr>\n",
       "    <tr>\n",
       "      <th>...</th>\n",
       "      <td>...</td>\n",
       "      <td>...</td>\n",
       "      <td>...</td>\n",
       "      <td>...</td>\n",
       "    </tr>\n",
       "    <tr>\n",
       "      <th>20611</th>\n",
       "      <td>75991</td>\n",
       "      <td>이에 피해자의 동생은 &lt;&lt;&lt;형사소송에서 검사에의해 기소당한 사람&lt;=피고인&gt;의 뜻이&gt;...</td>\n",
       "      <td>이에 피해자의 동생은 &lt;&lt;&lt;형사소송에서 검사에의해 기소당한 사람&lt;=피고인&gt;의 뜻이&gt;...</td>\n",
       "      <td>NaN</td>\n",
       "    </tr>\n",
       "    <tr>\n",
       "      <th>20612</th>\n",
       "      <td>75992</td>\n",
       "      <td>[2] 자동차 판매대리점주 甲이 자신의 대리점에서 카마스터(car master, 자...</td>\n",
       "      <td>[2] 자동차 판매대리점주 甲이 자신의 대리점에서 카마스터(car master, 자...</td>\n",
       "      <td>NaN</td>\n",
       "    </tr>\n",
       "    <tr>\n",
       "      <th>20613</th>\n",
       "      <td>75993</td>\n",
       "      <td>［2］ 간통죄의 고소인과 그 배우자인 &lt;&lt;&lt;민사소송에서 소송을 당한 사람&lt;=피고&gt;소...</td>\n",
       "      <td>［2］ 간통죄의 고소인과 그 배우자인 &lt;&lt;&lt;민사소송에서 소송을 당한 사람&lt;=피고&gt;소...</td>\n",
       "      <td>NaN</td>\n",
       "    </tr>\n",
       "    <tr>\n",
       "      <th>20614</th>\n",
       "      <td>75994</td>\n",
       "      <td>&lt;&lt;&lt;직전의 재판&lt;=원심&gt;은, 민사소송을 일으킨 사람&lt;=원고&gt;가&gt;&gt;&gt; &lt;&lt;&lt;민사소송...</td>\n",
       "      <td>&lt;&lt;&lt;직전의 재판&lt;=원심&gt;은, 민사소송을 일으킨 사람&lt;=원고&gt;이&gt;&gt;&gt; &lt;&lt;&lt;민사소송...</td>\n",
       "      <td>NaN</td>\n",
       "    </tr>\n",
       "    <tr>\n",
       "      <th>20615</th>\n",
       "      <td>75995</td>\n",
       "      <td>&lt;&lt;&lt;민사소송을 일으킨 사람&lt;=원고&gt;는 위&gt;&gt;&gt; 도시설계조정심의를 받은 다음날인 *...</td>\n",
       "      <td>&lt;&lt;&lt;민사소송을 일으킨 사람&lt;=원고&gt;은 위&gt;&gt;&gt; 도시설계조정심의를 받은 다음날인 *...</td>\n",
       "      <td>NaN</td>\n",
       "    </tr>\n",
       "  </tbody>\n",
       "</table>\n",
       "<p>52437 rows × 4 columns</p>\n",
       "</div>"
      ],
      "text/plain": [
       "       lineNumber                                       originalText  \\\n",
       "0               1  <<<직전의 재판<=원심>판결 이유에>>> 의하면, <<<직전의 재판<=원심>은 이...   \n",
       "1               2  비록 양 발명의 구성에 <<<서로 다름<=상이>점이 있어도>>> 그 기술분야에서 <...   \n",
       "2               3  [2] 등록의장의 대상물품인 \"스위치\"가 독립거래의 대상성 및 <<<연결되는 데 문...   \n",
       "3               4  ③ 이 사건 프로젝터에 사용된 LCD는 ***** 컴퓨터나 그 <<<연결되는 데 문...   \n",
       "4               5  구 의장법 제2조 제1호에서 말하는 \"물품\"이란 독립성이 있는 구체적인 유체동산을 ...   \n",
       "...           ...                                                ...   \n",
       "20611       75991  이에 피해자의 동생은 <<<형사소송에서 검사에의해 기소당한 사람<=피고인>의 뜻이>...   \n",
       "20612       75992  [2] 자동차 판매대리점주 甲이 자신의 대리점에서 카마스터(car master, 자...   \n",
       "20613       75993  ［2］ 간통죄의 고소인과 그 배우자인 <<<민사소송에서 소송을 당한 사람<=피고>소...   \n",
       "20614       75994  <<<직전의 재판<=원심>은, 민사소송을 일으킨 사람<=원고>가>>> <<<민사소송...   \n",
       "20615       75995  <<<민사소송을 일으킨 사람<=원고>는 위>>> 도시설계조정심의를 받은 다음날인 *...   \n",
       "\n",
       "                                           transcription name  \n",
       "0      <<<직전의 재판<=원심>판결 이유에>>> 의하면, <<<직전의 재판<=원심>은 이...  NaN  \n",
       "1      비록 양 발명의 구성에 <<<서로 다른<=상이> 점이 있어도>>> 그 기술분야에서 ...  NaN  \n",
       "2      [2] 등록의장의 대상물품인 \"스위치\"가 독립거래의 대상성 및 <<<연결되는 데 문...  NaN  \n",
       "3      ③ 이 사건 프로젝터에 사용된 LCD는 ***** 컴퓨터나 그 <<<연결되는 데 문...  NaN  \n",
       "4      구 의장법 제2조 제1호에서 말하는 \"물품\"이란 독립성이 있는 구체적인 유체동산을 ...  NaN  \n",
       "...                                                  ...  ...  \n",
       "20611  이에 피해자의 동생은 <<<형사소송에서 검사에의해 기소당한 사람<=피고인>의 뜻이>...  NaN  \n",
       "20612  [2] 자동차 판매대리점주 甲이 자신의 대리점에서 카마스터(car master, 자...  NaN  \n",
       "20613  ［2］ 간통죄의 고소인과 그 배우자인 <<<민사소송에서 소송을 당한 사람<=피고>소...  NaN  \n",
       "20614  <<<직전의 재판<=원심>은, 민사소송을 일으킨 사람<=원고>이>>> <<<민사소송...  NaN  \n",
       "20615  <<<민사소송을 일으킨 사람<=원고>은 위>>> 도시설계조정심의를 받은 다음날인 *...  NaN  \n",
       "\n",
       "[52437 rows x 4 columns]"
      ]
     },
     "execution_count": 7,
     "metadata": {},
     "output_type": "execute_result"
    }
   ],
   "source": [
    "result"
   ]
  },
  {
   "cell_type": "code",
   "execution_count": 8,
   "id": "7416a364-e2ac-4b88-b35d-869e6e4aa8ba",
   "metadata": {},
   "outputs": [
    {
     "data": {
      "text/plain": [
       "52437"
      ]
     },
     "execution_count": 8,
     "metadata": {},
     "output_type": "execute_result"
    }
   ],
   "source": [
    "len(list(result['lineNumber']))"
   ]
  },
  {
   "cell_type": "code",
   "execution_count": 13,
   "id": "c8c4e060-e768-484b-b22b-013d9450136f",
   "metadata": {},
   "outputs": [],
   "source": [
    "dup_num = []\n",
    "exit = Counter(list(result['lineNumber']))\n",
    "for key, value in exit.items():\n",
    "\tif value >= 2:\n",
    "                dup_num.append(key)"
   ]
  },
  {
   "cell_type": "code",
   "execution_count": 17,
   "id": "b1cced6a-9b81-4483-b776-2c5d670b8868",
   "metadata": {},
   "outputs": [
    {
     "data": {
      "text/plain": [
       "314"
      ]
     },
     "execution_count": 17,
     "metadata": {},
     "output_type": "execute_result"
    }
   ],
   "source": [
    "len(dup_num)"
   ]
  },
  {
   "cell_type": "code",
   "execution_count": 8,
   "id": "2f6070bd-262c-49a6-b3e8-07fefe0cb6fc",
   "metadata": {},
   "outputs": [],
   "source": [
    "ref = pd.read_csv(f'{ref_repo}/{ref_filename}')"
   ]
  },
  {
   "cell_type": "code",
   "execution_count": 9,
   "id": "85a0c89b-b293-4907-8272-f9e574e6bd23",
   "metadata": {},
   "outputs": [],
   "source": [
    "result.to_csv('/Users/jaytsol/Desktop/Type23 (2)/누적/concat/concat_accum 태그포함/concat_accum 태그포함.csv', encoding='utf-8-sig', index=False)"
   ]
  },
  {
   "cell_type": "code",
   "execution_count": 15,
   "id": "2bb9c262-f3d5-48f5-abac-c6b08fae483e",
   "metadata": {},
   "outputs": [
    {
     "data": {
      "text/plain": [
       "5.875"
      ]
     },
     "execution_count": 15,
     "metadata": {},
     "output_type": "execute_result"
    }
   ],
   "source": [
    "find_repeat([1, 2, 3, 4, 4, 5, 5])"
   ]
  },
  {
   "cell_type": "code",
   "execution_count": null,
   "id": "84bfa8eb-4545-41fe-8e5e-1005e8fdad5f",
   "metadata": {},
   "outputs": [],
   "source": []
  }
 ],
 "metadata": {
  "kernelspec": {
   "display_name": "Python 3",
   "language": "python",
   "name": "python3"
  },
  "language_info": {
   "codemirror_mode": {
    "name": "ipython",
    "version": 3
   },
   "file_extension": ".py",
   "mimetype": "text/x-python",
   "name": "python",
   "nbconvert_exporter": "python",
   "pygments_lexer": "ipython3",
   "version": "3.8.8"
  }
 },
 "nbformat": 4,
 "nbformat_minor": 5
}
