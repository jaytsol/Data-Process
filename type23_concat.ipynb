{
 "cells": [
  {
   "cell_type": "code",
   "execution_count": 14,
   "id": "14040af5-18ab-4fa3-abfc-60b4bce1aaaf",
   "metadata": {
    "tags": []
   },
   "outputs": [],
   "source": [
    "import pandas as pd\n",
    "from os import walk\n",
    "import os"
   ]
  },
  {
   "cell_type": "code",
   "execution_count": 15,
   "id": "697289bf-fd92-44d4-88aa-c4d27a7712af",
   "metadata": {},
   "outputs": [],
   "source": [
    "input_repo = '/Users/jaytsol/Desktop/Type23 (2)/7/2. 정완님 작업한거/'"
   ]
  },
  {
   "cell_type": "code",
   "execution_count": 16,
   "id": "4082cbaf-4687-4d46-a8d5-d220674d82ab",
   "metadata": {},
   "outputs": [],
   "source": [
    "# 해당 경로의 파일리스트 추출\n",
    "def get_filelist(input_repo):\n",
    "    file_list = []\n",
    "    for (dirpath, dirnames, filenames) in walk(input_repo):\n",
    "        file_list.extend(filenames)\n",
    "        break\n",
    "\n",
    "    return file_list"
   ]
  },
  {
   "cell_type": "code",
   "execution_count": 17,
   "id": "dd387275-5c35-43d1-8aba-d9639578a626",
   "metadata": {},
   "outputs": [],
   "source": [
    "# 해당 경로의 csv파일의 경로+파일명 리스트 추출\n",
    "def get_csvlist(input_repo, file_list):\n",
    "    csv_list = []\n",
    "    for i in range(len(file_list)):\n",
    "        filename, file_extension = os.path.splitext(f'{input_repo}/{file_list[i]}')\n",
    "\n",
    "        if file_extension == '.csv':\n",
    "            csv_list.append(filename+file_extension)\n",
    "\n",
    "    return csv_list"
   ]
  },
  {
   "cell_type": "code",
   "execution_count": 18,
   "id": "359bb94b-b965-4567-9eb2-5c154c6d8785",
   "metadata": {},
   "outputs": [],
   "source": [
    "def concat_csvfile(csv_list):\n",
    "    COLUMNS = ['lineNumber', 'originalText', 'transcription']\n",
    "    result = pd.concat([pd.read_csv(f) for f in csv_list])    # 라인넘버 기준 안합친파일 합치기\n",
    "    result = result.sort_values(by=['lineNumber'])    # 작업물 sort by lineNumber\n",
    "    \n",
    "    return result"
   ]
  },
  {
   "cell_type": "code",
   "execution_count": 19,
   "id": "63973f1b-b9c5-4d8b-81c0-970451614cd3",
   "metadata": {},
   "outputs": [],
   "source": [
    "file_list = get_filelist(input_repo)\n",
    "csv_list = get_csvlist(input_repo, file_list)\n",
    "result = concat_csvfile(csv_list)"
   ]
  },
  {
   "cell_type": "code",
   "execution_count": 20,
   "id": "85a0c89b-b293-4907-8272-f9e574e6bd23",
   "metadata": {},
   "outputs": [],
   "source": [
    "result.to_csv('/Users/jaytsol/Desktop/Type23 (2)/7/3. 작업물 합친거/7_concated.csv', encoding='utf-8-sig', index=False)\n",
    "result.to_csv('/Users/jaytsol/Desktop/Type23 (2)/누적/concat/7_concated.csv', encoding='utf-8-sig', index=False)"
   ]
  },
  {
   "cell_type": "code",
   "execution_count": null,
   "id": "2bb9c262-f3d5-48f5-abac-c6b08fae483e",
   "metadata": {},
   "outputs": [],
   "source": []
  }
 ],
 "metadata": {
  "kernelspec": {
   "display_name": "Python 3",
   "language": "python",
   "name": "python3"
  },
  "language_info": {
   "codemirror_mode": {
    "name": "ipython",
    "version": 3
   },
   "file_extension": ".py",
   "mimetype": "text/x-python",
   "name": "python",
   "nbconvert_exporter": "python",
   "pygments_lexer": "ipython3",
   "version": "3.8.8"
  }
 },
 "nbformat": 4,
 "nbformat_minor": 5
}
