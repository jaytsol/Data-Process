{
 "cells": [
  {
   "cell_type": "markdown",
   "id": "15d126cf-b732-40ed-abff-6692c062fafa",
   "metadata": {},
   "source": [
    "# 전체 오리지널 파일을 바탕으로 새로 다운받은 파일이 lineNumber 기준 어떤 데이터인지 정렬하는 코드"
   ]
  },
  {
   "cell_type": "markdown",
   "id": "080be6e8-a897-4cd6-86e4-62ce7212fb9e",
   "metadata": {},
   "source": [
    "total_org : total_original.csv\n",
    "downloaded : "
   ]
  },
  {
   "cell_type": "markdown",
   "id": "6b53a3b4-1b54-438d-bb3a-20086e549a64",
   "metadata": {},
   "source": [
    "다운로드데이터 제일 마지막에 정렬한거를 기준으로 추가된 텍스트(다운로드데이터에 없는 텍스트)를 전체 텍스트랑 비교해서 라인넘버 부여하고 "
   ]
  },
  {
   "cell_type": "code",
   "execution_count": 1,
   "id": "600c8b08-6046-4f25-adce-351c4c080263",
   "metadata": {},
   "outputs": [],
   "source": [
    "import csv\n",
    "import pandas as pd\n",
    "from tqdm.notebook import tnrange\n",
    "import datetime"
   ]
  },
  {
   "cell_type": "code",
   "execution_count": 10,
   "id": "1b2bb26d-f71f-4525-b3c0-f19fa7c6aaf8",
   "metadata": {},
   "outputs": [],
   "source": [
    "# csv형태로 저장\n",
    "def save_as_csv(output_repo, result_dataframe_with_input_file):\n",
    "    year = str(datetime.datetime.now().year)[2:]\n",
    "    month = str(datetime.datetime.now().month)\n",
    "    day = str(datetime.datetime.now().day)\n",
    "    hour = str(datetime.datetime.now().hour)\n",
    "    minute = str(datetime.datetime.now().minute)\n",
    "\n",
    "    print(f'{output_repo}의 경로에 남은 작업_{year}{month}{day}_{hour}{minute}.csv의 이름으로 파일 생성이 완료되었습니다.')\n",
    "\n",
    "    result_dataframe_with_input_file.to_csv(f'{output_repo}/다운로드데이터_{year}{month}{day}_{hour}{minute}.csv', index=False, encoding='utf-8-sig')"
   ]
  },
  {
   "cell_type": "code",
   "execution_count": 2,
   "id": "42ba01ca-e2cd-47ba-8458-771781ebf12b",
   "metadata": {},
   "outputs": [],
   "source": [
    "# Read file\n",
    "total_org_repo = '/Users/jaytsol/Desktop/Type23 (2)/오리지널/total_original/'\n",
    "downloaded_repo = '/Users/jaytsol/Downloads/'\n",
    "output_repo = '/Users/jaytsol/Desktop/Type23 (2)/오리지널/downloaded/'\n",
    "\n",
    "total_org_filename = 'total_original.csv'\n",
    "downloaded_1_filename = 'type2_input_1 5.csv'\n",
    "downloaded_2_filename = '텍스트_다듬기_Type_B_70001_76000 5.csv'\n",
    "downloaded_3_filename = 'origin_type2_input_1_1(9269_18538) 3.csv'\n",
    "downloaded_4_filename = 'origin_type2_input_1_1(1_9268) 7.csv'"
   ]
  },
  {
   "cell_type": "code",
   "execution_count": 3,
   "id": "c6dc6dab-0f01-41bb-b573-367961afe1cb",
   "metadata": {},
   "outputs": [],
   "source": [
    "total_org = pd.read_csv(total_org_repo+total_org_filename)\n",
    "downloaded_1 = pd.read_csv(downloaded_repo+downloaded_1_filename)\n",
    "downloaded_2 = pd.read_csv(downloaded_repo+downloaded_2_filename)\n",
    "downloaded_3 = pd.read_csv(downloaded_repo+downloaded_3_filename)\n",
    "downloaded_4 = pd.read_csv(downloaded_repo+downloaded_4_filename)"
   ]
  },
  {
   "cell_type": "code",
   "execution_count": 4,
   "id": "f8d40736-2589-4699-9084-9066f028fb36",
   "metadata": {},
   "outputs": [],
   "source": [
    "# download된거 텍스트 바탕으로 검색해서 새로운 dataframe 만들건데.. 검색 양이 많으므로 total_org를 나눠야될거같음. 일단은 전체로 해보고"
   ]
  },
  {
   "cell_type": "code",
   "execution_count": 5,
   "id": "cbd5fe59-3ef6-494f-8c26-f7c7e53553df",
   "metadata": {},
   "outputs": [],
   "source": [
    "downloaded_1 = downloaded_1[['lineNumber', 'originalText', 'transcription']]\n",
    "downloaded_2 = downloaded_2[['lineNumber', 'originalText', 'transcription']]\n",
    "downloaded_3 = downloaded_3[['lineNumber', 'originalText', 'transcription']]\n",
    "downloaded_4 = downloaded_4[['lineNumber', 'originalText', 'transcription']]"
   ]
  },
  {
   "cell_type": "code",
   "execution_count": 6,
   "id": "9d3f4729-464a-44a1-aaa1-0c0fbce5ed8c",
   "metadata": {},
   "outputs": [],
   "source": [
    "result_dataframe = pd.DataFrame(columns=['lineNumber', 'originalText', 'transcription'])\n",
    "result_dataframe_with_downloaded_1 = result_dataframe.append(downloaded_1)\n",
    "result_dataframe_with_input_file = result_dataframe_with_downloaded_1"
   ]
  },
  {
   "cell_type": "code",
   "execution_count": 7,
   "id": "e9724670-6af1-42ae-ba47-0820ff737689",
   "metadata": {},
   "outputs": [
    {
     "data": {
      "application/vnd.jupyter.widget-view+json": {
       "model_id": "387498c12d864bcfa759161341e0eab3",
       "version_major": 2,
       "version_minor": 0
      },
      "text/plain": [
       "  0%|          | 0/5995 [00:00<?, ?it/s]"
      ]
     },
     "metadata": {},
     "output_type": "display_data"
    }
   ],
   "source": [
    "# total_org랑 downloaded의 텍스트 비교해서 같으면 result_dataframe에 append하는 코드\n",
    "input_file = downloaded_2\n",
    "for i in tnrange(len(input_file)):\n",
    "    for j in range(len(total_org)):\n",
    "        if input_file['originalText'][i] == total_org['originalText'][j]:\n",
    "            result_dataframe_with_input_file = result_dataframe_with_input_file.append({'lineNumber':total_org['lineNumber'][j], 'originalText':input_file['originalText'][i], 'transcription':input_file['transcription'][i]}, ignore_index=True)"
   ]
  },
  {
   "cell_type": "code",
   "execution_count": 8,
   "id": "628934fb-bda1-4c12-bdc7-3310f9454a9e",
   "metadata": {},
   "outputs": [
    {
     "data": {
      "application/vnd.jupyter.widget-view+json": {
       "model_id": "fb0d2f168b0d4d5aba1459bdd4529f0a",
       "version_major": 2,
       "version_minor": 0
      },
      "text/plain": [
       "  0%|          | 0/4910 [00:00<?, ?it/s]"
      ]
     },
     "metadata": {},
     "output_type": "display_data"
    }
   ],
   "source": [
    "# total_org랑 downloaded의 텍스트 비교해서 같으면 result_dataframe에 append하는 코드\n",
    "input_file = downloaded_3\n",
    "for i in tnrange(len(input_file)):\n",
    "    for j in range(len(total_org)):\n",
    "        if input_file['originalText'][i] == total_org['originalText'][j]:\n",
    "            result_dataframe_with_input_file = result_dataframe_with_input_file.append({'lineNumber':total_org['lineNumber'][j], 'originalText':input_file['originalText'][i], 'transcription':input_file['transcription'][i]}, ignore_index=True)"
   ]
  },
  {
   "cell_type": "code",
   "execution_count": 9,
   "id": "19ce991d-352f-453a-83fc-cdb4abde3f9a",
   "metadata": {},
   "outputs": [
    {
     "data": {
      "application/vnd.jupyter.widget-view+json": {
       "model_id": "482baad76ee6470287a3e762b3d42d89",
       "version_major": 2,
       "version_minor": 0
      },
      "text/plain": [
       "  0%|          | 0/4398 [00:00<?, ?it/s]"
      ]
     },
     "metadata": {},
     "output_type": "display_data"
    }
   ],
   "source": [
    "# total_org랑 downloaded의 텍스트 비교해서 같으면 result_dataframe에 append하는 코드\n",
    "input_file = downloaded_4\n",
    "for i in tnrange(len(input_file)):\n",
    "    for j in range(len(total_org)):\n",
    "        if input_file['originalText'][i] == total_org['originalText'][j]:\n",
    "            result_dataframe_with_input_file = result_dataframe_with_input_file.append({'lineNumber':total_org['lineNumber'][j], 'originalText':input_file['originalText'][i], 'transcription':input_file['transcription'][i]}, ignore_index=True)"
   ]
  },
  {
   "cell_type": "code",
   "execution_count": 14,
   "id": "1eca4da1-14c1-4860-849a-448280658d78",
   "metadata": {},
   "outputs": [
    {
     "data": {
      "text/plain": [
       "35774"
      ]
     },
     "execution_count": 14,
     "metadata": {},
     "output_type": "execute_result"
    }
   ],
   "source": [
    "len(result_dataframe_with_input_file)"
   ]
  },
  {
   "cell_type": "code",
   "execution_count": 15,
   "id": "837cdf87-3cc0-429a-8e5f-f984594d0abf",
   "metadata": {},
   "outputs": [],
   "source": [
    "result_dataframe_with_input_file = result_dataframe_with_input_file.sort_values(by='lineNumber')"
   ]
  },
  {
   "cell_type": "code",
   "execution_count": 16,
   "id": "c41bd07a-dd39-41b8-858c-0c5cb1decc53",
   "metadata": {},
   "outputs": [
    {
     "name": "stdout",
     "output_type": "stream",
     "text": [
      "/Users/jaytsol/Desktop/Type23 (2)/오리지널/downloaded/의 경로에 남은 작업_211029_936.csv의 이름으로 파일 생성이 완료되었습니다.\n"
     ]
    }
   ],
   "source": [
    "save_as_csv(output_repo, result_dataframe_with_input_file)"
   ]
  },
  {
   "cell_type": "code",
   "execution_count": null,
   "id": "5084781f-4d10-4895-be35-002c454b5ff1",
   "metadata": {},
   "outputs": [],
   "source": []
  }
 ],
 "metadata": {
  "kernelspec": {
   "display_name": "Python 3",
   "language": "python",
   "name": "python3"
  },
  "language_info": {
   "codemirror_mode": {
    "name": "ipython",
    "version": 3
   },
   "file_extension": ".py",
   "mimetype": "text/x-python",
   "name": "python",
   "nbconvert_exporter": "python",
   "pygments_lexer": "ipython3",
   "version": "3.8.8"
  }
 },
 "nbformat": 4,
 "nbformat_minor": 5
}
