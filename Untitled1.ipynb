{
 "cells": [
  {
   "cell_type": "code",
   "execution_count": 11,
   "id": "8c08b8ff-74e8-45d4-9407-9700e9f18b7b",
   "metadata": {},
   "outputs": [],
   "source": [
    "import re\n",
    "from tqdm.notebook import tnrange\n",
    "import csv\n",
    "import json\n",
    "from os import walk\n",
    "import os\n",
    "import pandas as pd\n",
    "import datetime"
   ]
  },
  {
   "cell_type": "code",
   "execution_count": 2,
   "id": "7f39df5b-1b6f-473f-990a-86149668ab1b",
   "metadata": {},
   "outputs": [],
   "source": [
    "# 해당 경로의 파일리스트 추출\n",
    "def get_filelist(input_repo):\n",
    "    file_list = []\n",
    "    for (dirpath, dirnames, filenames) in walk(input_repo):\n",
    "        file_list.extend(filenames)\n",
    "        break\n",
    "\n",
    "    return file_list"
   ]
  },
  {
   "cell_type": "code",
   "execution_count": 3,
   "id": "cbe518d8-e7a5-4133-aa22-ce13a46ec380",
   "metadata": {},
   "outputs": [],
   "source": [
    "# 해당 경로의 csv파일의 경로+파일명 리스트 추출\n",
    "def get_csvlist(input_repo, file_list):\n",
    "    csv_list = []\n",
    "    for i in range(len(file_list)):\n",
    "        filename, file_extension = os.path.splitext(f'{input_repo}/{file_list[i]}')\n",
    "\n",
    "        if file_extension == '.csv':\n",
    "            csv_list.append(filename+file_extension)\n",
    "\n",
    "    return csv_list"
   ]
  },
  {
   "cell_type": "code",
   "execution_count": 4,
   "id": "e070477b-baa7-44b0-809f-dbcd698f8f67",
   "metadata": {},
   "outputs": [],
   "source": [
    "def concat_csvfile(csv_list):\n",
    "    COLUMNS = ['lineNumber', 'originalText', 'transcription']\n",
    "    result = pd.concat([pd.read_csv(f) for f in csv_list])    # 라인넘버 기준 안합친파일 합치기\n",
    "    sorted_result_not_flat = result.sort_values(by=['lineNumber'])    # 작업물 sort by lineNumber\n",
    "    sorted_result_not_flat.to_csv(f'{output_repo}/temp.csv', index=False, encoding='utf-8-sig')\n",
    "    sorted_result = pd.read_csv(f'{output_repo}/temp.csv')\n",
    "    os.remove(f'{output_repo}/temp.csv')\n",
    "    \n",
    "    return sorted_result"
   ]
  },
  {
   "cell_type": "code",
   "execution_count": 5,
   "id": "e63cf952-d601-4b2f-9a69-204dd6724eb9",
   "metadata": {},
   "outputs": [],
   "source": [
    "# csv형태로 저장\n",
    "def save_as_csv(input_repo, output_repo, result):\n",
    "    year = str(datetime.datetime.now().year)[2:]\n",
    "    month = str(datetime.datetime.now().month)\n",
    "    day = str(datetime.datetime.now().day)\n",
    "    hour = str(datetime.datetime.now().hour)\n",
    "    minute = str(datetime.datetime.now().minute)\n",
    "\n",
    "    print(f'{output_repo}의 경로에 통합_검수본_{year}{month}{day}_{hour}{minute}.csv의 이름으로 파일 생성이 완료되었습니다.')\n",
    "\n",
    "    result.to_csv(f'{output_repo}/통합_검수본_{year}{month}{day}_{hour}{minute}.csv', index=False, encoding='utf-8-sig')"
   ]
  },
  {
   "cell_type": "code",
   "execution_count": 15,
   "id": "1ac2cbed-0fbf-4c43-88c2-1f44f23d9c65",
   "metadata": {},
   "outputs": [
    {
     "data": {
      "text/html": [
       "<div>\n",
       "<style scoped>\n",
       "    .dataframe tbody tr th:only-of-type {\n",
       "        vertical-align: middle;\n",
       "    }\n",
       "\n",
       "    .dataframe tbody tr th {\n",
       "        vertical-align: top;\n",
       "    }\n",
       "\n",
       "    .dataframe thead th {\n",
       "        text-align: right;\n",
       "    }\n",
       "</style>\n",
       "<table border=\"1\" class=\"dataframe\">\n",
       "  <thead>\n",
       "    <tr style=\"text-align: right;\">\n",
       "      <th></th>\n",
       "      <th>lineNumber</th>\n",
       "      <th>originalText</th>\n",
       "      <th>transcription</th>\n",
       "    </tr>\n",
       "  </thead>\n",
       "  <tbody>\n",
       "    <tr>\n",
       "      <th>0</th>\n",
       "      <td>1</td>\n",
       "      <td>&lt;&lt;&lt;직전의 재판&lt;=원심&gt;판결 이유에&gt;&gt;&gt; 의하면, &lt;&lt;&lt;직전의 재판&lt;=원심&gt;은 이...</td>\n",
       "      <td>&lt;&lt;&lt;직전의 재판&lt;=원심&gt;판결 이유에&gt;&gt;&gt; 의하면, &lt;&lt;&lt;직전의 재판&lt;=원심&gt;은 이...</td>\n",
       "    </tr>\n",
       "    <tr>\n",
       "      <th>1</th>\n",
       "      <td>2</td>\n",
       "      <td>비록 양 발명의 구성에 &lt;&lt;&lt;서로 다름&lt;=상이&gt;점이 있어도&gt;&gt;&gt; 그 기술분야에서 &lt;...</td>\n",
       "      <td>비록 양 발명의 구성에 &lt;&lt;&lt;서로 다른&lt;=상이&gt; 점이 있어도&gt;&gt;&gt; 그 기술분야에서 ...</td>\n",
       "    </tr>\n",
       "    <tr>\n",
       "      <th>2</th>\n",
       "      <td>3</td>\n",
       "      <td>[2] 등록의장의 대상물품인 \"스위치\"가 독립거래의 대상성 및 &lt;&lt;&lt;연결되는 데 문...</td>\n",
       "      <td>[2] 등록의장의 대상물품인 \"스위치\"가 독립거래의 대상성 및 &lt;&lt;&lt;연결되는 데 문...</td>\n",
       "    </tr>\n",
       "    <tr>\n",
       "      <th>3</th>\n",
       "      <td>4</td>\n",
       "      <td>③ 이 사건 프로젝터에 사용된 LCD는 ***** 컴퓨터나 그 &lt;&lt;&lt;연결되는 데 문...</td>\n",
       "      <td>③ 이 사건 프로젝터에 사용된 LCD는 ***** 컴퓨터나 그 &lt;&lt;&lt;연결되는 데 문...</td>\n",
       "    </tr>\n",
       "    <tr>\n",
       "      <th>4</th>\n",
       "      <td>5</td>\n",
       "      <td>구 의장법 제2조 제1호에서 말하는 \"물품\"이란 독립성이 있는 구체적인 유체동산을 ...</td>\n",
       "      <td>구 의장법 제2조 제1호에서 말하는 \"물품\"이란 독립성이 있는 구체적인 유체동산을 ...</td>\n",
       "    </tr>\n",
       "    <tr>\n",
       "      <th>...</th>\n",
       "      <td>...</td>\n",
       "      <td>...</td>\n",
       "      <td>...</td>\n",
       "    </tr>\n",
       "    <tr>\n",
       "      <th>38726</th>\n",
       "      <td>75991</td>\n",
       "      <td>이에 피해자의 동생은 &lt;&lt;&lt;형사소송에서 검사에의해 기소당한 사람&lt;=피고인&gt;의 뜻이&gt;...</td>\n",
       "      <td>이에 피해자의 동생은 &lt;&lt;&lt;형사소송에서 검사에의해 기소당한 사람&lt;=피고인&gt;의 뜻이&gt;...</td>\n",
       "    </tr>\n",
       "    <tr>\n",
       "      <th>38727</th>\n",
       "      <td>75992</td>\n",
       "      <td>[2] 자동차 판매대리점주 甲이 자신의 대리점에서 카마스터(car master, 자...</td>\n",
       "      <td>[2] 자동차 판매대리점주 甲이 자신의 대리점에서 카마스터(car master, 자...</td>\n",
       "    </tr>\n",
       "    <tr>\n",
       "      <th>38728</th>\n",
       "      <td>75993</td>\n",
       "      <td>［2］ 간통죄의 고소인과 그 배우자인 &lt;&lt;&lt;민사소송에서 소송을 당한 사람&lt;=피고&gt;소...</td>\n",
       "      <td>［2］ 간통죄의 고소인과 그 배우자인 &lt;&lt;&lt;민사소송에서 소송을 당한 사람&lt;=피고&gt;소...</td>\n",
       "    </tr>\n",
       "    <tr>\n",
       "      <th>38729</th>\n",
       "      <td>75994</td>\n",
       "      <td>&lt;&lt;&lt;직전의 재판&lt;=원심&gt;은, 민사소송을 일으킨 사람&lt;=원고&gt;가&gt;&gt;&gt; &lt;&lt;&lt;민사소송...</td>\n",
       "      <td>&lt;&lt;&lt;직전의 재판&lt;=원심&gt;은, 민사소송을 일으킨 사람&lt;=원고&gt;이&gt;&gt;&gt; &lt;&lt;&lt;민사소송...</td>\n",
       "    </tr>\n",
       "    <tr>\n",
       "      <th>38730</th>\n",
       "      <td>75995</td>\n",
       "      <td>&lt;&lt;&lt;민사소송을 일으킨 사람&lt;=원고&gt;는 위&gt;&gt;&gt; 도시설계조정심의를 받은 다음날인 *...</td>\n",
       "      <td>&lt;&lt;&lt;민사소송을 일으킨 사람&lt;=원고&gt;은 위&gt;&gt;&gt; 도시설계조정심의를 받은 다음날인 *...</td>\n",
       "    </tr>\n",
       "  </tbody>\n",
       "</table>\n",
       "<p>38731 rows × 3 columns</p>\n",
       "</div>"
      ],
      "text/plain": [
       "       lineNumber                                       originalText  \\\n",
       "0               1  <<<직전의 재판<=원심>판결 이유에>>> 의하면, <<<직전의 재판<=원심>은 이...   \n",
       "1               2  비록 양 발명의 구성에 <<<서로 다름<=상이>점이 있어도>>> 그 기술분야에서 <...   \n",
       "2               3  [2] 등록의장의 대상물품인 \"스위치\"가 독립거래의 대상성 및 <<<연결되는 데 문...   \n",
       "3               4  ③ 이 사건 프로젝터에 사용된 LCD는 ***** 컴퓨터나 그 <<<연결되는 데 문...   \n",
       "4               5  구 의장법 제2조 제1호에서 말하는 \"물품\"이란 독립성이 있는 구체적인 유체동산을 ...   \n",
       "...           ...                                                ...   \n",
       "38726       75991  이에 피해자의 동생은 <<<형사소송에서 검사에의해 기소당한 사람<=피고인>의 뜻이>...   \n",
       "38727       75992  [2] 자동차 판매대리점주 甲이 자신의 대리점에서 카마스터(car master, 자...   \n",
       "38728       75993  ［2］ 간통죄의 고소인과 그 배우자인 <<<민사소송에서 소송을 당한 사람<=피고>소...   \n",
       "38729       75994  <<<직전의 재판<=원심>은, 민사소송을 일으킨 사람<=원고>가>>> <<<민사소송...   \n",
       "38730       75995  <<<민사소송을 일으킨 사람<=원고>는 위>>> 도시설계조정심의를 받은 다음날인 *...   \n",
       "\n",
       "                                           transcription  \n",
       "0      <<<직전의 재판<=원심>판결 이유에>>> 의하면, <<<직전의 재판<=원심>은 이...  \n",
       "1      비록 양 발명의 구성에 <<<서로 다른<=상이> 점이 있어도>>> 그 기술분야에서 ...  \n",
       "2      [2] 등록의장의 대상물품인 \"스위치\"가 독립거래의 대상성 및 <<<연결되는 데 문...  \n",
       "3      ③ 이 사건 프로젝터에 사용된 LCD는 ***** 컴퓨터나 그 <<<연결되는 데 문...  \n",
       "4      구 의장법 제2조 제1호에서 말하는 \"물품\"이란 독립성이 있는 구체적인 유체동산을 ...  \n",
       "...                                                  ...  \n",
       "38726  이에 피해자의 동생은 <<<형사소송에서 검사에의해 기소당한 사람<=피고인>의 뜻이>...  \n",
       "38727  [2] 자동차 판매대리점주 甲이 자신의 대리점에서 카마스터(car master, 자...  \n",
       "38728  ［2］ 간통죄의 고소인과 그 배우자인 <<<민사소송에서 소송을 당한 사람<=피고>소...  \n",
       "38729  <<<직전의 재판<=원심>은, 민사소송을 일으킨 사람<=원고>이>>> <<<민사소송...  \n",
       "38730  <<<민사소송을 일으킨 사람<=원고>은 위>>> 도시설계조정심의를 받은 다음날인 *...  \n",
       "\n",
       "[38731 rows x 3 columns]"
      ]
     },
     "execution_count": 15,
     "metadata": {},
     "output_type": "execute_result"
    }
   ],
   "source": [
    "sorted_result"
   ]
  },
  {
   "cell_type": "code",
   "execution_count": null,
   "id": "c5e89c1b-65e0-4b81-a500-5a1ee02ec85b",
   "metadata": {},
   "outputs": [],
   "source": [
    "for i in range(len(sorted_result)):\n",
    "    if sorted_result['transcription'][i]"
   ]
  },
  {
   "cell_type": "code",
   "execution_count": 13,
   "id": "0f2e4ec5-c5cf-4ced-a62b-c800e7c221b5",
   "metadata": {},
   "outputs": [],
   "source": [
    "input_repo = '/Users/jaytsol/Desktop/Type23 (2)/누적/concat'\n",
    "output_repo = '/Users/jaytsol/Desktop/Type23 (2)/누적/accum_concat/법률어휘 남은거만 뽑아냄'\n",
    "\n",
    "input_filename = ''"
   ]
  },
  {
   "cell_type": "code",
   "execution_count": 12,
   "id": "e0e37868-39ca-4954-9195-5109aaeb8ac3",
   "metadata": {},
   "outputs": [
    {
     "name": "stdout",
     "output_type": "stream",
     "text": [
      "/Users/jaytsol/Desktop/Type23 (2)/누적/accum_concat의 경로에 통합_검수본_21118_1014.csv의 이름으로 파일 생성이 완료되었습니다.\n"
     ]
    }
   ],
   "source": [
    "file_list = get_filelist(input_repo)\n",
    "csv_list = get_csvlist(input_repo, file_list)\n",
    "sorted_result = concat_csvfile(csv_list)\n",
    "save_as_csv(input_repo, output_repo, sorted_result)"
   ]
  },
  {
   "cell_type": "code",
   "execution_count": 29,
   "id": "144789d3-20b7-405e-b6bb-1eb9cdc41316",
   "metadata": {},
   "outputs": [],
   "source": [
    "p = re.compile('[a-z]+')"
   ]
  },
  {
   "cell_type": "code",
   "execution_count": 44,
   "id": "8c18281d-3a5e-4b8e-87de-9f508a898a2c",
   "metadata": {},
   "outputs": [
    {
     "name": "stdout",
     "output_type": "stream",
     "text": [
      "No match\n"
     ]
    }
   ],
   "source": [
    "m = p.match(\"3 python\")\n",
    "if m:\n",
    "    print('Match found: ', m.group())\n",
    "else:\n",
    "    print('No match')"
   ]
  },
  {
   "cell_type": "code",
   "execution_count": 31,
   "id": "9e53620a-27ae-44ea-a11b-ee5db33f599c",
   "metadata": {},
   "outputs": [
    {
     "name": "stdout",
     "output_type": "stream",
     "text": [
      "<re.Match object; span=(0, 6), match='python'>\n"
     ]
    }
   ],
   "source": [
    "print(m)"
   ]
  },
  {
   "cell_type": "code",
   "execution_count": 57,
   "id": "46091ec9-e786-4763-bbe6-2fdd3a2dbe92",
   "metadata": {},
   "outputs": [],
   "source": [
    "result = p.finditer(\"life is too short\")"
   ]
  },
  {
   "cell_type": "code",
   "execution_count": 58,
   "id": "0b09ccd0-666f-493b-9bae-c1c78818f365",
   "metadata": {},
   "outputs": [],
   "source": [
    "test = []\n",
    "for r in result:\n",
    "    test.append(r)"
   ]
  },
  {
   "cell_type": "code",
   "execution_count": 83,
   "id": "f44100d4-d047-4ae1-adde-042f84c345ec",
   "metadata": {},
   "outputs": [
    {
     "data": {
      "text/plain": [
       "(0, 4)"
      ]
     },
     "execution_count": 83,
     "metadata": {},
     "output_type": "execute_result"
    }
   ],
   "source": [
    "test[0].span()"
   ]
  },
  {
   "cell_type": "code",
   "execution_count": null,
   "id": "4c74410d-0a88-4dcc-831e-d5569831ecb6",
   "metadata": {},
   "outputs": [],
   "source": [
    "p = re.compile('[a-z]')"
   ]
  }
 ],
 "metadata": {
  "kernelspec": {
   "display_name": "Python 3",
   "language": "python",
   "name": "python3"
  },
  "language_info": {
   "codemirror_mode": {
    "name": "ipython",
    "version": 3
   },
   "file_extension": ".py",
   "mimetype": "text/x-python",
   "name": "python",
   "nbconvert_exporter": "python",
   "pygments_lexer": "ipython3",
   "version": "3.8.8"
  }
 },
 "nbformat": 4,
 "nbformat_minor": 5
}
