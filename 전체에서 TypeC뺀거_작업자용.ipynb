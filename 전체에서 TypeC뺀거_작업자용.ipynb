{
 "cells": [
  {
   "cell_type": "code",
   "execution_count": 52,
   "id": "7fbdc7df-ad52-41eb-85c2-46be5cd7cd93",
   "metadata": {},
   "outputs": [],
   "source": [
    "import json\n",
    "import csv\n",
    "from tqdm.notebook import tnrange\n",
    "import pandas as pd\n",
    "from collections import Counter\n",
    "import datetime"
   ]
  },
  {
   "cell_type": "code",
   "execution_count": 2,
   "id": "9f7d1b33-f1bd-4a0a-8bdc-e59cacfc7ae0",
   "metadata": {},
   "outputs": [],
   "source": [
    "# 해당 경로의 파일리스트 추출\n",
    "def get_filelist(input_repo):\n",
    "    file_list = []\n",
    "    for (dirpath, dirnames, filenames) in walk(input_repo):\n",
    "        file_list.extend(filenames)\n",
    "        break\n",
    "\n",
    "    return file_list"
   ]
  },
  {
   "cell_type": "code",
   "execution_count": 3,
   "id": "484d0bf1-0a8c-4d73-b0d1-02591475605b",
   "metadata": {},
   "outputs": [],
   "source": [
    "# 해당 경로의 csv파일의 경로+파일명 리스트 추출\n",
    "def get_csvlist(input_repo, file_list):\n",
    "    csv_list = []\n",
    "    for i in range(len(file_list)):\n",
    "        filename, file_extension = os.path.splitext(f'{input_repo}/{file_list[i]}')\n",
    "\n",
    "        if file_extension == '.csv':\n",
    "            csv_list.append(filename+file_extension)\n",
    "\n",
    "    return csv_list"
   ]
  },
  {
   "cell_type": "code",
   "execution_count": 4,
   "id": "75f0f20d-0ca3-4ab5-8dd8-15d816f0fe84",
   "metadata": {},
   "outputs": [],
   "source": [
    "def concat_csvfile(csv_list):\n",
    "    result = pd.concat([pd.read_csv(f) for f in csv_list])    # 라인넘버 기준 안합친파일 합치기\n",
    "    result = result.sort_values(by=['lineNumber'])    # 작업물 sort by lineNumber\n",
    "    \n",
    "    return result"
   ]
  },
  {
   "cell_type": "code",
   "execution_count": 50,
   "id": "8ee8cf65-03d4-4ce4-afae-ec113aec562b",
   "metadata": {},
   "outputs": [],
   "source": [
    "# csv형태로 저장\n",
    "def save_as_csv(output_repo, result):\n",
    "    year = str(datetime.datetime.now().year)[2:]\n",
    "    month = str(datetime.datetime.now().month)\n",
    "    day = str(datetime.datetime.now().day)\n",
    "    hour = str(datetime.datetime.now().hour)\n",
    "    minute = str(datetime.datetime.now().minute)\n",
    "\n",
    "    print(f'{output_repo}의 경로에 TypeC뺀거_{year}{month}{day}_{hour}{minute}.csv의 이름으로 파일 생성이 완료되었습니다.')\n",
    "\n",
    "    result.to_csv(f'{output_repo}/TypeC뺀거_{year}{month}{day}_{hour}{minute}.csv', index=False, encoding='utf-8-sig')"
   ]
  },
  {
   "cell_type": "code",
   "execution_count": 5,
   "id": "63150879-28d0-44d4-baf8-0049c1fb04c1",
   "metadata": {},
   "outputs": [],
   "source": [
    "input_repo = '/Users/jaytsol/Desktop/Type23 (2)/누적/accum_concat'\n",
    "ref_repo = '/Users/jaytsol/Desktop/Type23 (2)'\n",
    "output_repo = '/Users/jaytsol/Desktop/Type23 (2)'\n",
    "\n",
    "input_filename = '통합_검수본_태그그대로_211115_1932.csv'\n",
    "ref_filename = 'Type_C_통합.csv'"
   ]
  },
  {
   "cell_type": "code",
   "execution_count": 6,
   "id": "f584a6eb-fde3-4c83-b28f-36150c500405",
   "metadata": {},
   "outputs": [],
   "source": [
    "org = pd.read_csv(f'{input_repo}/{input_filename}')"
   ]
  },
  {
   "cell_type": "code",
   "execution_count": 7,
   "id": "0985eb0f-436e-4765-b237-1197a6e88dd6",
   "metadata": {},
   "outputs": [],
   "source": [
    "ref = pd.read_csv(f'{ref_repo}/{ref_filename}')"
   ]
  },
  {
   "cell_type": "code",
   "execution_count": 10,
   "id": "deb30a39-eeba-4e9c-bd97-94bbf697c4ee",
   "metadata": {},
   "outputs": [],
   "source": [
    "org_lineNumber_list = list(org['lineNumber'])\n",
    "ref_lineNumber_list = list(ref['lineNumber'])"
   ]
  },
  {
   "cell_type": "code",
   "execution_count": 37,
   "id": "3b0707a3-0034-4c9a-80d4-ed5e568c78c5",
   "metadata": {},
   "outputs": [],
   "source": [
    "a_sub_b = list(set(org_lineNumber_list)-set(ref_lineNumber_list))"
   ]
  },
  {
   "cell_type": "code",
   "execution_count": 54,
   "id": "cbfc1438-f5cb-4b58-a134-8d7c690d1b1b",
   "metadata": {},
   "outputs": [
    {
     "data": {
      "application/vnd.jupyter.widget-view+json": {
       "model_id": "97e273bb01c14f8ba557afcf81b89c13",
       "version_major": 2,
       "version_minor": 0
      },
      "text/plain": [
       "  0%|          | 0/20378 [00:00<?, ?it/s]"
      ]
     },
     "metadata": {},
     "output_type": "display_data"
    }
   ],
   "source": [
    "result = pd.DataFrame(columns=['lineNumber', 'originalText', 'transcription', 'check'])\n",
    "for i in tnrange(len(a_sub_b)):\n",
    "    lineNumber = a_sub_b[i]\n",
    "    for j in range(len(org_lineNumber_list)):\n",
    "        if org_lineNumber_list[j] == a_sub_b[i]:\n",
    "            lineNumber = org['lineNumber'][j]\n",
    "            originalText = org['originalText'][j]\n",
    "            transcription = org['transcription'][j]\n",
    "            result = result.append({'lineNumber':lineNumber, 'originalText':originalText, 'transcription':transcription, 'check':None}, ignore_index=True)\n",
    "            \n",
    "            break\n",
    "        else:\n",
    "            pass"
   ]
  },
  {
   "cell_type": "code",
   "execution_count": 55,
   "id": "4902360b-430e-4b73-979b-87cc774629ad",
   "metadata": {},
   "outputs": [
    {
     "data": {
      "text/html": [
       "<div>\n",
       "<style scoped>\n",
       "    .dataframe tbody tr th:only-of-type {\n",
       "        vertical-align: middle;\n",
       "    }\n",
       "\n",
       "    .dataframe tbody tr th {\n",
       "        vertical-align: top;\n",
       "    }\n",
       "\n",
       "    .dataframe thead th {\n",
       "        text-align: right;\n",
       "    }\n",
       "</style>\n",
       "<table border=\"1\" class=\"dataframe\">\n",
       "  <thead>\n",
       "    <tr style=\"text-align: right;\">\n",
       "      <th></th>\n",
       "      <th>lineNumber</th>\n",
       "      <th>originalText</th>\n",
       "      <th>transcription</th>\n",
       "      <th>check</th>\n",
       "    </tr>\n",
       "  </thead>\n",
       "  <tbody>\n",
       "    <tr>\n",
       "      <th>0</th>\n",
       "      <td>54</td>\n",
       "      <td>[1] 구 &lt;&lt;&lt;상속 받은 재산에 대한 세금&lt;=상속세&gt;법(****.**.**법률 제...</td>\n",
       "      <td>[1] 구 &lt;&lt;&lt;상속 받은 재산에 대한 세금&lt;=상속세&gt;법(****.**.**법률 제...</td>\n",
       "      <td>None</td>\n",
       "    </tr>\n",
       "    <tr>\n",
       "      <th>1</th>\n",
       "      <td>55</td>\n",
       "      <td>그러한데도 &lt;&lt;&lt;직전의 재판&lt;=원심&gt;이 원래의&gt;&gt;&gt; *****를 분열 후의 신청인 ...</td>\n",
       "      <td>그러한데도 &lt;&lt;&lt;직전의 재판&lt;=원심&gt;이 원래의&gt;&gt;&gt; *****를 분열 후의 신청인 ...</td>\n",
       "      <td>None</td>\n",
       "    </tr>\n",
       "    <tr>\n",
       "      <th>2</th>\n",
       "      <td>56</td>\n",
       "      <td>왜냐하면 부동산에 대한 경매는 집행법원의 &lt;&lt;&lt;직무상의 본분&lt;=직분&gt;에 속하기&gt;&gt;&gt;...</td>\n",
       "      <td>왜냐하면 부동산에 대한 경매는 집행법원의 &lt;&lt;&lt;직무상의 본분&lt;=직분&gt;에 속하기&gt;&gt;&gt;...</td>\n",
       "      <td>None</td>\n",
       "    </tr>\n",
       "    <tr>\n",
       "      <th>3</th>\n",
       "      <td>57</td>\n",
       "      <td>민사집행법 제19조 제3항에 따라 집행법상 담보 취소에 &lt;&lt;&lt;표준으로 삼아 적용함&lt;...</td>\n",
       "      <td>민사집행법 제19조 제3항에 따라 집행법상 담보 취소에 &lt;&lt;&lt;표준으로 삼아 적용&lt;=...</td>\n",
       "      <td>None</td>\n",
       "    </tr>\n",
       "    <tr>\n",
       "      <th>4</th>\n",
       "      <td>58</td>\n",
       "      <td>그러므로 &lt;&lt;&lt;자기 몸을 스스로 다치게 함&lt;=자해&gt;행위로 인한&gt;&gt;&gt; 사망이라 하더라...</td>\n",
       "      <td>그러므로 &lt;&lt;&lt;자기 몸을 스스로 다치게 한&lt;=자해&gt;행위로 인한&gt;&gt;&gt; 사망이라 하더라...</td>\n",
       "      <td>None</td>\n",
       "    </tr>\n",
       "    <tr>\n",
       "      <th>...</th>\n",
       "      <td>...</td>\n",
       "      <td>...</td>\n",
       "      <td>...</td>\n",
       "      <td>...</td>\n",
       "    </tr>\n",
       "    <tr>\n",
       "      <th>20373</th>\n",
       "      <td>76898</td>\n",
       "      <td>구 대통령선거법 제34조는 '선거운동'고 규정하여 사전선거운동을 금지하고 이를 위반...</td>\n",
       "      <td>구 대통령선거법 제34조는 '선거운동'고 규정하여 사전선거운동을 금지하고 이를 위반...</td>\n",
       "      <td>None</td>\n",
       "    </tr>\n",
       "    <tr>\n",
       "      <th>20374</th>\n",
       "      <td>76899</td>\n",
       "      <td>****.**.**시행된 **** 선거구의 제16대 국회의원 선거에 &lt;&lt;민사소송을 ...</td>\n",
       "      <td>****.**.**시행된 **** 선거구의 제16대 국회의원 선거에 &lt;&lt;민사소송을 ...</td>\n",
       "      <td>None</td>\n",
       "    </tr>\n",
       "    <tr>\n",
       "      <th>20375</th>\n",
       "      <td>76900</td>\n",
       "      <td>&lt;&lt;직전의 재판&lt;=원심&gt;판결 이유에&gt;&gt; 의하면, &lt;&lt;직전의 재판&lt;=원심&gt;은 그&gt;&gt; ...</td>\n",
       "      <td>&lt;&lt;직전의 재판&lt;=원심&gt;판결 이유에&gt;&gt; 의하면, &lt;&lt;직전의 재판&lt;=원심&gt;은 그&gt;&gt; ...</td>\n",
       "      <td>None</td>\n",
       "    </tr>\n",
       "    <tr>\n",
       "      <th>20376</th>\n",
       "      <td>76901</td>\n",
       "      <td>헌법재판소가 선거운동인지를 판단하는 중요한 기준은 행위의 ‘특정후보자의 당선 내지 ...</td>\n",
       "      <td>헌법재판소가 선거운동인지를 판단하는 중요한 기준은 행위의 ‘특정후보자의 당선 내지 ...</td>\n",
       "      <td>None</td>\n",
       "    </tr>\n",
       "    <tr>\n",
       "      <th>20377</th>\n",
       "      <td>76902</td>\n",
       "      <td>다만, 선거에 관한 단순한 의견의 &lt;&lt;의견이나 내용을 드러내어 전개함&lt;=개진&gt;·의사...</td>\n",
       "      <td>다만, 선거에 관한 단순한 의견의 &lt;&lt;의견이나 내용을 드러내어 전개함&lt;=개진&gt;·의사...</td>\n",
       "      <td>None</td>\n",
       "    </tr>\n",
       "  </tbody>\n",
       "</table>\n",
       "<p>20378 rows × 4 columns</p>\n",
       "</div>"
      ],
      "text/plain": [
       "      lineNumber                                       originalText  \\\n",
       "0             54  [1] 구 <<<상속 받은 재산에 대한 세금<=상속세>법(****.**.**법률 제...   \n",
       "1             55  그러한데도 <<<직전의 재판<=원심>이 원래의>>> *****를 분열 후의 신청인 ...   \n",
       "2             56  왜냐하면 부동산에 대한 경매는 집행법원의 <<<직무상의 본분<=직분>에 속하기>>>...   \n",
       "3             57  민사집행법 제19조 제3항에 따라 집행법상 담보 취소에 <<<표준으로 삼아 적용함<...   \n",
       "4             58  그러므로 <<<자기 몸을 스스로 다치게 함<=자해>행위로 인한>>> 사망이라 하더라...   \n",
       "...          ...                                                ...   \n",
       "20373      76898  구 대통령선거법 제34조는 '선거운동'고 규정하여 사전선거운동을 금지하고 이를 위반...   \n",
       "20374      76899  ****.**.**시행된 **** 선거구의 제16대 국회의원 선거에 <<민사소송을 ...   \n",
       "20375      76900  <<직전의 재판<=원심>판결 이유에>> 의하면, <<직전의 재판<=원심>은 그>> ...   \n",
       "20376      76901  헌법재판소가 선거운동인지를 판단하는 중요한 기준은 행위의 ‘특정후보자의 당선 내지 ...   \n",
       "20377      76902  다만, 선거에 관한 단순한 의견의 <<의견이나 내용을 드러내어 전개함<=개진>·의사...   \n",
       "\n",
       "                                           transcription check  \n",
       "0      [1] 구 <<<상속 받은 재산에 대한 세금<=상속세>법(****.**.**법률 제...  None  \n",
       "1      그러한데도 <<<직전의 재판<=원심>이 원래의>>> *****를 분열 후의 신청인 ...  None  \n",
       "2      왜냐하면 부동산에 대한 경매는 집행법원의 <<<직무상의 본분<=직분>에 속하기>>>...  None  \n",
       "3      민사집행법 제19조 제3항에 따라 집행법상 담보 취소에 <<<표준으로 삼아 적용<=...  None  \n",
       "4      그러므로 <<<자기 몸을 스스로 다치게 한<=자해>행위로 인한>>> 사망이라 하더라...  None  \n",
       "...                                                  ...   ...  \n",
       "20373  구 대통령선거법 제34조는 '선거운동'고 규정하여 사전선거운동을 금지하고 이를 위반...  None  \n",
       "20374  ****.**.**시행된 **** 선거구의 제16대 국회의원 선거에 <<민사소송을 ...  None  \n",
       "20375  <<직전의 재판<=원심>판결 이유에>> 의하면, <<직전의 재판<=원심>은 그>> ...  None  \n",
       "20376  헌법재판소가 선거운동인지를 판단하는 중요한 기준은 행위의 ‘특정후보자의 당선 내지 ...  None  \n",
       "20377  다만, 선거에 관한 단순한 의견의 <<의견이나 내용을 드러내어 전개함<=개진>·의사...  None  \n",
       "\n",
       "[20378 rows x 4 columns]"
      ]
     },
     "execution_count": 55,
     "metadata": {},
     "output_type": "execute_result"
    }
   ],
   "source": [
    "result"
   ]
  },
  {
   "cell_type": "code",
   "execution_count": 56,
   "id": "f9e324e7-8c54-4574-91b9-85cf9efbb067",
   "metadata": {},
   "outputs": [
    {
     "name": "stdout",
     "output_type": "stream",
     "text": [
      "/Users/jaytsol/Desktop/Type23 (2)의 경로에 TypeC뺀거_211115_2221.csv의 이름으로 파일 생성이 완료되었습니다.\n"
     ]
    }
   ],
   "source": [
    "save_as_csv(output_repo, result)"
   ]
  },
  {
   "cell_type": "code",
   "execution_count": null,
   "id": "e5ef02aa-50ed-42e2-9f4d-ef5f2909b797",
   "metadata": {},
   "outputs": [],
   "source": []
  }
 ],
 "metadata": {
  "kernelspec": {
   "display_name": "Python 3",
   "language": "python",
   "name": "python3"
  },
  "language_info": {
   "codemirror_mode": {
    "name": "ipython",
    "version": 3
   },
   "file_extension": ".py",
   "mimetype": "text/x-python",
   "name": "python",
   "nbconvert_exporter": "python",
   "pygments_lexer": "ipython3",
   "version": "3.8.8"
  }
 },
 "nbformat": 4,
 "nbformat_minor": 5
}
