{
 "cells": [
  {
   "cell_type": "markdown",
   "id": "755ad5bf-9086-46af-8948-e29b9b08fd4b",
   "metadata": {},
   "source": [
    "# Type3output_to_Type4input"
   ]
  },
  {
   "cell_type": "markdown",
   "id": "e8deab83-f83e-4ca7-8607-e550e5a821a8",
   "metadata": {},
   "source": [
    "## 개요"
   ]
  },
  {
   "cell_type": "code",
   "execution_count": 1,
   "id": "f2b077ad-5d91-4018-847f-9b4f78b24984",
   "metadata": {},
   "outputs": [],
   "source": [
    "# type3_output data를 type4_input data로, JSON 형식으로 출력하는 코드 (coded_by_JaeWhee Choi)\n",
    "# 즉, 어려운 단어를 쉬운 키워드로 치환한 문장(type3_output) 중 200자가 넘는 문장만을 뽑아내는 코드 (type4를 위한 input data 생성)"
   ]
  },
  {
   "cell_type": "markdown",
   "id": "2abf90ec-5ae6-4f33-8fd0-47121c3b464f",
   "metadata": {},
   "source": [
    "## 라이브러리"
   ]
  },
  {
   "cell_type": "code",
   "execution_count": 2,
   "id": "cfb721cf-8a12-494d-bf5b-54e55ef965fc",
   "metadata": {},
   "outputs": [],
   "source": [
    "import json\n",
    "import csv"
   ]
  },
  {
   "cell_type": "markdown",
   "id": "5a772d80-ba01-426d-a5f3-1303b4ff9273",
   "metadata": {},
   "source": [
    "## 파일호출"
   ]
  },
  {
   "cell_type": "code",
   "execution_count": 3,
   "id": "839d09a8-2956-4e7e-8f0f-e8dd2762359e",
   "metadata": {},
   "outputs": [],
   "source": [
    "f = open('C:/Users/jayts/OneDrive/바탕 화면/Tictag/json/KAS/type3_output.json', 'r', encoding='UTF8')    # type3를 통해 추출된 json파일 읽어들이기\n",
    "difficult_word = json.load(f)"
   ]
  },
  {
   "cell_type": "markdown",
   "id": "9410d5fd-0134-457b-8247-30f434e2a304",
   "metadata": {},
   "source": [
    "## 변수 초기화"
   ]
  },
  {
   "cell_type": "code",
   "execution_count": 4,
   "id": "c646413d-d2bc-494c-a0e8-deb2ee2e56a1",
   "metadata": {},
   "outputs": [],
   "source": [
    "key_list1 = list(difficult_word.keys())    # 어려운 단어 리스트\n",
    "key_list2 = list(difficult_word[key_list1[0]][0].keys())    # origin, trans, keyword, keywordOccurence\n",
    "\n",
    "# long_sentence 초기화. 행정처분 안에 딕셔너리 여러개.(리스트)\n",
    "long_sentence = {}\n",
    "long_sentence.update(difficult_word)"
   ]
  },
  {
   "cell_type": "markdown",
   "id": "1df6177f-4d4f-43e5-a3bd-569454f2c93d",
   "metadata": {},
   "source": [
    "## trans기준 200자 넘는 문장 컷"
   ]
  },
  {
   "cell_type": "code",
   "execution_count": 5,
   "id": "25606b3d-06b7-4f6b-a9f2-0b015b93245c",
   "metadata": {},
   "outputs": [],
   "source": [
    "for i in range(0, len(key_list1)):    # j, k 순서 유지를 위해 뒤에서부터 삭제\n",
    "    for j in range(len(difficult_word[key_list1[i]])-1, -1, -1):\n",
    "        for k in range(len(key_list2)-1, -1, -1):\n",
    "            if (len(difficult_word[key_list1[i]][j][\"trans\"]))<=200:\n",
    "                del(long_sentence[key_list1[i]][j])"
   ]
  },
  {
   "cell_type": "markdown",
   "id": "96389412-ddab-46e4-8929-4225d677a8cd",
   "metadata": {},
   "source": [
    "## JSON으로 저장"
   ]
  },
  {
   "cell_type": "code",
   "execution_count": 6,
   "id": "4882b251-606c-4edc-a1b5-52e0a665e622",
   "metadata": {},
   "outputs": [],
   "source": [
    "# json 파일로 저장\n",
    "with open('C:/Users/jayts/OneDrive/바탕 화면/Tictag/json/KAS/type4_input.json', 'w', encoding='UTF8') as json_file:\n",
    "    json.dump(long_sentence, json_file, indent=4, ensure_ascii=False,)"
   ]
  },
  {
   "cell_type": "code",
   "execution_count": 7,
   "id": "70b2f0a3-5932-4c22-a1a5-f819c6db2fe2",
   "metadata": {},
   "outputs": [],
   "source": [
    "for i in range(len(key_list1)):\n",
    "    for j in range(len(long_sentence[key_list1[i]])):\n",
    "        long_sentence[key_list1[i]][j].update({'word':key_list1[i]})"
   ]
  },
  {
   "cell_type": "markdown",
   "id": "627dca64-236e-4fb2-a2eb-cad493ac013d",
   "metadata": {},
   "source": [
    "## CSV로 저장"
   ]
  },
  {
   "cell_type": "code",
   "execution_count": 8,
   "id": "21b12c88-c2a9-4eb1-963c-adee21a64ea7",
   "metadata": {},
   "outputs": [],
   "source": [
    "with open('C:/Users/jayts/OneDrive/바탕 화면/Tictag/json/KAS/long_sentence.csv', 'w', newline='') as file:\n",
    "    fieldnames=['word', 'origin', 'trans', 'keyword', 'keywordOccurence']\n",
    "    writer = csv.DictWriter(file, fieldnames=fieldnames)\n",
    "    writer.writeheader()\n",
    "    for i in range(len(long_sentence)):\n",
    "        for j in range(len(long_sentence[key_list1[i]])):\n",
    "            writer.writerow(long_sentence[key_list1[i]][j])"
   ]
  },
  {
   "cell_type": "code",
   "execution_count": 9,
   "id": "49496990-1c1f-4faf-a61a-5dca96367134",
   "metadata": {},
   "outputs": [
    {
     "data": {
      "text/plain": [
       "{'행정처분': [{'origin': '행정청이 구체적인 사실에 관한 집행의 무효확인 또는 취소를 구하는 소가 소송을 제기할 당시에는 소송의 목적이 있어 적법하였더라도, 소송 계속 중 처분청이 다툼의 대상이 되는 행정청이 구체적인 사실에 관한 집행을 직권으로 취소하면 그 처분은 효력을 상실하여 더 이상 존재하지 않는 것이므로, 존재하지 않는 처분을 대상으로 한 행정청의 위법한 처분 등을 취소 또는 변경하는 소송은 원칙적으로 소송의 목적이 소멸하여 부적법하다고 보아야 한다.',\n",
       "   'trans': '행정청이 구체적인 사실에 관한 집행의 무효확인 또는 취소를 구하는 소가 소송을 제기할 당시에는 소송의 목적이 있어 적법하였더라도, 소송 계속 중 처분청이 다툼의 대상이 되는 행정청이 구체적인 사실에 관한 집행을 직권으로 취소하면 그 처분은 효력을 상실하여 더 이상 존재하지 않는 것이므로, 존재하지 않는 처분을 대상으로 한 행정청의 위법한 처분 등을 취소 또는 변경하는 소송은 원칙적으로 소송의 목적이 소멸하여 부적법하다고 보아야 한다.',\n",
       "   'keyword': ['행정청이 구체적인 사실에 관한 집행의 무효확인',\n",
       "    '소송을 제기핦 당시에는',\n",
       "    '소송의 목적이 있어',\n",
       "    '행정청이 구체적인 사실에 관한 집행을 직권으로',\n",
       "    '행정청의 위법한 처분 등을 취소 또는 변경하는 소송은 원칙적으로',\n",
       "    '소송의 목적이 소멸하여'],\n",
       "   'keywordOccurence': [{'start': 0, 'end': 25},\n",
       "    {'start': 40, 'end': 50},\n",
       "    {'start': 51, 'end': 61},\n",
       "    {'start': 95, 'end': 120},\n",
       "    {'start': 179, 'end': 214},\n",
       "    {'start': 215, 'end': 227}],\n",
       "   'word': '행정처분'}],\n",
       " '조세회피': [{'origin': '재산 재산이나 영토, 권리 따위가 특정 주체에 붙음명의자는 이를 지배·관리할 능력이 없고 명의자에 대한 지배권 등을 통하여 실질적으로 이를 지배·관리하는 사람이 따로 있으며 그와 같은 명의와 실질의 괴리가 비정상적인 과정을 통해 조세를 피하는 것 목적에서 비롯된 경우에는、 그 재산에 관한 소득은 재산을 실질적으로 지배·관리하는 사람에게 귀속된 것으로 보아 그를 납세의무자로 보아 과세하여야 한다.',\n",
       "   'trans': '재산이나 영토, 권리 따위가 특정 주체에 붙은 명의자는 이를 지배·관리할 능력이 없고 명의자에 대한 지배권 등을 통하여 실질적으로 이를 지배·관리하는 사람이 따로 있으며 그와 같은 명의와 실질의 괴리가 비정상적인 과정을 통해 조세를 피하는 것의 목적에서 비롯된 경우에는、 그 재산에 관한 소득은 재산을 실질적으로 지배·관리하는 사람에게 귀속된 것으로 보아 그를 납세의무자로 보아 과세하여야 한다.',\n",
       "   'keyword': ['재산이나 영토, 권리 따위가 특정 주체에 붙음명의자는 이를',\n",
       "    '비정상적인 과정을 통해 조세를 피하는 것 목적에서'],\n",
       "   'keywordOccurence': [{'start': 3, 'end': 35}, {'start': 115, 'end': 142}],\n",
       "   'word': '조세회피'},\n",
       "  {'origin': '[1] 재산의 재산이나 영토, 권리 따위가 특정 주체에 붙음 명의자가 지배·관리 능력이 없고、 명의자에 대한 지배권 등을 통하여 실질적으로 지배·관리하는 자가 따로 있으며、 명의와 실질의 괴리가 비정상적인 과정을 통해 조세를 피하는 것 목적에서 비롯된 경우、 재산에 관한 소득의 납세의무자(=재산의 실질적 지배·관리자) 및 이 원칙이 소득 및 자본에 대한 국제적 이중과세를 방지하기 위한 약속의 해석과 적용에서도 그대로 적용되는지 여부(원칙적 적극)',\n",
       "   'trans': '[1] 재산의 재산이나 영토, 권리 따위가 특정 주체에 붙은 명의자가 지배·관리 능력이 없고、 명의자에 대한 지배권 등을 통하여 실질적으로 지배·관리하는 자가 따로 있으며、 명의와 실질의 괴리가 비정상적인 과정을 통해 조세를 피하는 것의 목적에서 비롯된 경우、 재산에 관한 소득의 납세의무자(=재산의 실질적 지배·관리자) 및 이 원칙이 소득 및 자본에 대한 국제적 이중과세를 방지하기 위한 약속의 해석과 적용에서도 그대로 적용되는지 여부(원칙적 적극)',\n",
       "   'keyword': ['재산이나 영토, 권리 따위가 특정 주체에 붙음 명의자가',\n",
       "    '비정상적인 과정을 통해 조세를 피하는 것 목적에서',\n",
       "    '소득 및 자본에 대한 국제적 이중과세를 방지하기 위한 약속의'],\n",
       "   'keywordOccurence': [{'start': 8, 'end': 38},\n",
       "    {'start': 109, 'end': 136},\n",
       "    {'start': 187, 'end': 220}],\n",
       "   'word': '조세회피'}]}"
      ]
     },
     "execution_count": 9,
     "metadata": {},
     "output_type": "execute_result"
    }
   ],
   "source": [
    "long_sentence['행정처분']"
   ]
  },
  {
   "cell_type": "code",
   "execution_count": 19,
   "id": "c04323cb-e3bc-4cce-a5be-d24f02efb2c4",
   "metadata": {},
   "outputs": [
    {
     "data": {
      "text/plain": [
       "'상적인 과정을 통해 조세를 피하는 것의 목적에서 비'"
      ]
     },
     "execution_count": 19,
     "metadata": {},
     "output_type": "execute_result"
    }
   ],
   "source": [
    "long_sentence['조세회피'][0]['trans'][115:143]"
   ]
  },
  {
   "cell_type": "code",
   "execution_count": null,
   "id": "946ee0d1-be3d-4f76-9aef-1fbd44dfbffc",
   "metadata": {},
   "outputs": [],
   "source": []
  }
 ],
 "metadata": {
  "kernelspec": {
   "display_name": "Python 3",
   "language": "python",
   "name": "python3"
  },
  "language_info": {
   "codemirror_mode": {
    "name": "ipython",
    "version": 3
   },
   "file_extension": ".py",
   "mimetype": "text/x-python",
   "name": "python",
   "nbconvert_exporter": "python",
   "pygments_lexer": "ipython3",
   "version": "3.8.8"
  }
 },
 "nbformat": 4,
 "nbformat_minor": 5
}
