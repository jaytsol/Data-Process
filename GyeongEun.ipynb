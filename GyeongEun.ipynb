{
 "cells": [
  {
   "cell_type": "code",
   "execution_count": 1,
   "id": "ed06b32b-1b36-4a34-8634-97f68f545323",
   "metadata": {},
   "outputs": [],
   "source": [
    "import json\n",
    "import csv\n",
    "from tqdm import tnrange, tqdm_notebook"
   ]
  },
  {
   "cell_type": "code",
   "execution_count": 4,
   "id": "11818eed-d760-4527-89d1-f4bd5dd22727",
   "metadata": {},
   "outputs": [],
   "source": [
    "csvFilePath = 'C:/Users/jayts/OneDrive/바탕 화면/Tictag/카스 데이터/1005 경은님/110개/110개_1005_UTF-8.csv'\n",
    "jsonFilePath = 'C:/Users/jayts/OneDrive/바탕 화면/Tictag/카스 데이터/10퍼_1.json'"
   ]
  },
  {
   "cell_type": "code",
   "execution_count": 5,
   "id": "af6fbefb-2a33-470c-b67b-aa4bf49f0ae2",
   "metadata": {},
   "outputs": [],
   "source": [
    "data = {}\n",
    "with open(csvFilePath, encoding='UTF8') as csvFile:\n",
    "    csvReader = csv.DictReader(csvFile)\n",
    "    for rows in csvReader:\n",
    "        id = rows['법률어휘']\n",
    "        data[id] = rows"
   ]
  },
  {
   "cell_type": "code",
   "execution_count": 6,
   "id": "9f7745a6-bc3c-4278-a3f6-f91072ef47e4",
   "metadata": {},
   "outputs": [],
   "source": [
    "with open(jsonFilePath, 'w', encoding='UTF8') as jsonFile:\n",
    "    jsonFile.write(json.dumps(data, indent=4, ensure_ascii=False,))"
   ]
  },
  {
   "cell_type": "code",
   "execution_count": 7,
   "id": "fd783985-410b-47cd-866b-37311e7dab03",
   "metadata": {},
   "outputs": [
    {
     "name": "stderr",
     "output_type": "stream",
     "text": [
      "<ipython-input-7-f178e032449d>:5: TqdmDeprecationWarning: Please use `tqdm.notebook.trange` instead of `tqdm.tnrange`\n",
      "  for i in tnrange(len(key_list)):\n"
     ]
    },
    {
     "data": {
      "application/vnd.jupyter.widget-view+json": {
       "model_id": "88c7588c8c574e0a947b3aacd2d29903",
       "version_major": 2,
       "version_minor": 0
      },
      "text/plain": [
       "  0%|          | 0/110 [00:00<?, ?it/s]"
      ]
     },
     "metadata": {},
     "output_type": "display_data"
    }
   ],
   "source": [
    "# sent_to_input + numbering\n",
    "result = []\n",
    "key_list = sorted(list(data.keys()))\n",
    "num_of_word = 0\n",
    "for i in tnrange(len(key_list)):\n",
    "    num_of_sent = 1\n",
    "    \n",
    "    for j in range(4):\n",
    "        if data[key_list[i]]['sentence'+str(j+2)] != '':\n",
    "            num_of_sent += 1\n",
    "        else:\n",
    "            pass\n",
    "        \n",
    "    for k in range(num_of_sent):\n",
    "        if k+1 != num_of_sent:\n",
    "            result.append({'표시':None, '단어':key_list[i], '원구절':data[key_list[i]]['sentence'+str(k+1)], '1차 번역 어휘':None, '1차 검수자 의견':None, '최종 검수 어휘':None, '2차 검수자 의견':None})\n",
    "        else:\n",
    "            num_of_word += 1\n",
    "            result.append({'표시':num_of_word, '단어':key_list[i], '원구절':data[key_list[i]]['sentence'+str(k+1)], '1차 번역 어휘':data[key_list[i]]['최종 번역 어휘'], '1차 검수자 의견':data[key_list[i]]['검수자 의견'], '최종 검수 어휘':None, '2차 검수자 의견':None})"
   ]
  },
  {
   "cell_type": "code",
   "execution_count": 6,
   "id": "c7de36c6-3180-4c9e-b4fb-80886bc7c13f",
   "metadata": {},
   "outputs": [
    {
     "data": {
      "text/plain": [
       "180"
      ]
     },
     "execution_count": 6,
     "metadata": {},
     "output_type": "execute_result"
    }
   ],
   "source": [
    "len(key_list)"
   ]
  },
  {
   "cell_type": "code",
   "execution_count": 8,
   "id": "d7cdda1a-29d2-455f-a8f3-087396dd5e36",
   "metadata": {},
   "outputs": [],
   "source": [
    "# json 파일로 저장\n",
    "with open('C:/Users/jayts/OneDrive/바탕 화면/Tictag/json/KAS/110개_1005_output.json', 'w', encoding='UTF8') as json_file:\n",
    "# with open('C:/Users/jayts/OneDrive/바탕 화면/Tictag/json/KAS/type2_A_input_example.json', 'w', encoding='UTF8') as json_file:\n",
    "    json.dump(result, json_file, indent=4, ensure_ascii=False,)"
   ]
  },
  {
   "cell_type": "code",
   "execution_count": 9,
   "id": "40c1ea4a-7496-43bb-b630-825086c21d11",
   "metadata": {},
   "outputs": [],
   "source": [
    "with open('C:/Users/jayts/OneDrive/바탕 화면/Tictag/json/KAS/110개_output.csv', 'w', newline='', encoding='UTF8') as file:\n",
    "    fieldnames=['표시', '단어', '원구절', '1차 번역 어휘', '1차 검수자 의견', '최종 검수 어휘', '2차 검수자 의견']\n",
    "    writer = csv.DictWriter(file, fieldnames=fieldnames)\n",
    "    writer.writeheader()\n",
    "    for i in range(len(result)):\n",
    "        writer.writerow(result[i])"
   ]
  },
  {
   "cell_type": "code",
   "execution_count": null,
   "id": "dd896a7b-45f2-454e-a690-8a1f156284e4",
   "metadata": {},
   "outputs": [],
   "source": []
  }
 ],
 "metadata": {
  "kernelspec": {
   "display_name": "Python 3",
   "language": "python",
   "name": "python3"
  },
  "language_info": {
   "codemirror_mode": {
    "name": "ipython",
    "version": 3
   },
   "file_extension": ".py",
   "mimetype": "text/x-python",
   "name": "python",
   "nbconvert_exporter": "python",
   "pygments_lexer": "ipython3",
   "version": "3.8.8"
  }
 },
 "nbformat": 4,
 "nbformat_minor": 5
}
