{
 "cells": [
  {
   "cell_type": "code",
   "execution_count": 2,
   "id": "a3e5c65b-d7c8-4067-bc17-c99618a0e403",
   "metadata": {
    "tags": []
   },
   "outputs": [
    {
     "ename": "ModuleNotFoundError",
     "evalue": "No module named 'hanspell'",
     "output_type": "error",
     "traceback": [
      "\u001b[0;31m---------------------------------------------------------------------------\u001b[0m",
      "\u001b[0;31mModuleNotFoundError\u001b[0m                       Traceback (most recent call last)",
      "\u001b[0;32m<ipython-input-2-e1340a80fdba>\u001b[0m in \u001b[0;36m<module>\u001b[0;34m\u001b[0m\n\u001b[1;32m      1\u001b[0m \u001b[0;32mimport\u001b[0m \u001b[0mjson\u001b[0m\u001b[0;34m\u001b[0m\u001b[0;34m\u001b[0m\u001b[0m\n\u001b[1;32m      2\u001b[0m \u001b[0;32mfrom\u001b[0m \u001b[0mtqdm\u001b[0m \u001b[0;32mimport\u001b[0m \u001b[0mtnrange\u001b[0m\u001b[0;34m,\u001b[0m \u001b[0mtqdm_notebook\u001b[0m\u001b[0;34m\u001b[0m\u001b[0;34m\u001b[0m\u001b[0m\n\u001b[0;32m----> 3\u001b[0;31m \u001b[0;32mfrom\u001b[0m \u001b[0mhanspell\u001b[0m \u001b[0;32mimport\u001b[0m \u001b[0mspell_checker\u001b[0m\u001b[0;34m\u001b[0m\u001b[0;34m\u001b[0m\u001b[0m\n\u001b[0m",
      "\u001b[0;31mModuleNotFoundError\u001b[0m: No module named 'hanspell'"
     ]
    }
   ],
   "source": [
    "import json\n",
    "from tqdm import tnrange, tqdm_notebook\n",
    "from hanspell import spell_checker"
   ]
  },
  {
   "cell_type": "code",
   "execution_count": null,
   "id": "69966888-6cf1-4ffe-a4e5-3ed18feeee11",
   "metadata": {},
   "outputs": [],
   "source": [
    "conda install py-"
   ]
  },
  {
   "cell_type": "code",
   "execution_count": 2,
   "id": "82b32539-4f34-4625-8b1a-8030b60cfd27",
   "metadata": {
    "tags": []
   },
   "outputs": [],
   "source": [
    "# 문장 맞춤법 고쳐서 수정된 문장 출력.\n",
    "def correction(ori_sent):\n",
    "    spelled_sent = spell_checker.check(ori_sent)\n",
    "    Error_Code = spelled_sent.words\n",
    "    tmp_list = []\n",
    "    for i, j in Error_Code.items():\n",
    "        tmp_list.append(j)\n",
    "        \n",
    "    PASSED = tmp_list.count(0)\n",
    "    WRONG_SPELLING = tmp_list.count(1)\n",
    "    WRONG_SPACING = tmp_list.count(2)\n",
    "    AMBIGUOUS = tmp_list.count(3)\n",
    "    STATISTICAL_CORRECTION = tmp_list.count(4)\n",
    "    Num_of_Error_Code = [PASSED, WRONG_SPELLING, WRONG_SPACING, AMBIGUOUS, STATISTICAL_CORRECTION]\n",
    "    \n",
    "    return spelled_sent.checked, spelled_sent.errors, Num_of_Error_Code"
   ]
  },
  {
   "cell_type": "code",
   "execution_count": 17,
   "id": "84c04b64-9df4-4636-98f5-e296299fc045",
   "metadata": {},
   "outputs": [],
   "source": [
    "ori_sent = \"원심판결 이유에 의하면、 원심은 이 사건 행위가 공정거래법 제3조의2 제1항 제3호에 규정된 ‘다른 사업자의 사업활동을 방해하는 행위’로서 부당한 것인지 여부를 판단함에 있어 그 여러 고려할 사항 중의 하나로、 음악파일의 상호호환을 강제할 법률적 근거는 없으므로、 피고가 별도의 입법조치 없이 원고에게 호환기술의 사용을 요구하거나 이를 의무화하는 것은 그 권한 범위를 넘어서는 것이라는 취지로 설시하였음을 알 수 있고、 이 사건 행위가 공정거래법 제3조의2 제1항 제3호에 규정된 ‘다른 사업자의 사업활동을 방해하는 행위’로서 부당하다고 볼 수 없다고 본 원심의 판단은 정당하므로、 거기에 상고이유에서 주장하는 바와 같은 시정명령의 해석에 관한 법리오해의 위법이 없다.\"\n",
    "SentChecked, Errors, NumOfErrorCode = correction(ori_sent)"
   ]
  },
  {
   "cell_type": "code",
   "execution_count": 18,
   "id": "0ec786fe-e23f-4b86-af8d-b119461b9d5d",
   "metadata": {},
   "outputs": [
    {
     "data": {
      "text/plain": [
       "'원심판결 이유에 의하면、 원심은 이 사건 행위가 공정거래법 제3조의2 제1항 제3호에 규정된 ‘다른 사업자의 사업활동을 방해하는 행위’로서 부당한 것인지 여부를 판단함에 있어 그 여러 고려할 사항 중의 하나로、 음악파일의 상호호환을 강제할 법률적 근거는 없으므로、 피고가 별도의 입법조치 없이 원고에게 호환기술의 사용을 요구하거나 이를 의무화하는 것은 그 권한 범위를 넘어서는 것이라는 취지로 설시하였음을 알 수 있고、 이 사건 행위가 공정거래법 제3조의2 제1항 제3호에 규정된 ‘다른 사업자의 사업활동을 방해하는 행위’로서 부당하다고 볼 수 없다고 본 원심의 판단은 정당하므로、 거기에 상고이유에서 주장하는 바와 같은 시정명령의 해석에 관한 법리오해의 위법이 없다.'"
      ]
     },
     "execution_count": 18,
     "metadata": {},
     "output_type": "execute_result"
    }
   ],
   "source": [
    "ori_sent"
   ]
  },
  {
   "cell_type": "code",
   "execution_count": 19,
   "id": "5e403464-1be8-4b84-af72-84297de3e1ef",
   "metadata": {},
   "outputs": [
    {
     "data": {
      "text/plain": [
       "'원심 판결 이유에 의하면、 원심은 이 사건 행위가 공정거래법 제3조의 2 제1항 제3호에 규정된 ‘다른 사업자의 사업활동을 방해하는 행위’로서 부당한 것인지를 판단함에 있어 그 여러 고려할 사항 중의 하나로、 음악파일의 상호 호환을 강제할 법률적 근거는 없으므로、 피고가 별도의 입법조치 없이 원고에게 호환 기술의 사용을 요구하거나 이를 의무화하는 것은 그 권한 범위를 넘어서는 것이라는 취지로 설시하였음을 알 수 있고、 이 사건 행위가 공정거래법 제3조의 2 제1항 제3호에 규정된 ‘다른 사업자의 사업활동을 방해하는 행위’로서 부당하다고 볼 수 없다고 본 원심의 판단은 정당하므로、 거기에 상고이유에서 주장하는 바와 같은 시정명령의 해석에 관한 법리오해의 위법이 없다.'"
      ]
     },
     "execution_count": 19,
     "metadata": {},
     "output_type": "execute_result"
    }
   ],
   "source": [
    "SentChecked"
   ]
  },
  {
   "cell_type": "code",
   "execution_count": 20,
   "id": "94a9e3bb-945a-4e0e-99b7-1720e8c3db30",
   "metadata": {},
   "outputs": [
    {
     "data": {
      "text/plain": [
       "6"
      ]
     },
     "execution_count": 20,
     "metadata": {},
     "output_type": "execute_result"
    }
   ],
   "source": [
    "Errors"
   ]
  },
  {
   "cell_type": "code",
   "execution_count": 21,
   "id": "b4a8b8ed-1325-4401-965c-8a02a6eacd60",
   "metadata": {},
   "outputs": [
    {
     "data": {
      "text/plain": [
       "[66, 1, 8, 0, 0]"
      ]
     },
     "execution_count": 21,
     "metadata": {},
     "output_type": "execute_result"
    }
   ],
   "source": [
    "NumOfErrorCode"
   ]
  },
  {
   "cell_type": "code",
   "execution_count": 3,
   "id": "e490dc34-45d3-4fec-b2d9-dd76913c5876",
   "metadata": {},
   "outputs": [],
   "source": [
    "# isdiff 두 문장을 갖고와서 같으면 0, 다르면 1을 출력하는 함수.\n",
    "def isdiff(sent_a, sent_b):\n",
    "    if sent_a == sent_b:\n",
    "        return 0\n",
    "    else:\n",
    "        return 1"
   ]
  },
  {
   "cell_type": "code",
   "execution_count": 4,
   "id": "04b1cab9-8a16-4b27-9e10-7cf0529addd1",
   "metadata": {},
   "outputs": [],
   "source": [
    "f = open('C:/Users/jayts/OneDrive/바탕 화면/Tictag/json/KAS/removed_duplicate_panrye_통합본_2021_8_10.json', 'r', encoding='UTF8')    # type3를 통해 추출된 json파일 읽어들이기\n",
    "# f = open('C:/Users/jayts/OneDrive/바탕 화면/Tictag/json/KAS/example.json', 'r', encoding='UTF8')\n",
    "sent_example = json.load(f)"
   ]
  },
  {
   "cell_type": "code",
   "execution_count": 5,
   "id": "01f21ef1-d5ad-4271-9fcb-d4b14b708493",
   "metadata": {},
   "outputs": [],
   "source": [
    "key_list = sorted(list(sent_example.keys()), key=len)    # 어려운 단어 리스트. 오름차순 정렬함\n",
    "sent_checked = {}\n",
    "sent_unchecked = {}\n",
    "errors = {}\n",
    "number = 0"
   ]
  },
  {
   "cell_type": "code",
   "execution_count": 6,
   "id": "e9d9c2eb-7a4c-44f3-b4ad-a2f5bf130e62",
   "metadata": {},
   "outputs": [
    {
     "name": "stderr",
     "output_type": "stream",
     "text": [
      "<ipython-input-6-954dcd3657ae>:2: TqdmDeprecationWarning: Please use `tqdm.notebook.trange` instead of `tqdm.tnrange`\n",
      "  for i in tnrange(len(key_list)):\n"
     ]
    },
    {
     "data": {
      "application/vnd.jupyter.widget-view+json": {
       "model_id": "66990eb8a31b4609a89144976642f6b4",
       "version_major": 2,
       "version_minor": 0
      },
      "text/plain": [
       "  0%|          | 0/2862 [00:00<?, ?it/s]"
      ]
     },
     "metadata": {},
     "output_type": "display_data"
    }
   ],
   "source": [
    "# &를 <<and>>로 바꿈. hanspell에서 &를 인식 못하는 문제 때문에.. 수정 끝나고나서 다시 &로 바꿔야함\n",
    "for i in tnrange(len(key_list)):\n",
    "    for j in range(len(sent_example[key_list[i]])):\n",
    "        sent_example[key_list[i]][j] = sent_example[key_list[i]][j].replace('&', '<<and>>')"
   ]
  },
  {
   "cell_type": "code",
   "execution_count": 7,
   "id": "153bd941-b1bb-44e1-a2f3-d5d5cc5a0fd6",
   "metadata": {},
   "outputs": [
    {
     "name": "stderr",
     "output_type": "stream",
     "text": [
      "<ipython-input-7-944b0193cafd>:1: TqdmDeprecationWarning: Please use `tqdm.notebook.trange` instead of `tqdm.tnrange`\n",
      "  for i in tnrange(len(key_list)):\n"
     ]
    },
    {
     "data": {
      "application/vnd.jupyter.widget-view+json": {
       "model_id": "9011f9638ddd46c4b128a79b7182454b",
       "version_major": 2,
       "version_minor": 0
      },
      "text/plain": [
       "  0%|          | 0/2862 [00:00<?, ?it/s]"
      ]
     },
     "metadata": {},
     "output_type": "display_data"
    }
   ],
   "source": [
    "for i in tnrange(len(key_list)):\n",
    "    sent_checked.update({key_list[i]:[]})\n",
    "    errors.update({key_list[i]:[]})\n",
    "    for j in range(len(sent_example[key_list[i]])):\n",
    "        try:\n",
    "            checked_sentence, sent_errors, checkresults = correction(sent_example[key_list[i]][j])\n",
    "            sent_checked[key_list[i]].append({'checked_sentence':checked_sentence, 'Index':number})\n",
    "            errors[key_list[i]].append({'sent_errors':sent_errors, 'Error Code':checkresults, 'Index':number})\n",
    "        except:\n",
    "            sent_unchecked.update({number:sent_example[key_list[i]][j]})\n",
    "            \n",
    "        number += 1"
   ]
  },
  {
   "cell_type": "code",
   "execution_count": 8,
   "id": "76f66871-9949-4950-b8d5-c7bdca7e3cd2",
   "metadata": {},
   "outputs": [
    {
     "name": "stderr",
     "output_type": "stream",
     "text": [
      "<ipython-input-8-06226eaae608>:2: TqdmDeprecationWarning: Please use `tqdm.notebook.trange` instead of `tqdm.tnrange`\n",
      "  for i in tnrange(len(key_list)):\n"
     ]
    },
    {
     "data": {
      "application/vnd.jupyter.widget-view+json": {
       "model_id": "b6d999f931494b0eb87ddb4b909280fb",
       "version_major": 2,
       "version_minor": 0
      },
      "text/plain": [
       "  0%|          | 0/2862 [00:00<?, ?it/s]"
      ]
     },
     "metadata": {},
     "output_type": "display_data"
    }
   ],
   "source": [
    "# <<and>>를 &로 바꿈.\n",
    "for i in tnrange(len(key_list)):\n",
    "    for j in range(len(sent_example[key_list[i]])):\n",
    "        sent_example[key_list[i]][j] = sent_example[key_list[i]][j].replace('<<and>>', '&')"
   ]
  },
  {
   "cell_type": "code",
   "execution_count": 9,
   "id": "358165d4-be23-43bd-b4cb-671f2b056c49",
   "metadata": {},
   "outputs": [],
   "source": [
    "# json 파일로 저장\n",
    "with open('C:/Users/jayts/OneDrive/바탕 화면/Tictag/json/KAS/type2_A_only_spell_checked.json', 'w', encoding='UTF8') as json_file:\n",
    "# with open('C:/Users/jayts/OneDrive/바탕 화면/Tictag/json/KAS/type2_A_only_spell_checked_example.json', 'w', encoding='UTF8') as json_file:\n",
    "    json.dump(sent_checked, json_file, indent=4, ensure_ascii=False,)"
   ]
  },
  {
   "cell_type": "code",
   "execution_count": 10,
   "id": "14fc4a69-f9ce-487b-9b34-b28deab1070e",
   "metadata": {},
   "outputs": [],
   "source": [
    "# json 파일로 저장\n",
    "with open('C:/Users/jayts/OneDrive/바탕 화면/Tictag/json/KAS/type2_A_only_errors.json', 'w', encoding='UTF8') as json_file:\n",
    "# with open('C:/Users/jayts/OneDrive/바탕 화면/Tictag/json/KAS/type2_A_only_spell_errors_example.json', 'w', encoding='UTF8') as json_file:\n",
    "    json.dump(errors, json_file, indent=4, ensure_ascii=False,)"
   ]
  },
  {
   "cell_type": "code",
   "execution_count": 11,
   "id": "58db8ecc-05d8-4b89-a16f-6cee9598b258",
   "metadata": {},
   "outputs": [],
   "source": [
    "# json 파일로 저장\n",
    "with open('C:/Users/jayts/OneDrive/바탕 화면/Tictag/json/KAS/type2_A_only_spell_unchecked.json', 'w', encoding='UTF8') as json_file:\n",
    "# with open('C:/Users/jayts/OneDrive/바탕 화면/Tictag/json/KAS/type2_A_only_spell_unchecked_example.json', 'w', encoding='UTF8') as json_file:\n",
    "    json.dump(sent_unchecked, json_file, indent=4, ensure_ascii=False,)"
   ]
  },
  {
   "cell_type": "code",
   "execution_count": null,
   "id": "169bad8d-eeb1-4c17-b554-19f9bfaf4ea5",
   "metadata": {},
   "outputs": [],
   "source": []
  }
 ],
 "metadata": {
  "kernelspec": {
   "display_name": "Python 3",
   "language": "python",
   "name": "python3"
  },
  "language_info": {
   "codemirror_mode": {
    "name": "ipython",
    "version": 3
   },
   "file_extension": ".py",
   "mimetype": "text/x-python",
   "name": "python",
   "nbconvert_exporter": "python",
   "pygments_lexer": "ipython3",
   "version": "3.8.8"
  }
 },
 "nbformat": 4,
 "nbformat_minor": 5
}
