{
 "cells": [
  {
   "cell_type": "code",
   "execution_count": 1,
   "id": "8c1cba92-0c45-4ab7-9417-d02fff7ed0a8",
   "metadata": {
    "tags": []
   },
   "outputs": [],
   "source": [
    "import pandas as pd\n",
    "from os import walk\n",
    "import os\n",
    "import xlrd\n",
    "import csv\n",
    "from tqdm.notebook import tnrange"
   ]
  },
  {
   "cell_type": "code",
   "execution_count": 13,
   "id": "567e501c-ae55-44ef-856d-1f47be9c5968",
   "metadata": {},
   "outputs": [],
   "source": [
    "input_repo = '/Users/jaytsol/Desktop/Type23 (2)/임시/Type5_총합'\n",
    "output_repo = '/Users/jaytsol/Desktop/Type23 (2)/임시/Type5_총합/하나'\n",
    "output_filename = 'Type5 통합.csv'"
   ]
  },
  {
   "cell_type": "code",
   "execution_count": 6,
   "id": "1a9af8c9-f752-4c11-993d-f1aa524e74cf",
   "metadata": {},
   "outputs": [],
   "source": [
    "# 해당 경로의 파일리스트 추출\n",
    "def get_filelist(input_repo):\n",
    "    file_list = []\n",
    "    for (dirpath, dirnames, filenames) in walk(input_repo):\n",
    "        file_list.extend(filenames)\n",
    "        break\n",
    "\n",
    "    return file_list"
   ]
  },
  {
   "cell_type": "code",
   "execution_count": 7,
   "id": "1ca09a9d-41cb-4412-834e-705f11895887",
   "metadata": {},
   "outputs": [],
   "source": [
    "# 해당 경로의 csv파일의 경로+파일명 리스트 추출\n",
    "def get_csvlist(input_repo, file_list):\n",
    "    csv_list = []\n",
    "    for i in range(len(file_list)):\n",
    "        filename, file_extension = os.path.splitext(f'{input_repo}/{file_list[i]}')\n",
    "\n",
    "        if file_extension == '.csv':\n",
    "            csv_list.append(filename+file_extension)\n",
    "\n",
    "    return csv_list"
   ]
  },
  {
   "cell_type": "code",
   "execution_count": 8,
   "id": "dc27791b-9292-4797-8ba4-afd08ebca2da",
   "metadata": {},
   "outputs": [],
   "source": [
    "def concat_csvfile(csv_list):\n",
    "    COLUMNS = ['input', 'output']\n",
    "    result = pd.concat([pd.read_csv(f) for f in csv_list])    # 라인넘버 기준 안합친파일 합치기\n",
    "    \n",
    "    return result"
   ]
  },
  {
   "cell_type": "code",
   "execution_count": 9,
   "id": "559cf569-72f8-4bd0-b3dd-0069b5c4f8f1",
   "metadata": {},
   "outputs": [],
   "source": [
    "file_list = get_filelist(input_repo)\n",
    "csv_list = get_csvlist(input_repo, file_list)\n",
    "concat_data = concat_csvfile(csv_list)"
   ]
  },
  {
   "cell_type": "code",
   "execution_count": 10,
   "id": "e3777215-5a86-4e5a-904f-24ca04f5a63e",
   "metadata": {},
   "outputs": [
    {
     "data": {
      "text/html": [
       "<div>\n",
       "<style scoped>\n",
       "    .dataframe tbody tr th:only-of-type {\n",
       "        vertical-align: middle;\n",
       "    }\n",
       "\n",
       "    .dataframe tbody tr th {\n",
       "        vertical-align: top;\n",
       "    }\n",
       "\n",
       "    .dataframe thead th {\n",
       "        text-align: right;\n",
       "    }\n",
       "</style>\n",
       "<table border=\"1\" class=\"dataframe\">\n",
       "  <thead>\n",
       "    <tr style=\"text-align: right;\">\n",
       "      <th></th>\n",
       "      <th>input</th>\n",
       "      <th>output</th>\n",
       "    </tr>\n",
       "  </thead>\n",
       "  <tbody>\n",
       "    <tr>\n",
       "      <th>0</th>\n",
       "      <td>부담하는 반면</td>\n",
       "      <td>부담한다. 그런 반면</td>\n",
       "    </tr>\n",
       "    <tr>\n",
       "      <th>1</th>\n",
       "      <td>처리하여 치워</td>\n",
       "      <td>처리한다. 그리하여 치워</td>\n",
       "    </tr>\n",
       "    <tr>\n",
       "      <th>2</th>\n",
       "      <td>않고 부동산을</td>\n",
       "      <td>않는다. 그리고 부동산을</td>\n",
       "    </tr>\n",
       "    <tr>\n",
       "      <th>3</th>\n",
       "      <td>몰취된 경우,</td>\n",
       "      <td>몰취됐다. 그리된 경우</td>\n",
       "    </tr>\n",
       "    <tr>\n",
       "      <th>4</th>\n",
       "      <td>단절되어 서로</td>\n",
       "      <td>단절된다. 그리하여 서로</td>\n",
       "    </tr>\n",
       "    <tr>\n",
       "      <th>...</th>\n",
       "      <td>...</td>\n",
       "      <td>...</td>\n",
       "    </tr>\n",
       "    <tr>\n",
       "      <th>138</th>\n",
       "      <td>적용되므로 형사소송법</td>\n",
       "      <td>적용된다. 그러므로 형사소송법</td>\n",
       "    </tr>\n",
       "    <tr>\n",
       "      <th>139</th>\n",
       "      <td>의미이지 그</td>\n",
       "      <td>의미다. 그러므로 그</td>\n",
       "    </tr>\n",
       "    <tr>\n",
       "      <th>140</th>\n",
       "      <td>있고, 위</td>\n",
       "      <td>있다. 그러므로 위</td>\n",
       "    </tr>\n",
       "    <tr>\n",
       "      <th>141</th>\n",
       "      <td>보아, 형사소송에서</td>\n",
       "      <td>보았다. 따라서 형사소송에서</td>\n",
       "    </tr>\n",
       "    <tr>\n",
       "      <th>142</th>\n",
       "      <td>없으므로, 거기에</td>\n",
       "      <td>없다. 때문에 거기에</td>\n",
       "    </tr>\n",
       "  </tbody>\n",
       "</table>\n",
       "<p>36838 rows × 2 columns</p>\n",
       "</div>"
      ],
      "text/plain": [
       "           input            output\n",
       "0        부담하는 반면       부담한다. 그런 반면\n",
       "1        처리하여 치워     처리한다. 그리하여 치워\n",
       "2        않고 부동산을     않는다. 그리고 부동산을\n",
       "3        몰취된 경우,      몰취됐다. 그리된 경우\n",
       "4        단절되어 서로     단절된다. 그리하여 서로\n",
       "..           ...               ...\n",
       "138  적용되므로 형사소송법  적용된다. 그러므로 형사소송법\n",
       "139       의미이지 그       의미다. 그러므로 그\n",
       "140        있고, 위        있다. 그러므로 위\n",
       "141   보아, 형사소송에서   보았다. 따라서 형사소송에서\n",
       "142    없으므로, 거기에       없다. 때문에 거기에\n",
       "\n",
       "[36838 rows x 2 columns]"
      ]
     },
     "execution_count": 10,
     "metadata": {},
     "output_type": "execute_result"
    }
   ],
   "source": [
    "concat_data"
   ]
  },
  {
   "cell_type": "code",
   "execution_count": 14,
   "id": "b3169315-8787-4122-9c4b-4e48b53ec204",
   "metadata": {},
   "outputs": [],
   "source": [
    "concat_data.to_csv(f'{output_repo}/{output_filename}', encoding='utf-8-sig', index=False)"
   ]
  },
  {
   "cell_type": "code",
   "execution_count": null,
   "id": "8dccd8db-e138-4da6-97df-3c9ca35483b9",
   "metadata": {},
   "outputs": [],
   "source": []
  }
 ],
 "metadata": {
  "kernelspec": {
   "display_name": "Python 3",
   "language": "python",
   "name": "python3"
  },
  "language_info": {
   "codemirror_mode": {
    "name": "ipython",
    "version": 3
   },
   "file_extension": ".py",
   "mimetype": "text/x-python",
   "name": "python",
   "nbconvert_exporter": "python",
   "pygments_lexer": "ipython3",
   "version": "3.8.8"
  }
 },
 "nbformat": 4,
 "nbformat_minor": 5
}
