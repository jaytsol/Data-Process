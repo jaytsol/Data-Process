{
 "cells": [
  {
   "cell_type": "code",
   "execution_count": 24,
   "id": "8d31fa3c-7eef-46ca-a865-d2d26fcef149",
   "metadata": {},
   "outputs": [],
   "source": [
    "import json\n",
    "from tqdm import tnrange, tqdm_notebook"
   ]
  },
  {
   "cell_type": "code",
   "execution_count": 25,
   "id": "0aea90aa-bc4d-469b-ae9f-5ae212ad9877",
   "metadata": {},
   "outputs": [],
   "source": [
    "f = open('C:/Users/jayts/OneDrive/바탕 화면/Tictag/json/KAS/type2_A_only_errors.json', 'r', encoding='UTF8')    # type3를 통해 추출된 json파일 읽어들이기\n",
    "errors_original = json.load(f)\n",
    "key_list = sorted(list(errors_original.keys()), key=len)\n",
    "PASSED = 0\n",
    "WRONG_SPELLING = 0\n",
    "WRONG_SPACING = 0\n",
    "AMBIGUOUS = 0\n",
    "STATISTICAL_CORRECTION = 0"
   ]
  },
  {
   "cell_type": "code",
   "execution_count": 26,
   "id": "d17c7e0d-8a43-4143-8501-c0d4d98add58",
   "metadata": {},
   "outputs": [
    {
     "name": "stderr",
     "output_type": "stream",
     "text": [
      "<ipython-input-26-75bde100b8d4>:1: TqdmDeprecationWarning: Please use `tqdm.notebook.trange` instead of `tqdm.tnrange`\n",
      "  for i in tnrange(len(key_list)):\n"
     ]
    },
    {
     "data": {
      "application/vnd.jupyter.widget-view+json": {
       "model_id": "70af2987b0da4d028858fd9717d25bde",
       "version_major": 2,
       "version_minor": 0
      },
      "text/plain": [
       "  0%|          | 0/847 [00:00<?, ?it/s]"
      ]
     },
     "metadata": {},
     "output_type": "display_data"
    }
   ],
   "source": [
    "for i in tnrange(len(key_list)):\n",
    "    num_of_sentence = len(errors_original[key_list[i]])\n",
    "    \n",
    "    for j in range(num_of_sentence):\n",
    "        PASSED += errors_original[key_list[i]][j]['Error Code'][0]\n",
    "        WRONG_SPELLING += errors_original[key_list[i]][j]['Error Code'][1]\n",
    "        WRONG_SPACING += errors_original[key_list[i]][j]['Error Code'][2]\n",
    "        AMBIGUOUS += errors_original[key_list[i]][j]['Error Code'][3]\n",
    "        STATISTICAL_CORRECTION += errors_original[key_list[i]][j]['Error Code'][4]"
   ]
  },
  {
   "cell_type": "code",
   "execution_count": 27,
   "id": "e4936d19-1b6b-4d6f-8c90-f92d3edbbb72",
   "metadata": {},
   "outputs": [],
   "source": [
    "result = {'PASSED':PASSED, 'WRONG_SPELLING':WRONG_SPELLING, 'WRONG_SPACING':WRONG_SPACING, 'AMBIGUOUS':AMBIGUOUS, 'STATISTICAL_CORRECTION':STATISTICAL_CORRECTION, '에러 중 맞춤법 문제 비율':round(WRONG_SPELLING/(WRONG_SPELLING+WRONG_SPACING+AMBIGUOUS+STATISTICAL_CORRECTION), 4)}"
   ]
  },
  {
   "cell_type": "code",
   "execution_count": 28,
   "id": "cc3a5a71-5ac5-47a2-95ed-12de0e5f980a",
   "metadata": {},
   "outputs": [
    {
     "data": {
      "text/plain": [
       "{'PASSED': 717434,\n",
       " 'WRONG_SPELLING': 3026,\n",
       " 'WRONG_SPACING': 99731,\n",
       " 'AMBIGUOUS': 0,\n",
       " 'STATISTICAL_CORRECTION': 7810,\n",
       " '에러 중 맞춤법 문제 비율': 0.0274}"
      ]
     },
     "execution_count": 28,
     "metadata": {},
     "output_type": "execute_result"
    }
   ],
   "source": [
    "result"
   ]
  },
  {
   "cell_type": "code",
   "execution_count": null,
   "id": "2a0d420a-0af2-415b-b41a-c46f86aaa236",
   "metadata": {},
   "outputs": [],
   "source": []
  }
 ],
 "metadata": {
  "kernelspec": {
   "display_name": "Python 3",
   "language": "python",
   "name": "python3"
  },
  "language_info": {
   "codemirror_mode": {
    "name": "ipython",
    "version": 3
   },
   "file_extension": ".py",
   "mimetype": "text/x-python",
   "name": "python",
   "nbconvert_exporter": "python",
   "pygments_lexer": "ipython3",
   "version": "3.8.8"
  }
 },
 "nbformat": 4,
 "nbformat_minor": 5
}
