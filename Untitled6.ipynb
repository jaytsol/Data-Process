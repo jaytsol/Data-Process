{
 "cells": [
  {
   "cell_type": "code",
   "execution_count": 1,
   "id": "5ea559af-6d1b-4adf-8c9b-7b2bbb043aab",
   "metadata": {
    "tags": []
   },
   "outputs": [],
   "source": [
    "import json\n",
    "import pandas as pd\n",
    "from tqdm import tnrange, tqdm_notebook\n",
    "from hanspell import spell_checker"
   ]
  },
  {
   "cell_type": "code",
   "execution_count": 7,
   "id": "94a1bb22-abf7-4bfd-a746-52ecb0f945c7",
   "metadata": {},
   "outputs": [],
   "source": [
    "input_repo = '/Users/jaytsol/Desktop/Type23 (2)/네이버api'\n",
    "input_filename = 'Legal_Words_Dictionary_data.csv'\n",
    "\n",
    "ref_repo = '/Users/jaytsol/Desktop/Type23 (2)/네이버api'\n",
    "ref_filename = 'error_without_spaceerror.csv'\n",
    "\n",
    "output_repo = input_repo\n",
    "output_filename = 'temp.csv'"
   ]
  }
 ],
 "metadata": {
  "kernelspec": {
   "display_name": "Python 3",
   "language": "python",
   "name": "python3"
  },
  "language_info": {
   "codemirror_mode": {
    "name": "ipython",
    "version": 3
   },
   "file_extension": ".py",
   "mimetype": "text/x-python",
   "name": "python",
   "nbconvert_exporter": "python",
   "pygments_lexer": "ipython3",
   "version": "3.8.8"
  }
 },
 "nbformat": 4,
 "nbformat_minor": 5
}
