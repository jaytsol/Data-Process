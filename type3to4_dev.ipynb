{
 "cells": [
  {
   "cell_type": "markdown",
   "id": "755ad5bf-9086-46af-8948-e29b9b08fd4b",
   "metadata": {},
   "source": [
    "# Type3output_to_Type4input"
   ]
  },
  {
   "cell_type": "markdown",
   "id": "e8deab83-f83e-4ca7-8607-e550e5a821a8",
   "metadata": {},
   "source": [
    "## 개요"
   ]
  },
  {
   "cell_type": "code",
   "execution_count": 1,
   "id": "f2b077ad-5d91-4018-847f-9b4f78b24984",
   "metadata": {},
   "outputs": [],
   "source": [
    "# type3_output data를 type4_input data로, JSON 형식으로 출력하는 코드 (coded_by_JaeWhee Choi)\n",
    "# 즉, 어려운 단어를 쉬운 키워드로 치환한 문장(type3_output) 중 200자가 넘는 문장만을 뽑아내는 코드 (type4를 위한 input data 생성)"
   ]
  },
  {
   "cell_type": "markdown",
   "id": "2abf90ec-5ae6-4f33-8fd0-47121c3b464f",
   "metadata": {},
   "source": [
    "## 라이브러리"
   ]
  },
  {
   "cell_type": "code",
   "execution_count": 18,
   "id": "cfb721cf-8a12-494d-bf5b-54e55ef965fc",
   "metadata": {},
   "outputs": [],
   "source": [
    "import json\n",
    "import csv\n",
    "import pandas as pd\n",
    "import re"
   ]
  },
  {
   "cell_type": "markdown",
   "id": "5a772d80-ba01-426d-a5f3-1303b4ff9273",
   "metadata": {},
   "source": [
    "## 파일호출"
   ]
  },
  {
   "cell_type": "code",
   "execution_count": 11,
   "id": "839d09a8-2956-4e7e-8f0f-e8dd2762359e",
   "metadata": {},
   "outputs": [],
   "source": [
    "f = open('/Users/jaytsol/Downloads/바탕 화면/Tictag/카스 데이터/KAS 저장 최종/Type23/누적/안합친거/51~2325_sorted_2.csv', 'r', encoding='UTF8')    # type3를 통해 추출된 json파일 읽어들이기\n",
    "original_data = pd.read_csv(f)\n",
    "long_sentence = []"
   ]
  },
  {
   "cell_type": "code",
   "execution_count": 12,
   "id": "ebc78a26-1221-439f-9646-236e4b5ba0e3",
   "metadata": {},
   "outputs": [
    {
     "data": {
      "text/html": [
       "<div>\n",
       "<style scoped>\n",
       "    .dataframe tbody tr th:only-of-type {\n",
       "        vertical-align: middle;\n",
       "    }\n",
       "\n",
       "    .dataframe tbody tr th {\n",
       "        vertical-align: top;\n",
       "    }\n",
       "\n",
       "    .dataframe thead th {\n",
       "        text-align: right;\n",
       "    }\n",
       "</style>\n",
       "<table border=\"1\" class=\"dataframe\">\n",
       "  <thead>\n",
       "    <tr style=\"text-align: right;\">\n",
       "      <th></th>\n",
       "      <th>lineNumber</th>\n",
       "      <th>originalText</th>\n",
       "      <th>transcription</th>\n",
       "    </tr>\n",
       "  </thead>\n",
       "  <tbody>\n",
       "    <tr>\n",
       "      <th>0</th>\n",
       "      <td>51</td>\n",
       "      <td>그러나 &lt;&lt;&lt;상속 받은 재산에 대한 세금&lt;=상속세&gt;법 제32조의2&gt;&gt;&gt; 제1항(**...</td>\n",
       "      <td>그러나 &lt;&lt;&lt;상속 받은 재산에 대한 세금을 부과하는 &lt;=상속세&gt;법 제32조의2&gt;&gt;&gt;...</td>\n",
       "    </tr>\n",
       "    <tr>\n",
       "      <th>1</th>\n",
       "      <td>52</td>\n",
       "      <td>앞서 본 규정과 관련 &lt;&lt;&lt;법률의 근본 원리&lt;=법리&gt;에 비추어&gt;&gt;&gt; 기록을 살펴보면...</td>\n",
       "      <td>앞서 본 규정과 관련 &lt;&lt;&lt;법률의 근본 원리&lt;=법리&gt;에 비추어&gt;&gt;&gt; 기록을 살펴보면...</td>\n",
       "    </tr>\n",
       "    <tr>\n",
       "      <th>2</th>\n",
       "      <td>53</td>\n",
       "      <td>① 무허가건축물을 사업장으로 이용하는 경우 사업장을 통해 이익을 얻으면서도 영업과 ...</td>\n",
       "      <td>① 무허가건축물을 사업장으로 이용하는 경우 사업장을 통해 이익을 얻으면서도 영업과 ...</td>\n",
       "    </tr>\n",
       "    <tr>\n",
       "      <th>3</th>\n",
       "      <td>101</td>\n",
       "      <td>****.**.*******에서 진단한 결과 ****.**.**에 ***** 주력회...</td>\n",
       "      <td>****.**.*******에서 진단한 결과 ****.**.**에 ***** 주력회...</td>\n",
       "    </tr>\n",
       "    <tr>\n",
       "      <th>4</th>\n",
       "      <td>102</td>\n",
       "      <td>⑤ 이 사건 시설과 같이 업으로 다수의 가축을 기르는 곳에서는 방역(防疫)이 사업의...</td>\n",
       "      <td>⑤ 이 사건 시설과 같은 업으로 다수의 가축을 기르는 곳에서는 방역(防疫)이 사업의...</td>\n",
       "    </tr>\n",
       "    <tr>\n",
       "      <th>...</th>\n",
       "      <td>...</td>\n",
       "      <td>...</td>\n",
       "      <td>...</td>\n",
       "    </tr>\n",
       "    <tr>\n",
       "      <th>1446</th>\n",
       "      <td>2321</td>\n",
       "      <td>구 법인세법시행규칙 제45조 제3항 제6호에 따른 소득금액조정합계표 작성요령이 행정...</td>\n",
       "      <td>구 법인세법시행규칙 제45조 제3항 제6호에 따른 소득금액조정합계표 작성요령이 행정...</td>\n",
       "    </tr>\n",
       "    <tr>\n",
       "      <th>1447</th>\n",
       "      <td>2322</td>\n",
       "      <td>따라서 일응 &lt;&lt;&lt;죄인으로서 형벌을 받았거나 받는 사람&lt;=수형자&gt;의 재산이라고&gt;&gt;&gt;...</td>\n",
       "      <td>따라서 일응 &lt;&lt;&lt;죄인으로서 형벌을 받았거나 받는 사람&lt;=수형자&gt;의 재산이라고&gt;&gt;&gt;...</td>\n",
       "    </tr>\n",
       "    <tr>\n",
       "      <th>1448</th>\n",
       "      <td>2323</td>\n",
       "      <td>따라서 유동화전문회사가 &lt;&lt;&lt;법적으로 정해진 자본금을 초과한 금액&lt;=잉여금&gt;의 처리...</td>\n",
       "      <td>따라서 유동화전문회사가 &lt;&lt;&lt;법적으로 정해진 자본금을 초과한 금액&lt;=잉여금&gt;의 처리...</td>\n",
       "    </tr>\n",
       "    <tr>\n",
       "      <th>1449</th>\n",
       "      <td>2324</td>\n",
       "      <td>소득세법 제17조 제1항에 규정된 &lt;&lt;&lt;다른 행위지만 동일한 것으로 봄&lt;=의제&gt;배당...</td>\n",
       "      <td>소득세법 제17조 제1항에 규정된 &lt;&lt;&lt;다른 행위지만 동일한 것으로 보는&lt;=의제&gt;배...</td>\n",
       "    </tr>\n",
       "    <tr>\n",
       "      <th>1450</th>\n",
       "      <td>2325</td>\n",
       "      <td>[1] 제2차 &lt;&lt;&lt;세금을 내는 것&lt;=납세&gt;의무자 소유의&gt;&gt;&gt; 부동산에 대한 임의경...</td>\n",
       "      <td>[1] 제2차 &lt;&lt;&lt;세금을 내야하는&lt;=납세&gt;의무자 소유의&gt;&gt;&gt; 부동산에 대한 임의경...</td>\n",
       "    </tr>\n",
       "  </tbody>\n",
       "</table>\n",
       "<p>1451 rows × 3 columns</p>\n",
       "</div>"
      ],
      "text/plain": [
       "      lineNumber                                       originalText  \\\n",
       "0             51  그러나 <<<상속 받은 재산에 대한 세금<=상속세>법 제32조의2>>> 제1항(**...   \n",
       "1             52  앞서 본 규정과 관련 <<<법률의 근본 원리<=법리>에 비추어>>> 기록을 살펴보면...   \n",
       "2             53  ① 무허가건축물을 사업장으로 이용하는 경우 사업장을 통해 이익을 얻으면서도 영업과 ...   \n",
       "3            101  ****.**.*******에서 진단한 결과 ****.**.**에 ***** 주력회...   \n",
       "4            102  ⑤ 이 사건 시설과 같이 업으로 다수의 가축을 기르는 곳에서는 방역(防疫)이 사업의...   \n",
       "...          ...                                                ...   \n",
       "1446        2321  구 법인세법시행규칙 제45조 제3항 제6호에 따른 소득금액조정합계표 작성요령이 행정...   \n",
       "1447        2322  따라서 일응 <<<죄인으로서 형벌을 받았거나 받는 사람<=수형자>의 재산이라고>>>...   \n",
       "1448        2323  따라서 유동화전문회사가 <<<법적으로 정해진 자본금을 초과한 금액<=잉여금>의 처리...   \n",
       "1449        2324  소득세법 제17조 제1항에 규정된 <<<다른 행위지만 동일한 것으로 봄<=의제>배당...   \n",
       "1450        2325  [1] 제2차 <<<세금을 내는 것<=납세>의무자 소유의>>> 부동산에 대한 임의경...   \n",
       "\n",
       "                                          transcription  \n",
       "0     그러나 <<<상속 받은 재산에 대한 세금을 부과하는 <=상속세>법 제32조의2>>>...  \n",
       "1     앞서 본 규정과 관련 <<<법률의 근본 원리<=법리>에 비추어>>> 기록을 살펴보면...  \n",
       "2     ① 무허가건축물을 사업장으로 이용하는 경우 사업장을 통해 이익을 얻으면서도 영업과 ...  \n",
       "3     ****.**.*******에서 진단한 결과 ****.**.**에 ***** 주력회...  \n",
       "4     ⑤ 이 사건 시설과 같은 업으로 다수의 가축을 기르는 곳에서는 방역(防疫)이 사업의...  \n",
       "...                                                 ...  \n",
       "1446  구 법인세법시행규칙 제45조 제3항 제6호에 따른 소득금액조정합계표 작성요령이 행정...  \n",
       "1447  따라서 일응 <<<죄인으로서 형벌을 받았거나 받는 사람<=수형자>의 재산이라고>>>...  \n",
       "1448  따라서 유동화전문회사가 <<<법적으로 정해진 자본금을 초과한 금액<=잉여금>의 처리...  \n",
       "1449  소득세법 제17조 제1항에 규정된 <<<다른 행위지만 동일한 것으로 보는<=의제>배...  \n",
       "1450  [1] 제2차 <<<세금을 내야하는<=납세>의무자 소유의>>> 부동산에 대한 임의경...  \n",
       "\n",
       "[1451 rows x 3 columns]"
      ]
     },
     "execution_count": 12,
     "metadata": {},
     "output_type": "execute_result"
    }
   ],
   "source": [
    "original_data"
   ]
  },
  {
   "cell_type": "code",
   "execution_count": 26,
   "id": "c388bac8-cb63-425a-83cc-ca340af7efa0",
   "metadata": {},
   "outputs": [
    {
     "data": {
      "text/plain": [
       "str"
      ]
     },
     "execution_count": 26,
     "metadata": {},
     "output_type": "execute_result"
    }
   ],
   "source": [
    "type(original_data['originalText'][0])"
   ]
  },
  {
   "cell_type": "code",
   "execution_count": 21,
   "id": "121169e9-8f6d-4d01-8a5c-800aa17160d1",
   "metadata": {},
   "outputs": [],
   "source": [
    "originalText = str(original_data.loc[0]['originalText']).replace(u'\\xa0', u' ')"
   ]
  },
  {
   "cell_type": "code",
   "execution_count": 35,
   "id": "e135852f-c63e-4e92-9450-d6056130d139",
   "metadata": {},
   "outputs": [],
   "source": [
    "originalText_without_asterisk = re.sub('(\\<{3}.*?\\>{3})','',originalText).replace('  ', ' ')"
   ]
  },
  {
   "cell_type": "code",
   "execution_count": 36,
   "id": "fdb111c8-96c6-48cd-9c8c-fe087301ce95",
   "metadata": {},
   "outputs": [
    {
     "data": {
      "text/plain": [
       "'그러나 제1항(****.**.**법률 제4283호로 개정되고 ****.**.**법률 제4662호로 제3항이 신설되기 전의 것)의 입법취지는  방지하여 조세정의를 실현한다는 대한 예외를 인정한 데에 있다 할 것이므로 조세 경우에는 그 단서 소정의 조세를 명문의 근거 없이 수 없다고 보아야 한다(대법원 ****.**.**선고 94누11729 판결, ****.**.**선고 95누7024 판결, ****.**.**선고 95누13555 판결 등 참조).'"
      ]
     },
     "execution_count": 36,
     "metadata": {},
     "output_type": "execute_result"
    }
   ],
   "source": [
    "originalText_without_asterisk"
   ]
  },
  {
   "cell_type": "code",
   "execution_count": 16,
   "id": "8b20dc1d-291f-441e-aad7-9bd6dd416009",
   "metadata": {},
   "outputs": [
    {
     "data": {
      "text/html": [
       "<div>\n",
       "<style scoped>\n",
       "    .dataframe tbody tr th:only-of-type {\n",
       "        vertical-align: middle;\n",
       "    }\n",
       "\n",
       "    .dataframe tbody tr th {\n",
       "        vertical-align: top;\n",
       "    }\n",
       "\n",
       "    .dataframe thead th {\n",
       "        text-align: right;\n",
       "    }\n",
       "</style>\n",
       "<table border=\"1\" class=\"dataframe\">\n",
       "  <thead>\n",
       "    <tr style=\"text-align: right;\">\n",
       "      <th></th>\n",
       "      <th>lineNumber</th>\n",
       "      <th>originalText</th>\n",
       "      <th>transcription</th>\n",
       "    </tr>\n",
       "  </thead>\n",
       "  <tbody>\n",
       "    <tr>\n",
       "      <th>0</th>\n",
       "      <td>51</td>\n",
       "      <td>그러나 &lt;&lt;&lt;상속 받은 재산에 대한 세금&lt;=상속세&gt;법 제32조의2&gt;&gt;&gt; 제1항(**...</td>\n",
       "      <td>그러나 &lt;&lt;&lt;상속 받은 재산에 대한 세금을 부과하는 &lt;=상속세&gt;법 제32조의2&gt;&gt;&gt;...</td>\n",
       "    </tr>\n",
       "    <tr>\n",
       "      <th>1</th>\n",
       "      <td>52</td>\n",
       "      <td>앞서 본 규정과 관련 &lt;&lt;&lt;법률의 근본 원리&lt;=법리&gt;에 비추어&gt;&gt;&gt; 기록을 살펴보면...</td>\n",
       "      <td>앞서 본 규정과 관련 &lt;&lt;&lt;법률의 근본 원리&lt;=법리&gt;에 비추어&gt;&gt;&gt; 기록을 살펴보면...</td>\n",
       "    </tr>\n",
       "    <tr>\n",
       "      <th>2</th>\n",
       "      <td>53</td>\n",
       "      <td>① 무허가건축물을 사업장으로 이용하는 경우 사업장을 통해 이익을 얻으면서도 영업과 ...</td>\n",
       "      <td>① 무허가건축물을 사업장으로 이용하는 경우 사업장을 통해 이익을 얻으면서도 영업과 ...</td>\n",
       "    </tr>\n",
       "    <tr>\n",
       "      <th>3</th>\n",
       "      <td>101</td>\n",
       "      <td>****.**.*******에서 진단한 결과 ****.**.**에 ***** 주력회...</td>\n",
       "      <td>****.**.*******에서 진단한 결과 ****.**.**에 ***** 주력회...</td>\n",
       "    </tr>\n",
       "    <tr>\n",
       "      <th>4</th>\n",
       "      <td>102</td>\n",
       "      <td>⑤ 이 사건 시설과 같이 업으로 다수의 가축을 기르는 곳에서는 방역(防疫)이 사업의...</td>\n",
       "      <td>⑤ 이 사건 시설과 같은 업으로 다수의 가축을 기르는 곳에서는 방역(防疫)이 사업의...</td>\n",
       "    </tr>\n",
       "    <tr>\n",
       "      <th>...</th>\n",
       "      <td>...</td>\n",
       "      <td>...</td>\n",
       "      <td>...</td>\n",
       "    </tr>\n",
       "    <tr>\n",
       "      <th>1446</th>\n",
       "      <td>2321</td>\n",
       "      <td>구 법인세법시행규칙 제45조 제3항 제6호에 따른 소득금액조정합계표 작성요령이 행정...</td>\n",
       "      <td>구 법인세법시행규칙 제45조 제3항 제6호에 따른 소득금액조정합계표 작성요령이 행정...</td>\n",
       "    </tr>\n",
       "    <tr>\n",
       "      <th>1447</th>\n",
       "      <td>2322</td>\n",
       "      <td>따라서 일응 &lt;&lt;&lt;죄인으로서 형벌을 받았거나 받는 사람&lt;=수형자&gt;의 재산이라고&gt;&gt;&gt;...</td>\n",
       "      <td>따라서 일응 &lt;&lt;&lt;죄인으로서 형벌을 받았거나 받는 사람&lt;=수형자&gt;의 재산이라고&gt;&gt;&gt;...</td>\n",
       "    </tr>\n",
       "    <tr>\n",
       "      <th>1448</th>\n",
       "      <td>2323</td>\n",
       "      <td>따라서 유동화전문회사가 &lt;&lt;&lt;법적으로 정해진 자본금을 초과한 금액&lt;=잉여금&gt;의 처리...</td>\n",
       "      <td>따라서 유동화전문회사가 &lt;&lt;&lt;법적으로 정해진 자본금을 초과한 금액&lt;=잉여금&gt;의 처리...</td>\n",
       "    </tr>\n",
       "    <tr>\n",
       "      <th>1449</th>\n",
       "      <td>2324</td>\n",
       "      <td>소득세법 제17조 제1항에 규정된 &lt;&lt;&lt;다른 행위지만 동일한 것으로 봄&lt;=의제&gt;배당...</td>\n",
       "      <td>소득세법 제17조 제1항에 규정된 &lt;&lt;&lt;다른 행위지만 동일한 것으로 보는&lt;=의제&gt;배...</td>\n",
       "    </tr>\n",
       "    <tr>\n",
       "      <th>1450</th>\n",
       "      <td>2325</td>\n",
       "      <td>[1] 제2차 &lt;&lt;&lt;세금을 내는 것&lt;=납세&gt;의무자 소유의&gt;&gt;&gt; 부동산에 대한 임의경...</td>\n",
       "      <td>[1] 제2차 &lt;&lt;&lt;세금을 내야하는&lt;=납세&gt;의무자 소유의&gt;&gt;&gt; 부동산에 대한 임의경...</td>\n",
       "    </tr>\n",
       "  </tbody>\n",
       "</table>\n",
       "<p>1451 rows × 3 columns</p>\n",
       "</div>"
      ],
      "text/plain": [
       "      lineNumber                                       originalText  \\\n",
       "0             51  그러나 <<<상속 받은 재산에 대한 세금<=상속세>법 제32조의2>>> 제1항(**...   \n",
       "1             52  앞서 본 규정과 관련 <<<법률의 근본 원리<=법리>에 비추어>>> 기록을 살펴보면...   \n",
       "2             53  ① 무허가건축물을 사업장으로 이용하는 경우 사업장을 통해 이익을 얻으면서도 영업과 ...   \n",
       "3            101  ****.**.*******에서 진단한 결과 ****.**.**에 ***** 주력회...   \n",
       "4            102  ⑤ 이 사건 시설과 같이 업으로 다수의 가축을 기르는 곳에서는 방역(防疫)이 사업의...   \n",
       "...          ...                                                ...   \n",
       "1446        2321  구 법인세법시행규칙 제45조 제3항 제6호에 따른 소득금액조정합계표 작성요령이 행정...   \n",
       "1447        2322  따라서 일응 <<<죄인으로서 형벌을 받았거나 받는 사람<=수형자>의 재산이라고>>>...   \n",
       "1448        2323  따라서 유동화전문회사가 <<<법적으로 정해진 자본금을 초과한 금액<=잉여금>의 처리...   \n",
       "1449        2324  소득세법 제17조 제1항에 규정된 <<<다른 행위지만 동일한 것으로 봄<=의제>배당...   \n",
       "1450        2325  [1] 제2차 <<<세금을 내는 것<=납세>의무자 소유의>>> 부동산에 대한 임의경...   \n",
       "\n",
       "                                          transcription  \n",
       "0     그러나 <<<상속 받은 재산에 대한 세금을 부과하는 <=상속세>법 제32조의2>>>...  \n",
       "1     앞서 본 규정과 관련 <<<법률의 근본 원리<=법리>에 비추어>>> 기록을 살펴보면...  \n",
       "2     ① 무허가건축물을 사업장으로 이용하는 경우 사업장을 통해 이익을 얻으면서도 영업과 ...  \n",
       "3     ****.**.*******에서 진단한 결과 ****.**.**에 ***** 주력회...  \n",
       "4     ⑤ 이 사건 시설과 같은 업으로 다수의 가축을 기르는 곳에서는 방역(防疫)이 사업의...  \n",
       "...                                                 ...  \n",
       "1446  구 법인세법시행규칙 제45조 제3항 제6호에 따른 소득금액조정합계표 작성요령이 행정...  \n",
       "1447  따라서 일응 <<<죄인으로서 형벌을 받았거나 받는 사람<=수형자>의 재산이라고>>>...  \n",
       "1448  따라서 유동화전문회사가 <<<법적으로 정해진 자본금을 초과한 금액<=잉여금>의 처리...  \n",
       "1449  소득세법 제17조 제1항에 규정된 <<<다른 행위지만 동일한 것으로 보는<=의제>배...  \n",
       "1450  [1] 제2차 <<<세금을 내야하는<=납세>의무자 소유의>>> 부동산에 대한 임의경...  \n",
       "\n",
       "[1451 rows x 3 columns]"
      ]
     },
     "execution_count": 16,
     "metadata": {},
     "output_type": "execute_result"
    }
   ],
   "source": [
    "original_data"
   ]
  },
  {
   "cell_type": "code",
   "execution_count": 13,
   "id": "06ae3ffa-6c67-4f2b-beec-e149d8fb2faf",
   "metadata": {},
   "outputs": [
    {
     "ename": "SyntaxError",
     "evalue": "unexpected EOF while parsing (<ipython-input-13-cab33a200b7a>, line 3)",
     "output_type": "error",
     "traceback": [
      "\u001b[0;36m  File \u001b[0;32m\"<ipython-input-13-cab33a200b7a>\"\u001b[0;36m, line \u001b[0;32m3\u001b[0m\n\u001b[0;31m    if original_data['transcription'] >= 200:\u001b[0m\n\u001b[0m                                             ^\u001b[0m\n\u001b[0;31mSyntaxError\u001b[0m\u001b[0;31m:\u001b[0m unexpected EOF while parsing\n"
     ]
    }
   ],
   "source": [
    "for i in range(len(original_data)):\n",
    "    for j in range(len(original_data['transcription'][i])):\n",
    "        if original_data['transcription'] >= 200:"
   ]
  },
  {
   "cell_type": "markdown",
   "id": "627dca64-236e-4fb2-a2eb-cad493ac013d",
   "metadata": {},
   "source": [
    "## CSV로 저장"
   ]
  },
  {
   "cell_type": "code",
   "execution_count": 8,
   "id": "21b12c88-c2a9-4eb1-963c-adee21a64ea7",
   "metadata": {},
   "outputs": [],
   "source": [
    "with open('C:/Users/jayts/OneDrive/바탕 화면/Tictag/json/KAS/long_sentence.csv', 'w', newline='') as file:\n",
    "    fieldnames=['word', 'origin', 'trans', 'keyword', 'keywordOccurence']\n",
    "    writer = csv.DictWriter(file, fieldnames=fieldnames)\n",
    "    writer.writeheader()\n",
    "    for i in range(len(long_sentence)):\n",
    "        for j in range(len(long_sentence[key_list1[i]])):\n",
    "            writer.writerow(long_sentence[key_list1[i]][j])"
   ]
  },
  {
   "cell_type": "code",
   "execution_count": 9,
   "id": "672553a8-9b05-458f-9f9c-ba59b47a56dd",
   "metadata": {},
   "outputs": [
    {
     "data": {
      "text/plain": [
       "{'행정처분': [{'origin': '^행정청이 구체적인 사실에 관한 집행의 무효확인^ 또는 취소를 구하는 소가 ^소송을 제기할 당시에는^ ^소송의 목적이 있어^ 적법하였더라도, 소송 계속 중 처분청이 다툼의 대상이 되는 ^행정청이 구체적인 사실에 관한 집행을 직권으로^ 취소하면 그 처분은 효력을 상실하여 더 이상 존재하지 않는 것이므로, 존재하지 않는 처분을 대상으로 한 ^행정청의 위법한 처분 등을 취소 또는 변경하는 소송은 원칙적으로^ ^소송의 목적이 소멸하여^ 부적법하다고 보아야 한다.',\n",
       "   'trans': '^행정청이 구체적인 사실에 관한 집행의 무효확인^ 또는 취소를 구하는 소가 ^소송을 제기할 당시에는^ ^소송의 목적이 있어^ 적법하였더라도, 소송 계속 중 처분청이 다툼의 대상이 되는 ^행정청이 구체적인 사실에 관한 집행을 직권으로^ 취소하면 그 처분은 효력을 상실하여 더 이상 존재하지 않는 것이므로, 존재하지 않는 처분을 대상으로 한 ^행정청의 위법한 처분 등을 취소 또는 변경하는 소송은 원칙적으로^ ^소송의 목적이 소멸하여^ 부적법하다고 보아야 한다.',\n",
       "   'keyword': ['행정청이 구체적인 사실에 관한 집행의 무효확인',\n",
       "    '소송을 제기할 당시에는',\n",
       "    '소송의 목적이 있어',\n",
       "    '행정청이 구체적인 사실에 관한 집행을 직권으로',\n",
       "    '행정청의 위법한 처분 등을 취소 또는 변경하는 소송은 원칙적으로',\n",
       "    '소송의 목적이 소멸하여'],\n",
       "   'keywordOccurence': [{'start': 0, 'end': 25},\n",
       "    {'start': 40, 'end': 50},\n",
       "    {'start': 51, 'end': 61},\n",
       "    {'start': 95, 'end': 120},\n",
       "    {'start': 179, 'end': 214},\n",
       "    {'start': 215, 'end': 227}],\n",
       "   'word': '행정처분'}],\n",
       " '조세회피': [{'origin': '^재산이나 영토, 권리 따위가 특정 주체에 붙음명의자는 이를^ 지배·관리할 능력이 없고 명의자에 대한 지배권 등을 통하여 실질적으로 이를 지배·관리하는 사람이 따로 있으며 그와 같은 명의와 실질의 괴리가 ^비정상적인 과정을 통해 조세를 피하는 것 목적에서^ 비롯된 경우에는、 그 재산에 관한 소득은 재산을 실질적으로 지배·관리하는 사람에게 귀속된 것으로 보아 그를 납세의무자로 보아 과세하여야 한다.',\n",
       "   'trans': '^재산이나 영토, 권리 따위가 특정 주체에 붙은 명의자는 이를^ 지배·관리할 능력이 없고 명의자에 대한 지배권 등을 통하여 실질적으로 이를 지배·관리하는 사람이 따로 있으며 그와 같은 명의와 실질의 괴리가 ^비정상적인 과정을 통해 조세를 피하는 것의 목적에서^ 비롯된 경우에는、 그 재산에 관한 소득은 재산을 실질적으로 지배·관리하는 사람에게 귀속된 것으로 보아 그를 납세의무자로 보아 과세하여야 한다.',\n",
       "   'keyword': ['재산이나 영토, 권리 따위가 특정 주체에 붙음명의자는 이를',\n",
       "    '비정상적인 과정을 통해 조세를 피하는 것 목적에서'],\n",
       "   'keywordOccurence': [{'start': 3, 'end': 35}, {'start': 115, 'end': 142}],\n",
       "   'word': '조세회피'},\n",
       "  {'origin': '[1] ^재산의 재산이나 영토, 권리 따위가 특정 주체에 붙음 명의자가^ 지배·관리 능력이 없고、 명의자에 대한 지배권 등을 통하여 실질적으로 지배·관리하는 자가 따로 있으며、 명의와 실질의 괴리가 ^비정상적인 과정을 통해 조세를 피하는 것 목적에서^ 비롯된 경우、 재산에 관한 소득의 납세의무자(=재산의 실질적 지배·관리자) 및 이 원칙이 ^소득 및 자본에 대한 국제적 이중과세를 방지하기 위한 약속의^ 해석과 적용에서도 그대로 적용되는지 여부(원칙적 적극)',\n",
       "   'trans': '[1] ^재산의 재산이나 영토, 권리 따위가 특정 주체에 붙은 명의자가^ 지배·관리 능력이 없고、 명의자에 대한 지배권 등을 통하여 실질적으로 지배·관리하는 자가 따로 있으며、 명의와 실질의 괴리가 ^비정상적인 과정을 통해 조세를 피하는 것의 목적에서^ 비롯된 경우、 재산에 관한 소득의 납세의무자(=재산의 실질적 지배·관리자) 및 이 원칙이 ^소득 및 자본에 대한 국제적 이중과세를 방지하기 위한 약속의^ 해석과 적용에서도 그대로 적용되는지 여부(원칙적 적극)',\n",
       "   'keyword': ['재산이나 영토, 권리 따위가 특정 주체에 붙음 명의자가',\n",
       "    '비정상적인 과정을 통해 조세를 피하는 것 목적에서',\n",
       "    '소득 및 자본에 대한 국제적 이중과세를 방지하기 위한 약속의'],\n",
       "   'keywordOccurence': [{'start': 8, 'end': 38},\n",
       "    {'start': 109, 'end': 136},\n",
       "    {'start': 187, 'end': 220}],\n",
       "   'word': '조세회피'}]}"
      ]
     },
     "execution_count": 9,
     "metadata": {},
     "output_type": "execute_result"
    }
   ],
   "source": [
    "long_sentence"
   ]
  },
  {
   "cell_type": "code",
   "execution_count": 15,
   "id": "49496990-1c1f-4faf-a61a-5dca96367134",
   "metadata": {},
   "outputs": [
    {
     "data": {
      "text/plain": [
       "'^소송을 제기할 당시에는^'"
      ]
     },
     "execution_count": 15,
     "metadata": {},
     "output_type": "execute_result"
    }
   ],
   "source": [
    "long_sentence['행정처분'][0]['trans'][42:56]"
   ]
  },
  {
   "cell_type": "code",
   "execution_count": 17,
   "id": "425b5188-8853-4461-b9c3-2fd15fb740f8",
   "metadata": {},
   "outputs": [
    {
     "data": {
      "text/plain": [
       "'^'"
      ]
     },
     "execution_count": 17,
     "metadata": {},
     "output_type": "execute_result"
    }
   ],
   "source": [
    "long_sentence['행정처분'][0]['trans'][55]"
   ]
  },
  {
   "cell_type": "code",
   "execution_count": 11,
   "id": "c04323cb-e3bc-4cce-a5be-d24f02efb2c4",
   "metadata": {},
   "outputs": [
    {
     "data": {
      "text/plain": [
       "'^비정상적인 과정을 통해 조세를 피하는 것의 목적에'"
      ]
     },
     "execution_count": 11,
     "metadata": {},
     "output_type": "execute_result"
    }
   ],
   "source": [
    "long_sentence['조세회피'][0]['trans'][115:143]"
   ]
  },
  {
   "cell_type": "code",
   "execution_count": null,
   "id": "946ee0d1-be3d-4f76-9aef-1fbd44dfbffc",
   "metadata": {},
   "outputs": [],
   "source": []
  }
 ],
 "metadata": {
  "kernelspec": {
   "display_name": "Python 3",
   "language": "python",
   "name": "python3"
  },
  "language_info": {
   "codemirror_mode": {
    "name": "ipython",
    "version": 3
   },
   "file_extension": ".py",
   "mimetype": "text/x-python",
   "name": "python",
   "nbconvert_exporter": "python",
   "pygments_lexer": "ipython3",
   "version": "3.8.8"
  }
 },
 "nbformat": 4,
 "nbformat_minor": 5
}
