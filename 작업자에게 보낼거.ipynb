{
 "cells": [
  {
   "cell_type": "markdown",
   "id": "b8fac706-3ca9-41df-bd22-87f1151fe4b2",
   "metadata": {},
   "source": [
    "# 태거들 작업물 다운받고, 이를 남은 작업 데이터와 비교하여 작업자에게 보낼 수 있는 파일 만드는 코드"
   ]
  },
  {
   "cell_type": "markdown",
   "id": "51165766-0bb3-451d-acfe-123fbd9280ce",
   "metadata": {},
   "source": [
    "작업물 나눈거 여기저기서 다 다운받은거.. 합쳐야됨 ㅠㅠ"
   ]
  },
  {
   "cell_type": "code",
   "execution_count": 1,
   "id": "e532cdee-e9fe-4cc5-90ab-8d395699804c",
   "metadata": {},
   "outputs": [],
   "source": [
    "import csv\n",
    "import pandas as pd\n",
    "from tqdm.notebook import tnrange\n",
    "import os\n",
    "from os import walk"
   ]
  },
  {
   "cell_type": "code",
   "execution_count": 2,
   "id": "bac8c59a-cbdd-4bfd-a9a2-8be3d9210fb1",
   "metadata": {},
   "outputs": [],
   "source": [
    "input_repo = '/Users/jaytsol/Desktop/Type23 (2)/누적/다운로드_전처리/다운로드 데이터/'\n",
    "input_filename = '텍스트_다듬기_Type_B_70001_76000 3.csv'\n",
    "\n",
    "todo_repo = '/Users/jaytsol/Desktop/Type23 (2)/누적/남은 작업/'\n",
    "todo_filename = '남은 작업_211026_1347.csv'\n",
    "\n",
    "output_repo = '/Users/jaytsol/Desktop/Type23 (2)/누적/다운로드_전처리/작업자에게 보낼거/'\n",
    "output_filename = '보낼거.csv'"
   ]
  },
  {
   "cell_type": "code",
   "execution_count": 3,
   "id": "f80ea5b0-05bd-4ba5-a316-fdb14151aac7",
   "metadata": {},
   "outputs": [],
   "source": [
    "# Read input csv data\n",
    "def get_downloaded_csv_file(input_repo, todo_repo):\n",
    "    input_repo = pd.read_csv(input_repo+input_filename)\n",
    "    todo_repo = pd.read_csv(todo_repo+todo_filename)\n",
    "    \n",
    "    return input_repo, todo_repo"
   ]
  },
  {
   "cell_type": "code",
   "execution_count": 4,
   "id": "6e37e787-f4e1-41b3-9faa-955bc6c0741d",
   "metadata": {},
   "outputs": [],
   "source": [
    "input_data, todo_data = get_downloaded_csv_file(input_repo, todo_repo)"
   ]
  },
  {
   "cell_type": "code",
   "execution_count": 11,
   "id": "8d7b2b0c-8d95-43a7-bef0-e7e6d2a83681",
   "metadata": {},
   "outputs": [],
   "source": [
    "input_data_list = list(input_data['lineNumber'])\n",
    "todo_data_list = list(todo_data['lineNumber'])"
   ]
  },
  {
   "cell_type": "code",
   "execution_count": 13,
   "id": "9931d130-26ab-40df-b454-8247808545c0",
   "metadata": {},
   "outputs": [
    {
     "name": "stdout",
     "output_type": "stream",
     "text": [
      "5749\n",
      "8742\n"
     ]
    }
   ],
   "source": [
    "print(len(input_data_list))\n",
    "print(len(todo_data_list))"
   ]
  },
  {
   "cell_type": "code",
   "execution_count": null,
   "id": "0eef5137-f046-43e6-8463-05bc9478048d",
   "metadata": {},
   "outputs": [],
   "source": []
  }
 ],
 "metadata": {
  "kernelspec": {
   "display_name": "Python 3",
   "language": "python",
   "name": "python3"
  },
  "language_info": {
   "codemirror_mode": {
    "name": "ipython",
    "version": 3
   },
   "file_extension": ".py",
   "mimetype": "text/x-python",
   "name": "python",
   "nbconvert_exporter": "python",
   "pygments_lexer": "ipython3",
   "version": "3.8.8"
  }
 },
 "nbformat": 4,
 "nbformat_minor": 5
}
