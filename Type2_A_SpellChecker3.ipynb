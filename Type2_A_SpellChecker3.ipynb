{
 "cells": [
  {
   "cell_type": "markdown",
   "id": "5d995e5b-80ed-4fdc-afc9-726fd9d16f58",
   "metadata": {},
   "source": [
    "# SpellChecker3"
   ]
  },
  {
   "cell_type": "markdown",
   "id": "c50a94e1-ebf9-428d-9204-321b4735636c",
   "metadata": {},
   "source": [
    "## <br>개요"
   ]
  },
  {
   "cell_type": "code",
   "execution_count": null,
   "id": "8892f792-82c4-4dda-b571-7a57470e67ac",
   "metadata": {
    "tags": []
   },
   "outputs": [],
   "source": [
    "# 입력데이터 오탈자 체크하는 프로그램.\n",
    "# sentence, sentence_checked, word, word_checked, word_checked_Occurence, ischeck의 총 6개 속성을 가짐\n",
    "# 인풋은 type2_A_input 기준\n",
    "\n",
    "# SpellChecker\n",
    "\n",
    "# sentence_checked : (keyword를 포함하여)\n",
    "## 스펠고쳐서 출력. (string)\n",
    "\n",
    "# word_checked : 키워드 변경된것 출력. (string)\n",
    "\n",
    "# word_checked_Occurence :\n",
    "## word_checked 위치 찾아서 출력.\n",
    "## list안에 int값들 append할 예정\n",
    "\n",
    "# ischeck : 오탈자 수정사항 있으면 1. 없으면 0 (bool)\n",
    "\n",
    "# number : 문장 넘버링\n",
    "\n",
    "# coded by Jay"
   ]
  },
  {
   "cell_type": "markdown",
   "id": "4176ad73-fc32-48b4-862d-b415af5f331a",
   "metadata": {},
   "source": [
    "## 라이브러리"
   ]
  },
  {
   "cell_type": "code",
   "execution_count": 1,
   "id": "3a4151fb-7b97-47a8-b8c4-39cac2d8b76c",
   "metadata": {},
   "outputs": [],
   "source": [
    "import json\n",
    "from tqdm import tnrange, tqdm_notebook\n",
    "from hanspell import spell_checker\n",
    "from hanspell.constants import CheckResult"
   ]
  },
  {
   "cell_type": "markdown",
   "id": "5d2cac68-8a1a-45ac-9cd1-089eb4f83745",
   "metadata": {
    "tags": []
   },
   "source": [
    "## 함수부"
   ]
  },
  {
   "cell_type": "code",
   "execution_count": 2,
   "id": "2462c411-c3cb-4b7f-b028-9d841042ac97",
   "metadata": {},
   "outputs": [],
   "source": [
    "# 단어 하나가 문장에 여러번 등장했을때, 모든 위치를 리스트로 뽑아내는 함수.\n",
    "# list씌워야함\n",
    "\n",
    "def find_all(a_str, sub):\n",
    "    start = 0\n",
    "    while True:\n",
    "        start = a_str.find(sub, start)\n",
    "        if start == -1: return\n",
    "        yield start\n",
    "        start += len(sub) # use start += 1 to find overlapping matches\n",
    "        \n",
    "# ex) list(find_all('안녕안녕하세요', '안녕')) --> [0,2]"
   ]
  },
  {
   "cell_type": "code",
   "execution_count": 3,
   "id": "cb8d930e-45bc-4054-b3f9-31c293540377",
   "metadata": {},
   "outputs": [
    {
     "data": {
      "text/plain": [
       "[0, 2]"
      ]
     },
     "execution_count": 3,
     "metadata": {},
     "output_type": "execute_result"
    }
   ],
   "source": [
    "list(find_all('안녕안녕하세요', '안녕'))"
   ]
  },
  {
   "cell_type": "code",
   "execution_count": 4,
   "id": "8afc7f2e-fd64-4933-866d-08c165192ffa",
   "metadata": {},
   "outputs": [],
   "source": [
    "# 문장 맞춤법 고쳐서 수정된 문장 출력.\n",
    "def correction(ori_sent):\n",
    "    spelled_sent = spell_checker.check(ori_sent)\n",
    "    \n",
    "    return spelled_sent.checked, spelled_sent.errors"
   ]
  },
  {
   "cell_type": "code",
   "execution_count": 5,
   "id": "4cf7c3ae-e427-4f47-9e4b-719ad96a8311",
   "metadata": {},
   "outputs": [
    {
     "data": {
      "text/plain": [
       "('왜 안돼?', 1)"
      ]
     },
     "execution_count": 5,
     "metadata": {},
     "output_type": "execute_result"
    }
   ],
   "source": [
    "correction('외않되?')"
   ]
  },
  {
   "cell_type": "code",
   "execution_count": 69,
   "id": "af611ca6-d74c-4b37-952e-abf9b3f2c667",
   "metadata": {},
   "outputs": [],
   "source": [
    "spelled_sent = spell_checker.check(\"비록 양 발명의 구성에 ^상이^점이 있어도 그 기술분야에서 ^통상^의 지식을 가진 ^자가^ 보통으로 채용하는 정도의 변경에 지나지 아니하고 발명의 목적과 작용효과에 격별한 차이를 일으키지 아니하는 경우에는 양 발명은 역시 동일한 발명이라 할 것인바 기록에 의하면 이건 특허와 ^출원^은 두 발명 모두가 감광지에 액상 진주박등 혼합액을 도포하고 그 위에 천연자개의 색감을 낼 수 있는 각종 색의 안료를 사용하여 무늬를 도층한 후 건조시켜 그 위에 장식무늬를 스크린 인쇄하는 단계에 이르기까지 그 기술적 사^상이^ 동일하고 ^원심^결이 이 단계에 있어서 차이점으로 드는 무늬형성방법과 착색제 ^조성^상의 ^상이^나 특히 이건 ^출원^에 첨가되는 ^수성^염료가 이건 특허에서는 삭제되었다는 점은 ^수성^염료도 착색제로서는 다른 안료와 ^호환^성을 갖는 재료라 할 것이고\")"
   ]
  },
  {
   "cell_type": "code",
   "execution_count": 63,
   "id": "2e429ea9-1f4f-40ac-a7f2-95c903716839",
   "metadata": {},
   "outputs": [
    {
     "data": {
      "text/plain": [
       "<hanspell.constants.CheckResult at 0x20e8c8700a0>"
      ]
     },
     "execution_count": 63,
     "metadata": {},
     "output_type": "execute_result"
    }
   ],
   "source": [
    "CheckResult()"
   ]
  },
  {
   "cell_type": "code",
   "execution_count": 64,
   "id": "761ed390-2e2c-4e31-867d-66ba70dd99b2",
   "metadata": {},
   "outputs": [
    {
     "data": {
      "text/plain": [
       "0"
      ]
     },
     "execution_count": 64,
     "metadata": {},
     "output_type": "execute_result"
    }
   ],
   "source": [
    "CheckResult.PASSED"
   ]
  },
  {
   "cell_type": "code",
   "execution_count": 65,
   "id": "98806aaf-4d2c-476e-b68c-8ddb473ac04b",
   "metadata": {},
   "outputs": [
    {
     "data": {
      "text/plain": [
       "1"
      ]
     },
     "execution_count": 65,
     "metadata": {},
     "output_type": "execute_result"
    }
   ],
   "source": [
    "CheckResult.WRONG_SPELLING"
   ]
  },
  {
   "cell_type": "code",
   "execution_count": 66,
   "id": "b2138f33-850b-44a8-8e5b-20a1e56b3e8c",
   "metadata": {},
   "outputs": [
    {
     "data": {
      "text/plain": [
       "2"
      ]
     },
     "execution_count": 66,
     "metadata": {},
     "output_type": "execute_result"
    }
   ],
   "source": [
    "CheckResult.WRONG_SPACING"
   ]
  },
  {
   "cell_type": "code",
   "execution_count": 67,
   "id": "3be09be9-a0fb-41d8-b836-5bcc1454fe7d",
   "metadata": {},
   "outputs": [
    {
     "data": {
      "text/plain": [
       "3"
      ]
     },
     "execution_count": 67,
     "metadata": {},
     "output_type": "execute_result"
    }
   ],
   "source": [
    "CheckResult.AMBIGUOUS"
   ]
  },
  {
   "cell_type": "code",
   "execution_count": 68,
   "id": "d722bc3c-7aa3-4a91-a4d3-0e4c0acc4d74",
   "metadata": {},
   "outputs": [
    {
     "data": {
      "text/plain": [
       "4"
      ]
     },
     "execution_count": 68,
     "metadata": {},
     "output_type": "execute_result"
    }
   ],
   "source": [
    "CheckResult.STATISTICAL_CORRECTION"
   ]
  },
  {
   "cell_type": "code",
   "execution_count": 5,
   "id": "56f698e1-ca22-474f-8e33-fcf82371ab55",
   "metadata": {},
   "outputs": [
    {
     "data": {
      "text/plain": [
       "hanspell.constants.CheckResult"
      ]
     },
     "execution_count": 5,
     "metadata": {},
     "output_type": "execute_result"
    }
   ],
   "source": [
    "CheckResult"
   ]
  },
  {
   "cell_type": "code",
   "execution_count": 7,
   "id": "e623922b-4b2f-453a-98f0-5ca117a014ab",
   "metadata": {
    "tags": []
   },
   "outputs": [],
   "source": [
    "# 에러 여부 출력\n",
    "def iserrors(ori_sent):\n",
    "    spelled_sent = spell_checker.check(ori_sent)\n",
    "    \n",
    "    if spelled_sent.errors >= 1:\n",
    "        return 1\n",
    "    else:\n",
    "        return 0"
   ]
  },
  {
   "cell_type": "code",
   "execution_count": 8,
   "id": "9dfcf1be-4d46-4be1-bda4-03aeafd618ae",
   "metadata": {},
   "outputs": [
    {
     "data": {
      "text/plain": [
       "1"
      ]
     },
     "execution_count": 8,
     "metadata": {},
     "output_type": "execute_result"
    }
   ],
   "source": [
    "iserrors('안뇽')"
   ]
  },
  {
   "cell_type": "code",
   "execution_count": 9,
   "id": "38ae9d82-53e7-466e-9c32-b2d40b9f96a9",
   "metadata": {},
   "outputs": [],
   "source": [
    "# isdiff 두 문장을 갖고와서 같으면 0, 다르면 1을 출력하는 함수.\n",
    "def isdiff(sent_a, sent_b):\n",
    "    if sent_a == sent_b:\n",
    "        return 0\n",
    "    else:\n",
    "        return 1"
   ]
  },
  {
   "cell_type": "code",
   "execution_count": 10,
   "id": "ae2197b9-48d6-4452-be6d-9cda8790919b",
   "metadata": {},
   "outputs": [
    {
     "data": {
      "text/plain": [
       "1"
      ]
     },
     "execution_count": 10,
     "metadata": {},
     "output_type": "execute_result"
    }
   ],
   "source": [
    "isdiff('안녕', '안녕하세요')"
   ]
  },
  {
   "cell_type": "markdown",
   "id": "16884d27-7025-4b80-8617-29053ec41b15",
   "metadata": {},
   "source": [
    "## 파일 입력, 변수 초기화"
   ]
  },
  {
   "cell_type": "code",
   "execution_count": 11,
   "id": "a2cdf745-aa11-4f57-b135-d0075fbd8ee5",
   "metadata": {},
   "outputs": [],
   "source": [
    "# f = open('C:/Users/jayts/OneDrive/바탕 화면/Tictag/json/KAS/type2_A_input_withnum_example.json', 'r', encoding='UTF8')    # type3를 통해 추출된 json파일 읽어들이기\n",
    "f = open('C:/Users/jayts/OneDrive/바탕 화면/Tictag/json/KAS/type2_A_input_withnum.json', 'r', encoding='UTF8')    # type3를 통해 추출된 json파일 읽어들이기\n",
    "\n",
    "sent_not_checked = json.load(f)\n",
    "key_list1 = list(sent_not_checked.keys())    # 어려운 단어 리스트\n",
    "key_list2 = list(sent_not_checked[key_list1[0]][0].keys())\n",
    "sent_checked = {}"
   ]
  },
  {
   "cell_type": "markdown",
   "id": "cd56d02d-4fed-4233-baa1-89c285613202",
   "metadata": {},
   "source": [
    "## 속성 데이터 입력 및 삭제"
   ]
  },
  {
   "cell_type": "code",
   "execution_count": 12,
   "id": "aa5f58dc-c2e6-4797-b243-6e7584f5213c",
   "metadata": {},
   "outputs": [
    {
     "name": "stderr",
     "output_type": "stream",
     "text": [
      "<ipython-input-12-e0588b76f10b>:4: TqdmDeprecationWarning: Please use `tqdm.notebook.trange` instead of `tqdm.tnrange`\n",
      "  for i in tnrange(len(key_list1)):    # 키워드\n"
     ]
    },
    {
     "data": {
      "application/vnd.jupyter.widget-view+json": {
       "model_id": "92284a7b3483437db21f47c7502fdfe8",
       "version_major": 2,
       "version_minor": 0
      },
      "text/plain": [
       "  0%|          | 0/2732 [00:00<?, ?it/s]"
      ]
     },
     "metadata": {},
     "output_type": "display_data"
    },
    {
     "ename": "ParseError",
     "evalue": "not well-formed (invalid token): line 1, column 202 (<string>)",
     "output_type": "error",
     "traceback": [
      "Traceback \u001b[1;36m(most recent call last)\u001b[0m:\n",
      "  File \u001b[0;32m\"C:\\Users\\jayts\\miniconda3\\envs\\tf\\lib\\site-packages\\IPython\\core\\interactiveshell.py\"\u001b[0m, line \u001b[0;32m3437\u001b[0m, in \u001b[0;35mrun_code\u001b[0m\n    exec(code_obj, self.user_global_ns, self.user_ns)\n",
      "  File \u001b[0;32m\"<ipython-input-12-e0588b76f10b>\"\u001b[0m, line \u001b[0;32m7\u001b[0m, in \u001b[0;35m<module>\u001b[0m\n    checked_sentence, errors = correction(sentence_original)    # 교정된 문장\n",
      "  File \u001b[0;32m\"<ipython-input-5-1f854dabdccc>\"\u001b[0m, line \u001b[0;32m3\u001b[0m, in \u001b[0;35mcorrection\u001b[0m\n    spelled_sent = spell_checker.check(ori_sent)\n",
      "  File \u001b[0;32m\"C:\\Users\\jayts\\miniconda3\\envs\\tf\\lib\\site-packages\\py_hanspell-1.1-py3.8.egg\\hanspell\\spell_checker.py\"\u001b[0m, line \u001b[0;32m68\u001b[0m, in \u001b[0;35mcheck\u001b[0m\n    'checked': _remove_tags(html),\n",
      "  File \u001b[0;32m\"C:\\Users\\jayts\\miniconda3\\envs\\tf\\lib\\site-packages\\py_hanspell-1.1-py3.8.egg\\hanspell\\spell_checker.py\"\u001b[0m, line \u001b[0;32m27\u001b[0m, in \u001b[0;35m_remove_tags\u001b[0m\n    result = ''.join(ET.fromstring(text).itertext())\n",
      "\u001b[1;36m  File \u001b[1;32m\"C:\\Users\\jayts\\miniconda3\\envs\\tf\\lib\\xml\\etree\\ElementTree.py\"\u001b[1;36m, line \u001b[1;32m1320\u001b[1;36m, in \u001b[1;35mXML\u001b[1;36m\u001b[0m\n\u001b[1;33m    parser.feed(text)\u001b[0m\n",
      "\u001b[1;36m  File \u001b[1;32m\"<string>\"\u001b[1;36m, line \u001b[1;32munknown\u001b[0m\n\u001b[1;31mParseError\u001b[0m\u001b[1;31m:\u001b[0m not well-formed (invalid token): line 1, column 202\n"
     ]
    }
   ],
   "source": [
    "sent_checked.update(sent_not_checked)    # sent_checked 초기화\n",
    "\n",
    "# (고통의) word_checked 만들기\n",
    "for i in tnrange(len(key_list1)):    # 키워드\n",
    "    for j in range(len(sent_not_checked[key_list1[i]])):    # 문장 수\n",
    "        sentence_original = sent_checked[key_list1[i]][j]['sentence']    # 원본문장\n",
    "        checked_sentence, errors = correction(sentence_original)    # 교정된 문장\n",
    "        if errors >= 1:\n",
    "            iserrors = 1\n",
    "        else:\n",
    "            iserrors = 0\n",
    "        sent_checked[key_list1[i]][j].update({'sentence_checked':checked_sentence})    # sentence_checked 오탈자 수정\n",
    "        sent_checked[key_list1[i]][j].update({'word_checked':[]})    # word_checked 초기화\n",
    "        sent_checked[key_list1[i]][j].update({'word_checked_Occurence':[]})    # word_checked_Occurence 초기화\n",
    "        sent_checked[key_list1[i]][j].update({'is_sent_error':iserrors})\n",
    "        \n",
    "        for k in range(0, len(sent_not_checked[key_list1[i]][j]['word'])):    # 단어 수\n",
    "            keyword = sent_not_checked[key_list1[i]][j]['word'][k]    # 키워드\n",
    "            checked_keyword = correction(keyword)[0]    # 교정된 키워드\n",
    "            \n",
    "            sent_checked[key_list1[i]][j]['word_checked'].append(checked_keyword)    # 수정된 키워드\n",
    "            sent_checked[key_list1[i]][j].update({'is_word_error':isdiff(keyword, checked_keyword)})    # 키워드 변경 여부\n",
    "            \n",
    "            start = list(find_all(checked_sentence, keyword))\n",
    "            for l in range(0, len(start)):\n",
    "                sent_checked[key_list1[i]][j]['word_checked_Occurence'].append({'start':start[l]-1, 'end':start[l]-1+len(keyword)+1})    # 수정된 키워드 위치. -1은 ^^고려.\n",
    "            \n",
    "        # 불필요한 속성 제거\n",
    "        del sent_checked[key_list1[i]][j]['sentence']\n",
    "        del sent_checked[key_list1[i]][j]['word']\n",
    "        del sent_checked[key_list1[i]][j]['wordOccurence']"
   ]
  },
  {
   "cell_type": "code",
   "execution_count": 6,
   "id": "8b7998a8-469c-472f-b80c-d51924cee48e",
   "metadata": {},
   "outputs": [
    {
     "ename": "NameError",
     "evalue": "name 'sent_checked' is not defined",
     "output_type": "error",
     "traceback": [
      "\u001b[1;31m---------------------------------------------------------------------------\u001b[0m",
      "\u001b[1;31mNameError\u001b[0m                                 Traceback (most recent call last)",
      "\u001b[1;32m<ipython-input-6-d9df40009c79>\u001b[0m in \u001b[0;36m<module>\u001b[1;34m\u001b[0m\n\u001b[0;32m      2\u001b[0m \u001b[1;31m# with open('C:/Users/jayts/OneDrive/바탕 화면/Tictag/json/KAS/type2_A_input_checked_example.json', 'w', encoding='UTF8') as json_file:\u001b[0m\u001b[1;33m\u001b[0m\u001b[1;33m\u001b[0m\u001b[1;33m\u001b[0m\u001b[0m\n\u001b[0;32m      3\u001b[0m \u001b[1;32mwith\u001b[0m \u001b[0mopen\u001b[0m\u001b[1;33m(\u001b[0m\u001b[1;34m'C:/Users/jayts/OneDrive/바탕 화면/Tictag/json/KAS/type2_A_input_checked.json'\u001b[0m\u001b[1;33m,\u001b[0m \u001b[1;34m'w'\u001b[0m\u001b[1;33m,\u001b[0m \u001b[0mencoding\u001b[0m\u001b[1;33m=\u001b[0m\u001b[1;34m'UTF8'\u001b[0m\u001b[1;33m)\u001b[0m \u001b[1;32mas\u001b[0m \u001b[0mjson_file\u001b[0m\u001b[1;33m:\u001b[0m\u001b[1;33m\u001b[0m\u001b[1;33m\u001b[0m\u001b[0m\n\u001b[1;32m----> 4\u001b[1;33m     \u001b[0mjson\u001b[0m\u001b[1;33m.\u001b[0m\u001b[0mdump\u001b[0m\u001b[1;33m(\u001b[0m\u001b[0msent_checked\u001b[0m\u001b[1;33m,\u001b[0m \u001b[0mjson_file\u001b[0m\u001b[1;33m,\u001b[0m \u001b[0mindent\u001b[0m\u001b[1;33m=\u001b[0m\u001b[1;36m4\u001b[0m\u001b[1;33m,\u001b[0m \u001b[0mensure_ascii\u001b[0m\u001b[1;33m=\u001b[0m\u001b[1;32mFalse\u001b[0m\u001b[1;33m,\u001b[0m\u001b[1;33m)\u001b[0m\u001b[1;33m\u001b[0m\u001b[1;33m\u001b[0m\u001b[0m\n\u001b[0m",
      "\u001b[1;31mNameError\u001b[0m: name 'sent_checked' is not defined"
     ]
    }
   ],
   "source": [
    "# json 파일로 저장\n",
    "# with open('C:/Users/jayts/OneDrive/바탕 화면/Tictag/json/KAS/type2_A_input_checked_example.json', 'w', encoding='UTF8') as json_file:\n",
    "with open('C:/Users/jayts/OneDrive/바탕 화면/Tictag/json/KAS/type2_A_input_checked.json', 'w', encoding='UTF8') as json_file:\n",
    "    json.dump(sent_checked, json_file, indent=4, ensure_ascii=False,)"
   ]
  },
  {
   "cell_type": "code",
   "execution_count": null,
   "id": "3d043f1f-0df6-4f0d-85cf-0ba3cac7112b",
   "metadata": {},
   "outputs": [],
   "source": []
  }
 ],
 "metadata": {
  "kernelspec": {
   "display_name": "Python 3",
   "language": "python",
   "name": "python3"
  },
  "language_info": {
   "codemirror_mode": {
    "name": "ipython",
    "version": 3
   },
   "file_extension": ".py",
   "mimetype": "text/x-python",
   "name": "python",
   "nbconvert_exporter": "python",
   "pygments_lexer": "ipython3",
   "version": "3.8.8"
  }
 },
 "nbformat": 4,
 "nbformat_minor": 5
}
