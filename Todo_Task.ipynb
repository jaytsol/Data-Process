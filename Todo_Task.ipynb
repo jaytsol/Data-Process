{
 "cells": [
  {
   "cell_type": "markdown",
   "id": "4c814191-be41-402d-b946-1ebfba638687",
   "metadata": {},
   "source": [
    "# 전체 파일 중에서 경은님 작업한 라인넘버 제외하고 나머지만 뽑도록 하는 코드<br>\n",
    "#### input : 누적 작업 데이터셋<br>\n",
    "#### output : 전체 데이터셋 - 누적 작업 데이터셋<br>"
   ]
  },
  {
   "cell_type": "code",
   "execution_count": 2,
   "id": "eeb484a1-4162-4514-ad87-07ae104c95d1",
   "metadata": {},
   "outputs": [],
   "source": [
    "import json\n",
    "import csv\n",
    "import pandas as pd\n",
    "import os\n",
    "from os import walk\n",
    "import re\n",
    "import datetime\n",
    "from tqdm.notebook import tnrange"
   ]
  },
  {
   "cell_type": "code",
   "execution_count": 7,
   "id": "70323c25-2d6b-4c2a-980b-edd67211f0b5",
   "metadata": {},
   "outputs": [],
   "source": [
    "input_repo = '/Users/jaytsol/Desktop/Type23 (2)/누적/안합친거'\n",
    "database_repo = '/Users/jaytsol/Downloads'\n",
    "\n",
    "output_repo = '/Users/jaytsol/Desktop/Type23 (2)/누적/남은 작업'"
   ]
  },
  {
   "cell_type": "code",
   "execution_count": 3,
   "id": "bfb81fd6-3d69-45b3-afe0-1eeb491431d9",
   "metadata": {},
   "outputs": [],
   "source": [
    "# 해당 경로의 파일리스트 추출\n",
    "file_list = []\n",
    "for (dirpath, dirnames, filenames) in walk(input_repo):\n",
    "    file_list.extend(filenames)\n",
    "    break\n",
    "\n",
    "# 해당 경로의 csv파일의 경로+파일명 리스트 추출\n",
    "csv_list = []\n",
    "for i in range(len(file_list)):\n",
    "    filename, file_extension = os.path.splitext(f'{input_repo}/{file_list[i]}')\n",
    "\n",
    "    if file_extension == '.csv':\n",
    "        csv_list.append(filename+file_extension)"
   ]
  },
  {
   "cell_type": "code",
   "execution_count": 5,
   "id": "726d4a10-ca51-4abb-9ebd-23b254479c70",
   "metadata": {},
   "outputs": [
    {
     "name": "stdout",
     "output_type": "stream",
     "text": [
      "전체 38451개에서 태깅된 18114개 중 9373개의 검수를 마쳤습니다.\n"
     ]
    }
   ],
   "source": [
    "# 작업 진행 정도 체크\n",
    "processed = pd.concat([pd.read_csv(f) for f in csv_list])    # 라인넘버 기준 안합친파일 합치기\n",
    "processed_lineNumber_list = list(processed['lineNumber'])    # 작업한 lineNumber list\n",
    "\n",
    "database = pd.read_csv(f'{database_repo}/type2_input_1.csv')    # 누적 데이터베이스 read\n",
    "database_lineNumber_list = list(database['lineNumber'])    # 누적 데이터베이스의 lineNumber List\n",
    "\n",
    "print('전체 38451개에서 태깅된 '+str(len(list(database['lineNumber'])))+'개 중 '+str(len(list(processed['lineNumber'])))+'개의 검수를 마쳤습니다.')"
   ]
  },
  {
   "cell_type": "code",
   "execution_count": 6,
   "id": "d0bd39cb-c24f-490a-b929-262b284ace7c",
   "metadata": {},
   "outputs": [],
   "source": [
    "# 작업한 리스트 : processed_lineNumber_list\n",
    "# 누적 데이터베이스 리스트 : database_lineNumber_list"
   ]
  },
  {
   "cell_type": "code",
   "execution_count": 9,
   "id": "2338d397-6999-41f0-bc6c-8d05444c70e3",
   "metadata": {},
   "outputs": [],
   "source": [
    "processed_lineNumber_set = set(processed['lineNumber'])    # 작업 완료된 문장\n",
    "database_lineNumber_set = set(database['lineNumber'])    # 전체 데이터베이스"
   ]
  },
  {
   "cell_type": "code",
   "execution_count": 10,
   "id": "b61f99eb-932b-4884-a99d-9c83a859a5a8",
   "metadata": {},
   "outputs": [],
   "source": [
    "Todo_Task_lineNumber_list = list(database_lineNumber_set.difference(processed_lineNumber_set))    # database - processed.. 즉 아직 작업하지 않은 문장들을 추출"
   ]
  },
  {
   "cell_type": "code",
   "execution_count": 13,
   "id": "cfc34902-22ca-41c6-ae7d-fe4a52d7aa29",
   "metadata": {},
   "outputs": [],
   "source": [
    "COLUMNS = ['lineNumber', 'originalText', 'transcription']\n",
    "Todo_Task = pd.DataFrame(columns=COLUMNS)"
   ]
  },
  {
   "cell_type": "code",
   "execution_count": 14,
   "id": "4b7e397b-a1b3-48ba-a991-bd4654616960",
   "metadata": {},
   "outputs": [
    {
     "data": {
      "application/vnd.jupyter.widget-view+json": {
       "model_id": "8831e996e301408ea8bd4c1adf1a549e",
       "version_major": 2,
       "version_minor": 0
      },
      "text/plain": [
       "  0%|          | 0/8742 [00:00<?, ?it/s]"
      ]
     },
     "metadata": {},
     "output_type": "display_data"
    }
   ],
   "source": [
    "for i in tnrange(len(Todo_Task_lineNumber_list)):\n",
    "    for j in range(len(database)):\n",
    "        if Todo_Task_lineNumber_list[i]==database['lineNumber'][j]:\n",
    "            Todo_Task = Todo_Task.append({'lineNumber':database['lineNumber'][j], 'originalText':database['originalText'][j], 'transcription':database['transcription'][j]},  ignore_index=True)\n",
    "        else:\n",
    "            pass"
   ]
  },
  {
   "cell_type": "code",
   "execution_count": 21,
   "id": "0d2f6165-d5f2-48b8-a25c-63e176fbb37d",
   "metadata": {},
   "outputs": [],
   "source": [
    "Todo_Task = Todo_Task.sort_values(by=['lineNumber'])    # 작업물 sort by lineNumber"
   ]
  },
  {
   "cell_type": "code",
   "execution_count": 12,
   "id": "3599a3ff-a035-46c0-b558-3e88a1a68b67",
   "metadata": {},
   "outputs": [],
   "source": [
    "year = str(datetime.datetime.now().year)[2:]\n",
    "month = str(datetime.datetime.now().month)\n",
    "day = str(datetime.datetime.now().day)\n",
    "hour = str(datetime.datetime.now().hour)\n",
    "minute = str(datetime.datetime.now().minute)\n",
    "a = [1]\n",
    "a = pd.DataFrame(a)\n",
    "a.to_csv(f'{output_repo}/남은 작업_{year}{month}{day}_{hour}{minute}.csv', index=False, encoding='utf-8-sig')"
   ]
  },
  {
   "cell_type": "code",
   "execution_count": null,
   "id": "c615071f-300a-4555-88a7-de3b89d0d7b9",
   "metadata": {},
   "outputs": [],
   "source": []
  }
 ],
 "metadata": {
  "kernelspec": {
   "display_name": "Python 3",
   "language": "python",
   "name": "python3"
  },
  "language_info": {
   "codemirror_mode": {
    "name": "ipython",
    "version": 3
   },
   "file_extension": ".py",
   "mimetype": "text/x-python",
   "name": "python",
   "nbconvert_exporter": "python",
   "pygments_lexer": "ipython3",
   "version": "3.8.8"
  }
 },
 "nbformat": 4,
 "nbformat_minor": 5
}
