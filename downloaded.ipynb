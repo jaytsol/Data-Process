{
 "cells": [
  {
   "cell_type": "markdown",
   "id": "15d126cf-b732-40ed-abff-6692c062fafa",
   "metadata": {},
   "source": [
    "# 전체 오리지널 파일을 바탕으로 새로 다운받은 파일이 lineNumber 기준 어떤 데이터인지 정렬하는 코드"
   ]
  },
  {
   "cell_type": "markdown",
   "id": "080be6e8-a897-4cd6-86e4-62ce7212fb9e",
   "metadata": {},
   "source": [
    "total_org : total_original.csv\n",
    "downloaded : "
   ]
  },
  {
   "cell_type": "code",
   "execution_count": 1,
   "id": "600c8b08-6046-4f25-adce-351c4c080263",
   "metadata": {},
   "outputs": [],
   "source": [
    "import csv\n",
    "import pandas as pd\n",
    "from tqdm.notebook import tnrange\n",
    "import datetime"
   ]
  },
  {
   "cell_type": "code",
   "execution_count": 2,
   "id": "1b2bb26d-f71f-4525-b3c0-f19fa7c6aaf8",
   "metadata": {},
   "outputs": [],
   "source": [
    "# csv형태로 저장\n",
    "def save_as_csv(output_repo, result_dataframe_with_input_file):\n",
    "    year = str(datetime.datetime.now().year)[2:]\n",
    "    month = str(datetime.datetime.now().month)\n",
    "    day = str(datetime.datetime.now().day)\n",
    "    hour = str(datetime.datetime.now().hour)\n",
    "    minute = str(datetime.datetime.now().minute)\n",
    "\n",
    "    print(f'{output_repo}의 경로에 다운로드데이터_{year}{month}{day}_{hour}{minute}.csv의 이름으로 파일 생성이 완료되었습니다.')\n",
    "\n",
    "    result_dataframe_with_input_file.to_csv(f'{output_repo}/다운로드데이터_{year}{month}{day}_{hour}{minute}.csv', index=False, encoding='utf-8-sig')"
   ]
  },
  {
   "cell_type": "code",
   "execution_count": 3,
   "id": "42ba01ca-e2cd-47ba-8458-771781ebf12b",
   "metadata": {},
   "outputs": [],
   "source": [
    "# Read file\n",
    "total_org_repo = '/Users/jaytsol/Desktop/Type23 (2)/오리지널/total_original/'             # 놔둬\n",
    "downloaded_1_repo = '/Users/jaytsol/Desktop/Type23 (2)/누적/다운로드_전처리/다운로드 데이터/'\n",
    "downloaded_repo = '/Users/jaytsol/Desktop/Type23 (2)/누적/다운로드_전처리/다운로드 데이터/5/'    # 바꿔\n",
    "output_repo = '/Users/jaytsol/Desktop/Type23 (2)/오리지널/downloaded/'                    # 놔둬\n",
    "\n",
    "total_org_filename = 'total_original.csv'                                               # 놔둬\n",
    "downloaded_1_filename = 'type2_input_1 5.csv'                                           # 놔둬\n",
    "# downloaded_2_filename = '텍스트_다듬기_Type_B_70001_76000.csv'                             # 놔둬\n",
    "# downloaded_3_filename = 'origin_type2_input_1_1(9269_18538).csv'                        # 놔둬\n",
    "downloaded_4_filename = 'origin_type2_input_1_1(1_9268).csv'                            # 놔둬\n",
    "downloaded_5_filename = '텍스트_다듬기_Type_B_60001_70000.csv'                             # 놔둬"
   ]
  },
  {
   "cell_type": "code",
   "execution_count": 4,
   "id": "c6dc6dab-0f01-41bb-b573-367961afe1cb",
   "metadata": {},
   "outputs": [],
   "source": [
    "total_org = pd.read_csv(total_org_repo+total_org_filename)\n",
    "downloaded_1 = pd.read_csv(downloaded_1_repo+downloaded_1_filename)\n",
    "# downloaded_2 = pd.read_csv(downloaded_repo+downloaded_2_filename)\n",
    "# downloaded_3 = pd.read_csv(downloaded_repo+downloaded_3_filename)\n",
    "downloaded_4 = pd.read_csv(downloaded_repo+downloaded_4_filename)\n",
    "downloaded_5 = pd.read_csv(downloaded_repo+downloaded_5_filename)"
   ]
  },
  {
   "cell_type": "code",
   "execution_count": 5,
   "id": "cbd5fe59-3ef6-494f-8c26-f7c7e53553df",
   "metadata": {},
   "outputs": [],
   "source": [
    "downloaded_1 = downloaded_1[['lineNumber', 'originalText', 'transcription']]\n",
    "# downloaded_2 = downloaded_2[['lineNumber', 'originalText', 'transcription']]\n",
    "# downloaded_3 = downloaded_3[['lineNumber', 'originalText', 'transcription']]\n",
    "downloaded_4 = downloaded_4[['lineNumber', 'originalText', 'transcription']]\n",
    "downloaded_5 = downloaded_5[['lineNumber', 'originalText', 'transcription']]"
   ]
  },
  {
   "cell_type": "code",
   "execution_count": 6,
   "id": "9d3f4729-464a-44a1-aaa1-0c0fbce5ed8c",
   "metadata": {},
   "outputs": [],
   "source": [
    "result_dataframe = pd.DataFrame(columns=['lineNumber', 'originalText', 'transcription'])\n",
    "result_dataframe_with_downloaded_1 = result_dataframe.append(downloaded_1)\n",
    "result_dataframe_with_input_file = result_dataframe_with_downloaded_1"
   ]
  },
  {
   "cell_type": "code",
   "execution_count": 11,
   "id": "e9724670-6af1-42ae-ba47-0820ff737689",
   "metadata": {},
   "outputs": [
    {
     "data": {
      "application/vnd.jupyter.widget-view+json": {
       "model_id": "9f4e1a2b161a41de96fe127f31dd0519",
       "version_major": 2,
       "version_minor": 0
      },
      "text/plain": [
       "  0%|          | 0/5995 [00:00<?, ?it/s]"
      ]
     },
     "metadata": {},
     "output_type": "display_data"
    },
    {
     "ename": "KeyboardInterrupt",
     "evalue": "",
     "output_type": "error",
     "traceback": [
      "\u001b[0;31m---------------------------------------------------------------------------\u001b[0m",
      "\u001b[0;31mKeyboardInterrupt\u001b[0m                         Traceback (most recent call last)",
      "\u001b[0;32m<ipython-input-11-a16336e6eba1>\u001b[0m in \u001b[0;36m<module>\u001b[0;34m\u001b[0m\n\u001b[1;32m      4\u001b[0m \u001b[0;32mfor\u001b[0m \u001b[0mi\u001b[0m \u001b[0;32min\u001b[0m \u001b[0mtnrange\u001b[0m\u001b[0;34m(\u001b[0m\u001b[0mlen\u001b[0m\u001b[0;34m(\u001b[0m\u001b[0minput_file\u001b[0m\u001b[0;34m)\u001b[0m\u001b[0;34m)\u001b[0m\u001b[0;34m:\u001b[0m\u001b[0;34m\u001b[0m\u001b[0;34m\u001b[0m\u001b[0m\n\u001b[1;32m      5\u001b[0m     \u001b[0;32mfor\u001b[0m \u001b[0mj\u001b[0m \u001b[0;32min\u001b[0m \u001b[0mrange\u001b[0m\u001b[0;34m(\u001b[0m\u001b[0mlen\u001b[0m\u001b[0;34m(\u001b[0m\u001b[0mtotal_org\u001b[0m\u001b[0;34m)\u001b[0m\u001b[0;34m)\u001b[0m\u001b[0;34m:\u001b[0m\u001b[0;34m\u001b[0m\u001b[0;34m\u001b[0m\u001b[0m\n\u001b[0;32m----> 6\u001b[0;31m         \u001b[0;32mif\u001b[0m \u001b[0minput_file\u001b[0m\u001b[0;34m[\u001b[0m\u001b[0;34m'originalText'\u001b[0m\u001b[0;34m]\u001b[0m\u001b[0;34m[\u001b[0m\u001b[0mi\u001b[0m\u001b[0;34m]\u001b[0m \u001b[0;34m==\u001b[0m \u001b[0mtotal_org\u001b[0m\u001b[0;34m[\u001b[0m\u001b[0;34m'originalText'\u001b[0m\u001b[0;34m]\u001b[0m\u001b[0;34m[\u001b[0m\u001b[0mj\u001b[0m\u001b[0;34m]\u001b[0m\u001b[0;34m:\u001b[0m\u001b[0;34m\u001b[0m\u001b[0;34m\u001b[0m\u001b[0m\n\u001b[0m\u001b[1;32m      7\u001b[0m             \u001b[0mresult_dataframe_with_input_file\u001b[0m \u001b[0;34m=\u001b[0m \u001b[0mresult_dataframe_with_input_file\u001b[0m\u001b[0;34m.\u001b[0m\u001b[0mappend\u001b[0m\u001b[0;34m(\u001b[0m\u001b[0;34m{\u001b[0m\u001b[0;34m'lineNumber'\u001b[0m\u001b[0;34m:\u001b[0m\u001b[0mtotal_org\u001b[0m\u001b[0;34m[\u001b[0m\u001b[0;34m'lineNumber'\u001b[0m\u001b[0;34m]\u001b[0m\u001b[0;34m[\u001b[0m\u001b[0mj\u001b[0m\u001b[0;34m]\u001b[0m\u001b[0;34m,\u001b[0m \u001b[0;34m'originalText'\u001b[0m\u001b[0;34m:\u001b[0m\u001b[0minput_file\u001b[0m\u001b[0;34m[\u001b[0m\u001b[0;34m'originalText'\u001b[0m\u001b[0;34m]\u001b[0m\u001b[0;34m[\u001b[0m\u001b[0mi\u001b[0m\u001b[0;34m]\u001b[0m\u001b[0;34m,\u001b[0m \u001b[0;34m'transcription'\u001b[0m\u001b[0;34m:\u001b[0m\u001b[0minput_file\u001b[0m\u001b[0;34m[\u001b[0m\u001b[0;34m'transcription'\u001b[0m\u001b[0;34m]\u001b[0m\u001b[0;34m[\u001b[0m\u001b[0mi\u001b[0m\u001b[0;34m]\u001b[0m\u001b[0;34m}\u001b[0m\u001b[0;34m,\u001b[0m \u001b[0mignore_index\u001b[0m\u001b[0;34m=\u001b[0m\u001b[0;32mTrue\u001b[0m\u001b[0;34m)\u001b[0m\u001b[0;34m\u001b[0m\u001b[0;34m\u001b[0m\u001b[0m\n",
      "\u001b[0;32m/opt/anaconda3/lib/python3.8/site-packages/pandas/core/series.py\u001b[0m in \u001b[0;36m__getitem__\u001b[0;34m(self, key)\u001b[0m\n\u001b[1;32m    851\u001b[0m \u001b[0;34m\u001b[0m\u001b[0m\n\u001b[1;32m    852\u001b[0m         \u001b[0;32melif\u001b[0m \u001b[0mkey_is_scalar\u001b[0m\u001b[0;34m:\u001b[0m\u001b[0;34m\u001b[0m\u001b[0;34m\u001b[0m\u001b[0m\n\u001b[0;32m--> 853\u001b[0;31m             \u001b[0;32mreturn\u001b[0m \u001b[0mself\u001b[0m\u001b[0;34m.\u001b[0m\u001b[0m_get_value\u001b[0m\u001b[0;34m(\u001b[0m\u001b[0mkey\u001b[0m\u001b[0;34m)\u001b[0m\u001b[0;34m\u001b[0m\u001b[0;34m\u001b[0m\u001b[0m\n\u001b[0m\u001b[1;32m    854\u001b[0m \u001b[0;34m\u001b[0m\u001b[0m\n\u001b[1;32m    855\u001b[0m         \u001b[0;32mif\u001b[0m \u001b[0mis_hashable\u001b[0m\u001b[0;34m(\u001b[0m\u001b[0mkey\u001b[0m\u001b[0;34m)\u001b[0m\u001b[0;34m:\u001b[0m\u001b[0;34m\u001b[0m\u001b[0;34m\u001b[0m\u001b[0m\n",
      "\u001b[0;32m/opt/anaconda3/lib/python3.8/site-packages/pandas/core/series.py\u001b[0m in \u001b[0;36m_get_value\u001b[0;34m(self, label, takeable)\u001b[0m\n\u001b[1;32m    959\u001b[0m \u001b[0;34m\u001b[0m\u001b[0m\n\u001b[1;32m    960\u001b[0m         \u001b[0;31m# Similar to Index.get_value, but we do not fall back to positional\u001b[0m\u001b[0;34m\u001b[0m\u001b[0;34m\u001b[0m\u001b[0;34m\u001b[0m\u001b[0m\n\u001b[0;32m--> 961\u001b[0;31m         \u001b[0mloc\u001b[0m \u001b[0;34m=\u001b[0m \u001b[0mself\u001b[0m\u001b[0;34m.\u001b[0m\u001b[0mindex\u001b[0m\u001b[0;34m.\u001b[0m\u001b[0mget_loc\u001b[0m\u001b[0;34m(\u001b[0m\u001b[0mlabel\u001b[0m\u001b[0;34m)\u001b[0m\u001b[0;34m\u001b[0m\u001b[0;34m\u001b[0m\u001b[0m\n\u001b[0m\u001b[1;32m    962\u001b[0m         \u001b[0;32mreturn\u001b[0m \u001b[0mself\u001b[0m\u001b[0;34m.\u001b[0m\u001b[0mindex\u001b[0m\u001b[0;34m.\u001b[0m\u001b[0m_get_values_for_loc\u001b[0m\u001b[0;34m(\u001b[0m\u001b[0mself\u001b[0m\u001b[0;34m,\u001b[0m \u001b[0mloc\u001b[0m\u001b[0;34m,\u001b[0m \u001b[0mlabel\u001b[0m\u001b[0;34m)\u001b[0m\u001b[0;34m\u001b[0m\u001b[0;34m\u001b[0m\u001b[0m\n\u001b[1;32m    963\u001b[0m \u001b[0;34m\u001b[0m\u001b[0m\n",
      "\u001b[0;32m/opt/anaconda3/lib/python3.8/site-packages/pandas/core/indexes/range.py\u001b[0m in \u001b[0;36mget_loc\u001b[0;34m(self, key, method, tolerance)\u001b[0m\n\u001b[1;32m    345\u001b[0m     \u001b[0;34m@\u001b[0m\u001b[0mdoc\u001b[0m\u001b[0;34m(\u001b[0m\u001b[0mInt64Index\u001b[0m\u001b[0;34m.\u001b[0m\u001b[0mget_loc\u001b[0m\u001b[0;34m)\u001b[0m\u001b[0;34m\u001b[0m\u001b[0;34m\u001b[0m\u001b[0m\n\u001b[1;32m    346\u001b[0m     \u001b[0;32mdef\u001b[0m \u001b[0mget_loc\u001b[0m\u001b[0;34m(\u001b[0m\u001b[0mself\u001b[0m\u001b[0;34m,\u001b[0m \u001b[0mkey\u001b[0m\u001b[0;34m,\u001b[0m \u001b[0mmethod\u001b[0m\u001b[0;34m=\u001b[0m\u001b[0;32mNone\u001b[0m\u001b[0;34m,\u001b[0m \u001b[0mtolerance\u001b[0m\u001b[0;34m=\u001b[0m\u001b[0;32mNone\u001b[0m\u001b[0;34m)\u001b[0m\u001b[0;34m:\u001b[0m\u001b[0;34m\u001b[0m\u001b[0;34m\u001b[0m\u001b[0m\n\u001b[0;32m--> 347\u001b[0;31m         \u001b[0;32mif\u001b[0m \u001b[0mmethod\u001b[0m \u001b[0;32mis\u001b[0m \u001b[0;32mNone\u001b[0m \u001b[0;32mand\u001b[0m \u001b[0mtolerance\u001b[0m \u001b[0;32mis\u001b[0m \u001b[0;32mNone\u001b[0m\u001b[0;34m:\u001b[0m\u001b[0;34m\u001b[0m\u001b[0;34m\u001b[0m\u001b[0m\n\u001b[0m\u001b[1;32m    348\u001b[0m             \u001b[0;32mif\u001b[0m \u001b[0mis_integer\u001b[0m\u001b[0;34m(\u001b[0m\u001b[0mkey\u001b[0m\u001b[0;34m)\u001b[0m \u001b[0;32mor\u001b[0m \u001b[0;34m(\u001b[0m\u001b[0mis_float\u001b[0m\u001b[0;34m(\u001b[0m\u001b[0mkey\u001b[0m\u001b[0;34m)\u001b[0m \u001b[0;32mand\u001b[0m \u001b[0mkey\u001b[0m\u001b[0;34m.\u001b[0m\u001b[0mis_integer\u001b[0m\u001b[0;34m(\u001b[0m\u001b[0;34m)\u001b[0m\u001b[0;34m)\u001b[0m\u001b[0;34m:\u001b[0m\u001b[0;34m\u001b[0m\u001b[0;34m\u001b[0m\u001b[0m\n\u001b[1;32m    349\u001b[0m                 \u001b[0mnew_key\u001b[0m \u001b[0;34m=\u001b[0m \u001b[0mint\u001b[0m\u001b[0;34m(\u001b[0m\u001b[0mkey\u001b[0m\u001b[0;34m)\u001b[0m\u001b[0;34m\u001b[0m\u001b[0;34m\u001b[0m\u001b[0m\n",
      "\u001b[0;31mKeyboardInterrupt\u001b[0m: "
     ]
    }
   ],
   "source": [
    "# total_org랑 downloaded의 텍스트 비교해서 같으면 result_dataframe에 append하는 코드\n",
    "# downloaded_2 합침\n",
    "input_file = downloaded_2\n",
    "for i in tnrange(len(input_file)):\n",
    "    for j in range(len(total_org)):\n",
    "        if input_file['originalText'][i] == total_org['originalText'][j]:\n",
    "            result_dataframe_with_input_file = result_dataframe_with_input_file.append({'lineNumber':total_org['lineNumber'][j], 'originalText':input_file['originalText'][i], 'transcription':input_file['transcription'][i]}, ignore_index=True)"
   ]
  },
  {
   "cell_type": "code",
   "execution_count": 7,
   "id": "628934fb-bda1-4c12-bdc7-3310f9454a9e",
   "metadata": {},
   "outputs": [
    {
     "data": {
      "application/vnd.jupyter.widget-view+json": {
       "model_id": "d14ef247689646a88affb5985936b4d2",
       "version_major": 2,
       "version_minor": 0
      },
      "text/plain": [
       "  0%|          | 0/9197 [00:00<?, ?it/s]"
      ]
     },
     "metadata": {},
     "output_type": "display_data"
    }
   ],
   "source": [
    "# total_org랑 downloaded의 텍스트 비교해서 같으면 result_dataframe에 append하는 코드\n",
    "# downloaded_3 합침\n",
    "input_file = downloaded_3\n",
    "for i in tnrange(len(input_file)):\n",
    "    for j in range(len(total_org)):\n",
    "        if input_file['originalText'][i] == total_org['originalText'][j]:\n",
    "            result_dataframe_with_input_file = result_dataframe_with_input_file.append({'lineNumber':total_org['lineNumber'][j], 'originalText':input_file['originalText'][i], 'transcription':input_file['transcription'][i]}, ignore_index=True)"
   ]
  },
  {
   "cell_type": "code",
   "execution_count": 7,
   "id": "19ce991d-352f-453a-83fc-cdb4abde3f9a",
   "metadata": {},
   "outputs": [
    {
     "data": {
      "application/vnd.jupyter.widget-view+json": {
       "model_id": "526018e1e5c14e2790e9bd8b2795a0a9",
       "version_major": 2,
       "version_minor": 0
      },
      "text/plain": [
       "  0%|          | 0/9182 [00:00<?, ?it/s]"
      ]
     },
     "metadata": {},
     "output_type": "display_data"
    }
   ],
   "source": [
    "# total_org랑 downloaded의 텍스트 비교해서 같으면 result_dataframe에 append하는 코드\n",
    "# downloaded_4 합침\n",
    "input_file = downloaded_4\n",
    "for i in tnrange(len(input_file)):\n",
    "    for j in range(len(total_org)):\n",
    "        if input_file['originalText'][i] == total_org['originalText'][j]:\n",
    "            result_dataframe_with_input_file = result_dataframe_with_input_file.append({'lineNumber':total_org['lineNumber'][j], 'originalText':input_file['originalText'][i], 'transcription':input_file['transcription'][i]}, ignore_index=True)"
   ]
  },
  {
   "cell_type": "code",
   "execution_count": 8,
   "id": "34c17061-2c25-4a73-8f3a-ec77e22cff0d",
   "metadata": {},
   "outputs": [
    {
     "data": {
      "application/vnd.jupyter.widget-view+json": {
       "model_id": "83cecf3d019e4f27a959b3be35d38c52",
       "version_major": 2,
       "version_minor": 0
      },
      "text/plain": [
       "  0%|          | 0/9837 [00:00<?, ?it/s]"
      ]
     },
     "metadata": {},
     "output_type": "display_data"
    }
   ],
   "source": [
    "# total_org랑 downloaded의 텍스트 비교해서 같으면 result_dataframe에 append하는 코드\n",
    "# downloaded_5 합침\n",
    "input_file = downloaded_5\n",
    "for i in tnrange(len(input_file)):\n",
    "    for j in range(len(total_org)):\n",
    "        if input_file['originalText'][i] == total_org['originalText'][j]:\n",
    "            result_dataframe_with_input_file = result_dataframe_with_input_file.append({'lineNumber':total_org['lineNumber'][j], 'originalText':input_file['originalText'][i], 'transcription':input_file['transcription'][i]}, ignore_index=True)"
   ]
  },
  {
   "cell_type": "code",
   "execution_count": 9,
   "id": "837cdf87-3cc0-429a-8e5f-f984594d0abf",
   "metadata": {},
   "outputs": [],
   "source": [
    "result_dataframe_with_input_file = result_dataframe_with_input_file.sort_values(by='lineNumber')"
   ]
  },
  {
   "cell_type": "code",
   "execution_count": 10,
   "id": "c41bd07a-dd39-41b8-858c-0c5cb1decc53",
   "metadata": {},
   "outputs": [
    {
     "name": "stdout",
     "output_type": "stream",
     "text": [
      "/Users/jaytsol/Desktop/Type23 (2)/오리지널/downloaded/의 경로에 다운로드데이터_21117_1752.csv의 이름으로 파일 생성이 완료되었습니다.\n"
     ]
    }
   ],
   "source": [
    "save_as_csv(output_repo, result_dataframe_with_input_file)"
   ]
  },
  {
   "cell_type": "code",
   "execution_count": null,
   "id": "b94c8e8a-2ff3-4c54-aa5e-dbfb79af2393",
   "metadata": {},
   "outputs": [],
   "source": []
  }
 ],
 "metadata": {
  "kernelspec": {
   "display_name": "Python 3",
   "language": "python",
   "name": "python3"
  },
  "language_info": {
   "codemirror_mode": {
    "name": "ipython",
    "version": 3
   },
   "file_extension": ".py",
   "mimetype": "text/x-python",
   "name": "python",
   "nbconvert_exporter": "python",
   "pygments_lexer": "ipython3",
   "version": "3.8.8"
  }
 },
 "nbformat": 4,
 "nbformat_minor": 5
}
