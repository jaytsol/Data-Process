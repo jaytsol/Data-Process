{
 "cells": [
  {
   "cell_type": "code",
   "execution_count": 1,
   "id": "9705ce30-a9a4-42ef-aa4f-6b230a0b1123",
   "metadata": {},
   "outputs": [],
   "source": [
    "import csv\n",
    "import json\n",
    "from tqdm.notebook import tnrange\n",
    "import pandas as pd"
   ]
  },
  {
   "cell_type": "code",
   "execution_count": 2,
   "id": "f79650da-ebbd-4bfc-a84d-1a629d06375c",
   "metadata": {},
   "outputs": [],
   "source": [
    "input_repo = '/Users/jaytsol/Desktop/type6'\n",
    "output_repo = '/Users/jaytsol/Desktop/type6'\n",
    "\n",
    "input_filename = 'percent_data.csv'\n",
    "output_filename = 'percent_data_output.csv'"
   ]
  },
  {
   "cell_type": "code",
   "execution_count": 3,
   "id": "9047c769-2b6b-4361-8484-4fa164b91654",
   "metadata": {},
   "outputs": [],
   "source": [
    "org = pd.read_csv(f'{input_repo}/{input_filename}')"
   ]
  },
  {
   "cell_type": "code",
   "execution_count": 22,
   "id": "c40764e9-04a2-4de1-b52a-56bfd14a8489",
   "metadata": {},
   "outputs": [
    {
     "data": {
      "application/vnd.jupyter.widget-view+json": {
       "model_id": "91d1d4248bd449f28421255c22a2bd34",
       "version_major": 2,
       "version_minor": 0
      },
      "text/plain": [
       "  0%|          | 0/4507 [00:00<?, ?it/s]"
      ]
     },
     "metadata": {},
     "output_type": "display_data"
    },
    {
     "name": "stderr",
     "output_type": "stream",
     "text": [
      "<ipython-input-22-0618531306c6>:4: SettingWithCopyWarning: \n",
      "A value is trying to be set on a copy of a slice from a DataFrame\n",
      "\n",
      "See the caveats in the documentation: https://pandas.pydata.org/pandas-docs/stable/user_guide/indexing.html#returning-a-view-versus-a-copy\n",
      "  result['sentence1'][i] = org['title'][i]\n",
      "<ipython-input-22-0618531306c6>:5: SettingWithCopyWarning: \n",
      "A value is trying to be set on a copy of a slice from a DataFrame\n",
      "\n",
      "See the caveats in the documentation: https://pandas.pydata.org/pandas-docs/stable/user_guide/indexing.html#returning-a-view-versus-a-copy\n",
      "  result['sentence2'][i] = org['title'][i]\n",
      "<ipython-input-22-0618531306c6>:6: SettingWithCopyWarning: \n",
      "A value is trying to be set on a copy of a slice from a DataFrame\n",
      "\n",
      "See the caveats in the documentation: https://pandas.pydata.org/pandas-docs/stable/user_guide/indexing.html#returning-a-view-versus-a-copy\n",
      "  result['sentence3'][i] = org['title'][i]\n"
     ]
    }
   ],
   "source": [
    "result = org\n",
    "for i in tnrange(len(org)):\n",
    "    if org['sentiment'][i] == 2:\n",
    "        result['sentence1'][i] = org['title'][i]\n",
    "        result['sentence2'][i] = org['title'][i]\n",
    "        result['sentence3'][i] = org['title'][i]\n",
    "    else:\n",
    "        pass"
   ]
  },
  {
   "cell_type": "code",
   "execution_count": 24,
   "id": "eea5d5ce-5f86-463b-b5cf-2c890e8e9d4d",
   "metadata": {},
   "outputs": [],
   "source": [
    "result.to_csv(f'{output_repo}/{output_filename}', encoding='utf-8-sig', index=False)"
   ]
  },
  {
   "cell_type": "code",
   "execution_count": null,
   "id": "3823d787-9c8e-427d-b12b-a4c7978dd184",
   "metadata": {},
   "outputs": [],
   "source": []
  }
 ],
 "metadata": {
  "kernelspec": {
   "display_name": "Python 3",
   "language": "python",
   "name": "python3"
  },
  "language_info": {
   "codemirror_mode": {
    "name": "ipython",
    "version": 3
   },
   "file_extension": ".py",
   "mimetype": "text/x-python",
   "name": "python",
   "nbconvert_exporter": "python",
   "pygments_lexer": "ipython3",
   "version": "3.8.8"
  }
 },
 "nbformat": 4,
 "nbformat_minor": 5
}
