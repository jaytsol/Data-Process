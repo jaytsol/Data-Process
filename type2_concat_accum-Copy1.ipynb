{
 "cells": [
  {
   "cell_type": "markdown",
   "id": "eb177e38-9c94-40ad-b723-8ac44af80ab6",
   "metadata": {},
   "source": [
    "# 누적된 검수 완료 데이터셋 하나로 합치고 sorting<br>\n",
    "#### input : 누적된 검수 완료 데이터셋<br>\n",
    "#### output : 하나의 최종 결과물"
   ]
  },
  {
   "cell_type": "code",
   "execution_count": 1,
   "id": "43ffa67e-cbe0-45d5-a0fa-dd1ec39b28cf",
   "metadata": {
    "tags": []
   },
   "outputs": [],
   "source": [
    "import csv\n",
    "import pandas as pd\n",
    "from tqdm.notebook import tnrange\n",
    "import os\n",
    "from os import walk\n",
    "import datetime\n",
    "import re"
   ]
  },
  {
   "cell_type": "code",
   "execution_count": 2,
   "id": "9e42c161-a0f1-46ec-b88f-529caf1a9098",
   "metadata": {},
   "outputs": [],
   "source": [
    "input_repo = '/Users/jaytsol/Desktop/Type23 (2)/누적/concat'\n",
    "output_repo = '/Users/jaytsol/Desktop/Type23 (2)/누적/accum_concat'"
   ]
  },
  {
   "cell_type": "code",
   "execution_count": 3,
   "id": "c6c84b0b-148b-46ba-927b-26e80a7f678f",
   "metadata": {},
   "outputs": [],
   "source": [
    "# main\n",
    "def start(input_repo, output_repo):\n",
    "    file_list = get_filelist(input_repo)\n",
    "    csv_list = get_csvlist(input_repo, file_list)\n",
    "    sorted_result = concat_csvfile(csv_list)\n",
    "    removed_tag_data = remove_tag(sorted_result)\n",
    "    save_as_csv(input_repo, output_repo, removed_tag_data)"
   ]
  },
  {
   "cell_type": "code",
   "execution_count": 4,
   "id": "f8c7b9b7-2117-472c-ab57-a3dcad98750b",
   "metadata": {},
   "outputs": [],
   "source": [
    "# 해당 경로의 파일리스트 추출\n",
    "def get_filelist(input_repo):\n",
    "    file_list = []\n",
    "    for (dirpath, dirnames, filenames) in walk(input_repo):\n",
    "        file_list.extend(filenames)\n",
    "        break\n",
    "\n",
    "    return file_list"
   ]
  },
  {
   "cell_type": "code",
   "execution_count": 5,
   "id": "47448526-32ff-4ea3-9028-a16ac46ac3cc",
   "metadata": {},
   "outputs": [],
   "source": [
    "# 해당 경로의 csv파일의 경로+파일명 리스트 추출\n",
    "def get_csvlist(input_repo, file_list):\n",
    "    csv_list = []\n",
    "    for i in range(len(file_list)):\n",
    "        filename, file_extension = os.path.splitext(f'{input_repo}/{file_list[i]}')\n",
    "\n",
    "        if file_extension == '.csv':\n",
    "            csv_list.append(filename+file_extension)\n",
    "\n",
    "    return csv_list"
   ]
  },
  {
   "cell_type": "code",
   "execution_count": 6,
   "id": "6c8ba149-6f38-4720-89a4-d4af0340d648",
   "metadata": {},
   "outputs": [],
   "source": [
    "def concat_csvfile(csv_list):\n",
    "    COLUMNS = ['lineNumber', 'originalText', 'transcription']\n",
    "    result = pd.concat([pd.read_csv(f) for f in csv_list])    # 라인넘버 기준 안합친파일 합치기\n",
    "    sorted_result_not_flat = result.sort_values(by=['lineNumber'])    # 작업물 sort by lineNumber\n",
    "    sorted_result_not_flat.to_csv(f'{output_repo}/temp.csv', index=False, encoding='utf-8-sig')\n",
    "    sorted_result = pd.read_csv(f'{output_repo}/temp.csv')\n",
    "    os.remove(f'{output_repo}/temp.csv')\n",
    "    \n",
    "    return sorted_result"
   ]
  },
  {
   "cell_type": "code",
   "execution_count": 7,
   "id": "8fbf3576-90d7-467d-9402-a96d6148ff4a",
   "metadata": {},
   "outputs": [],
   "source": [
    "# 태그 제거\n",
    "def remove_tag(flatten):\n",
    "    removed_tag_data = flatten\n",
    "    for i in tnrange(len(flatten)):\n",
    "        removed_tag_data['transcription'][i] = re.sub('(\\<=.*?\\>{1})','',str(flatten['transcription'][i])).replace('<<<', '').replace('>>>', '')\n",
    "        \n",
    "    return removed_tag_data"
   ]
  },
  {
   "cell_type": "code",
   "execution_count": 8,
   "id": "b1008d05-d948-4dd0-bcf0-f6ab051e55ab",
   "metadata": {},
   "outputs": [],
   "source": [
    "# csv형태로 저장\n",
    "def save_as_csv(input_repo, output_repo, result):\n",
    "    year = str(datetime.datetime.now().year)[2:]\n",
    "    month = str(datetime.datetime.now().month)\n",
    "    day = str(datetime.datetime.now().day)\n",
    "    hour = str(datetime.datetime.now().hour)\n",
    "    minute = str(datetime.datetime.now().minute)\n",
    "\n",
    "    print(f'{output_repo}의 경로에 통합_검수본_{year}{month}{day}_{hour}{minute}.csv의 이름으로 파일 생성이 완료되었습니다.')\n",
    "\n",
    "    result.to_csv(f'{output_repo}/통합_검수본_{year}{month}{day}_{hour}{minute}.csv', index=False, encoding='utf-8-sig')"
   ]
  },
  {
   "cell_type": "code",
   "execution_count": 9,
   "id": "4f91c259-60bf-437d-ad47-ebe0a30220f0",
   "metadata": {},
   "outputs": [
    {
     "data": {
      "application/vnd.jupyter.widget-view+json": {
       "model_id": "714042694e034246b57583666ee66638",
       "version_major": 2,
       "version_minor": 0
      },
      "text/plain": [
       "  0%|          | 0/38731 [00:00<?, ?it/s]"
      ]
     },
     "metadata": {},
     "output_type": "display_data"
    },
    {
     "name": "stderr",
     "output_type": "stream",
     "text": [
      "<ipython-input-7-202bb1f0223a>:5: SettingWithCopyWarning: \n",
      "A value is trying to be set on a copy of a slice from a DataFrame\n",
      "\n",
      "See the caveats in the documentation: https://pandas.pydata.org/pandas-docs/stable/user_guide/indexing.html#returning-a-view-versus-a-copy\n",
      "  removed_tag_data['transcription'][i] = re.sub('(\\<=.*?\\>{1})','',str(flatten['transcription'][i])).replace('<<<', '').replace('>>>', '')\n"
     ]
    },
    {
     "name": "stdout",
     "output_type": "stream",
     "text": [
      "/Users/jaytsol/Desktop/Type23 (2)/누적/accum_concat의 경로에 통합_검수본_21115_1058.csv의 이름으로 파일 생성이 완료되었습니다.\n"
     ]
    }
   ],
   "source": [
    "start(input_repo, output_repo)"
   ]
  },
  {
   "cell_type": "code",
   "execution_count": null,
   "id": "d3405a25-251b-4123-868b-3eed9442fa7d",
   "metadata": {},
   "outputs": [],
   "source": []
  }
 ],
 "metadata": {
  "kernelspec": {
   "display_name": "Python 3",
   "language": "python",
   "name": "python3"
  },
  "language_info": {
   "codemirror_mode": {
    "name": "ipython",
    "version": 3
   },
   "file_extension": ".py",
   "mimetype": "text/x-python",
   "name": "python",
   "nbconvert_exporter": "python",
   "pygments_lexer": "ipython3",
   "version": "3.8.8"
  }
 },
 "nbformat": 4,
 "nbformat_minor": 5
}
