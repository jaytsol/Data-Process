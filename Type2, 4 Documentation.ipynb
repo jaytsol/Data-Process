{
 "cells": [
  {
   "cell_type": "markdown",
   "id": "11f07c5d-0460-4e31-af04-8a8ed1e8ee15",
   "metadata": {},
   "source": [
    "# KAS 코드 Documentation (Type 2, 4)<br>"
   ]
  },
  {
   "cell_type": "markdown",
   "id": "c331bb88-87fb-4f9b-b7e9-725d36082fd5",
   "metadata": {},
   "source": [
    "## 문서 정보\n",
    "#### 최초 작성일 : 2021-08-24\n",
    "#### 최초 작성자 : 최재휘<br>\n",
    "n차 수정일 : <추후 추가>..<br>\n",
    "n차 수정 내용 : <추후 추가>.."
   ]
  },
  {
   "cell_type": "markdown",
   "id": "53f67e0e-3eda-4908-b3e1-b307701b8921",
   "metadata": {},
   "source": [
    "## <br><br>전체 코드\n",
    "전체 코드는 크게 두 가지로 나뉨.<br>\n",
    "### 1. Type2_A.py<br>\n",
    "### 2. ConvType3to4_JsonAndCsv.py<br><br>"
   ]
  },
  {
   "cell_type": "markdown",
   "id": "3d92f1ae-5736-4d4e-9c30-56a7a577638d",
   "metadata": {},
   "source": [
    "## <br>설명<br>\n",
    "1. Type2_A.py는 Type1의 아웃풋, 즉 키워드와 문장으로만 이루어진 데이터(removed_duplicate_panrye_통합본_2021_8_10.json)<br>\n",
    "를 sentence, keyword, keywordOccurence, number 네 가지 속성으로 풀어놓는 코드이다.<br><br>\n",
    "2. ConvType3to4_JsonAndCsv.py는 Type3의 아웃풋, 즉 200자가 넘는 문장이 섞여있는 데이터(Type3_output.json)에서 trans기준 200자가 넘는 문장을 걸러내고 남은 문장만 출력하는 코드이다. "
   ]
  },
  {
   "cell_type": "markdown",
   "id": "3bc0e864-3894-4acf-81c8-0ce380ad0702",
   "metadata": {},
   "source": [
    "### <br><br><br><br><br><br><br><br><br><br>1. Type2_A.py"
   ]
  },
  {
   "cell_type": "markdown",
   "id": "fb2e7880-9e21-480b-885a-e8a5862cdd96",
   "metadata": {},
   "source": [
    "#### <br>개요"
   ]
  },
  {
   "cell_type": "markdown",
   "id": "6bb8cab4-a681-44d0-966e-57a879a377d6",
   "metadata": {},
   "source": [
    "키워드와 문장으로 이루어진 데이터를 sentence, word, wordOccurence, number로 펼침<br>\n",
    "removed_duplicate_panrye_통합본_2021_8_10.json을 받아서<br>\n",
    "type2_A_input.json을 내놓음"
   ]
  },
  {
   "cell_type": "markdown",
   "id": "7ca3dcfa-34b6-444d-b398-e36747fa7165",
   "metadata": {},
   "source": [
    "#### <br>라이브러리"
   ]
  },
  {
   "cell_type": "code",
   "execution_count": 2,
   "id": "68a969e0-641b-4d0e-be18-fac004ff3e1e",
   "metadata": {},
   "outputs": [],
   "source": [
    "import json\n",
    "from tqdm import tnrange, tqdm_notebook"
   ]
  },
  {
   "cell_type": "markdown",
   "id": "51d8f546-32b2-4784-8605-a12cd36ac2f3",
   "metadata": {},
   "source": [
    "#### <br>함수부"
   ]
  },
  {
   "cell_type": "code",
   "execution_count": 3,
   "id": "e0547ae9-278b-4a8c-a25f-a8aab74c8c19",
   "metadata": {},
   "outputs": [],
   "source": [
    "# 단어 하나가 문장에 여러번 등장했을때, 모든 위치를 리스트로 뽑아내는 함수.\n",
    "# list씌워야함\n",
    "\n",
    "def find_all(a_str, sub):\n",
    "    start = 0\n",
    "    while True:\n",
    "        start = a_str.find(sub, start)\n",
    "        if start == -1: return\n",
    "        yield start\n",
    "        start += len(sub) # use start += 1 to find overlapping matches\n",
    "        \n",
    "# ex) list(find_all('안녕안녕하세요', '안녕')) --> [0,2]"
   ]
  },
  {
   "cell_type": "code",
   "execution_count": 4,
   "id": "5697b633-1d35-456f-9d5a-8c483aa56350",
   "metadata": {},
   "outputs": [],
   "source": [
    "# 중복제거\n",
    "def remove_overlap(overlapped_list):\n",
    "    result = []\n",
    "    for i in overlapped_list:\n",
    "        if i not in result:\n",
    "            result.append(i)\n",
    "            \n",
    "    return result"
   ]
  },
  {
   "cell_type": "code",
   "execution_count": 5,
   "id": "12e494ad-7c6e-48a5-be71-a1b7caeefb0a",
   "metadata": {},
   "outputs": [],
   "source": [
    "# 숫자 리스트 받아와서 이에 맞게 다른 리스트의 순서 바꿔주는 함수.\n",
    "def sort_word_wordOcc(word, wordOccurence):    # 순서 바꿀 단어 리스트, 순서 알려주는 리스트\n",
    "#     try:\n",
    "    if len(word) == len(wordOccurence):\n",
    "        result = {}\n",
    "        for i in range(len(word)):\n",
    "            result.update({wordOccurence[i]['start']:word[i]})    # result = {wordOccurence:['start']:호환}\n",
    "\n",
    "        sorted_result = sorted(result.items())     # ex) [('1','원심'), (17:'원심'), (127:'호환'), (172:'호환'), (320:'원심')]\n",
    "        result_word = []\n",
    "        result_wordOcc = []\n",
    "\n",
    "        for i in range(0, len(word)):\n",
    "            result_word.append(sorted_result[i][1])\n",
    "            result_wordOcc.append({'start':sorted_result[i][0], 'end':sorted_result[i][0]+len(sorted_result[i][1])+1})\n",
    "        \n",
    "    else:\n",
    "        raise Exception('word와 word_Occurence 간 크기가 다릅니다.')\n",
    "        \n",
    "#     except Exception as e:\n",
    "#         print(\"예외가 발생했습니다.\", e)\n",
    "        \n",
    "    return result_word, result_wordOcc"
   ]
  },
  {
   "cell_type": "code",
   "execution_count": 8,
   "id": "54bd4158-7dbc-4d37-87d9-284aba0cb042",
   "metadata": {},
   "outputs": [],
   "source": [
    "# isdiff 두 문장을 갖고와서 같으면 0, 다르면 1을 출력하는 함수.\n",
    "def isdiff(sent_a, sent_b):\n",
    "    if sent_a == sent_b:\n",
    "        return 0\n",
    "    else:\n",
    "        return 1"
   ]
  },
  {
   "cell_type": "markdown",
   "id": "e9f76b35-af7a-4d9d-8f3c-65b95e443efd",
   "metadata": {},
   "source": [
    "#### <br>파일 읽어오기"
   ]
  },
  {
   "cell_type": "code",
   "execution_count": 9,
   "id": "9603538b-812b-4891-a4ef-5fb94c51aec3",
   "metadata": {},
   "outputs": [],
   "source": [
    "f = open('C:/Users/jayts/OneDrive/바탕 화면/Tictag/json/KAS/removed_duplicate_panrye_통합본_2021_8_10.json', 'r', encoding='UTF8')    # type3를 통해 추출된 json파일 읽어들이기\n",
    "# f = open('C:/Users/jayts/OneDrive/바탕 화면/Tictag/json/KAS/removed_dup_example.json', 'r', encoding='UTF8')    # type3를 통해 추출된 json파일 읽어들이기\n",
    "sent_example = json.load(f)"
   ]
  },
  {
   "cell_type": "markdown",
   "id": "279a32e2-36d3-46bc-8bcb-595715cc3b9c",
   "metadata": {},
   "source": [
    "#### <br>numbering하고 키워드 찾아내서 ^^로 표시"
   ]
  },
  {
   "cell_type": "code",
   "execution_count": 10,
   "id": "2fae0502-4d0b-4a11-bbc0-0bbf796425d8",
   "metadata": {},
   "outputs": [
    {
     "name": "stderr",
     "output_type": "stream",
     "text": [
      "<ipython-input-10-11922f6c9314>:7: TqdmDeprecationWarning: Please use `tqdm.notebook.trange` instead of `tqdm.tnrange`\n",
      "  for i in tnrange(len(key_list)):\n"
     ]
    },
    {
     "data": {
      "application/vnd.jupyter.widget-view+json": {
       "model_id": "21ba081affb04bc4893bbec730bd400c",
       "version_major": 2,
       "version_minor": 0
      },
      "text/plain": [
       "  0%|          | 0/2862 [00:00<?, ?it/s]"
      ]
     },
     "metadata": {},
     "output_type": "display_data"
    }
   ],
   "source": [
    "# sent_to_input + numbering\n",
    "type2_A_input = {}\n",
    "key_list = sorted(list(sent_example.keys()), key=len)    # 어려운 단어 리스트. 글자수가 더 많은 키워드를 먼저 ^^로 태깅하면 문제가 생김. 그래서 오름차순 정렬함\n",
    "keyword_pos = []\n",
    "tag = '^'\n",
    "\n",
    "for i in tnrange(len(key_list)):\n",
    "    type2_A_input.update({key_list[i]:[]})\n",
    "    \n",
    "    for j in range(len(sent_example[key_list[i]])):\n",
    "        sentence = sent_example[key_list[i]][j]\n",
    "        type2_A_input[key_list[i]].append({'sentence':sentence, 'word':[], 'wordOccurence':[], 'number':j})\n",
    "            \n",
    "        # 키데이터 중 문장에 있는 키워드 찾아내기\n",
    "        for k in range(len(key_list)):    # 모든 키워드에 대해 시행\n",
    "            tagged_keyword = tag + key_list[k] + tag\n",
    "            if sentence[0:len(key_list[k])] == key_list[k]:    # 문장 첫 단어로 키워드가 있을 때..\n",
    "                sentence = sentence.replace(key_list[k], tagged_keyword)\n",
    "                count = len(list(find_all(sentence, key_list[k])))\n",
    "                type2_A_input[key_list[i]][j].update({'sentence':sentence})\n",
    "                for l in range(count):\n",
    "                    type2_A_input[key_list[i]][j]['word'].append(key_list[k])\n",
    "                \n",
    "                \n",
    "            elif sentence.find(' '+key_list[k]) != -1:    # 문장 첫 단어로 키워드가 있을 때..\n",
    "                sentence = sentence.replace(key_list[k], tagged_keyword)\n",
    "                count = len(list(find_all(sentence, key_list[k])))\n",
    "                type2_A_input[key_list[i]][j].update({'sentence':sentence})\n",
    "                for l in range(count):\n",
    "                    type2_A_input[key_list[i]][j]['word'].append(key_list[k])\n",
    "                \n",
    "            else:\n",
    "                pass"
   ]
  },
  {
   "cell_type": "markdown",
   "id": "c642495a-ce6f-4412-83a8-44854b2de335",
   "metadata": {},
   "source": [
    "#### <br>태그된 단어 기준 wordOccurence 위치 업데이트"
   ]
  },
  {
   "cell_type": "code",
   "execution_count": 11,
   "id": "34c30017-90ac-4d35-b39b-05aa65b5d756",
   "metadata": {},
   "outputs": [
    {
     "name": "stderr",
     "output_type": "stream",
     "text": [
      "<ipython-input-11-a2851908ec07>:2: TqdmDeprecationWarning: Please use `tqdm.notebook.trange` instead of `tqdm.tnrange`\n",
      "  for i in tnrange(len(key_list)):\n"
     ]
    },
    {
     "data": {
      "application/vnd.jupyter.widget-view+json": {
       "model_id": "92eaad3c041141b8968ca3936da455cc",
       "version_major": 2,
       "version_minor": 0
      },
      "text/plain": [
       "  0%|          | 0/2862 [00:00<?, ?it/s]"
      ]
     },
     "metadata": {},
     "output_type": "display_data"
    }
   ],
   "source": [
    "# 태그된 단어를 참고하여 wordOccurence 업데이트.\n",
    "for i in tnrange(len(key_list)):\n",
    "    for j in range(len(sent_example[key_list[i]])):\n",
    "        key_list_small = type2_A_input[key_list[i]][j]['word']\n",
    "        key_list_small_not_overlapped = remove_overlap(key_list_small)\n",
    "        for k in range(len(key_list_small_not_overlapped)):    # 문장 속 존재하는 키워드들에 대해 시행\n",
    "            sentence = type2_A_input[key_list[i]][j]['sentence']\n",
    "            start = list(find_all(sentence, key_list_small_not_overlapped[k]))\n",
    "            for l in range(len(start)):\n",
    "                type2_A_input[key_list[i]][j]['wordOccurence'].append({'start':start[l]-1, 'end':start[l]+len(key_list[k])+1})"
   ]
  },
  {
   "cell_type": "markdown",
   "id": "73d03e6b-1571-4b02-9eeb-7a2f39c42b6a",
   "metadata": {},
   "source": [
    "#### <br>word와 wordOccurence 문장에 등장하는 순서대로 정렬"
   ]
  },
  {
   "cell_type": "code",
   "execution_count": 12,
   "id": "878c062e-d44a-4334-8f61-5ca2b871e61f",
   "metadata": {},
   "outputs": [
    {
     "name": "stderr",
     "output_type": "stream",
     "text": [
      "<ipython-input-12-891784168793>:2: TqdmDeprecationWarning: Please use `tqdm.notebook.trange` instead of `tqdm.tnrange`\n",
      "  for i in tnrange(len(key_list)):\n"
     ]
    },
    {
     "data": {
      "application/vnd.jupyter.widget-view+json": {
       "model_id": "f9cd4d7225b44cebac73a9cf0f5eac7a",
       "version_major": 2,
       "version_minor": 0
      },
      "text/plain": [
       "  0%|          | 0/2862 [00:00<?, ?it/s]"
      ]
     },
     "metadata": {},
     "output_type": "display_data"
    }
   ],
   "source": [
    "# word와 wordOccurence 직관적으로 정렬.\n",
    "for i in tnrange(len(key_list)):\n",
    "    for j in range(len(sent_example[key_list[i]])):\n",
    "        keyword = type2_A_input[key_list[i]][j]['word']\n",
    "        tagged_keyword_pos = type2_A_input[key_list[i]][j]['wordOccurence']\n",
    "        result_word, result_wordOcc = sort_word_wordOcc(keyword, tagged_keyword_pos)\n",
    "        type2_A_input[key_list[i]][j]['word'] = result_word\n",
    "        type2_A_input[key_list[i]][j]['wordOccurence'] = result_wordOcc"
   ]
  },
  {
   "cell_type": "markdown",
   "id": "3d9e11ef-e01f-4b3a-94aa-fee68b828070",
   "metadata": {},
   "source": [
    "#### <br>json 파일로 출력"
   ]
  },
  {
   "cell_type": "code",
   "execution_count": 14,
   "id": "c9a7f8cf-ac29-47d3-9a29-2dabdf516f23",
   "metadata": {},
   "outputs": [],
   "source": [
    "# json 파일로 저장\n",
    "with open('C:/Users/jayts/OneDrive/바탕 화면/Tictag/json/KAS/type2_A_input.json', 'w', encoding='UTF8') as json_file:\n",
    "# with open('C:/Users/jayts/OneDrive/바탕 화면/Tictag/json/KAS/type2_A_input_example.json', 'w', encoding='UTF8') as json_file:\n",
    "    json.dump(type2_A_input, json_file, indent=4, ensure_ascii=False,)"
   ]
  },
  {
   "cell_type": "markdown",
   "id": "11e64b4e-cce0-4b26-99d2-524f5982ab59",
   "metadata": {},
   "source": [
    "## <br><br><br><br><br><br><br><br><br><br><br>2. ConvType3to4_JsonAndCsv.py"
   ]
  },
  {
   "cell_type": "markdown",
   "id": "fce5f10a-61a1-413b-bdac-624cc2d975a3",
   "metadata": {},
   "source": [
    "#### <br>개요"
   ]
  },
  {
   "cell_type": "markdown",
   "id": "085121b4-895f-49a7-8981-c29e62bfe279",
   "metadata": {},
   "source": [
    "type3_output data를 type4_input data로, JSON 형식으로 출력하는 코드 (coded_by_JaeWhee Choi)<br>\n",
    "즉, 어려운 단어를 쉬운 키워드로 치환한 문장(type3_output) 중 200자가 넘는 문장만을 뽑아내는 코드 (type4를 위한 input data 생성)<br>\n",
    "type3_output.json을 받아서<br>\n",
    "type4_input.json과 long_sentence.csv을 내놓음"
   ]
  },
  {
   "cell_type": "markdown",
   "id": "95f4f57b-d473-47e1-aa55-463628b65da3",
   "metadata": {},
   "source": [
    "### <br>라이브러리"
   ]
  },
  {
   "cell_type": "code",
   "execution_count": 2,
   "id": "b77aa1eb-7b6d-4919-9ebb-d4fd82ffbdb5",
   "metadata": {},
   "outputs": [],
   "source": [
    "import json\n",
    "import csv"
   ]
  },
  {
   "cell_type": "markdown",
   "id": "06a43f77-19ce-408d-bed0-92e808e46a59",
   "metadata": {},
   "source": [
    "### <br>파일호출"
   ]
  },
  {
   "cell_type": "code",
   "execution_count": 3,
   "id": "4b93d4ee-00cc-4de0-9714-988d2589cd92",
   "metadata": {},
   "outputs": [],
   "source": [
    "f = open('C:/Users/jayts/OneDrive/바탕 화면/Tictag/json/KAS/type3_output.json', 'r', encoding='UTF8')    # type3를 통해 추출된 json파일 읽어들이기\n",
    "difficult_word = json.load(f)"
   ]
  },
  {
   "cell_type": "markdown",
   "id": "90c624fe-d6f0-4131-8746-3a5fdbe7847f",
   "metadata": {},
   "source": [
    "### <br>변수 초기화"
   ]
  },
  {
   "cell_type": "code",
   "execution_count": 4,
   "id": "d0f46b0f-d6a2-47fb-920c-66ff05bf8183",
   "metadata": {},
   "outputs": [],
   "source": [
    "key_list1 = list(difficult_word.keys())    # 어려운 단어 리스트\n",
    "key_list2 = list(difficult_word[key_list1[0]][0].keys())    # origin, trans, keyword, keywordOccurence\n",
    "\n",
    "# long_sentence 초기화. 행정처분 안에 딕셔너리 여러개.(리스트)\n",
    "long_sentence = {}\n",
    "long_sentence.update(difficult_word)"
   ]
  },
  {
   "cell_type": "markdown",
   "id": "2ae22115-37d8-43b9-95a3-b311e2ca615b",
   "metadata": {},
   "source": [
    "### <br>trans기준 200자 넘는 문장 컷"
   ]
  },
  {
   "cell_type": "code",
   "execution_count": 5,
   "id": "6827cccb-cc6d-4e60-83d3-f581b6093a24",
   "metadata": {},
   "outputs": [],
   "source": [
    "for i in range(0, len(key_list1)):    # j, k 순서 유지를 위해 뒤에서부터 삭제\n",
    "    for j in range(len(difficult_word[key_list1[i]])-1, -1, -1):\n",
    "        for k in range(len(key_list2)-1, -1, -1):\n",
    "            if (len(difficult_word[key_list1[i]][j][\"trans\"]))<=200:\n",
    "                del(long_sentence[key_list1[i]][j])"
   ]
  },
  {
   "cell_type": "markdown",
   "id": "5adcdcdb-c85f-42e7-ba2a-fcc4bde9dce2",
   "metadata": {},
   "source": [
    "### <br>JSON으로 저장"
   ]
  },
  {
   "cell_type": "code",
   "execution_count": 6,
   "id": "b8f080fa-75a0-4d68-963a-8a291f508e58",
   "metadata": {},
   "outputs": [],
   "source": [
    "# json 파일로 저장\n",
    "with open('C:/Users/jayts/OneDrive/바탕 화면/Tictag/json/KAS/type4_input.json', 'w', encoding='UTF8') as json_file:\n",
    "    json.dump(long_sentence, json_file, indent=4, ensure_ascii=False,)"
   ]
  },
  {
   "cell_type": "code",
   "execution_count": 7,
   "id": "2eed4a0b-57fe-4edd-b7e6-45a9d9aafcc7",
   "metadata": {},
   "outputs": [],
   "source": [
    "for i in range(len(key_list1)):\n",
    "    for j in range(len(long_sentence[key_list1[i]])):\n",
    "        long_sentence[key_list1[i]][j].update({'word':key_list1[i]})"
   ]
  },
  {
   "cell_type": "markdown",
   "id": "f85dab75-37c4-48b1-9643-5020844bfd17",
   "metadata": {},
   "source": [
    "### <br>CSV로 저장"
   ]
  },
  {
   "cell_type": "code",
   "execution_count": 8,
   "id": "b48654e3-9f66-48e5-a9e3-ccf48e57d391",
   "metadata": {},
   "outputs": [],
   "source": [
    "with open('C:/Users/jayts/OneDrive/바탕 화면/Tictag/json/KAS/long_sentence.csv', 'w', newline='') as file:\n",
    "    fieldnames=['word', 'origin', 'trans', 'keyword', 'keywordOccurence']\n",
    "    writer = csv.DictWriter(file, fieldnames=fieldnames)\n",
    "    writer.writeheader()\n",
    "    for i in range(len(long_sentence)):\n",
    "        for j in range(len(long_sentence[key_list1[i]])):\n",
    "            writer.writerow(long_sentence[key_list1[i]][j])"
   ]
  }
 ],
 "metadata": {
  "kernelspec": {
   "display_name": "Python 3",
   "language": "python",
   "name": "python3"
  },
  "language_info": {
   "codemirror_mode": {
    "name": "ipython",
    "version": 3
   },
   "file_extension": ".py",
   "mimetype": "text/x-python",
   "name": "python",
   "nbconvert_exporter": "python",
   "pygments_lexer": "ipython3",
   "version": "3.8.8"
  }
 },
 "nbformat": 4,
 "nbformat_minor": 5
}
