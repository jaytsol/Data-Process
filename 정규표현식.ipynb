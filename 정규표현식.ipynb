{
 "cells": [
  {
   "cell_type": "code",
   "execution_count": 75,
   "id": "8c08b8ff-74e8-45d4-9407-9700e9f18b7b",
   "metadata": {},
   "outputs": [],
   "source": [
    "import re\n",
    "from tqdm.notebook import tnrange\n",
    "import csv\n",
    "import json\n",
    "from os import walk\n",
    "import os\n",
    "import pandas as pd\n",
    "import datetime"
   ]
  },
  {
   "cell_type": "code",
   "execution_count": 2,
   "id": "7f39df5b-1b6f-473f-990a-86149668ab1b",
   "metadata": {},
   "outputs": [],
   "source": [
    "# 해당 경로의 파일리스트 추출\n",
    "def get_filelist(input_repo):\n",
    "    file_list = []\n",
    "    for (dirpath, dirnames, filenames) in walk(input_repo):\n",
    "        file_list.extend(filenames)\n",
    "        break\n",
    "\n",
    "    return file_list"
   ]
  },
  {
   "cell_type": "code",
   "execution_count": 3,
   "id": "cbe518d8-e7a5-4133-aa22-ce13a46ec380",
   "metadata": {},
   "outputs": [],
   "source": [
    "# 해당 경로의 csv파일의 경로+파일명 리스트 추출\n",
    "def get_csvlist(input_repo, file_list):\n",
    "    csv_list = []\n",
    "    for i in range(len(file_list)):\n",
    "        filename, file_extension = os.path.splitext(f'{input_repo}/{file_list[i]}')\n",
    "\n",
    "        if file_extension == '.csv':\n",
    "            csv_list.append(filename+file_extension)\n",
    "\n",
    "    return csv_list"
   ]
  },
  {
   "cell_type": "code",
   "execution_count": 4,
   "id": "e070477b-baa7-44b0-809f-dbcd698f8f67",
   "metadata": {},
   "outputs": [],
   "source": [
    "def concat_csvfile(csv_list):\n",
    "    COLUMNS = ['lineNumber', 'originalText', 'transcription']\n",
    "    result = pd.concat([pd.read_csv(f) for f in csv_list])    # 라인넘버 기준 안합친파일 합치기\n",
    "    sorted_result_not_flat = result.sort_values(by=['lineNumber'])    # 작업물 sort by lineNumber\n",
    "    sorted_result_not_flat.to_csv(f'{output_repo}/temp.csv', index=False, encoding='utf-8-sig')\n",
    "    sorted_result = pd.read_csv(f'{output_repo}/temp.csv')\n",
    "    os.remove(f'{output_repo}/temp.csv')\n",
    "    \n",
    "    return sorted_result"
   ]
  },
  {
   "cell_type": "code",
   "execution_count": 5,
   "id": "e63cf952-d601-4b2f-9a69-204dd6724eb9",
   "metadata": {},
   "outputs": [],
   "source": [
    "# csv형태로 저장\n",
    "def save_as_csv(input_repo, output_repo, result):\n",
    "    year = str(datetime.datetime.now().year)[2:]\n",
    "    month = str(datetime.datetime.now().month)\n",
    "    day = str(datetime.datetime.now().day)\n",
    "    hour = str(datetime.datetime.now().hour)\n",
    "    minute = str(datetime.datetime.now().minute)\n",
    "\n",
    "    print(f'{output_repo}의 경로에 통합_검수본_{year}{month}{day}_{hour}{minute}.csv의 이름으로 파일 생성이 완료되었습니다.')\n",
    "\n",
    "    result.to_csv(f'{output_repo}/통합_검수본_{year}{month}{day}_{hour}{minute}.csv', index=False, encoding='utf-8-sig')"
   ]
  },
  {
   "cell_type": "code",
   "execution_count": 174,
   "id": "a6060763-4ad7-4ff2-99e2-6015a8237584",
   "metadata": {},
   "outputs": [],
   "source": [
    "# 문장으로부터 법률어휘 추출\n",
    "def draw_word(sentence):\n",
    "    regex = re.compile('(?<=\\<=).*(?=\\>)')\n",
    "    result = regex.search(sentence)\n",
    "    \n",
    "    return result.group()"
   ]
  },
  {
   "cell_type": "code",
   "execution_count": 7,
   "id": "c5e89c1b-65e0-4b81-a500-5a1ee02ec85b",
   "metadata": {},
   "outputs": [
    {
     "ename": "SyntaxError",
     "evalue": "invalid syntax (<ipython-input-7-9f05263e7da9>, line 2)",
     "output_type": "error",
     "traceback": [
      "\u001b[0;36m  File \u001b[0;32m\"<ipython-input-7-9f05263e7da9>\"\u001b[0;36m, line \u001b[0;32m2\u001b[0m\n\u001b[0;31m    if sorted_result['transcription'][i]\u001b[0m\n\u001b[0m                                        ^\u001b[0m\n\u001b[0;31mSyntaxError\u001b[0m\u001b[0;31m:\u001b[0m invalid syntax\n"
     ]
    }
   ],
   "source": [
    "for i in range(len(sorted_result)):\n",
    "    if sorted_result['transcription'][i]"
   ]
  },
  {
   "cell_type": "code",
   "execution_count": 11,
   "id": "0f2e4ec5-c5cf-4ced-a62b-c800e7c221b5",
   "metadata": {},
   "outputs": [],
   "source": [
    "input_repo = '/Users/jaytsol/Desktop/Type23 (2)/누적/concat'\n",
    "output_repo = '/Users/jaytsol/Desktop/Type23 (2)/누적/accum_concat/법률어휘 남은거만 뽑아냄'\n",
    "\n",
    "input_filename = ''"
   ]
  },
  {
   "cell_type": "code",
   "execution_count": 12,
   "id": "e0e37868-39ca-4954-9195-5109aaeb8ac3",
   "metadata": {},
   "outputs": [],
   "source": [
    "file_list = get_filelist(input_repo)\n",
    "csv_list = get_csvlist(input_repo, file_list)\n",
    "sorted_result = concat_csvfile(csv_list)\n",
    "# save_as_csv(input_repo, output_repo, sorted_result)"
   ]
  },
  {
   "cell_type": "code",
   "execution_count": 13,
   "id": "ebe8d06b-f551-4ef8-96e9-829da4ef8063",
   "metadata": {},
   "outputs": [],
   "source": [
    "# 이전의 <<<이후에 바로 <=가 있지 않으면 .."
   ]
  },
  {
   "cell_type": "code",
   "execution_count": 76,
   "id": "513a8cd9-25ca-4be1-8dab-229b6f22f92a",
   "metadata": {},
   "outputs": [],
   "source": [
    "p = re.compile('\\<{3}.*?\\>{3}')"
   ]
  },
  {
   "cell_type": "code",
   "execution_count": 77,
   "id": "e5aaf789-982c-4267-8fc0-3a298b9ff1ee",
   "metadata": {},
   "outputs": [],
   "source": [
    "m = p.findall(sorted_result['transcription'][0])"
   ]
  },
  {
   "cell_type": "code",
   "execution_count": 78,
   "id": "025db45f-ea3c-4018-ab04-8ff348119af9",
   "metadata": {},
   "outputs": [
    {
     "data": {
      "text/plain": [
       "'<<<직전의 재판<=원심>판결 이유에>>> 의하면, <<<직전의 재판<=원심>은 이>>> 사건 행위가 공정거래법 제3조의2 제1항 제3호에 규정된 ‘다른 사업자의 사업활동을 방해하는 행위’로서 부당한 것인지 <<<맞거나 틀림<=여부>을 판단함에>>> 있어 그 여러 고려할 사항 중의 하나로, 음악파일의 상호호환을 강제할 법률적 근거는 없으므로, <<<민사소송에서 소송을 당한 사람<=피고>이 별도의>>> 입법조치 없이 <<<민사소송을 일으킨 사람<=원고>에게 연결되는 데 문제가 없음<=호환>은 기술의>>> 사용을 요구하거나 이를 의무화하는 것은 그 권한 범위를 넘어서는 것이라는 <<<목적이나 요지<=취지>로 설시하였음을>>> 알 수 있고, 이 사건 행위가 공정거래법 제3조의2 제1항 제3호에 규정된 ‘다른 사업자의 사업활동을 방해하는 행위’로서 부당하다고 볼 수 없다고 본 <<<직전의 재판<=원심>의 판단은>>> 정당하므로, 거기에 <<<원심 판결에 불복해 재심사 요청<=상고>이유에서 주장하는>>> 바와 같은 <<<잘못된 것을 바로잡는 것<=시정>은 명령의 해석에>>> 관한 <<<법률의 근본 원리<=법리> 오해의 법령에 어긋남<=위법>이>>> 없다.'"
      ]
     },
     "execution_count": 78,
     "metadata": {},
     "output_type": "execute_result"
    }
   ],
   "source": [
    "sorted_result['transcription'][0]"
   ]
  },
  {
   "cell_type": "code",
   "execution_count": 79,
   "id": "dbfff57b-97e7-40a7-9e61-2a59e7218e41",
   "metadata": {},
   "outputs": [
    {
     "data": {
      "text/plain": [
       "['<<<직전의 재판<=원심>판결 이유에>>>',\n",
       " '<<<직전의 재판<=원심>은 이>>>',\n",
       " '<<<맞거나 틀림<=여부>을 판단함에>>>',\n",
       " '<<<민사소송에서 소송을 당한 사람<=피고>이 별도의>>>',\n",
       " '<<<민사소송을 일으킨 사람<=원고>에게 연결되는 데 문제가 없음<=호환>은 기술의>>>',\n",
       " '<<<목적이나 요지<=취지>로 설시하였음을>>>',\n",
       " '<<<직전의 재판<=원심>의 판단은>>>',\n",
       " '<<<원심 판결에 불복해 재심사 요청<=상고>이유에서 주장하는>>>',\n",
       " '<<<잘못된 것을 바로잡는 것<=시정>은 명령의 해석에>>>',\n",
       " '<<<법률의 근본 원리<=법리> 오해의 법령에 어긋남<=위법>이>>>']"
      ]
     },
     "execution_count": 79,
     "metadata": {},
     "output_type": "execute_result"
    }
   ],
   "source": [
    "m"
   ]
  },
  {
   "cell_type": "code",
   "execution_count": 80,
   "id": "3104eb5b-12bd-4ca2-b22c-3b363a471a0f",
   "metadata": {},
   "outputs": [],
   "source": [
    "m_without_3tag = []\n",
    "for i in range(len(m)):\n",
    "    m_without_3tag.append(m[i].replace('<<<', '').replace('>>>', ''))"
   ]
  },
  {
   "cell_type": "code",
   "execution_count": 81,
   "id": "3c09c7c7-ee8e-474e-9bd2-68d7321ae897",
   "metadata": {},
   "outputs": [
    {
     "data": {
      "text/plain": [
       "['직전의 재판<=원심>판결 이유에',\n",
       " '직전의 재판<=원심>은 이',\n",
       " '맞거나 틀림<=여부>을 판단함에',\n",
       " '민사소송에서 소송을 당한 사람<=피고>이 별도의',\n",
       " '민사소송을 일으킨 사람<=원고>에게 연결되는 데 문제가 없음<=호환>은 기술의',\n",
       " '목적이나 요지<=취지>로 설시하였음을',\n",
       " '직전의 재판<=원심>의 판단은',\n",
       " '원심 판결에 불복해 재심사 요청<=상고>이유에서 주장하는',\n",
       " '잘못된 것을 바로잡는 것<=시정>은 명령의 해석에',\n",
       " '법률의 근본 원리<=법리> 오해의 법령에 어긋남<=위법>이']"
      ]
     },
     "execution_count": 81,
     "metadata": {},
     "output_type": "execute_result"
    }
   ],
   "source": [
    "m_without_3tag"
   ]
  },
  {
   "cell_type": "code",
   "execution_count": 82,
   "id": "3e4c23eb-31eb-4d39-aaa3-8fa4ae30dc32",
   "metadata": {},
   "outputs": [
    {
     "ename": "SyntaxError",
     "evalue": "invalid syntax (<ipython-input-82-1b0e2d9611ce>, line 3)",
     "output_type": "error",
     "traceback": [
      "\u001b[0;36m  File \u001b[0;32m\"<ipython-input-82-1b0e2d9611ce>\"\u001b[0;36m, line \u001b[0;32m3\u001b[0m\n\u001b[0;31m    if m_without_3tag[i]\u001b[0m\n\u001b[0m                        ^\u001b[0m\n\u001b[0;31mSyntaxError\u001b[0m\u001b[0;31m:\u001b[0m invalid syntax\n"
     ]
    }
   ],
   "source": [
    "q = re.compile('\\<=*?\\>')\n",
    "for i in range(len(n)):\n",
    "    if m_without_3tag[i]"
   ]
  },
  {
   "cell_type": "code",
   "execution_count": 167,
   "id": "7ba1f6f1-ae7a-4766-ac40-2e4a3c815b28",
   "metadata": {},
   "outputs": [],
   "source": [
    "q = re.compile('(?<=\\<=).*(?=\\>)')"
   ]
  },
  {
   "cell_type": "code",
   "execution_count": 168,
   "id": "ba42841c-0e8e-41de-9c64-219cc090b0e0",
   "metadata": {},
   "outputs": [
    {
     "data": {
      "text/plain": [
       "'직전의 재판<=원심>판결 이유에'"
      ]
     },
     "execution_count": 168,
     "metadata": {},
     "output_type": "execute_result"
    }
   ],
   "source": [
    "m_without_3tag[0]"
   ]
  },
  {
   "cell_type": "code",
   "execution_count": 169,
   "id": "46756796-7f2a-4adb-9ab6-bff6b15c22eb",
   "metadata": {},
   "outputs": [],
   "source": [
    "m_without_all_tag = q.search(m_without_3tag[0])"
   ]
  },
  {
   "cell_type": "code",
   "execution_count": 173,
   "id": "a5b6794f-7ecd-43a0-9f1f-d932095a2fe6",
   "metadata": {},
   "outputs": [
    {
     "data": {
      "text/plain": [
       "'원심'"
      ]
     },
     "execution_count": 173,
     "metadata": {},
     "output_type": "execute_result"
    }
   ],
   "source": [
    "m_without_all_tag.group()"
   ]
  },
  {
   "cell_type": "code",
   "execution_count": 171,
   "id": "fa713db7-5391-47a5-893d-5f09a30a1b3e",
   "metadata": {},
   "outputs": [
    {
     "ename": "TypeError",
     "evalue": "'re.Match' object is not iterable",
     "output_type": "error",
     "traceback": [
      "\u001b[0;31m---------------------------------------------------------------------------\u001b[0m",
      "\u001b[0;31mTypeError\u001b[0m                                 Traceback (most recent call last)",
      "\u001b[0;32m<ipython-input-171-1ec16aaacf32>\u001b[0m in \u001b[0;36m<module>\u001b[0;34m\u001b[0m\n\u001b[0;32m----> 1\u001b[0;31m \u001b[0;32mfor\u001b[0m \u001b[0mi\u001b[0m \u001b[0;32min\u001b[0m \u001b[0mm_without_all_tag\u001b[0m\u001b[0;34m:\u001b[0m\u001b[0;34m\u001b[0m\u001b[0;34m\u001b[0m\u001b[0m\n\u001b[0m\u001b[1;32m      2\u001b[0m     \u001b[0mprint\u001b[0m\u001b[0;34m(\u001b[0m\u001b[0mi\u001b[0m\u001b[0;34m)\u001b[0m\u001b[0;34m\u001b[0m\u001b[0;34m\u001b[0m\u001b[0m\n",
      "\u001b[0;31mTypeError\u001b[0m: 're.Match' object is not iterable"
     ]
    }
   ],
   "source": [
    "for i in m_without_all_tag:\n",
    "    print(i)"
   ]
  },
  {
   "cell_type": "code",
   "execution_count": 154,
   "id": "6a98cf15-11e9-4015-956c-2dcff9eeacac",
   "metadata": {},
   "outputs": [],
   "source": [
    "m_without_all_tag"
   ]
  },
  {
   "cell_type": "code",
   "execution_count": null,
   "id": "9ac54d4b-0707-4a16-8a39-4d522472d733",
   "metadata": {},
   "outputs": [],
   "source": []
  }
 ],
 "metadata": {
  "kernelspec": {
   "display_name": "Python 3",
   "language": "python",
   "name": "python3"
  },
  "language_info": {
   "codemirror_mode": {
    "name": "ipython",
    "version": 3
   },
   "file_extension": ".py",
   "mimetype": "text/x-python",
   "name": "python",
   "nbconvert_exporter": "python",
   "pygments_lexer": "ipython3",
   "version": "3.8.8"
  }
 },
 "nbformat": 4,
 "nbformat_minor": 5
}
