{
 "cells": [
  {
   "cell_type": "code",
   "execution_count": 1,
   "id": "64dd56bd-efcf-476b-a1e7-e5bd06e4f2d0",
   "metadata": {},
   "outputs": [],
   "source": [
    "# type4_input.json을 output을 csv파일로 출력"
   ]
  },
  {
   "cell_type": "code",
   "execution_count": 2,
   "id": "6244ea40-a434-4360-9c2a-96598055bf37",
   "metadata": {},
   "outputs": [],
   "source": [
    "import json\n",
    "import csv"
   ]
  },
  {
   "cell_type": "code",
   "execution_count": 3,
   "id": "5471145b-fc44-448b-bf91-2324fb573392",
   "metadata": {},
   "outputs": [],
   "source": [
    "f = open('C:/Users/jayts/OneDrive/바탕 화면/Tictag/json/KAS/type4_input.json', 'r', encoding='UTF8')\n",
    "long_sentence = json.load(f)\n",
    "f.close()"
   ]
  },
  {
   "cell_type": "code",
   "execution_count": 4,
   "id": "ac13b2de-cfb1-4fcd-8414-fac5aacf4a5c",
   "metadata": {},
   "outputs": [],
   "source": [
    "key_list1 = list(long_sentence.keys())    # 어려운 단어 리스트\n",
    "key_list2 = list(long_sentence[key_list1[0]][0].keys())    # origin, trans, keyword, keywordOccurence "
   ]
  },
  {
   "cell_type": "code",
   "execution_count": 5,
   "id": "5f09bee2-4f4c-48ab-9a77-5dfbb5d78ee2",
   "metadata": {},
   "outputs": [],
   "source": [
    "for i in range(len(key_list1)):\n",
    "    for j in range(len(long_sentence[key_list1[i]])):\n",
    "        long_sentence[key_list1[i]][j].update({'word':key_list1[i]})"
   ]
  },
  {
   "cell_type": "code",
   "execution_count": 6,
   "id": "2c0b4013-03ff-4dbe-8cdc-2f09950f9247",
   "metadata": {},
   "outputs": [],
   "source": [
    "with open('C:/Users/jayts/OneDrive/바탕 화면/Tictag/json/KAS/long_sentence.csv', 'w', newline='') as file:\n",
    "    fieldnames=['word', 'origin', 'trans', 'keyword', 'keywordOccurence']\n",
    "    writer = csv.DictWriter(file, fieldnames=fieldnames)\n",
    "    writer.writeheader()\n",
    "    for i in range(len(long_sentence)):\n",
    "        for j in range(len(long_sentence[key_list1[i]])):\n",
    "            writer.writerow(long_sentence[key_list1[i]][j])"
   ]
  },
  {
   "cell_type": "code",
   "execution_count": 9,
   "id": "9a03f058-ec6c-4d7c-bdec-66091e3391f5",
   "metadata": {},
   "outputs": [
    {
     "data": {
      "text/plain": [
       "{'origin': '행정청이 구체적인 사실에 관한 집행의 무효확인 또는 취소를 구하는 소가 소송을 제기할 당시에는 소송의 목적이 있어 적법하였더라도, 소송 계속 중 처분청이 다툼의 대상이 되는 행정청이 구체적인 사실에 관한 집행을 직권으로 취소하면 그 처분은 효력을 상실하여 더 이상 존재하지 않는 것이므로, 존재하지 않는 처분을 대상으로 한 행정청의 위법한 처분 등을 취소 또는 변경하는 소송은 원칙적으로 소송의 목적이 소멸하여 부적법하다고 보아야 한다.',\n",
       " 'trans': '행정청이 구체적인 사실에 관한 집행의 무효확인 또는 취소를 구하는 소가 소송을 제기할 당시에는 소송의 목적이 있어 적법하였더라도, 소송 계속 중 처분청이 다툼의 대상이 되는 행정청이 구체적인 사실에 관한 집행을 직권으로 취소하면 그 처분은 효력을 상실하여 더 이상 존재하지 않는 것이므로, 존재하지 않는 처분을 대상으로 한 행정청의 위법한 처분 등을 취소 또는 변경하는 소송은 원칙적으로 소송의 목적이 소멸하여 부적법하다고 보아야 한다.',\n",
       " 'keyword': ['행정청이 구체적인 사실에 관한 집행의 무효확인',\n",
       "  '소송을 제기핦 당시에는',\n",
       "  '소송의 목적이 있어',\n",
       "  '행정청이 구체적인 사실에 관한 집행을 직권으로',\n",
       "  '행정청의 위법한 처분 등을 취소 또는 변경하는 소송은 원칙적으로',\n",
       "  '소송의 목적이 소멸하여'],\n",
       " 'keywordOccurence': [{'start': 0, 'end': 25},\n",
       "  {'start': 40, 'end': 50},\n",
       "  {'start': 51, 'end': 61},\n",
       "  {'start': 95, 'end': 120},\n",
       "  {'start': 179, 'end': 214},\n",
       "  {'start': 215, 'end': 227}],\n",
       " 'word': '행정처분'}"
      ]
     },
     "execution_count": 9,
     "metadata": {},
     "output_type": "execute_result"
    }
   ],
   "source": [
    "long_sentence['행정처분'][0]"
   ]
  },
  {
   "cell_type": "code",
   "execution_count": null,
   "id": "05ddbe7b-c630-4040-8493-6a415374b643",
   "metadata": {},
   "outputs": [],
   "source": []
  }
 ],
 "metadata": {
  "kernelspec": {
   "display_name": "Python 3",
   "language": "python",
   "name": "python3"
  },
  "language_info": {
   "codemirror_mode": {
    "name": "ipython",
    "version": 3
   },
   "file_extension": ".py",
   "mimetype": "text/x-python",
   "name": "python",
   "nbconvert_exporter": "python",
   "pygments_lexer": "ipython3",
   "version": "3.8.8"
  }
 },
 "nbformat": 4,
 "nbformat_minor": 5
}
