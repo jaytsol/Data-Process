{
 "cells": [
  {
   "cell_type": "markdown",
   "id": "4109ef84-9626-4b64-853d-bccc574606f3",
   "metadata": {},
   "source": [
    "# 타입B 중간보스"
   ]
  },
  {
   "cell_type": "code",
   "execution_count": 1,
   "id": "21bc0237-3e53-4a06-ace3-b71cb9ea0223",
   "metadata": {},
   "outputs": [],
   "source": [
    "import re\n",
    "from tqdm.notebook import tnrange\n",
    "import csv\n",
    "import json\n",
    "from os import walk\n",
    "import os\n",
    "import pandas as pd\n",
    "import datetime"
   ]
  },
  {
   "cell_type": "code",
   "execution_count": 2,
   "id": "774b2961-db19-408d-9ba2-dd476e2e55f1",
   "metadata": {},
   "outputs": [],
   "source": [
    "# 해당 경로의 파일리스트 추출\n",
    "def get_filelist(input_repo):\n",
    "    file_list = []\n",
    "    for (dirpath, dirnames, filenames) in walk(input_repo):\n",
    "        file_list.extend(filenames)\n",
    "        break\n",
    "\n",
    "    return file_list"
   ]
  },
  {
   "cell_type": "code",
   "execution_count": 3,
   "id": "675def48-577d-4388-b7a6-159a2940a727",
   "metadata": {},
   "outputs": [],
   "source": [
    "# 해당 경로의 csv파일의 경로+파일명 리스트 추출\n",
    "def get_csvlist(input_repo, file_list):\n",
    "    csv_list = []\n",
    "    for i in range(len(file_list)):\n",
    "        filename, file_extension = os.path.splitext(f'{input_repo}/{file_list[i]}')\n",
    "\n",
    "        if file_extension == '.csv':\n",
    "            csv_list.append(filename+file_extension)\n",
    "\n",
    "    return csv_list"
   ]
  },
  {
   "cell_type": "code",
   "execution_count": 4,
   "id": "fd05a058-9319-4759-a295-0202e961f6bb",
   "metadata": {},
   "outputs": [],
   "source": [
    "def concat_csvfile(csv_list):\n",
    "    COLUMNS = ['lineNumber', 'originalText', 'transcription']\n",
    "    result = pd.concat([pd.read_csv(f) for f in csv_list])    # 라인넘버 기준 안합친파일 합치기\n",
    "    sorted_result_not_flat = result.sort_values(by=['lineNumber'])    # 작업물 sort by lineNumber\n",
    "    sorted_result_not_flat.to_csv(f'{output_repo}/temp.csv', index=False, encoding='utf-8-sig')\n",
    "    sorted_result = pd.read_csv(f'{output_repo}/temp.csv')\n",
    "    os.remove(f'{output_repo}/temp.csv')\n",
    "    \n",
    "    return sorted_result"
   ]
  },
  {
   "cell_type": "code",
   "execution_count": 5,
   "id": "30a20023-7493-40aa-b766-af4d6a2083a7",
   "metadata": {},
   "outputs": [],
   "source": [
    "# 전체 문장에서 태그 안만 뽑음\n",
    "def save_tag(sentence):\n",
    "    regex = re.compile('(?<=\\<{3}).*(?=\\>{3})')\n",
    "    result = regex.search(sentence)\n",
    "    \n",
    "    return result"
   ]
  },
  {
   "cell_type": "code",
   "execution_count": 6,
   "id": "6ef8096d-a31b-463f-aa7f-238c8ab4ecca",
   "metadata": {},
   "outputs": [],
   "source": [
    "# 전체 문장으로부터 태그 제거\n",
    "def remove_tag(sentence):\n",
    "    result = sentence.replace('<<<', '').replace('>>>', '')\n",
    "        \n",
    "    return result"
   ]
  },
  {
   "cell_type": "code",
   "execution_count": 7,
   "id": "3f6d7e0a-a097-4b98-97b7-5df760f624c2",
   "metadata": {},
   "outputs": [],
   "source": [
    "# 태그 내 문장으로부터 법률어휘 추출\n",
    "def draw_word(sentence_tagremoved):\n",
    "    regex = re.compile('(?<=\\<=).*(?=\\>)')\n",
    "    result = regex.search(sentence_tagremoved)\n",
    "    \n",
    "    try:\n",
    "        return result.group()\n",
    "    except:\n",
    "        return 'no word'"
   ]
  },
  {
   "cell_type": "code",
   "execution_count": 8,
   "id": "f21de145-16d9-4f05-9cc5-0cdac3fcbde1",
   "metadata": {},
   "outputs": [],
   "source": [
    "# csv형태로 저장\n",
    "def save_as_csv(input_repo, output_repo, result):\n",
    "    year = str(datetime.datetime.now().year)[2:]\n",
    "    month = str(datetime.datetime.now().month)\n",
    "    day = str(datetime.datetime.now().day)\n",
    "    hour = str(datetime.datetime.now().hour)\n",
    "    minute = str(datetime.datetime.now().minute)\n",
    "\n",
    "    print(f'{output_repo}의 경로에 태그안뽑기_{year}{month}{day}_{hour}{minute}.csv의 이름으로 파일 생성이 완료되었습니다.')\n",
    "\n",
    "    result.to_csv(f'{output_repo}/태그안뽑기_{year}{month}{day}_{hour}{minute}.csv', index=False, encoding='utf-8-sig')"
   ]
  },
  {
   "cell_type": "code",
   "execution_count": 9,
   "id": "ab539f78-2dac-421b-aab2-e8b9a03dac69",
   "metadata": {},
   "outputs": [],
   "source": [
    "input_repo = '/Users/jaytsol/Desktop/Type23 (2)/누적/concat'\n",
    "ref_repo = '/Users/jaytsol/Desktop/Type23 (2)/누적/accum_concat/법률어휘 살리기 최종'\n",
    "output_repo = '/Users/jaytsol/Desktop/Type23 (2)/누적/TypeB태그안뽑기'\n",
    "\n",
    "ref_filename = 'total_with_lineNumber.csv'"
   ]
  },
  {
   "cell_type": "code",
   "execution_count": 10,
   "id": "6d5a143d-fd92-4b7b-8eca-4f916b3d6b6d",
   "metadata": {},
   "outputs": [],
   "source": [
    "file_list = get_filelist(input_repo)\n",
    "csv_list = get_csvlist(input_repo, file_list)\n",
    "sorted_result = concat_csvfile(csv_list)\n",
    "ref_word = pd.read_csv(f'{ref_repo}/{ref_filename}')"
   ]
  },
  {
   "cell_type": "code",
   "execution_count": 11,
   "id": "9bf1f1e8-29d5-4980-a638-858369b92973",
   "metadata": {},
   "outputs": [
    {
     "data": {
      "application/vnd.jupyter.widget-view+json": {
       "model_id": "7db24ca80256443cb628477ab6b446e6",
       "version_major": 2,
       "version_minor": 0
      },
      "text/plain": [
       "  0%|          | 0/76870 [00:00<?, ?it/s]"
      ]
     },
     "metadata": {},
     "output_type": "display_data"
    }
   ],
   "source": [
    "result_dataframe = pd.DataFrame(columns=['lineNumber', 'word', 'originalText', 'typeA', 'transcription', 'tag_removed'])\n",
    "for i in tnrange(len(sorted_result)):\n",
    "    lineNumber = sorted_result['lineNumber'][i]\n",
    "    word = list(ref_word[ref_word['lineNumber']==sorted_result['lineNumber'][i]]['word'])[0]\n",
    "    originalText = list(ref_word[ref_word['lineNumber']==sorted_result['lineNumber'][i]]['org'])[0]\n",
    "    typeA = sorted_result['originalText'][i]\n",
    "    transcription = sorted_result['transcription'][i]\n",
    "    tag_removed = re.sub('(\\<=.*?\\>{1})','',str(sorted_result['transcription'][i])).replace('<<<', '').replace('>>>', '')\n",
    "    result_dataframe = result_dataframe.append({'lineNumber':lineNumber, 'word':word, 'originalText':originalText, 'typeA':typeA, 'transcription':transcription, 'tag_removed':tag_removed}, ignore_index=True)"
   ]
  },
  {
   "cell_type": "code",
   "execution_count": 12,
   "id": "5a82e51c-c4b7-403b-b6f7-76e1324d218e",
   "metadata": {},
   "outputs": [
    {
     "name": "stdout",
     "output_type": "stream",
     "text": [
      "/Users/jaytsol/Desktop/Type23 (2)/누적/TypeB태그안뽑기의 경로에 태그안뽑기_211115_198.csv의 이름으로 파일 생성이 완료되었습니다.\n"
     ]
    }
   ],
   "source": [
    "save_as_csv(input_repo, output_repo, result_dataframe)"
   ]
  },
  {
   "cell_type": "code",
   "execution_count": null,
   "id": "5a648ced-3df5-4446-a680-4c6edf09514c",
   "metadata": {},
   "outputs": [],
   "source": []
  }
 ],
 "metadata": {
  "kernelspec": {
   "display_name": "Python 3",
   "language": "python",
   "name": "python3"
  },
  "language_info": {
   "codemirror_mode": {
    "name": "ipython",
    "version": 3
   },
   "file_extension": ".py",
   "mimetype": "text/x-python",
   "name": "python",
   "nbconvert_exporter": "python",
   "pygments_lexer": "ipython3",
   "version": "3.8.8"
  }
 },
 "nbformat": 4,
 "nbformat_minor": 5
}
