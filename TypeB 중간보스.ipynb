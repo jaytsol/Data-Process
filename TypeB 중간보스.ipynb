{
 "cells": [
  {
   "cell_type": "markdown",
   "id": "4109ef84-9626-4b64-853d-bccc574606f3",
   "metadata": {},
   "source": [
    "# 타입B 중간보스"
   ]
  },
  {
   "cell_type": "code",
   "execution_count": 1,
   "id": "21bc0237-3e53-4a06-ace3-b71cb9ea0223",
   "metadata": {},
   "outputs": [],
   "source": [
    "import re\n",
    "from tqdm.notebook import tnrange\n",
    "import csv\n",
    "import json\n",
    "from os import walk\n",
    "import os\n",
    "import pandas as pd\n",
    "import datetime"
   ]
  },
  {
   "cell_type": "code",
   "execution_count": 2,
   "id": "774b2961-db19-408d-9ba2-dd476e2e55f1",
   "metadata": {},
   "outputs": [],
   "source": [
    "# 해당 경로의 파일리스트 추출\n",
    "def get_filelist(input_repo):\n",
    "    file_list = []\n",
    "    for (dirpath, dirnames, filenames) in walk(input_repo):\n",
    "        file_list.extend(filenames)\n",
    "        break\n",
    "\n",
    "    return file_list"
   ]
  },
  {
   "cell_type": "code",
   "execution_count": 3,
   "id": "675def48-577d-4388-b7a6-159a2940a727",
   "metadata": {},
   "outputs": [],
   "source": [
    "# 해당 경로의 csv파일의 경로+파일명 리스트 추출\n",
    "def get_csvlist(input_repo, file_list):\n",
    "    csv_list = []\n",
    "    for i in range(len(file_list)):\n",
    "        filename, file_extension = os.path.splitext(f'{input_repo}/{file_list[i]}')\n",
    "\n",
    "        if file_extension == '.csv':\n",
    "            csv_list.append(filename+file_extension)\n",
    "\n",
    "    return csv_list"
   ]
  },
  {
   "cell_type": "code",
   "execution_count": 4,
   "id": "fd05a058-9319-4759-a295-0202e961f6bb",
   "metadata": {},
   "outputs": [],
   "source": [
    "def concat_csvfile(csv_list):\n",
    "    COLUMNS = ['lineNumber', 'originalText', 'transcription']\n",
    "    result = pd.concat([pd.read_csv(f) for f in csv_list])    # 라인넘버 기준 안합친파일 합치기\n",
    "    sorted_result_not_flat = result.sort_values(by=['lineNumber'])    # 작업물 sort by lineNumber\n",
    "    sorted_result_not_flat.to_csv(f'{output_repo}/temp.csv', index=False, encoding='utf-8-sig')\n",
    "    sorted_result = pd.read_csv(f'{output_repo}/temp.csv')\n",
    "    os.remove(f'{output_repo}/temp.csv')\n",
    "    \n",
    "    return sorted_result"
   ]
  },
  {
   "cell_type": "code",
   "execution_count": 5,
   "id": "30a20023-7493-40aa-b766-af4d6a2083a7",
   "metadata": {},
   "outputs": [],
   "source": [
    "# 전체 문장에서 태그 안만 뽑음\n",
    "def save_tag(sentence):\n",
    "    regex = re.compile('(?<=\\<{3}).*(?=\\>{3})')\n",
    "    result = regex.search(sentence)\n",
    "    \n",
    "    return result"
   ]
  },
  {
   "cell_type": "code",
   "execution_count": 6,
   "id": "6ef8096d-a31b-463f-aa7f-238c8ab4ecca",
   "metadata": {},
   "outputs": [],
   "source": [
    "# 전체 문장으로부터 태그 제거\n",
    "def remove_tag(sentence):\n",
    "    result = sentence.replace('<<<', '').replace('>>>', '')\n",
    "        \n",
    "    return result"
   ]
  },
  {
   "cell_type": "code",
   "execution_count": 7,
   "id": "3f6d7e0a-a097-4b98-97b7-5df760f624c2",
   "metadata": {},
   "outputs": [],
   "source": [
    "# 태그 내 문장으로부터 법률어휘 추출\n",
    "def draw_word(sentence_tagremoved):\n",
    "    regex = re.compile('(?<=\\<=).*(?=\\>)')\n",
    "    result = regex.search(sentence_tagremoved)\n",
    "    \n",
    "    try:\n",
    "        return result.group()\n",
    "    except:\n",
    "        return 'no word'"
   ]
  },
  {
   "cell_type": "code",
   "execution_count": 8,
   "id": "f21de145-16d9-4f05-9cc5-0cdac3fcbde1",
   "metadata": {},
   "outputs": [],
   "source": [
    "# csv형태로 저장\n",
    "def save_as_csv(input_repo, output_repo, result):\n",
    "    year = str(datetime.datetime.now().year)[2:]\n",
    "    month = str(datetime.datetime.now().month)\n",
    "    day = str(datetime.datetime.now().day)\n",
    "    hour = str(datetime.datetime.now().hour)\n",
    "    minute = str(datetime.datetime.now().minute)\n",
    "\n",
    "    print(f'{output_repo}의 경로에 태그안뽑기_{year}{month}{day}_{hour}{minute}.csv의 이름으로 파일 생성이 완료되었습니다.')\n",
    "\n",
    "    result.to_csv(f'{output_repo}/태그안뽑기_{year}{month}{day}_{hour}{minute}.csv', index=False, encoding='utf-8-sig')"
   ]
  },
  {
   "cell_type": "code",
   "execution_count": 9,
   "id": "ab539f78-2dac-421b-aab2-e8b9a03dac69",
   "metadata": {},
   "outputs": [],
   "source": [
    "input_repo = '/Users/jaytsol/Desktop/Type23 (2)/누적/concat'\n",
    "ref_repo = '/Users/jaytsol/Desktop/Type23 (2)/누적/accum_concat/법률어휘 살리기 최종'\n",
    "output_repo = '/Users/jaytsol/Desktop/Type23 (2)/누적/TypeB태그안뽑기'\n",
    "\n",
    "ref_filename = 'total_with_lineNumber.csv'"
   ]
  },
  {
   "cell_type": "code",
   "execution_count": 10,
   "id": "6d5a143d-fd92-4b7b-8eca-4f916b3d6b6d",
   "metadata": {},
   "outputs": [],
   "source": [
    "file_list = get_filelist(input_repo)\n",
    "csv_list = get_csvlist(input_repo, file_list)\n",
    "sorted_result = concat_csvfile(csv_list)\n",
    "ref_word = pd.read_csv(f'{ref_repo}/{ref_filename}')"
   ]
  },
  {
   "cell_type": "code",
   "execution_count": 14,
   "id": "9bf1f1e8-29d5-4980-a638-858369b92973",
   "metadata": {},
   "outputs": [
    {
     "data": {
      "application/vnd.jupyter.widget-view+json": {
       "model_id": "7edd3f2137fc4de992e5b5d63c13335b",
       "version_major": 2,
       "version_minor": 0
      },
      "text/plain": [
       "  0%|          | 0/52437 [00:00<?, ?it/s]"
      ]
     },
     "metadata": {},
     "output_type": "display_data"
    }
   ],
   "source": [
    "result_dataframe = pd.DataFrame(columns=['lineNumber', 'word', 'originalText', 'transcription'])\n",
    "for i in tnrange(len(sorted_result)):\n",
    "    word = list(ref_word[ref_word['lineNumber']==sorted_result['lineNumber'][i]]['word'])[0]\n",
    "    lineNumber = sorted_result['lineNumber'][i]\n",
    "    originalText = list(ref_word[ref_word['lineNumber']==sorted_result['lineNumber'][i]]['org'])[0]\n",
    "    transcription = sorted_result['transcription'][i]\n",
    "    result_dataframe = result_dataframe.append({'lineNumber':lineNumber, 'word':word, 'originalText':originalText, 'transcription':transcription}, ignore_index=True)"
   ]
  },
  {
   "cell_type": "code",
   "execution_count": 15,
   "id": "824bada0-cbe5-417f-9a1c-91c49c70f578",
   "metadata": {},
   "outputs": [
    {
     "data": {
      "text/html": [
       "<div>\n",
       "<style scoped>\n",
       "    .dataframe tbody tr th:only-of-type {\n",
       "        vertical-align: middle;\n",
       "    }\n",
       "\n",
       "    .dataframe tbody tr th {\n",
       "        vertical-align: top;\n",
       "    }\n",
       "\n",
       "    .dataframe thead th {\n",
       "        text-align: right;\n",
       "    }\n",
       "</style>\n",
       "<table border=\"1\" class=\"dataframe\">\n",
       "  <thead>\n",
       "    <tr style=\"text-align: right;\">\n",
       "      <th></th>\n",
       "      <th>lineNumber</th>\n",
       "      <th>word</th>\n",
       "      <th>originalText</th>\n",
       "      <th>transcription</th>\n",
       "    </tr>\n",
       "  </thead>\n",
       "  <tbody>\n",
       "    <tr>\n",
       "      <th>0</th>\n",
       "      <td>1</td>\n",
       "      <td>호환</td>\n",
       "      <td>원심판결 이유에 의하면, 원심은 이 사건 행위가 공정거래법 제3조의2 제1항 제3호...</td>\n",
       "      <td>&lt;&lt;&lt;직전의 재판&lt;=원심&gt;판결 이유에&gt;&gt;&gt; 의하면, &lt;&lt;&lt;직전의 재판&lt;=원심&gt;은 이...</td>\n",
       "    </tr>\n",
       "    <tr>\n",
       "      <th>1</th>\n",
       "      <td>2</td>\n",
       "      <td>호환</td>\n",
       "      <td>비록 양 발명의 구성에 상이점이 있어도 그 기술분야에서 통상의 지식을 가진 자가 보...</td>\n",
       "      <td>비록 양 발명의 구성에 &lt;&lt;&lt;서로 다른&lt;=상이&gt; 점이 있어도&gt;&gt;&gt; 그 기술분야에서 ...</td>\n",
       "    </tr>\n",
       "    <tr>\n",
       "      <th>2</th>\n",
       "      <td>3</td>\n",
       "      <td>호환</td>\n",
       "      <td>[2] 등록의장의 대상물품인 \"스위치\"가 독립거래의 대상성 및 호환성이 있어 의장법...</td>\n",
       "      <td>[2] 등록의장의 대상물품인 \"스위치\"가 독립거래의 대상성 및 &lt;&lt;&lt;연결되는 데 문...</td>\n",
       "    </tr>\n",
       "    <tr>\n",
       "      <th>3</th>\n",
       "      <td>4</td>\n",
       "      <td>호환</td>\n",
       "      <td>③ 이 사건 프로젝터에 사용된 LCD는 ***** 컴퓨터나 그 호환컴퓨터에 대표적으...</td>\n",
       "      <td>③ 이 사건 프로젝터에 사용된 LCD는 ***** 컴퓨터나 그 &lt;&lt;&lt;연결되는 데 문...</td>\n",
       "    </tr>\n",
       "    <tr>\n",
       "      <th>4</th>\n",
       "      <td>5</td>\n",
       "      <td>호환</td>\n",
       "      <td>구 의장법 제2조 제1호에서 말하는 \"물품\"이란 독립성이 있는 구체적인 유체동산을 ...</td>\n",
       "      <td>구 의장법 제2조 제1호에서 말하는 \"물품\"이란 독립성이 있는 구체적인 유체동산을 ...</td>\n",
       "    </tr>\n",
       "    <tr>\n",
       "      <th>...</th>\n",
       "      <td>...</td>\n",
       "      <td>...</td>\n",
       "      <td>...</td>\n",
       "      <td>...</td>\n",
       "    </tr>\n",
       "    <tr>\n",
       "      <th>52432</th>\n",
       "      <td>75991</td>\n",
       "      <td>종용</td>\n",
       "      <td>이에 피해자의 동생은 피고인의 뜻이 확고하다면 이혼을 하더라도 살 집이라도 마련해 ...</td>\n",
       "      <td>이에 피해자의 동생은 &lt;&lt;&lt;형사소송에서 검사에의해 기소당한 사람&lt;=피고인&gt;의 뜻이&gt;...</td>\n",
       "    </tr>\n",
       "    <tr>\n",
       "      <th>52433</th>\n",
       "      <td>75992</td>\n",
       "      <td>종용</td>\n",
       "      <td>[2] 자동차 판매대리점주 甲이 자신의 대리점에서 카마스터(car master, 자...</td>\n",
       "      <td>[2] 자동차 판매대리점주 甲이 자신의 대리점에서 카마스터(car master, 자...</td>\n",
       "    </tr>\n",
       "    <tr>\n",
       "      <th>52434</th>\n",
       "      <td>75993</td>\n",
       "      <td>종용</td>\n",
       "      <td>［2］ 간통죄의 고소인과 그 배우자인 피고소인 쌍방이 혼인관계를 지속할 의사가 없었...</td>\n",
       "      <td>［2］ 간통죄의 고소인과 그 배우자인 &lt;&lt;&lt;민사소송에서 소송을 당한 사람&lt;=피고&gt;소...</td>\n",
       "    </tr>\n",
       "    <tr>\n",
       "      <th>52435</th>\n",
       "      <td>75994</td>\n",
       "      <td>종용</td>\n",
       "      <td>원심은, 원고가 피고보조참가인(이하 \"참가인\"이라 한다) 등을 사업장에서 배제하게 ...</td>\n",
       "      <td>&lt;&lt;&lt;직전의 재판&lt;=원심&gt;은, 민사소송을 일으킨 사람&lt;=원고&gt;이&gt;&gt;&gt; &lt;&lt;&lt;민사소송...</td>\n",
       "    </tr>\n",
       "    <tr>\n",
       "      <th>52436</th>\n",
       "      <td>75995</td>\n",
       "      <td>종용</td>\n",
       "      <td>원고는 위 도시설계조정심의를 받은 다음날인 ****.**.**피고 *****시 강남...</td>\n",
       "      <td>&lt;&lt;&lt;민사소송을 일으킨 사람&lt;=원고&gt;은 위&gt;&gt;&gt; 도시설계조정심의를 받은 다음날인 *...</td>\n",
       "    </tr>\n",
       "  </tbody>\n",
       "</table>\n",
       "<p>52437 rows × 4 columns</p>\n",
       "</div>"
      ],
      "text/plain": [
       "      lineNumber word                                       originalText  \\\n",
       "0              1   호환  원심판결 이유에 의하면, 원심은 이 사건 행위가 공정거래법 제3조의2 제1항 제3호...   \n",
       "1              2   호환  비록 양 발명의 구성에 상이점이 있어도 그 기술분야에서 통상의 지식을 가진 자가 보...   \n",
       "2              3   호환  [2] 등록의장의 대상물품인 \"스위치\"가 독립거래의 대상성 및 호환성이 있어 의장법...   \n",
       "3              4   호환  ③ 이 사건 프로젝터에 사용된 LCD는 ***** 컴퓨터나 그 호환컴퓨터에 대표적으...   \n",
       "4              5   호환  구 의장법 제2조 제1호에서 말하는 \"물품\"이란 독립성이 있는 구체적인 유체동산을 ...   \n",
       "...          ...  ...                                                ...   \n",
       "52432      75991   종용  이에 피해자의 동생은 피고인의 뜻이 확고하다면 이혼을 하더라도 살 집이라도 마련해 ...   \n",
       "52433      75992   종용  [2] 자동차 판매대리점주 甲이 자신의 대리점에서 카마스터(car master, 자...   \n",
       "52434      75993   종용  ［2］ 간통죄의 고소인과 그 배우자인 피고소인 쌍방이 혼인관계를 지속할 의사가 없었...   \n",
       "52435      75994   종용  원심은, 원고가 피고보조참가인(이하 \"참가인\"이라 한다) 등을 사업장에서 배제하게 ...   \n",
       "52436      75995   종용  원고는 위 도시설계조정심의를 받은 다음날인 ****.**.**피고 *****시 강남...   \n",
       "\n",
       "                                           transcription  \n",
       "0      <<<직전의 재판<=원심>판결 이유에>>> 의하면, <<<직전의 재판<=원심>은 이...  \n",
       "1      비록 양 발명의 구성에 <<<서로 다른<=상이> 점이 있어도>>> 그 기술분야에서 ...  \n",
       "2      [2] 등록의장의 대상물품인 \"스위치\"가 독립거래의 대상성 및 <<<연결되는 데 문...  \n",
       "3      ③ 이 사건 프로젝터에 사용된 LCD는 ***** 컴퓨터나 그 <<<연결되는 데 문...  \n",
       "4      구 의장법 제2조 제1호에서 말하는 \"물품\"이란 독립성이 있는 구체적인 유체동산을 ...  \n",
       "...                                                  ...  \n",
       "52432  이에 피해자의 동생은 <<<형사소송에서 검사에의해 기소당한 사람<=피고인>의 뜻이>...  \n",
       "52433  [2] 자동차 판매대리점주 甲이 자신의 대리점에서 카마스터(car master, 자...  \n",
       "52434  ［2］ 간통죄의 고소인과 그 배우자인 <<<민사소송에서 소송을 당한 사람<=피고>소...  \n",
       "52435  <<<직전의 재판<=원심>은, 민사소송을 일으킨 사람<=원고>이>>> <<<민사소송...  \n",
       "52436  <<<민사소송을 일으킨 사람<=원고>은 위>>> 도시설계조정심의를 받은 다음날인 *...  \n",
       "\n",
       "[52437 rows x 4 columns]"
      ]
     },
     "execution_count": 15,
     "metadata": {},
     "output_type": "execute_result"
    }
   ],
   "source": [
    "result_dataframe"
   ]
  },
  {
   "cell_type": "code",
   "execution_count": 16,
   "id": "5a82e51c-c4b7-403b-b6f7-76e1324d218e",
   "metadata": {},
   "outputs": [
    {
     "name": "stdout",
     "output_type": "stream",
     "text": [
      "/Users/jaytsol/Desktop/Type23 (2)/누적/TypeB태그안뽑기의 경로에 태그안뽑기_211110_1616.csv의 이름으로 파일 생성이 완료되었습니다.\n"
     ]
    }
   ],
   "source": [
    "save_as_csv(input_repo, output_repo, result_dataframe)"
   ]
  },
  {
   "cell_type": "code",
   "execution_count": null,
   "id": "5a648ced-3df5-4446-a680-4c6edf09514c",
   "metadata": {},
   "outputs": [],
   "source": []
  }
 ],
 "metadata": {
  "kernelspec": {
   "display_name": "Python 3",
   "language": "python",
   "name": "python3"
  },
  "language_info": {
   "codemirror_mode": {
    "name": "ipython",
    "version": 3
   },
   "file_extension": ".py",
   "mimetype": "text/x-python",
   "name": "python",
   "nbconvert_exporter": "python",
   "pygments_lexer": "ipython3",
   "version": "3.8.8"
  }
 },
 "nbformat": 4,
 "nbformat_minor": 5
}
