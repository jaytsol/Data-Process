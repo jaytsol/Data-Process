{
 "cells": [
  {
   "cell_type": "markdown",
   "id": "c4d0318f-f64a-4d8e-af0c-3fb170934fe4",
   "metadata": {},
   "source": [
    "# 키워드와 문장만으로 이루어진 판례를 속성 추가해서 input 데이터 만들기"
   ]
  },
  {
   "cell_type": "code",
   "execution_count": 1,
   "id": "2519bebd-a0fc-4660-9545-64a8a590a424",
   "metadata": {},
   "outputs": [],
   "source": [
    "import json\n",
    "from tqdm import tnrange, tqdm_notebook"
   ]
  },
  {
   "cell_type": "code",
   "execution_count": 2,
   "id": "6161fe99-de59-46dc-890b-32f8982a7ef3",
   "metadata": {},
   "outputs": [],
   "source": [
    "f = open('C:/Users/jayts/OneDrive/바탕 화면/Tictag/json/KAS/removed_duplicate_panrye_통합본_2021_8_10.json', 'r', encoding='UTF8')    # type3를 통해 추출된 json파일 읽어들이기\n",
    "# f = open('C:/Users/jayts/OneDrive/바탕 화면/Tictag/json/KAS/removed_dup_example.json', 'r', encoding='UTF8')    # type3를 통해 추출된 json파일 읽어들이기\n",
    "sent_example = json.load(f)"
   ]
  },
  {
   "cell_type": "code",
   "execution_count": 3,
   "id": "197b43a9-f3de-4b84-aa02-569c1d5ed229",
   "metadata": {
    "tags": []
   },
   "outputs": [],
   "source": [
    "# 단어 하나가 문장에 여러번 등장했을때, 모든 위치를 리스트로 뽑아내는 함수.\n",
    "# list씌워야함\n",
    "\n",
    "def find_all(a_str, sub):\n",
    "    start = 0\n",
    "    while True:\n",
    "        start = a_str.find(sub, start)\n",
    "        if start == -1: return\n",
    "        yield start\n",
    "        start += len(sub) # use start += 1 to find overlapping matches\n",
    "        \n",
    "# ex) list(find_all('안녕안녕하세요', '안녕')) --> [0,2]"
   ]
  },
  {
   "cell_type": "code",
   "execution_count": 4,
   "id": "837eae16-5801-4f8f-83c1-ea0058e4fc50",
   "metadata": {},
   "outputs": [],
   "source": [
    "# 숫자 리스트 받아와서 이에 맞게 다른 리스트의 순서 바꿔주는 함수.\n",
    "def sort_word_wordOcc(word, wordOccurence):    # 순서 바꿀 단어 리스트, 순서 알려주는 리스트\n",
    "#     try:\n",
    "    if len(word) == len(wordOccurence):\n",
    "        result = {}\n",
    "        for i in range(len(word)):\n",
    "            result.update({wordOccurence[i]['start']:word[i]})    # result = {wordOccurence:['start']:호환}\n",
    "\n",
    "        sorted_result = sorted(result.items())     # ex) [('1','원심'), (17:'원심'), (127:'호환'), (172:'호환'), (320:'원심')]\n",
    "        result_word = []\n",
    "        result_wordOcc = []\n",
    "\n",
    "        for i in range(0, len(word)):\n",
    "            result_word.append(sorted_result[i][1])\n",
    "            result_wordOcc.append({'start':sorted_result[i][0], 'end':sorted_result[i][0]+len(sorted_result[i][1])+1})\n",
    "        \n",
    "    else:\n",
    "        raise Exception('word와 word_Occurence 간 크기가 다릅니다.')\n",
    "        \n",
    "#     except Exception as e:\n",
    "#         print(\"예외가 발생했습니다.\", e)\n",
    "        \n",
    "    return result_word, result_wordOcc"
   ]
  },
  {
   "cell_type": "code",
   "execution_count": 5,
   "id": "0f21ea1d-39f0-4918-a8cc-36dfc8101709",
   "metadata": {},
   "outputs": [],
   "source": [
    "# 중복제거\n",
    "def remove_overlap(overlapped_list):\n",
    "    result = []\n",
    "    for i in overlapped_list:\n",
    "        if i not in result:\n",
    "            result.append(i)\n",
    "            \n",
    "    return result"
   ]
  },
  {
   "cell_type": "code",
   "execution_count": 6,
   "id": "1cf6f067-9e96-4d97-8335-f2cdf2185e50",
   "metadata": {},
   "outputs": [
    {
     "name": "stderr",
     "output_type": "stream",
     "text": [
      "<ipython-input-6-849b702ad83b>:6: TqdmDeprecationWarning: Please use `tqdm.notebook.trange` instead of `tqdm.tnrange`\n",
      "  for i in tnrange(len(key_list)):\n"
     ]
    },
    {
     "data": {
      "application/vnd.jupyter.widget-view+json": {
       "model_id": "a20bbc549c0b4634826bda99b63b8504",
       "version_major": 2,
       "version_minor": 0
      },
      "text/plain": [
       "  0%|          | 0/2732 [00:00<?, ?it/s]"
      ]
     },
     "metadata": {},
     "output_type": "display_data"
    }
   ],
   "source": [
    "# 문장에 ^^ 태그하고 sentence와 word 업데이트.\n",
    "type2_A_input = {}\n",
    "tag = '^'\n",
    "key_list = sorted(list(sent_example.keys()), key=len)    # 어려운 단어 리스트. 글자수가 더 많은 키워드를 먼저 ^^로 태깅하면 문제가 생김. 그래서 오름차순 정렬함\n",
    "keyword_pos = []\n",
    "for i in tnrange(len(key_list)):\n",
    "    type2_A_input.update({key_list[i]:[]})\n",
    "    \n",
    "    for j in range(len(sent_example[key_list[i]])):\n",
    "        sentence = sent_example[key_list[i]][j]\n",
    "        type2_A_input[key_list[i]].append({'sentence':None, 'word':[], 'wordOccurence':[]})\n",
    "        \n",
    "        # 키데이터 중 문장에 있는 키워드 찾아내기\n",
    "        for k in range(len(key_list)):    # 모든 키워드에 대해 시행\n",
    "            tagged_keyword = tag + key_list[k] + tag\n",
    "            if sentence[0:len(key_list[k])] == key_list[k]:    # 문장 첫 단어로 키워드가 있을 때..\n",
    "                sentence = sentence.replace(key_list[k], tagged_keyword)\n",
    "                count = len(list(find_all(sentence, key_list[k])))\n",
    "                type2_A_input[key_list[i]][j].update({'sentence':sentence})\n",
    "                for l in range(count):\n",
    "                    type2_A_input[key_list[i]][j]['word'].append(key_list[k])\n",
    "                \n",
    "                \n",
    "            elif sentence.find(' '+key_list[k]) != -1:    # 문장 첫 단어로 키워드가 있을 때..\n",
    "                sentence = sentence.replace(key_list[k], tagged_keyword)\n",
    "                count = len(list(find_all(sentence, key_list[k])))\n",
    "                type2_A_input[key_list[i]][j].update({'sentence':sentence})\n",
    "                for l in range(count):\n",
    "                    type2_A_input[key_list[i]][j]['word'].append(key_list[k])\n",
    "                \n",
    "            else:\n",
    "                pass            "
   ]
  },
  {
   "cell_type": "code",
   "execution_count": 7,
   "id": "7969d016-59a1-4fb1-a98f-051413078740",
   "metadata": {},
   "outputs": [
    {
     "name": "stderr",
     "output_type": "stream",
     "text": [
      "<ipython-input-7-a2851908ec07>:2: TqdmDeprecationWarning: Please use `tqdm.notebook.trange` instead of `tqdm.tnrange`\n",
      "  for i in tnrange(len(key_list)):\n"
     ]
    },
    {
     "data": {
      "application/vnd.jupyter.widget-view+json": {
       "model_id": "84d3cd5ef89e41a18afe428fd9c94713",
       "version_major": 2,
       "version_minor": 0
      },
      "text/plain": [
       "  0%|          | 0/2732 [00:00<?, ?it/s]"
      ]
     },
     "metadata": {},
     "output_type": "display_data"
    }
   ],
   "source": [
    "# 태그된 문장을 참고하여 wordOccurence 업데이트.\n",
    "for i in tnrange(len(key_list)):\n",
    "    for j in range(len(sent_example[key_list[i]])):\n",
    "        key_list_small = type2_A_input[key_list[i]][j]['word']\n",
    "        key_list_small_not_overlapped = remove_overlap(key_list_small)\n",
    "        for k in range(len(key_list_small_not_overlapped)):    # 문장 속 존재하는 키워드들에 대해 시행\n",
    "            sentence = type2_A_input[key_list[i]][j]['sentence']\n",
    "            start = list(find_all(sentence, key_list_small_not_overlapped[k]))\n",
    "            for l in range(len(start)):\n",
    "                type2_A_input[key_list[i]][j]['wordOccurence'].append({'start':start[l]-1, 'end':start[l]+len(key_list[k])+1})"
   ]
  },
  {
   "cell_type": "code",
   "execution_count": 8,
   "id": "ccdb3a51-6b6a-4a45-9730-d68968940dda",
   "metadata": {},
   "outputs": [
    {
     "name": "stderr",
     "output_type": "stream",
     "text": [
      "<ipython-input-8-891784168793>:2: TqdmDeprecationWarning: Please use `tqdm.notebook.trange` instead of `tqdm.tnrange`\n",
      "  for i in tnrange(len(key_list)):\n"
     ]
    },
    {
     "data": {
      "application/vnd.jupyter.widget-view+json": {
       "model_id": "31e97ca1fd64409790ed765e57e659c3",
       "version_major": 2,
       "version_minor": 0
      },
      "text/plain": [
       "  0%|          | 0/2732 [00:00<?, ?it/s]"
      ]
     },
     "metadata": {},
     "output_type": "display_data"
    }
   ],
   "source": [
    "# word와 wordOccurence 직관적으로 정렬.\n",
    "for i in tnrange(len(key_list)):\n",
    "    for j in range(len(sent_example[key_list[i]])):\n",
    "        keyword = type2_A_input[key_list[i]][j]['word']\n",
    "        tagged_keyword_pos = type2_A_input[key_list[i]][j]['wordOccurence']\n",
    "        result_word, result_wordOcc = sort_word_wordOcc(keyword, tagged_keyword_pos)\n",
    "        type2_A_input[key_list[i]][j]['word'] = result_word\n",
    "        type2_A_input[key_list[i]][j]['wordOccurence'] = result_wordOcc"
   ]
  },
  {
   "cell_type": "code",
   "execution_count": 9,
   "id": "d084cd0b-cae1-4d6d-90b5-cf361dbdb996",
   "metadata": {},
   "outputs": [],
   "source": [
    "# json 파일로 저장\n",
    "with open('C:/Users/jayts/OneDrive/바탕 화면/Tictag/json/KAS/type2_A_input.json', 'w', encoding='UTF8') as json_file:\n",
    "# with open('C:/Users/jayts/OneDrive/바탕 화면/Tictag/json/KAS/type2_A_input_example.json', 'w', encoding='UTF8') as json_file:\n",
    "    json.dump(type2_A_input, json_file, indent=4, ensure_ascii=False,)"
   ]
  },
  {
   "cell_type": "code",
   "execution_count": null,
   "id": "c0dc5293-26f1-4ff7-ae76-7c38488ccf1b",
   "metadata": {},
   "outputs": [],
   "source": []
  }
 ],
 "metadata": {
  "kernelspec": {
   "display_name": "Python 3",
   "language": "python",
   "name": "python3"
  },
  "language_info": {
   "codemirror_mode": {
    "name": "ipython",
    "version": 3
   },
   "file_extension": ".py",
   "mimetype": "text/x-python",
   "name": "python",
   "nbconvert_exporter": "python",
   "pygments_lexer": "ipython3",
   "version": "3.8.8"
  }
 },
 "nbformat": 4,
 "nbformat_minor": 5
}
