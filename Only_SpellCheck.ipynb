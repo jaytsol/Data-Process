{
 "cells": [
  {
   "cell_type": "code",
   "execution_count": 1,
   "id": "a3e5c65b-d7c8-4067-bc17-c99618a0e403",
   "metadata": {
    "tags": []
   },
   "outputs": [],
   "source": [
    "import json\n",
    "from tqdm import tnrange, tqdm_notebook\n",
    "from hanspell import spell_checker"
   ]
  },
  {
   "cell_type": "code",
   "execution_count": 2,
   "id": "82b32539-4f34-4625-8b1a-8030b60cfd27",
   "metadata": {
    "tags": []
   },
   "outputs": [],
   "source": [
    "# 문장 맞춤법 고쳐서 수정된 문장 출력.\n",
    "def correction(ori_sent):\n",
    "    spelled_sent = spell_checker.check(ori_sent)\n",
    "    Error_Code = spelled_sent.words\n",
    "    tmp_list = []\n",
    "    for i, j in Error_Code.items():\n",
    "        tmp_list.append(j)\n",
    "        \n",
    "    PASSED = tmp_list.count(0)\n",
    "    WRONG_SPELLING = tmp_list.count(1)\n",
    "    WRONG_SPACING = tmp_list.count(2)\n",
    "    AMBIGUOUS = tmp_list.count(3)\n",
    "    STATISTICAL_CORRECTION = tmp_list.count(4)\n",
    "    Num_of_Error_Code = [PASSED, WRONG_SPELLING, WRONG_SPACING, AMBIGUOUS, STATISTICAL_CORRECTION]\n",
    "    \n",
    "    return spelled_sent.checked, spelled_sent.errors, Num_of_Error_Code"
   ]
  },
  {
   "cell_type": "code",
   "execution_count": 3,
   "id": "e490dc34-45d3-4fec-b2d9-dd76913c5876",
   "metadata": {},
   "outputs": [],
   "source": [
    "# isdiff 두 문장을 갖고와서 같으면 0, 다르면 1을 출력하는 함수.\n",
    "def isdiff(sent_a, sent_b):\n",
    "    if sent_a == sent_b:\n",
    "        return 0\n",
    "    else:\n",
    "        return 1"
   ]
  },
  {
   "cell_type": "code",
   "execution_count": 4,
   "id": "04b1cab9-8a16-4b27-9e10-7cf0529addd1",
   "metadata": {},
   "outputs": [],
   "source": [
    "f = open('C:/Users/jayts/OneDrive/바탕 화면/Tictag/json/KAS/removed_duplicate_panrye_통합본_2021_8_10_longsent_removed.json', 'r', encoding='UTF8')    # type3를 통해 추출된 json파일 읽어들이기\n",
    "# f = open('C:/Users/jayts/OneDrive/바탕 화면/Tictag/json/KAS/example.json', 'r', encoding='UTF8')\n",
    "sent_example = json.load(f)"
   ]
  },
  {
   "cell_type": "code",
   "execution_count": 5,
   "id": "01f21ef1-d5ad-4271-9fcb-d4b14b708493",
   "metadata": {},
   "outputs": [],
   "source": [
    "key_list = sorted(list(sent_example.keys()), key=len)    # 어려운 단어 리스트. 오름차순 정렬함\n",
    "sent_checked = {}\n",
    "sent_unchecked = {}\n",
    "errors = {}\n",
    "sent_checked.update(sent_example)\n",
    "number = 0"
   ]
  },
  {
   "cell_type": "code",
   "execution_count": 6,
   "id": "e9d9c2eb-7a4c-44f3-b4ad-a2f5bf130e62",
   "metadata": {},
   "outputs": [
    {
     "name": "stderr",
     "output_type": "stream",
     "text": [
      "<ipython-input-6-954dcd3657ae>:2: TqdmDeprecationWarning: Please use `tqdm.notebook.trange` instead of `tqdm.tnrange`\n",
      "  for i in tnrange(len(key_list)):\n"
     ]
    },
    {
     "data": {
      "application/vnd.jupyter.widget-view+json": {
       "model_id": "f9c0b0598de54ec1a97078592a8e542f",
       "version_major": 2,
       "version_minor": 0
      },
      "text/plain": [
       "  0%|          | 0/1 [00:00<?, ?it/s]"
      ]
     },
     "metadata": {},
     "output_type": "display_data"
    }
   ],
   "source": [
    "# &를 <<and>>로 바꿈. hanspell에서 &를 인식 못하는 문제 때문에.. 수정 끝나고나서 다시 &로 바꿔야함\n",
    "for i in tnrange(len(key_list)):\n",
    "    for j in range(len(sent_example[key_list[i]])):\n",
    "        sent_example[key_list[i]][j] = sent_example[key_list[i]][j].replace('&', '<<and>>')"
   ]
  },
  {
   "cell_type": "code",
   "execution_count": 8,
   "id": "153bd941-b1bb-44e1-a2f3-d5d5cc5a0fd6",
   "metadata": {},
   "outputs": [
    {
     "name": "stderr",
     "output_type": "stream",
     "text": [
      "<ipython-input-8-1a110cfaffe6>:1: TqdmDeprecationWarning: Please use `tqdm.notebook.trange` instead of `tqdm.tnrange`\n",
      "  for i in tnrange(len(key_list)):\n"
     ]
    },
    {
     "data": {
      "application/vnd.jupyter.widget-view+json": {
       "model_id": "ce68efa55ba14e2a9c719345df3c85e2",
       "version_major": 2,
       "version_minor": 0
      },
      "text/plain": [
       "  0%|          | 0/1 [00:00<?, ?it/s]"
      ]
     },
     "metadata": {},
     "output_type": "display_data"
    }
   ],
   "source": [
    "for i in tnrange(len(key_list)):\n",
    "    errors.update({key_list[i]:[]})\n",
    "    for j in range(len(sent_example[key_list[i]])):\n",
    "        try:\n",
    "            checked_sentence, sent_errors, checkresults = correction(sent_example[key_list[i]][j])\n",
    "            sent_checked[key_list[i]][j].append({'checked_sentence':checked_sentence, 'Index':number})\n",
    "            errors[key_list[i]].append({'sent_errors':sent_errors, 'Error Code':checkresults, 'Index':number})\n",
    "        except:\n",
    "            sent_unchecked.update({number:sent_example[key_list[i]][j]})\n",
    "            \n",
    "        number += 1"
   ]
  },
  {
   "cell_type": "code",
   "execution_count": 9,
   "id": "76f66871-9949-4950-b8d5-c7bdca7e3cd2",
   "metadata": {},
   "outputs": [
    {
     "name": "stderr",
     "output_type": "stream",
     "text": [
      "<ipython-input-9-750cdcfef017>:1: TqdmDeprecationWarning: Please use `tqdm.notebook.trange` instead of `tqdm.tnrange`\n",
      "  for i in tnrange(len(key_list)):\n"
     ]
    },
    {
     "data": {
      "application/vnd.jupyter.widget-view+json": {
       "model_id": "8104d46719b34bbe88a147767f76c015",
       "version_major": 2,
       "version_minor": 0
      },
      "text/plain": [
       "  0%|          | 0/1 [00:00<?, ?it/s]"
      ]
     },
     "metadata": {},
     "output_type": "display_data"
    }
   ],
   "source": [
    "for i in tnrange(len(key_list)):\n",
    "    for j in range(len(sent_example[key_list[i]])):\n",
    "        sent_example[key_list[i]][j] = sent_example[key_list[i]][j].replace('<<and>>', '&')"
   ]
  },
  {
   "cell_type": "code",
   "execution_count": 12,
   "id": "358165d4-be23-43bd-b4cb-671f2b056c49",
   "metadata": {},
   "outputs": [],
   "source": [
    "# json 파일로 저장\n",
    "with open('C:/Users/jayts/OneDrive/바탕 화면/Tictag/json/KAS/type2_A_only_spell_checked.json', 'w', encoding='UTF8') as json_file:\n",
    "# with open('C:/Users/jayts/OneDrive/바탕 화면/Tictag/json/KAS/type2_A_only_spell_checked_example.json', 'w', encoding='UTF8') as json_file:\n",
    "    json.dump(sent_checked, json_file, indent=4, ensure_ascii=False,)"
   ]
  },
  {
   "cell_type": "code",
   "execution_count": 13,
   "id": "14fc4a69-f9ce-487b-9b34-b28deab1070e",
   "metadata": {},
   "outputs": [],
   "source": [
    "# json 파일로 저장\n",
    "with open('C:/Users/jayts/OneDrive/바탕 화면/Tictag/json/KAS/type2_A_only_errors.json', 'w', encoding='UTF8') as json_file:\n",
    "# with open('C:/Users/jayts/OneDrive/바탕 화면/Tictag/json/KAS/type2_A_only_spell_errors_example.json', 'w', encoding='UTF8') as json_file:\n",
    "    json.dump(errors, json_file, indent=4, ensure_ascii=False,)"
   ]
  },
  {
   "cell_type": "code",
   "execution_count": 14,
   "id": "58db8ecc-05d8-4b89-a16f-6cee9598b258",
   "metadata": {},
   "outputs": [],
   "source": [
    "# json 파일로 저장\n",
    "with open('C:/Users/jayts/OneDrive/바탕 화면/Tictag/json/KAS/type2_A_only_spell_unchecked.json', 'w', encoding='UTF8') as json_file:\n",
    "# with open('C:/Users/jayts/OneDrive/바탕 화면/Tictag/json/KAS/type2_A_only_spell_unchecked_example.json', 'w', encoding='UTF8') as json_file:\n",
    "    json.dump(sent_unchecked, json_file, indent=4, ensure_ascii=False,)"
   ]
  },
  {
   "cell_type": "code",
   "execution_count": null,
   "id": "412a3ccb-692d-41f6-b14e-78989f36ec6a",
   "metadata": {},
   "outputs": [],
   "source": []
  }
 ],
 "metadata": {
  "kernelspec": {
   "display_name": "Python 3",
   "language": "python",
   "name": "python3"
  },
  "language_info": {
   "codemirror_mode": {
    "name": "ipython",
    "version": 3
   },
   "file_extension": ".py",
   "mimetype": "text/x-python",
   "name": "python",
   "nbconvert_exporter": "python",
   "pygments_lexer": "ipython3",
   "version": "3.8.8"
  }
 },
 "nbformat": 4,
 "nbformat_minor": 5
}
