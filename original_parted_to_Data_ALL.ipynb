{
 "cells": [
  {
   "cell_type": "markdown",
   "id": "427bf7f4-ccf2-4eef-9968-3c78c3fba3f6",
   "metadata": {},
   "source": [
    "# 각 원본파일 하나의 전체 원본 파일로 합치기"
   ]
  },
  {
   "cell_type": "code",
   "execution_count": 1,
   "id": "0c404f8a-f9ee-4665-ac48-45effab9af19",
   "metadata": {},
   "outputs": [],
   "source": [
    "# Library\n",
    "import csv\n",
    "import pandas as pd\n",
    "from tqdm.notebook import tnrange\n",
    "import re\n",
    "import os\n",
    "from os import walk"
   ]
  },
  {
   "cell_type": "code",
   "execution_count": 7,
   "id": "2c1de3bc-3a3a-4699-97d3-180636e6bb30",
   "metadata": {
    "tags": []
   },
   "outputs": [],
   "source": [
    "# 파일 read\n",
    "input_repo = '/Users/jaytsol/Desktop/Type23 (2)/오리지널/'\n",
    "file_1 = '1~38451.csv'\n",
    "file_2 = '38452~70000.csv'\n",
    "file_3 = '70001_76000 4.csv'\n",
    "\n",
    "output_repo = '/Users/jaytsol/Desktop/Type23 (2)/오리지널/total_original/'\n",
    "output_file = 'total_original.csv'"
   ]
  },
  {
   "cell_type": "code",
   "execution_count": 3,
   "id": "cb63b496-c5c6-4cf4-b0eb-213ee35e01e0",
   "metadata": {
    "tags": []
   },
   "outputs": [],
   "source": [
    "# data 1~3 데이터 형식 일치시키고 합치기\n",
    "def concat_data(input_repo, file_1, file_2, file_3):\n",
    "    data1 = pd.read_csv(input_repo+file_1)\n",
    "    data1 = data1[['lineNumber', 'originalText']]\n",
    "\n",
    "    data2 = pd.read_csv(input_repo+file_2)\n",
    "    data2 = data2[['lineNumber', 'originalText']]\n",
    "\n",
    "    data3_lineNumber = range(70001, 76001)\n",
    "    data3_originalText = list(pd.read_csv(input_repo+file_3, header=None)[0])\n",
    "    data3 = pd.DataFrame(list(zip(data3_lineNumber, data3_originalText)), columns=['lineNumber', 'originalText'])\n",
    "    \n",
    "    Data_ALL = pd.concat([data1, data2, data3])\n",
    "    \n",
    "    return Data_ALL"
   ]
  },
  {
   "cell_type": "code",
   "execution_count": 11,
   "id": "084730ee-12a2-4923-b479-408cc271e23b",
   "metadata": {},
   "outputs": [],
   "source": [
    "# Write Data_ALL\n",
    "def write_data(Data_ALL, output_repo, output_file):\n",
    "    Data_ALL.to_csv(output_repo+output_file, index=False, encoding='utf-8-sig')"
   ]
  },
  {
   "cell_type": "code",
   "execution_count": 5,
   "id": "18f0b9f7-2efb-43d7-969d-79b3e205cc98",
   "metadata": {},
   "outputs": [],
   "source": [
    "Data_ALL = concat_data(input_repo, file_1, file_2, file_3)"
   ]
  },
  {
   "cell_type": "code",
   "execution_count": 12,
   "id": "71593784-b112-49f4-9068-9f963509e742",
   "metadata": {},
   "outputs": [],
   "source": [
    "write_data(Data_ALL, output_repo, output_file)"
   ]
  },
  {
   "cell_type": "code",
   "execution_count": null,
   "id": "704d481c-bba2-4b07-b2c0-4d2b8c006b35",
   "metadata": {},
   "outputs": [],
   "source": []
  }
 ],
 "metadata": {
  "kernelspec": {
   "display_name": "Python 3",
   "language": "python",
   "name": "python3"
  },
  "language_info": {
   "codemirror_mode": {
    "name": "ipython",
    "version": 3
   },
   "file_extension": ".py",
   "mimetype": "text/x-python",
   "name": "python",
   "nbconvert_exporter": "python",
   "pygments_lexer": "ipython3",
   "version": "3.8.8"
  }
 },
 "nbformat": 4,
 "nbformat_minor": 5
}
