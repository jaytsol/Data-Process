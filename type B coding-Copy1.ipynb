{
 "cells": [
  {
   "cell_type": "code",
   "execution_count": 1,
   "id": "f14f331a-f5d6-4989-aef4-22ace63d0956",
   "metadata": {},
   "outputs": [],
   "source": [
    "import pandas as pd\n",
    "import json\n",
    "from tqdm import tnrange, tqdm_notebook"
   ]
  },
  {
   "cell_type": "code",
   "execution_count": 2,
   "id": "e9b6f055-e3cf-4234-b69e-4c297cfc730f",
   "metadata": {},
   "outputs": [],
   "source": [
    "f = open('C:/Users/jayts/OneDrive/바탕 화면/Tictag/json/KAS/for_coding2.json', 'r', encoding='UTF8')    # type3를 통해 추출된 json파일 읽어들이기\n",
    "original_exp = json.load(f)\n",
    "key_list = sorted(list(original_exp.keys()), key=len)    # 어려운 단어 리스트. 글자수가 더 많은 키워드를 먼저 ^^로 태깅하면 문제가 생김. 그래서 오름차순 정렬함"
   ]
  },
  {
   "cell_type": "code",
   "execution_count": 3,
   "id": "07c93589-270c-463e-a422-3ea0793c7123",
   "metadata": {},
   "outputs": [],
   "source": [
    "# 단어 하나가 문장에 여러번 등장했을때, 모든 위치를 리스트로 뽑아내는 함수.\n",
    "# list씌워야함\n",
    "\n",
    "def find_all(a_str, sub):\n",
    "    start = 0\n",
    "    while True:\n",
    "        start = a_str.find(sub, start)\n",
    "        if start == -1: return\n",
    "        yield start\n",
    "        start += len(sub) # use start += 1 to find overlapping matches\n",
    "        \n",
    "# ex) list(find_all('안녕안녕하세요', '안녕')) --> [0,2]"
   ]
  },
  {
   "cell_type": "code",
   "execution_count": 4,
   "id": "8deb61b1-a618-4aa4-b423-f865c707cc54",
   "metadata": {},
   "outputs": [],
   "source": [
    "# isdiff 두 문장을 갖고와서 같으면 0, 다르면 1을 출력하는 함수.\n",
    "def isdiff(sent_a, sent_b):\n",
    "    if sent_a == sent_b:\n",
    "        return 0\n",
    "    else:\n",
    "        return 1"
   ]
  },
  {
   "cell_type": "code",
   "execution_count": 5,
   "id": "e6274a99-4719-4964-9c7f-4f27cd76eeff",
   "metadata": {},
   "outputs": [],
   "source": [
    "# 숫자 리스트 받아와서 이에 맞게 다른 리스트의 순서 바꿔주는 함수.\n",
    "def sort_word_wordOcc(word, wordOccurence):    # 순서 바꿀 단어 리스트, 순서 알려주는 리스트\n",
    "#     try:\n",
    "    if len(word) == len(wordOccurence):\n",
    "        result = {}\n",
    "        for i in range(len(word)):\n",
    "            result.update({wordOccurence[i]['start']:word[i]})    # result = {wordOccurence:['start']:호환}\n",
    "\n",
    "        sorted_result = sorted(result.items())     # ex) [('1','원심'), (17:'원심'), (127:'호환'), (172:'호환'), (320:'원심')]\n",
    "        result_word = []\n",
    "        result_wordOcc = []\n",
    "\n",
    "        for i in range(0, len(word)):\n",
    "            result_word.append(sorted_result[i][1])\n",
    "            result_wordOcc.append({'start':sorted_result[i][0], 'end':sorted_result[i][0]+len(sorted_result[i][1])+1})\n",
    "        \n",
    "    else:\n",
    "        raise Exception('word와 word_Occurence 간 크기가 다릅니다.')\n",
    "        \n",
    "#     except Exception as e:\n",
    "#         print(\"예외가 발생했습니다.\", e)\n",
    "        \n",
    "    return result_word, result_wordOcc"
   ]
  },
  {
   "cell_type": "code",
   "execution_count": 6,
   "id": "acf1b453-d5e7-42f1-8409-44e493631d15",
   "metadata": {},
   "outputs": [],
   "source": [
    "# 중복제거\n",
    "def remove_overlap(overlapped_list):\n",
    "    result = []\n",
    "    for i in overlapped_list:\n",
    "        if i not in result:\n",
    "            result.append(i)\n",
    "            \n",
    "    return result"
   ]
  },
  {
   "cell_type": "code",
   "execution_count": 7,
   "id": "fe1a866b-e45c-4247-abd5-4765b0d58bff",
   "metadata": {},
   "outputs": [
    {
     "name": "stderr",
     "output_type": "stream",
     "text": [
      "<ipython-input-7-8c697acb1443>:4: TqdmDeprecationWarning: Please use `tqdm.notebook.trange` instead of `tqdm.tnrange`\n",
      "  for i in tnrange(len(key_list)):\n"
     ]
    },
    {
     "data": {
      "application/vnd.jupyter.widget-view+json": {
       "model_id": "c025b1bc4fa04781b3617594b18dfe0c",
       "version_major": 2,
       "version_minor": 0
      },
      "text/plain": [
       "  0%|          | 0/2 [00:00<?, ?it/s]"
      ]
     },
     "metadata": {},
     "output_type": "display_data"
    }
   ],
   "source": [
    "result = {}\n",
    "tag = '^'\n",
    "\n",
    "for i in tnrange(len(key_list)):\n",
    "    result.update({key_list[i]:[]})\n",
    "    \n",
    "    for j in range(len(original_exp[key_list[i]])):\n",
    "        sentence = original_exp[key_list[i]][j][\"sentence\"]\n",
    "        paragraph = original_exp[key_list[i]][j][\"paragraph\"]\n",
    "        keyword = original_exp[key_list[i]][j][\"keyword\"]\n",
    "        keywordOccurence = []\n",
    "        \n",
    "        for k in range(len(paragraph)):\n",
    "            sentence = sentence.replace(paragraph[k], tag + keyword[k] + tag)\n",
    "            \n",
    "        for q in range(len(paragraph)):\n",
    "            start = list(find_all(sentence, keyword[q]))\n",
    "            end_only_keyword = start[l]+len(keyword[k])\n",
    "            \n",
    "            for l in range(len(start)):\n",
    "                keywordOccurence.append({'start':start[l]-1, 'end':end})\n",
    "            \n",
    "        result[key_list[i]].append({'sentence':sentence, 'paragraph': paragraph, 'keyword':keyword, 'keywordOccurence':keywordOccurence})\n",
    "        \n",
    "#         # 키데이터 중 문장에 있는 키워드 찾아내기\n",
    "#         for k in range(len(key_list)):    # 모든 키워드에 대해 시행\n",
    "#             if sentence[0:len(key_list[k])] == key_list[k]:    # 문장 첫 단어로 키워드가 있을 때..\n",
    "#                 tagged_keyword = tag + data1[3] + tag\n",
    "#                 sentence = sentence.replace(key_list[k], tagged_keyword)\n",
    "#                 count = len(list(find_all(sentence, key_list[k])))\n",
    "#                 result[key_list[i]][j].update({'sentence':sentence})\n",
    "#                 for l in range(count):\n",
    "#                     result[key_list[i]][j]['keyword'].append(key_list[k])\n",
    "                \n",
    "                \n",
    "#             elif sentence.find(' '+key_list[k]) != -1:    # 문장 첫 단어로 키워드가 있을 때..\n",
    "#                 tagged_keyword = tag + key_list[k] + tag\n",
    "#                 sentence = sentence.replace(key_list[k], tagged_keyword)\n",
    "#                 count = len(list(find_all(sentence, key_list[k])))\n",
    "#                 result[key_list[i]][j].update({'sentence':sentence})\n",
    "#                 for l in range(count):\n",
    "#                     result[key_list[i]][j]['keyword'].append(key_list[k])\n",
    "                \n",
    "#             else:\n",
    "#                 pass"
   ]
  },
  {
   "cell_type": "code",
   "execution_count": 9,
   "id": "e21725c7-ee03-42ef-9ab3-68b595745c2a",
   "metadata": {},
   "outputs": [
    {
     "name": "stderr",
     "output_type": "stream",
     "text": [
      "<ipython-input-9-cb0679df4dae>:2: TqdmDeprecationWarning: Please use `tqdm.notebook.trange` instead of `tqdm.tnrange`\n",
      "  for i in tnrange(len(key_list)):\n"
     ]
    },
    {
     "data": {
      "application/vnd.jupyter.widget-view+json": {
       "model_id": "3f69dea0e72d4bbe8b1f06912f2887f1",
       "version_major": 2,
       "version_minor": 0
      },
      "text/plain": [
       "  0%|          | 0/2 [00:00<?, ?it/s]"
      ]
     },
     "metadata": {},
     "output_type": "display_data"
    }
   ],
   "source": [
    "# word와 wordOccurence 직관적으로 정렬.\n",
    "for i in tnrange(len(key_list)):\n",
    "    for j in range(len(original_exp[key_list[i]])):\n",
    "        paragraph = result[key_list[i]][j]['paragraph']\n",
    "        keyword = result[key_list[i]][j]['keyword']\n",
    "        tagged_keyword_pos = result[key_list[i]][j]['keywordOccurence']\n",
    "        result_word, result_wordOcc = sort_word_wordOcc(paragraph, tagged_keyword_pos)\n",
    "        result[key_list[i]][j]['paragraph'] = result_word\n",
    "        result_word, result_wordOcc = sort_word_wordOcc(keyword, tagged_keyword_pos)\n",
    "        result[key_list[i]][j]['keyword'] = result_word\n",
    "        result[key_list[i]][j]['keywordOccurence'] = result_wordOcc"
   ]
  },
  {
   "cell_type": "code",
   "execution_count": 10,
   "id": "d0ec35b8-4ed4-4938-bcac-3caaac89f11c",
   "metadata": {},
   "outputs": [],
   "source": [
    "# json 파일로 저장\n",
    "with open('C:/Users/jayts/OneDrive/바탕 화면/Tictag/json/KAS/type2_B_input.json', 'w', encoding='UTF8') as json_file:\n",
    "# with open('C:/Users/jayts/OneDrive/바탕 화면/Tictag/json/KAS/type2_A_input_example.json', 'w', encoding='UTF8') as json_file:\n",
    "    json.dump(result, json_file, indent=4, ensure_ascii=False,)"
   ]
  },
  {
   "cell_type": "code",
   "execution_count": null,
   "id": "38b9f740-e3e7-4e20-919f-6fb6b7b44531",
   "metadata": {},
   "outputs": [],
   "source": []
  }
 ],
 "metadata": {
  "kernelspec": {
   "display_name": "Python 3",
   "language": "python",
   "name": "python3"
  },
  "language_info": {
   "codemirror_mode": {
    "name": "ipython",
    "version": 3
   },
   "file_extension": ".py",
   "mimetype": "text/x-python",
   "name": "python",
   "nbconvert_exporter": "python",
   "pygments_lexer": "ipython3",
   "version": "3.8.8"
  }
 },
 "nbformat": 4,
 "nbformat_minor": 5
}
