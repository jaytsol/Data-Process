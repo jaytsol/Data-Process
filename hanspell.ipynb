{
 "cells": [
  {
   "cell_type": "code",
   "execution_count": 1,
   "id": "eed83d79-2570-4784-abfd-88c2f762a285",
   "metadata": {},
   "outputs": [],
   "source": [
    "from hanspell import spell_checker"
   ]
  },
  {
   "cell_type": "code",
   "execution_count": 2,
   "id": "32b66234-bbb0-4481-a6e8-6c8fb988bb5e",
   "metadata": {},
   "outputs": [],
   "source": [
    "sent = \"비록 양 발명의 구성에 상이점이 있어도 그 기술분야에서 통상의 지식을 가진 자가 보통으로 채용하는 정도의 변경에 지나지 아니하고 발명의 목적과 작용효과에 격별한 차이를 일으키지 아니하는 경우에는 양 발명은 역시 동일한 발명이라 할 것인바 기록에 의하면 이건 특허와 출원은 두 발명 모두가 감광지에 액상 진주박등 혼합액을 도포하고 그 위에 천연자개의 색감을 낼 수 있는 각종 색의 안료를 사용하여 무늬를 도층한 후 건조시켜 그 위에 장식무늬를 스크린 인쇄하는 단계에 이르기까지 그 기술적 사상이 동일하고 원심결이 이 단계에 있어서 차이점으로 드는 무늬형성방법과 착색제 조성상의 상이나 특히 이건 출원에 첨가되는 수성염료가 이건 특허에서는 삭제되었다는 점은 수성염료도 착색제로서는 다른 안료와 호환성을 갖는 재료라 할 것이고\"\n",
    "keyword = \"호환\""
   ]
  },
  {
   "cell_type": "code",
   "execution_count": 18,
   "id": "49ba858d-a1b9-441d-9c41-e178e91445b6",
   "metadata": {},
   "outputs": [],
   "source": [
    "sent = \"잘못<br>들었습니다?\"\n",
    "keyword = \"잘못\""
   ]
  },
  {
   "cell_type": "code",
   "execution_count": 3,
   "id": "4de1dcda-d144-4f3b-8399-8aa0487f2b6b",
   "metadata": {},
   "outputs": [],
   "source": [
    "# 단어 하나가 문장에 여러번 등장했을때, 모든 위치를 리스트로 뽑아내는 함수.\n",
    "# list씌워야함\n",
    "\n",
    "def find_all(a_str, sub):\n",
    "    start = 0\n",
    "    while True:\n",
    "        start = a_str.find(sub, start)\n",
    "        if start == -1: return\n",
    "        yield start\n",
    "        start += len(sub) # use start += 1 to find overlapping matches\n",
    "        \n",
    "# ex) list(find_all('안녕안농하세요', '안녕')) --> [0,2]"
   ]
  },
  {
   "cell_type": "code",
   "execution_count": 19,
   "id": "b6caea69-1ba4-464b-9d65-5df9dce68f82",
   "metadata": {},
   "outputs": [
    {
     "data": {
      "text/plain": [
       "'잘못<br>들었습니다?'"
      ]
     },
     "execution_count": 19,
     "metadata": {},
     "output_type": "execute_result"
    }
   ],
   "source": [
    "sent"
   ]
  },
  {
   "cell_type": "code",
   "execution_count": 15,
   "id": "e601d1da-ad29-468f-80bd-250d73aab092",
   "metadata": {},
   "outputs": [],
   "source": [
    "spelled_keyword = spell_checker.check(sent)"
   ]
  },
  {
   "cell_type": "code",
   "execution_count": 16,
   "id": "9c925340-37b2-4996-8d1b-4cb8e1cbd4b8",
   "metadata": {},
   "outputs": [],
   "source": [
    "spelled_keyword = spell_checker._remove_tags(sent)"
   ]
  },
  {
   "cell_type": "code",
   "execution_count": 17,
   "id": "81515db4-1c1e-4c1b-a331-3d29feb36122",
   "metadata": {},
   "outputs": [
    {
     "data": {
      "text/plain": [
       "'잘못 들었습니다?'"
      ]
     },
     "execution_count": 17,
     "metadata": {},
     "output_type": "execute_result"
    }
   ],
   "source": [
    "spelled_keyword"
   ]
  },
  {
   "cell_type": "code",
   "execution_count": 9,
   "id": "bde247d2-3cd5-4fde-9dca-cdf083d7c835",
   "metadata": {},
   "outputs": [
    {
     "data": {
      "text/plain": [
       "'비록 양 발명의 구성에 상이점이 있어도 그 기술 분야에서 통상의 지식을 가진 자가 보통으로 채용하는 정도의 변경에 지나지 아니하고 발명의 목적과 작용 효과에 격별한 차이를 일으키지 아니하는 경우에는 양 발명은 역시 동일한 발명이라 할 것인바 기록에 의하면 이건 특허와 출원은 두 발명 모두가 감광지에 액상 진주 박동 혼합액을 도포하고 그 위에 천연 자개의 색감을 낼 수 있는 각종 색의 안료를 사용하여 무늬를 도청한 후 건조해 그 위에 장식무늬를 스크린 인쇄하는 단계에 이르기까지 그 기술적 사상이 동일하고 원심 결잉 이 단계에 있어서 차이점으로 드는 무늬형성 방법과 착색제 조성상의 상이나 특히 이건 출원에 첨가되는 수성 염료가 이건 특허에서는 삭제되었다는 점은 수성 염료도 착색제로서는 다른 안료와 호환성을 갖는 재료라 할 것이고'"
      ]
     },
     "execution_count": 9,
     "metadata": {},
     "output_type": "execute_result"
    }
   ],
   "source": [
    "spelled_keyword.checked"
   ]
  },
  {
   "cell_type": "code",
   "execution_count": 10,
   "id": "ee63ec4e-facf-4fbc-9e10-24042a3832cb",
   "metadata": {},
   "outputs": [
    {
     "data": {
      "text/plain": [
       "'비록 양 발명의 구성에 상이점이 있어도 그 기술 분야에서 통상의 지식을 가진 자가 보통으로 채용하는 정도의 변경에 지나지 아니하고 발명의 목적과 작용 효과에 격별한 차이를 일으키지 아니하는 경우에는 양 발명은 역시 동일한 발명이라 할 것인바 기록에 의하면 이건 특허와 출원은 두 발명 모두가 감광지에 액상 진주 박동 혼합액을 도포하고 그 위에 천연 자개의 색감을 낼 수 있는 각종 색의 안료를 사용하여 무늬를 도청한 후 건조해 그 위에 장식무늬를 스크린 인쇄하는 단계에 이르기까지 그 기술적 사상이 동일하고 원심 결잉 이 단계에 있어서 차이점으로 드는 무늬형성 방법과 착색제 조성상의 상이나 특히 이건 출원에 첨가되는 수성 염료가 이건 특허에서는 삭제되었다는 점은 수성 염료도 착색제로서는 다른 안료와 호환성을 갖는 재료라 할 것이고'"
      ]
     },
     "execution_count": 10,
     "metadata": {},
     "output_type": "execute_result"
    }
   ],
   "source": [
    "spelled_keyword.checked"
   ]
  },
  {
   "cell_type": "code",
   "execution_count": 6,
   "id": "4cf8bb18-63ff-442d-954a-89bd8e4e689e",
   "metadata": {},
   "outputs": [],
   "source": [
    "d = spelled_keyword.words"
   ]
  },
  {
   "cell_type": "code",
   "execution_count": 7,
   "id": "8f70b934-3e91-46f3-8d50-1cc0dfbe3683",
   "metadata": {},
   "outputs": [
    {
     "name": "stdout",
     "output_type": "stream",
     "text": [
      "비록 0\n",
      "양 0\n",
      "발명의 0\n",
      "구성에 0\n",
      "상이점이 0\n",
      "있어도 0\n",
      "그 0\n",
      "기술 2\n",
      "분야에서 2\n",
      "통상의 0\n",
      "지식을 0\n",
      "가진 0\n",
      "자가 0\n",
      "보통으로 0\n",
      "채용하는 0\n",
      "정도의 0\n",
      "변경에 0\n",
      "지나지 0\n",
      "아니하고 0\n",
      "목적과 0\n",
      "작용 2\n",
      "효과에 2\n",
      "격별한 0\n",
      "차이를 0\n",
      "일으키지 0\n",
      "아니하는 0\n",
      "경우에는 0\n",
      "발명은 0\n",
      "역시 0\n",
      "동일한 0\n",
      "발명이라 0\n",
      "할 0\n",
      "것인바 0\n",
      "기록에 0\n",
      "의하면 0\n",
      "이건 0\n",
      "특허와 0\n",
      "출원은 0\n",
      "두 0\n",
      "발명 0\n",
      "모두가 0\n",
      "감광지에 0\n",
      "액상 0\n",
      "진주 4\n",
      "박동 4\n",
      "혼합액을 0\n",
      "도포하고 0\n",
      "위에 0\n",
      "천연 2\n",
      "자개의 2\n",
      "색감을 0\n",
      "낼 0\n",
      "수 0\n",
      "있는 0\n",
      "각종 0\n",
      "색의 0\n",
      "안료를 0\n",
      "사용하여 0\n",
      "무늬를 0\n",
      "도청한 4\n",
      "후 0\n",
      "건조해 1\n",
      "장식무늬를 0\n",
      "스크린 0\n",
      "인쇄하는 0\n",
      "단계에 0\n",
      "이르기까지 0\n",
      "기술적 0\n",
      "사상이 0\n",
      "동일하고 0\n",
      "원심 4\n",
      "결잉 4\n",
      "이 0\n",
      "있어서 0\n",
      "차이점으로 0\n",
      "드는 0\n",
      "무늬형성 2\n",
      "방법과 2\n",
      "착색제 0\n",
      "조성상의 0\n",
      "상이나 0\n",
      "특히 0\n",
      "출원에 0\n",
      "첨가되는 0\n",
      "수성 2\n",
      "염료가 2\n",
      "특허에서는 0\n",
      "삭제되었다는 0\n",
      "점은 0\n",
      "염료도 2\n",
      "착색제로서는 0\n",
      "다른 0\n",
      "안료와 0\n",
      "호환성을 0\n",
      "갖는 0\n",
      "재료라 0\n",
      "것이고 0\n"
     ]
    }
   ],
   "source": [
    "for k,v in d.items():\n",
    "    print(k, v)"
   ]
  },
  {
   "cell_type": "code",
   "execution_count": 20,
   "id": "8cc909b1-fa49-476a-8254-0b934ffb47da",
   "metadata": {},
   "outputs": [
    {
     "data": {
      "text/plain": [
       "[]"
      ]
     },
     "execution_count": 20,
     "metadata": {},
     "output_type": "execute_result"
    }
   ],
   "source": [
    "list(find_all(sent, keyword))"
   ]
  },
  {
   "cell_type": "code",
   "execution_count": 21,
   "id": "b5abfda6-dcf5-4475-8199-fa3246c3bc98",
   "metadata": {},
   "outputs": [],
   "source": [
    "spelled_sent = spell_checker.check(sent)"
   ]
  },
  {
   "cell_type": "code",
   "execution_count": 22,
   "id": "2e605873-0cfc-478d-8d8f-012693ea24b5",
   "metadata": {},
   "outputs": [
    {
     "data": {
      "text/plain": [
       "Checked(result=True, original='재산의 재산이나 영토, 권리 따위가 특정 주체에 붙음 명의자가 지배·관리 능력이 없고、 명의자에 대한 지배권 등을 통하여 실질적으로 지배·관리하는 자가 따로 있으며、 명의와 실질의 괴리가 비정상적인 과정을 통해 조세를 피하는 것 목적에서 비롯된 경우、 재산에 관한 소득의 납세의무자(=재산의 실질적 지배·관리자) 및 이 원칙이 소득 및 자본에 대한 국제적 이중과세를 방지하기 위한 약속의 해석과 적용에서도 그대로 적용되는지(원칙적 적극)', checked='재산의 재산이나 영토, 권리 따위가 특정 주체에 붙음 명의자가 지배·관리 능력이 없고、 명의자에 대한 지배권 등을 통하여 실질적으로 지배·관리하는 자가 따로 있으며、 명의와 실질의 괴리가 비정상적인 과정을 통해 조세를 피하는 것 목적에서 비롯된 경우、 재산에 관한 소득의 납세의무자(=재산의 실질적 지배·관리자) 및 이 원칙이 소득 및 자본에 대한 국제적 이중과세를 방지하기 위한 약속의 해석과 적용에서도 그대로 적용되는지(원칙적 적극)', errors=0, words=OrderedDict([('재산의', 0), ('재산이나', 0), ('영토,', 0), ('권리', 0), ('따위가', 0), ('특정', 0), ('주체에', 0), ('붙음', 0), ('명의자가', 0), ('지배·관리', 0), ('능력이', 0), ('없고、', 0), ('명의자에', 0), ('대한', 0), ('지배권', 0), ('등을', 0), ('통하여', 0), ('실질적으로', 0), ('지배·관리하는', 0), ('자가', 0), ('따로', 0), ('있으며、', 0), ('명의와', 0), ('실질의', 0), ('괴리가', 0), ('비정상적인', 0), ('과정을', 0), ('통해', 0), ('조세를', 0), ('피하는', 0), ('것', 0), ('목적에서', 0), ('비롯된', 0), ('경우、', 0), ('재산에', 0), ('관한', 0), ('소득의', 0), ('납세의무자(=재산의', 0), ('실질적', 0), ('지배·관리자)', 0), ('및', 0), ('이', 0), ('원칙이', 0), ('소득', 0), ('자본에', 0), ('국제적', 0), ('이중과세를', 0), ('방지하기', 0), ('위한', 0), ('약속의', 0), ('해석과', 0), ('적용에서도', 0), ('그대로', 0), ('적용되는지(원칙적', 0), ('적극)', 0)]), time=0.16138005256652832)"
      ]
     },
     "execution_count": 22,
     "metadata": {},
     "output_type": "execute_result"
    }
   ],
   "source": [
    "spelled_sent"
   ]
  },
  {
   "cell_type": "code",
   "execution_count": 23,
   "id": "db1c8c3e-d18e-421e-a97d-548e65dbbe04",
   "metadata": {},
   "outputs": [
    {
     "data": {
      "text/plain": [
       "['재산의',\n",
       " '재산이나',\n",
       " '영토,',\n",
       " '권리',\n",
       " '따위가',\n",
       " '특정',\n",
       " '주체에',\n",
       " '붙음',\n",
       " '명의자가',\n",
       " '지배·관리',\n",
       " '능력이',\n",
       " '없고、',\n",
       " '명의자에',\n",
       " '대한',\n",
       " '지배권',\n",
       " '등을',\n",
       " '통하여',\n",
       " '실질적으로',\n",
       " '지배·관리하는',\n",
       " '자가',\n",
       " '따로',\n",
       " '있으며、',\n",
       " '명의와',\n",
       " '실질의',\n",
       " '괴리가',\n",
       " '비정상적인',\n",
       " '과정을',\n",
       " '통해',\n",
       " '조세를',\n",
       " '피하는',\n",
       " '것',\n",
       " '목적에서',\n",
       " '비롯된',\n",
       " '경우、',\n",
       " '재산에',\n",
       " '관한',\n",
       " '소득의',\n",
       " '납세의무자(=재산의',\n",
       " '실질적',\n",
       " '지배·관리자)',\n",
       " '및',\n",
       " '이',\n",
       " '원칙이',\n",
       " '소득',\n",
       " '자본에',\n",
       " '국제적',\n",
       " '이중과세를',\n",
       " '방지하기',\n",
       " '위한',\n",
       " '약속의',\n",
       " '해석과',\n",
       " '적용에서도',\n",
       " '그대로',\n",
       " '적용되는지(원칙적',\n",
       " '적극)']"
      ]
     },
     "execution_count": 23,
     "metadata": {},
     "output_type": "execute_result"
    }
   ],
   "source": [
    "list(spelled_sent.words)"
   ]
  },
  {
   "cell_type": "code",
   "execution_count": 24,
   "id": "01519809-5841-4628-90aa-02a1458053ea",
   "metadata": {},
   "outputs": [
    {
     "data": {
      "text/plain": [
       "'재산의 재산이나 영토, 권리 따위가 특정 주체에 붙음 명의자가 지배·관리 능력이 없고、 명의자에 대한 지배권 등을 통하여 실질적으로 지배·관리하는 자가 따로 있으며、 명의와 실질의 괴리가 비정상적인 과정을 통해 조세를 피하는 것 목적에서 비롯된 경우、 재산에 관한 소득의 납세의무자(=재산의 실질적 지배·관리자) 및 이 원칙이 소득 및 자본에 대한 국제적 이중과세를 방지하기 위한 약속의 해석과 적용에서도 그대로 적용되는지(원칙적 적극)'"
      ]
     },
     "execution_count": 24,
     "metadata": {},
     "output_type": "execute_result"
    }
   ],
   "source": [
    "spelled_sent.checked"
   ]
  },
  {
   "cell_type": "code",
   "execution_count": 25,
   "id": "6a41c656-e92b-4dc3-b26c-7f18922d66af",
   "metadata": {},
   "outputs": [
    {
     "data": {
      "text/plain": [
       "0"
      ]
     },
     "execution_count": 25,
     "metadata": {},
     "output_type": "execute_result"
    }
   ],
   "source": [
    "spelled_sent.errors"
   ]
  },
  {
   "cell_type": "code",
   "execution_count": null,
   "id": "85f0554a-6523-489d-a416-b17b43231365",
   "metadata": {},
   "outputs": [],
   "source": []
  }
 ],
 "metadata": {
  "kernelspec": {
   "display_name": "Python 3",
   "language": "python",
   "name": "python3"
  },
  "language_info": {
   "codemirror_mode": {
    "name": "ipython",
    "version": 3
   },
   "file_extension": ".py",
   "mimetype": "text/x-python",
   "name": "python",
   "nbconvert_exporter": "python",
   "pygments_lexer": "ipython3",
   "version": "3.8.8"
  }
 },
 "nbformat": 4,
 "nbformat_minor": 5
}
