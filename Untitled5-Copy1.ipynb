{
 "cells": [
  {
   "cell_type": "code",
   "execution_count": 1,
   "id": "514b91c8-83aa-4e62-83ca-07ce32d8b756",
   "metadata": {
    "tags": []
   },
   "outputs": [],
   "source": [
    "import json\n",
    "import pandas as pd\n",
    "from tqdm import tnrange, tqdm_notebook\n",
    "from hanspell import spell_checker"
   ]
  },
  {
   "cell_type": "code",
   "execution_count": 7,
   "id": "bd5c7063-afbd-4c84-a438-46ff0f814d8d",
   "metadata": {},
   "outputs": [],
   "source": [
    "input_repo = '/Users/jaytsol/Desktop/Type23 (2)/네이버api'\n",
    "input_filename = '네이버api추가+check.csv'\n",
    "\n",
    "ref_repo = '/Users/jaytsol/Desktop/Type23 (2)/네이버api'\n",
    "ref_filename = 'error_without_spaceerror.csv'\n",
    "\n",
    "output_repo = input_repo\n",
    "output_filename = 'temp.csv'"
   ]
  },
  {
   "cell_type": "code",
   "execution_count": 5,
   "id": "3bd2ad3c-d71d-4f08-94dc-36562e256427",
   "metadata": {},
   "outputs": [],
   "source": [
    "org = pd.read_csv(f'{input_repo}/{input_filename}')"
   ]
  },
  {
   "cell_type": "code",
   "execution_count": 6,
   "id": "a3c0a979-c064-4f08-8e0e-34b1921995ed",
   "metadata": {},
   "outputs": [
    {
     "data": {
      "text/html": [
       "<div>\n",
       "<style scoped>\n",
       "    .dataframe tbody tr th:only-of-type {\n",
       "        vertical-align: middle;\n",
       "    }\n",
       "\n",
       "    .dataframe tbody tr th {\n",
       "        vertical-align: top;\n",
       "    }\n",
       "\n",
       "    .dataframe thead th {\n",
       "        text-align: right;\n",
       "    }\n",
       "</style>\n",
       "<table border=\"1\" class=\"dataframe\">\n",
       "  <thead>\n",
       "    <tr style=\"text-align: right;\">\n",
       "      <th></th>\n",
       "      <th>word</th>\n",
       "      <th>usecase</th>\n",
       "      <th>trans</th>\n",
       "      <th>naverAPI</th>\n",
       "      <th>naverAPI_check</th>\n",
       "      <th>spelled_sent</th>\n",
       "      <th>error_code</th>\n",
       "      <th>keyword</th>\n",
       "    </tr>\n",
       "  </thead>\n",
       "  <tbody>\n",
       "    <tr>\n",
       "      <th>0</th>\n",
       "      <td>원심</td>\n",
       "      <td>원심판결 이유에</td>\n",
       "      <td>직전의 재판판결 이유에</td>\n",
       "      <td>직전의 재판 판결 이유에</td>\n",
       "      <td>o</td>\n",
       "      <td>1.0</td>\n",
       "      <td>[2, 0, 2, 0, 0]</td>\n",
       "      <td>직전의 재판</td>\n",
       "    </tr>\n",
       "    <tr>\n",
       "      <th>1</th>\n",
       "      <td>원심</td>\n",
       "      <td>원심은 이</td>\n",
       "      <td>직전의 재판은 이</td>\n",
       "      <td>직전의 재판은 이</td>\n",
       "      <td>NaN</td>\n",
       "      <td>0.0</td>\n",
       "      <td>[3, 0, 0, 0, 0]</td>\n",
       "      <td>직전의 재판</td>\n",
       "    </tr>\n",
       "    <tr>\n",
       "      <th>2</th>\n",
       "      <td>여부</td>\n",
       "      <td>여부를 판단함에</td>\n",
       "      <td>있는지 (소극)</td>\n",
       "      <td>있는지 (소극)</td>\n",
       "      <td>NaN</td>\n",
       "      <td>0.0</td>\n",
       "      <td>[2, 0, 0, 0, 0]</td>\n",
       "      <td>맞거나 틀림</td>\n",
       "    </tr>\n",
       "    <tr>\n",
       "      <th>3</th>\n",
       "      <td>피고</td>\n",
       "      <td>피고가 별도의</td>\n",
       "      <td>민사소송에서 소송을 당한 사람이 이</td>\n",
       "      <td>민사소송에서 소송을 당한 사람이 이</td>\n",
       "      <td>NaN</td>\n",
       "      <td>0.0</td>\n",
       "      <td>[5, 0, 0, 0, 0]</td>\n",
       "      <td>민사소송에서 소송을 당한 사람</td>\n",
       "    </tr>\n",
       "    <tr>\n",
       "      <th>4</th>\n",
       "      <td>취지</td>\n",
       "      <td>취지로 설시하였음을</td>\n",
       "      <td>목적이나 요지로 설시하였음을</td>\n",
       "      <td>목적이나 요지로 설시하였음을</td>\n",
       "      <td>NaN</td>\n",
       "      <td>0.0</td>\n",
       "      <td>[3, 0, 0, 0, 0]</td>\n",
       "      <td>하려는 목적이나 요지</td>\n",
       "    </tr>\n",
       "    <tr>\n",
       "      <th>...</th>\n",
       "      <td>...</td>\n",
       "      <td>...</td>\n",
       "      <td>...</td>\n",
       "      <td>...</td>\n",
       "      <td>...</td>\n",
       "      <td>...</td>\n",
       "      <td>...</td>\n",
       "      <td>...</td>\n",
       "    </tr>\n",
       "    <tr>\n",
       "      <th>95993</th>\n",
       "      <td>개진</td>\n",
       "      <td>개진·의사의 표시·입후보와</td>\n",
       "      <td>의견이나 내용을 드러내어 전개함·의사의 표시·입후보와</td>\n",
       "      <td>의견이나 내용을 드러내어 전개함·의사의 표시·입후보와</td>\n",
       "      <td>NaN</td>\n",
       "      <td>0.0</td>\n",
       "      <td>[5, 0, 0, 0, 0]</td>\n",
       "      <td>의견이나 내용을 드러내어 전개함</td>\n",
       "    </tr>\n",
       "    <tr>\n",
       "      <th>95994</th>\n",
       "      <td>통상</td>\n",
       "      <td>통상적인 정당활동은</td>\n",
       "      <td>일반적인 경우 정당활동은</td>\n",
       "      <td>일반적인 경우 정당활동은</td>\n",
       "      <td>NaN</td>\n",
       "      <td>0.0</td>\n",
       "      <td>[3, 0, 0, 0, 0]</td>\n",
       "      <td>일반적인 경우</td>\n",
       "    </tr>\n",
       "    <tr>\n",
       "      <th>95995</th>\n",
       "      <td>취지</td>\n",
       "      <td>취지와 국민의</td>\n",
       "      <td>하려는 목적이나 요지와 국민의</td>\n",
       "      <td>하려는 목적이나 요지와 국민의</td>\n",
       "      <td>NaN</td>\n",
       "      <td>0.0</td>\n",
       "      <td>[4, 0, 0, 0, 0]</td>\n",
       "      <td>하려는 목적이나 요지</td>\n",
       "    </tr>\n",
       "    <tr>\n",
       "      <th>95996</th>\n",
       "      <td>득표</td>\n",
       "      <td>득표를 위한</td>\n",
       "      <td>표에서 찬성표를 얻음을 위한</td>\n",
       "      <td>표에서 찬성 표를 얻음을 위한</td>\n",
       "      <td>o</td>\n",
       "      <td>1.0</td>\n",
       "      <td>[3, 0, 2, 0, 0]</td>\n",
       "      <td>표에서 찬성표를 얻음</td>\n",
       "    </tr>\n",
       "    <tr>\n",
       "      <th>95997</th>\n",
       "      <td>낙선</td>\n",
       "      <td>낙선을 위한</td>\n",
       "      <td>선거에서 떨어짐을 위한</td>\n",
       "      <td>선거에서 떨어짐을 위한</td>\n",
       "      <td>NaN</td>\n",
       "      <td>0.0</td>\n",
       "      <td>[3, 0, 0, 0, 0]</td>\n",
       "      <td>선거에서 떨어짐</td>\n",
       "    </tr>\n",
       "  </tbody>\n",
       "</table>\n",
       "<p>95998 rows × 8 columns</p>\n",
       "</div>"
      ],
      "text/plain": [
       "      word         usecase                          trans  \\\n",
       "0       원심        원심판결 이유에                   직전의 재판판결 이유에   \n",
       "1       원심           원심은 이                      직전의 재판은 이   \n",
       "2       여부        여부를 판단함에                       있는지 (소극)   \n",
       "3       피고         피고가 별도의            민사소송에서 소송을 당한 사람이 이   \n",
       "4       취지      취지로 설시하였음을                목적이나 요지로 설시하였음을   \n",
       "...    ...             ...                            ...   \n",
       "95993   개진  개진·의사의 표시·입후보와  의견이나 내용을 드러내어 전개함·의사의 표시·입후보와   \n",
       "95994   통상      통상적인 정당활동은                  일반적인 경우 정당활동은   \n",
       "95995   취지         취지와 국민의               하려는 목적이나 요지와 국민의   \n",
       "95996   득표          득표를 위한                표에서 찬성표를 얻음을 위한   \n",
       "95997   낙선          낙선을 위한                   선거에서 떨어짐을 위한   \n",
       "\n",
       "                            naverAPI naverAPI_check  spelled_sent  \\\n",
       "0                      직전의 재판 판결 이유에              o           1.0   \n",
       "1                          직전의 재판은 이            NaN           0.0   \n",
       "2                           있는지 (소극)            NaN           0.0   \n",
       "3                민사소송에서 소송을 당한 사람이 이            NaN           0.0   \n",
       "4                    목적이나 요지로 설시하였음을            NaN           0.0   \n",
       "...                              ...            ...           ...   \n",
       "95993  의견이나 내용을 드러내어 전개함·의사의 표시·입후보와            NaN           0.0   \n",
       "95994                  일반적인 경우 정당활동은            NaN           0.0   \n",
       "95995               하려는 목적이나 요지와 국민의            NaN           0.0   \n",
       "95996               표에서 찬성 표를 얻음을 위한              o           1.0   \n",
       "95997                   선거에서 떨어짐을 위한            NaN           0.0   \n",
       "\n",
       "            error_code            keyword  \n",
       "0      [2, 0, 2, 0, 0]             직전의 재판  \n",
       "1      [3, 0, 0, 0, 0]             직전의 재판  \n",
       "2      [2, 0, 0, 0, 0]             맞거나 틀림  \n",
       "3      [5, 0, 0, 0, 0]   민사소송에서 소송을 당한 사람  \n",
       "4      [3, 0, 0, 0, 0]        하려는 목적이나 요지  \n",
       "...                ...                ...  \n",
       "95993  [5, 0, 0, 0, 0]  의견이나 내용을 드러내어 전개함  \n",
       "95994  [3, 0, 0, 0, 0]            일반적인 경우  \n",
       "95995  [4, 0, 0, 0, 0]        하려는 목적이나 요지  \n",
       "95996  [3, 0, 2, 0, 0]        표에서 찬성표를 얻음  \n",
       "95997  [3, 0, 0, 0, 0]           선거에서 떨어짐  \n",
       "\n",
       "[95998 rows x 8 columns]"
      ]
     },
     "execution_count": 6,
     "metadata": {},
     "output_type": "execute_result"
    }
   ],
   "source": [
    "org"
   ]
  },
  {
   "cell_type": "code",
   "execution_count": 14,
   "id": "5f6c0e09-fe3f-45b9-9011-8f6646e06810",
   "metadata": {},
   "outputs": [],
   "source": [
    "org.insert(0, 'result_Number', None)"
   ]
  },
  {
   "cell_type": "code",
   "execution_count": 15,
   "id": "36902e49-73cf-49e0-982c-193d50569488",
   "metadata": {},
   "outputs": [
    {
     "data": {
      "text/html": [
       "<div>\n",
       "<style scoped>\n",
       "    .dataframe tbody tr th:only-of-type {\n",
       "        vertical-align: middle;\n",
       "    }\n",
       "\n",
       "    .dataframe tbody tr th {\n",
       "        vertical-align: top;\n",
       "    }\n",
       "\n",
       "    .dataframe thead th {\n",
       "        text-align: right;\n",
       "    }\n",
       "</style>\n",
       "<table border=\"1\" class=\"dataframe\">\n",
       "  <thead>\n",
       "    <tr style=\"text-align: right;\">\n",
       "      <th></th>\n",
       "      <th>result_Number</th>\n",
       "      <th>word</th>\n",
       "      <th>usecase</th>\n",
       "      <th>trans</th>\n",
       "      <th>naverAPI</th>\n",
       "      <th>naverAPI_check</th>\n",
       "      <th>spelled_sent</th>\n",
       "      <th>error_code</th>\n",
       "      <th>keyword</th>\n",
       "    </tr>\n",
       "  </thead>\n",
       "  <tbody>\n",
       "    <tr>\n",
       "      <th>0</th>\n",
       "      <td>None</td>\n",
       "      <td>원심</td>\n",
       "      <td>원심판결 이유에</td>\n",
       "      <td>직전의 재판판결 이유에</td>\n",
       "      <td>직전의 재판 판결 이유에</td>\n",
       "      <td>o</td>\n",
       "      <td>1.0</td>\n",
       "      <td>[2, 0, 2, 0, 0]</td>\n",
       "      <td>직전의 재판</td>\n",
       "    </tr>\n",
       "    <tr>\n",
       "      <th>1</th>\n",
       "      <td>None</td>\n",
       "      <td>원심</td>\n",
       "      <td>원심은 이</td>\n",
       "      <td>직전의 재판은 이</td>\n",
       "      <td>직전의 재판은 이</td>\n",
       "      <td>NaN</td>\n",
       "      <td>0.0</td>\n",
       "      <td>[3, 0, 0, 0, 0]</td>\n",
       "      <td>직전의 재판</td>\n",
       "    </tr>\n",
       "    <tr>\n",
       "      <th>2</th>\n",
       "      <td>None</td>\n",
       "      <td>여부</td>\n",
       "      <td>여부를 판단함에</td>\n",
       "      <td>있는지 (소극)</td>\n",
       "      <td>있는지 (소극)</td>\n",
       "      <td>NaN</td>\n",
       "      <td>0.0</td>\n",
       "      <td>[2, 0, 0, 0, 0]</td>\n",
       "      <td>맞거나 틀림</td>\n",
       "    </tr>\n",
       "    <tr>\n",
       "      <th>3</th>\n",
       "      <td>None</td>\n",
       "      <td>피고</td>\n",
       "      <td>피고가 별도의</td>\n",
       "      <td>민사소송에서 소송을 당한 사람이 이</td>\n",
       "      <td>민사소송에서 소송을 당한 사람이 이</td>\n",
       "      <td>NaN</td>\n",
       "      <td>0.0</td>\n",
       "      <td>[5, 0, 0, 0, 0]</td>\n",
       "      <td>민사소송에서 소송을 당한 사람</td>\n",
       "    </tr>\n",
       "    <tr>\n",
       "      <th>4</th>\n",
       "      <td>None</td>\n",
       "      <td>취지</td>\n",
       "      <td>취지로 설시하였음을</td>\n",
       "      <td>목적이나 요지로 설시하였음을</td>\n",
       "      <td>목적이나 요지로 설시하였음을</td>\n",
       "      <td>NaN</td>\n",
       "      <td>0.0</td>\n",
       "      <td>[3, 0, 0, 0, 0]</td>\n",
       "      <td>하려는 목적이나 요지</td>\n",
       "    </tr>\n",
       "    <tr>\n",
       "      <th>...</th>\n",
       "      <td>...</td>\n",
       "      <td>...</td>\n",
       "      <td>...</td>\n",
       "      <td>...</td>\n",
       "      <td>...</td>\n",
       "      <td>...</td>\n",
       "      <td>...</td>\n",
       "      <td>...</td>\n",
       "      <td>...</td>\n",
       "    </tr>\n",
       "    <tr>\n",
       "      <th>95993</th>\n",
       "      <td>None</td>\n",
       "      <td>개진</td>\n",
       "      <td>개진·의사의 표시·입후보와</td>\n",
       "      <td>의견이나 내용을 드러내어 전개함·의사의 표시·입후보와</td>\n",
       "      <td>의견이나 내용을 드러내어 전개함·의사의 표시·입후보와</td>\n",
       "      <td>NaN</td>\n",
       "      <td>0.0</td>\n",
       "      <td>[5, 0, 0, 0, 0]</td>\n",
       "      <td>의견이나 내용을 드러내어 전개함</td>\n",
       "    </tr>\n",
       "    <tr>\n",
       "      <th>95994</th>\n",
       "      <td>None</td>\n",
       "      <td>통상</td>\n",
       "      <td>통상적인 정당활동은</td>\n",
       "      <td>일반적인 경우 정당활동은</td>\n",
       "      <td>일반적인 경우 정당활동은</td>\n",
       "      <td>NaN</td>\n",
       "      <td>0.0</td>\n",
       "      <td>[3, 0, 0, 0, 0]</td>\n",
       "      <td>일반적인 경우</td>\n",
       "    </tr>\n",
       "    <tr>\n",
       "      <th>95995</th>\n",
       "      <td>None</td>\n",
       "      <td>취지</td>\n",
       "      <td>취지와 국민의</td>\n",
       "      <td>하려는 목적이나 요지와 국민의</td>\n",
       "      <td>하려는 목적이나 요지와 국민의</td>\n",
       "      <td>NaN</td>\n",
       "      <td>0.0</td>\n",
       "      <td>[4, 0, 0, 0, 0]</td>\n",
       "      <td>하려는 목적이나 요지</td>\n",
       "    </tr>\n",
       "    <tr>\n",
       "      <th>95996</th>\n",
       "      <td>None</td>\n",
       "      <td>득표</td>\n",
       "      <td>득표를 위한</td>\n",
       "      <td>표에서 찬성표를 얻음을 위한</td>\n",
       "      <td>표에서 찬성 표를 얻음을 위한</td>\n",
       "      <td>o</td>\n",
       "      <td>1.0</td>\n",
       "      <td>[3, 0, 2, 0, 0]</td>\n",
       "      <td>표에서 찬성표를 얻음</td>\n",
       "    </tr>\n",
       "    <tr>\n",
       "      <th>95997</th>\n",
       "      <td>None</td>\n",
       "      <td>낙선</td>\n",
       "      <td>낙선을 위한</td>\n",
       "      <td>선거에서 떨어짐을 위한</td>\n",
       "      <td>선거에서 떨어짐을 위한</td>\n",
       "      <td>NaN</td>\n",
       "      <td>0.0</td>\n",
       "      <td>[3, 0, 0, 0, 0]</td>\n",
       "      <td>선거에서 떨어짐</td>\n",
       "    </tr>\n",
       "  </tbody>\n",
       "</table>\n",
       "<p>95998 rows × 9 columns</p>\n",
       "</div>"
      ],
      "text/plain": [
       "      result_Number word         usecase                          trans  \\\n",
       "0              None   원심        원심판결 이유에                   직전의 재판판결 이유에   \n",
       "1              None   원심           원심은 이                      직전의 재판은 이   \n",
       "2              None   여부        여부를 판단함에                       있는지 (소극)   \n",
       "3              None   피고         피고가 별도의            민사소송에서 소송을 당한 사람이 이   \n",
       "4              None   취지      취지로 설시하였음을                목적이나 요지로 설시하였음을   \n",
       "...             ...  ...             ...                            ...   \n",
       "95993          None   개진  개진·의사의 표시·입후보와  의견이나 내용을 드러내어 전개함·의사의 표시·입후보와   \n",
       "95994          None   통상      통상적인 정당활동은                  일반적인 경우 정당활동은   \n",
       "95995          None   취지         취지와 국민의               하려는 목적이나 요지와 국민의   \n",
       "95996          None   득표          득표를 위한                표에서 찬성표를 얻음을 위한   \n",
       "95997          None   낙선          낙선을 위한                   선거에서 떨어짐을 위한   \n",
       "\n",
       "                            naverAPI naverAPI_check  spelled_sent  \\\n",
       "0                      직전의 재판 판결 이유에              o           1.0   \n",
       "1                          직전의 재판은 이            NaN           0.0   \n",
       "2                           있는지 (소극)            NaN           0.0   \n",
       "3                민사소송에서 소송을 당한 사람이 이            NaN           0.0   \n",
       "4                    목적이나 요지로 설시하였음을            NaN           0.0   \n",
       "...                              ...            ...           ...   \n",
       "95993  의견이나 내용을 드러내어 전개함·의사의 표시·입후보와            NaN           0.0   \n",
       "95994                  일반적인 경우 정당활동은            NaN           0.0   \n",
       "95995               하려는 목적이나 요지와 국민의            NaN           0.0   \n",
       "95996               표에서 찬성 표를 얻음을 위한              o           1.0   \n",
       "95997                   선거에서 떨어짐을 위한            NaN           0.0   \n",
       "\n",
       "            error_code            keyword  \n",
       "0      [2, 0, 2, 0, 0]             직전의 재판  \n",
       "1      [3, 0, 0, 0, 0]             직전의 재판  \n",
       "2      [2, 0, 0, 0, 0]             맞거나 틀림  \n",
       "3      [5, 0, 0, 0, 0]   민사소송에서 소송을 당한 사람  \n",
       "4      [3, 0, 0, 0, 0]        하려는 목적이나 요지  \n",
       "...                ...                ...  \n",
       "95993  [5, 0, 0, 0, 0]  의견이나 내용을 드러내어 전개함  \n",
       "95994  [3, 0, 0, 0, 0]            일반적인 경우  \n",
       "95995  [4, 0, 0, 0, 0]        하려는 목적이나 요지  \n",
       "95996  [3, 0, 2, 0, 0]        표에서 찬성표를 얻음  \n",
       "95997  [3, 0, 0, 0, 0]           선거에서 떨어짐  \n",
       "\n",
       "[95998 rows x 9 columns]"
      ]
     },
     "execution_count": 15,
     "metadata": {},
     "output_type": "execute_result"
    }
   ],
   "source": [
    "org"
   ]
  },
  {
   "cell_type": "code",
   "execution_count": 16,
   "id": "f9b8cfa9-7065-4540-9320-317491b10ca5",
   "metadata": {},
   "outputs": [
    {
     "name": "stderr",
     "output_type": "stream",
     "text": [
      "<ipython-input-16-73f9ceffb51d>:2: TqdmDeprecationWarning: Please use `tqdm.notebook.trange` instead of `tqdm.tnrange`\n",
      "  for i in tnrange(len(org)):\n"
     ]
    },
    {
     "data": {
      "application/vnd.jupyter.widget-view+json": {
       "model_id": "5800e9ba6d974fe99d8546fa1588ac7f",
       "version_major": 2,
       "version_minor": 0
      },
      "text/plain": [
       "  0%|          | 0/95998 [00:00<?, ?it/s]"
      ]
     },
     "metadata": {},
     "output_type": "display_data"
    },
    {
     "name": "stderr",
     "output_type": "stream",
     "text": [
      "<ipython-input-16-73f9ceffb51d>:3: SettingWithCopyWarning: \n",
      "A value is trying to be set on a copy of a slice from a DataFrame\n",
      "\n",
      "See the caveats in the documentation: https://pandas.pydata.org/pandas-docs/stable/user_guide/indexing.html#returning-a-view-versus-a-copy\n",
      "  org['result_Number'][i] = result_Number\n"
     ]
    }
   ],
   "source": [
    "result_Number = 1\n",
    "for i in tnrange(len(org)):\n",
    "    org['result_Number'][i] = result_Number\n",
    "    result_Number += 1"
   ]
  },
  {
   "cell_type": "code",
   "execution_count": 2,
   "id": "08f85f7d-0cf5-44b9-af80-cd5d3d14bd5f",
   "metadata": {},
   "outputs": [
    {
     "ename": "NameError",
     "evalue": "name 'org' is not defined",
     "output_type": "error",
     "traceback": [
      "\u001b[0;31m---------------------------------------------------------------------------\u001b[0m",
      "\u001b[0;31mNameError\u001b[0m                                 Traceback (most recent call last)",
      "\u001b[0;32m<ipython-input-2-ec143066078d>\u001b[0m in \u001b[0;36m<module>\u001b[0;34m\u001b[0m\n\u001b[0;32m----> 1\u001b[0;31m \u001b[0morg\u001b[0m\u001b[0;34m\u001b[0m\u001b[0;34m\u001b[0m\u001b[0m\n\u001b[0m",
      "\u001b[0;31mNameError\u001b[0m: name 'org' is not defined"
     ]
    }
   ],
   "source": [
    "org"
   ]
  },
  {
   "cell_type": "code",
   "execution_count": 18,
   "id": "a1ab374c-7aa5-4213-a5fb-36a9cab82e31",
   "metadata": {},
   "outputs": [],
   "source": [
    "ref = pd.read_csv(f'{ref_repo}/{ref_filename}')"
   ]
  },
  {
   "cell_type": "code",
   "execution_count": 20,
   "id": "6d3f468f-f865-4acf-bc4d-d8024aeb87d5",
   "metadata": {},
   "outputs": [],
   "source": [
    "org_Number = list(org['result_Number'])"
   ]
  },
  {
   "cell_type": "code",
   "execution_count": 26,
   "id": "505aa05f-df28-40d1-a7b8-c6911a4e999e",
   "metadata": {},
   "outputs": [
    {
     "data": {
      "text/plain": [
       "95998"
      ]
     },
     "execution_count": 26,
     "metadata": {},
     "output_type": "execute_result"
    }
   ],
   "source": [
    "len(org_Number)"
   ]
  },
  {
   "cell_type": "code",
   "execution_count": 13,
   "id": "686a2235-617d-45f7-9873-54d2b78b3481",
   "metadata": {},
   "outputs": [],
   "source": [
    "error_Number = list(ref['resultNumber'])"
   ]
  },
  {
   "cell_type": "code",
   "execution_count": 27,
   "id": "1598246a-fa2b-4c28-8068-59dde546dcb8",
   "metadata": {},
   "outputs": [
    {
     "data": {
      "text/plain": [
       "2501"
      ]
     },
     "execution_count": 27,
     "metadata": {},
     "output_type": "execute_result"
    }
   ],
   "source": [
    "len(error_Number)"
   ]
  },
  {
   "cell_type": "code",
   "execution_count": 30,
   "id": "9eeee1ff-84cd-4d31-8076-fbe3af11e2ab",
   "metadata": {},
   "outputs": [],
   "source": [
    "remain = list(set(org_Number)-set(error_Number))"
   ]
  },
  {
   "cell_type": "code",
   "execution_count": 31,
   "id": "e8209e1a-bc89-45d2-a2f4-94af15d40ebb",
   "metadata": {},
   "outputs": [
    {
     "data": {
      "text/plain": [
       "93497"
      ]
     },
     "execution_count": 31,
     "metadata": {},
     "output_type": "execute_result"
    }
   ],
   "source": [
    "len(remain)"
   ]
  },
  {
   "cell_type": "code",
   "execution_count": 32,
   "id": "846fe696-228c-4f9d-b028-7d71ea061fae",
   "metadata": {},
   "outputs": [
    {
     "name": "stderr",
     "output_type": "stream",
     "text": [
      "<ipython-input-32-13018faa933a>:3: TqdmDeprecationWarning: Please use `tqdm.notebook.trange` instead of `tqdm.tnrange`\n",
      "  for i in tnrange(len(remain)):\n"
     ]
    },
    {
     "data": {
      "application/vnd.jupyter.widget-view+json": {
       "model_id": "a941351fe4f24f12a490b6f5f2cb1bb4",
       "version_major": 2,
       "version_minor": 0
      },
      "text/plain": [
       "  0%|          | 0/93497 [00:00<?, ?it/s]"
      ]
     },
     "metadata": {},
     "output_type": "display_data"
    },
    {
     "ename": "KeyboardInterrupt",
     "evalue": "",
     "output_type": "error",
     "traceback": [
      "\u001b[0;31m---------------------------------------------------------------------------\u001b[0m",
      "\u001b[0;31mKeyboardInterrupt\u001b[0m                         Traceback (most recent call last)",
      "\u001b[0;32m<ipython-input-32-13018faa933a>\u001b[0m in \u001b[0;36m<module>\u001b[0;34m\u001b[0m\n\u001b[1;32m      4\u001b[0m     \u001b[0mresult_Number\u001b[0m \u001b[0;34m=\u001b[0m \u001b[0mremain\u001b[0m\u001b[0;34m[\u001b[0m\u001b[0mi\u001b[0m\u001b[0;34m]\u001b[0m\u001b[0;34m\u001b[0m\u001b[0;34m\u001b[0m\u001b[0m\n\u001b[1;32m      5\u001b[0m     \u001b[0;32mfor\u001b[0m \u001b[0mj\u001b[0m \u001b[0;32min\u001b[0m \u001b[0mrange\u001b[0m\u001b[0;34m(\u001b[0m\u001b[0mlen\u001b[0m\u001b[0;34m(\u001b[0m\u001b[0morg\u001b[0m\u001b[0;34m)\u001b[0m\u001b[0;34m)\u001b[0m\u001b[0;34m:\u001b[0m\u001b[0;34m\u001b[0m\u001b[0;34m\u001b[0m\u001b[0m\n\u001b[0;32m----> 6\u001b[0;31m         \u001b[0;32mif\u001b[0m \u001b[0morg\u001b[0m\u001b[0;34m[\u001b[0m\u001b[0;34m'result_Number'\u001b[0m\u001b[0;34m]\u001b[0m\u001b[0;34m[\u001b[0m\u001b[0mj\u001b[0m\u001b[0;34m]\u001b[0m \u001b[0;34m==\u001b[0m \u001b[0mremain\u001b[0m\u001b[0;34m[\u001b[0m\u001b[0mi\u001b[0m\u001b[0;34m]\u001b[0m\u001b[0;34m:\u001b[0m\u001b[0;34m\u001b[0m\u001b[0;34m\u001b[0m\u001b[0m\n\u001b[0m\u001b[1;32m      7\u001b[0m             \u001b[0mresult\u001b[0m \u001b[0;34m=\u001b[0m \u001b[0mresult\u001b[0m\u001b[0;34m.\u001b[0m\u001b[0mappend\u001b[0m\u001b[0;34m(\u001b[0m\u001b[0;34m{\u001b[0m\u001b[0;34m'법률 용어'\u001b[0m\u001b[0;34m:\u001b[0m\u001b[0morg\u001b[0m\u001b[0;34m[\u001b[0m\u001b[0;34m'word'\u001b[0m\u001b[0;34m]\u001b[0m\u001b[0;34m[\u001b[0m\u001b[0mj\u001b[0m\u001b[0;34m]\u001b[0m\u001b[0;34m,\u001b[0m \u001b[0;34m'쓰임새'\u001b[0m\u001b[0;34m:\u001b[0m\u001b[0morg\u001b[0m\u001b[0;34m[\u001b[0m\u001b[0;34m'usecase'\u001b[0m\u001b[0;34m]\u001b[0m\u001b[0;34m,\u001b[0m \u001b[0;34m'번역예시'\u001b[0m\u001b[0;34m:\u001b[0m\u001b[0morg\u001b[0m\u001b[0;34m[\u001b[0m\u001b[0;34m'naverAPI'\u001b[0m\u001b[0;34m]\u001b[0m\u001b[0;34m,\u001b[0m \u001b[0;34m'키워드'\u001b[0m\u001b[0;34m:\u001b[0m\u001b[0morg\u001b[0m\u001b[0;34m[\u001b[0m\u001b[0;34m'keyword'\u001b[0m\u001b[0;34m]\u001b[0m\u001b[0;34m}\u001b[0m\u001b[0;34m,\u001b[0m \u001b[0mignore_index\u001b[0m\u001b[0;34m=\u001b[0m\u001b[0;32mTrue\u001b[0m\u001b[0;34m)\u001b[0m\u001b[0;34m\u001b[0m\u001b[0;34m\u001b[0m\u001b[0m\n\u001b[1;32m      8\u001b[0m             \u001b[0;32mbreak\u001b[0m\u001b[0;34m\u001b[0m\u001b[0;34m\u001b[0m\u001b[0m\n",
      "\u001b[0;32m/opt/anaconda3/lib/python3.8/site-packages/pandas/core/frame.py\u001b[0m in \u001b[0;36m__getitem__\u001b[0;34m(self, key)\u001b[0m\n\u001b[1;32m   2991\u001b[0m         \u001b[0;32mif\u001b[0m \u001b[0mis_hashable\u001b[0m\u001b[0;34m(\u001b[0m\u001b[0mkey\u001b[0m\u001b[0;34m)\u001b[0m\u001b[0;34m:\u001b[0m\u001b[0;34m\u001b[0m\u001b[0;34m\u001b[0m\u001b[0m\n\u001b[1;32m   2992\u001b[0m             \u001b[0;31m# shortcut if the key is in columns\u001b[0m\u001b[0;34m\u001b[0m\u001b[0;34m\u001b[0m\u001b[0;34m\u001b[0m\u001b[0m\n\u001b[0;32m-> 2993\u001b[0;31m             \u001b[0;32mif\u001b[0m \u001b[0mself\u001b[0m\u001b[0;34m.\u001b[0m\u001b[0mcolumns\u001b[0m\u001b[0;34m.\u001b[0m\u001b[0mis_unique\u001b[0m \u001b[0;32mand\u001b[0m \u001b[0mkey\u001b[0m \u001b[0;32min\u001b[0m \u001b[0mself\u001b[0m\u001b[0;34m.\u001b[0m\u001b[0mcolumns\u001b[0m\u001b[0;34m:\u001b[0m\u001b[0;34m\u001b[0m\u001b[0;34m\u001b[0m\u001b[0m\n\u001b[0m\u001b[1;32m   2994\u001b[0m                 \u001b[0;32mif\u001b[0m \u001b[0misinstance\u001b[0m\u001b[0;34m(\u001b[0m\u001b[0mself\u001b[0m\u001b[0;34m.\u001b[0m\u001b[0mcolumns\u001b[0m\u001b[0;34m,\u001b[0m \u001b[0mMultiIndex\u001b[0m\u001b[0;34m)\u001b[0m\u001b[0;34m:\u001b[0m\u001b[0;34m\u001b[0m\u001b[0;34m\u001b[0m\u001b[0m\n\u001b[1;32m   2995\u001b[0m                     \u001b[0;32mreturn\u001b[0m \u001b[0mself\u001b[0m\u001b[0;34m.\u001b[0m\u001b[0m_getitem_multilevel\u001b[0m\u001b[0;34m(\u001b[0m\u001b[0mkey\u001b[0m\u001b[0;34m)\u001b[0m\u001b[0;34m\u001b[0m\u001b[0;34m\u001b[0m\u001b[0m\n",
      "\u001b[0;31mKeyboardInterrupt\u001b[0m: "
     ]
    }
   ],
   "source": [
    "# remain에서 남은 result_number에 대해서만 생성\n",
    "result = pd.DataFrame(columns = ['법률 용어', '쓰임새', '번역예시', '키워드'])\n",
    "for i in tnrange(len(remain)):\n",
    "    result_Number = remain[i]\n",
    "    for j in range(len(org)):\n",
    "        if org['result_Number'] == remain[i]:\n",
    "            result = result.append({'법률 용어':org['word'][j], '쓰임새':org['usecase'], '번역예시':org['naverAPI'], '키워드':org['keyword']}, ignore_index=True)\n",
    "            break"
   ]
  },
  {
   "cell_type": "code",
   "execution_count": null,
   "id": "ef3c010f-4dd0-458c-a613-71916fbe9deb",
   "metadata": {},
   "outputs": [],
   "source": []
  }
 ],
 "metadata": {
  "kernelspec": {
   "display_name": "Python 3",
   "language": "python",
   "name": "python3"
  },
  "language_info": {
   "codemirror_mode": {
    "name": "ipython",
    "version": 3
   },
   "file_extension": ".py",
   "mimetype": "text/x-python",
   "name": "python",
   "nbconvert_exporter": "python",
   "pygments_lexer": "ipython3",
   "version": "3.8.8"
  }
 },
 "nbformat": 4,
 "nbformat_minor": 5
}
