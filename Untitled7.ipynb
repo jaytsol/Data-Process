{
 "cells": [
  {
   "cell_type": "code",
   "execution_count": 3,
   "id": "ddf5ee30-a4c8-4b28-82ae-b026d27ef2d7",
   "metadata": {
    "tags": []
   },
   "outputs": [],
   "source": [
    "import json\n",
    "import pandas as pd\n",
    "from tqdm import tnrange, tqdm_notebook\n",
    "from hanspell import spell_checker"
   ]
  },
  {
   "cell_type": "code",
   "execution_count": 4,
   "id": "56a30ba7-6377-4f39-9818-f7bb9b9e8b12",
   "metadata": {},
   "outputs": [],
   "source": [
    "input_repo = '/Users/jaytsol/Desktop/Type23 (2)/네이버api'\n",
    "input_filename = '네이버api추가.csv'\n",
    "\n",
    "output_repo = input_repo\n",
    "output_filename = 'temp.csv'"
   ]
  },
  {
   "cell_type": "code",
   "execution_count": 5,
   "id": "05b4b174-d97d-42ef-9bc6-3b87dedee872",
   "metadata": {},
   "outputs": [],
   "source": [
    "org = pd.read_csv(f'{input_repo}/{input_filename}')"
   ]
  },
  {
   "cell_type": "code",
   "execution_count": 6,
   "id": "787e3bc8-d2db-4843-b0e5-8eb378e3c0ca",
   "metadata": {},
   "outputs": [
    {
     "data": {
      "text/html": [
       "<div>\n",
       "<style scoped>\n",
       "    .dataframe tbody tr th:only-of-type {\n",
       "        vertical-align: middle;\n",
       "    }\n",
       "\n",
       "    .dataframe tbody tr th {\n",
       "        vertical-align: top;\n",
       "    }\n",
       "\n",
       "    .dataframe thead th {\n",
       "        text-align: right;\n",
       "    }\n",
       "</style>\n",
       "<table border=\"1\" class=\"dataframe\">\n",
       "  <thead>\n",
       "    <tr style=\"text-align: right;\">\n",
       "      <th></th>\n",
       "      <th>word</th>\n",
       "      <th>usecase</th>\n",
       "      <th>trans</th>\n",
       "      <th>naverAPI</th>\n",
       "      <th>keyword</th>\n",
       "    </tr>\n",
       "  </thead>\n",
       "  <tbody>\n",
       "    <tr>\n",
       "      <th>0</th>\n",
       "      <td>원심</td>\n",
       "      <td>원심판결 이유에</td>\n",
       "      <td>직전의 재판판결 이유에</td>\n",
       "      <td>직전의 재판 판결 이유에</td>\n",
       "      <td>직전의 재판</td>\n",
       "    </tr>\n",
       "    <tr>\n",
       "      <th>1</th>\n",
       "      <td>원심</td>\n",
       "      <td>원심은 이</td>\n",
       "      <td>직전의 재판은 이</td>\n",
       "      <td>직전의 재판은 이</td>\n",
       "      <td>직전의 재판</td>\n",
       "    </tr>\n",
       "    <tr>\n",
       "      <th>2</th>\n",
       "      <td>여부</td>\n",
       "      <td>여부를 판단함에</td>\n",
       "      <td>있는지 (소극)</td>\n",
       "      <td>있는지 (소극)</td>\n",
       "      <td>맞거나 틀림</td>\n",
       "    </tr>\n",
       "    <tr>\n",
       "      <th>3</th>\n",
       "      <td>피고</td>\n",
       "      <td>피고가 별도의</td>\n",
       "      <td>민사소송에서 소송을 당한 사람이 이</td>\n",
       "      <td>민사소송에서 소송을 당한 사람이 이</td>\n",
       "      <td>민사소송에서 소송을 당한 사람</td>\n",
       "    </tr>\n",
       "    <tr>\n",
       "      <th>4</th>\n",
       "      <td>취지</td>\n",
       "      <td>취지로 설시하였음을</td>\n",
       "      <td>목적이나 요지로 설시하였음을</td>\n",
       "      <td>목적이나 요지로 설시하였음을</td>\n",
       "      <td>하려는 목적이나 요지</td>\n",
       "    </tr>\n",
       "    <tr>\n",
       "      <th>...</th>\n",
       "      <td>...</td>\n",
       "      <td>...</td>\n",
       "      <td>...</td>\n",
       "      <td>...</td>\n",
       "      <td>...</td>\n",
       "    </tr>\n",
       "    <tr>\n",
       "      <th>95993</th>\n",
       "      <td>개진</td>\n",
       "      <td>개진·의사의 표시·입후보와</td>\n",
       "      <td>의견이나 내용을 드러내어 전개함·의사의 표시·입후보와</td>\n",
       "      <td>의견이나 내용을 드러내어 전개함·의사의 표시·입후보와</td>\n",
       "      <td>의견이나 내용을 드러내어 전개함</td>\n",
       "    </tr>\n",
       "    <tr>\n",
       "      <th>95994</th>\n",
       "      <td>통상</td>\n",
       "      <td>통상적인 정당활동은</td>\n",
       "      <td>일반적인 경우 정당활동은</td>\n",
       "      <td>일반적인 경우 정당활동은</td>\n",
       "      <td>일반적인 경우</td>\n",
       "    </tr>\n",
       "    <tr>\n",
       "      <th>95995</th>\n",
       "      <td>취지</td>\n",
       "      <td>취지와 국민의</td>\n",
       "      <td>하려는 목적이나 요지와 국민의</td>\n",
       "      <td>하려는 목적이나 요지와 국민의</td>\n",
       "      <td>하려는 목적이나 요지</td>\n",
       "    </tr>\n",
       "    <tr>\n",
       "      <th>95996</th>\n",
       "      <td>득표</td>\n",
       "      <td>득표를 위한</td>\n",
       "      <td>표에서 찬성표를 얻음을 위한</td>\n",
       "      <td>표에서 찬성 표를 얻음을 위한</td>\n",
       "      <td>표에서 찬성표를 얻음</td>\n",
       "    </tr>\n",
       "    <tr>\n",
       "      <th>95997</th>\n",
       "      <td>낙선</td>\n",
       "      <td>낙선을 위한</td>\n",
       "      <td>선거에서 떨어짐을 위한</td>\n",
       "      <td>선거에서 떨어짐을 위한</td>\n",
       "      <td>선거에서 떨어짐</td>\n",
       "    </tr>\n",
       "  </tbody>\n",
       "</table>\n",
       "<p>95998 rows × 5 columns</p>\n",
       "</div>"
      ],
      "text/plain": [
       "      word         usecase                          trans  \\\n",
       "0       원심        원심판결 이유에                   직전의 재판판결 이유에   \n",
       "1       원심           원심은 이                      직전의 재판은 이   \n",
       "2       여부        여부를 판단함에                       있는지 (소극)   \n",
       "3       피고         피고가 별도의            민사소송에서 소송을 당한 사람이 이   \n",
       "4       취지      취지로 설시하였음을                목적이나 요지로 설시하였음을   \n",
       "...    ...             ...                            ...   \n",
       "95993   개진  개진·의사의 표시·입후보와  의견이나 내용을 드러내어 전개함·의사의 표시·입후보와   \n",
       "95994   통상      통상적인 정당활동은                  일반적인 경우 정당활동은   \n",
       "95995   취지         취지와 국민의               하려는 목적이나 요지와 국민의   \n",
       "95996   득표          득표를 위한                표에서 찬성표를 얻음을 위한   \n",
       "95997   낙선          낙선을 위한                   선거에서 떨어짐을 위한   \n",
       "\n",
       "                            naverAPI            keyword  \n",
       "0                      직전의 재판 판결 이유에             직전의 재판  \n",
       "1                          직전의 재판은 이             직전의 재판  \n",
       "2                           있는지 (소극)             맞거나 틀림  \n",
       "3                민사소송에서 소송을 당한 사람이 이   민사소송에서 소송을 당한 사람  \n",
       "4                    목적이나 요지로 설시하였음을        하려는 목적이나 요지  \n",
       "...                              ...                ...  \n",
       "95993  의견이나 내용을 드러내어 전개함·의사의 표시·입후보와  의견이나 내용을 드러내어 전개함  \n",
       "95994                  일반적인 경우 정당활동은            일반적인 경우  \n",
       "95995               하려는 목적이나 요지와 국민의        하려는 목적이나 요지  \n",
       "95996               표에서 찬성 표를 얻음을 위한        표에서 찬성표를 얻음  \n",
       "95997                   선거에서 떨어짐을 위한           선거에서 떨어짐  \n",
       "\n",
       "[95998 rows x 5 columns]"
      ]
     },
     "execution_count": 6,
     "metadata": {},
     "output_type": "execute_result"
    }
   ],
   "source": [
    "org"
   ]
  },
  {
   "cell_type": "code",
   "execution_count": 8,
   "id": "9710ef3f-46ad-4ec0-b16f-03e68d0d7af6",
   "metadata": {},
   "outputs": [
    {
     "name": "stderr",
     "output_type": "stream",
     "text": [
      "<ipython-input-8-d7f2077cf4db>:2: TqdmDeprecationWarning: Please use `tqdm.notebook.trange` instead of `tqdm.tnrange`\n",
      "  for i in tnrange(len(org)):\n"
     ]
    },
    {
     "data": {
      "application/vnd.jupyter.widget-view+json": {
       "model_id": "b5cacc4717b74d609e4d6aeaf3788204",
       "version_major": 2,
       "version_minor": 0
      },
      "text/plain": [
       "  0%|          | 0/95998 [00:00<?, ?it/s]"
      ]
     },
     "metadata": {},
     "output_type": "display_data"
    }
   ],
   "source": [
    "result = pd.DataFrame(columns=['법률용어', '쓰임새', '번역예시', '키워드'])\n",
    "for i in tnrange(len(org)):\n",
    "    a = org['word'][i]\n",
    "    b = org['usecase'][i]\n",
    "    c = org['naverAPI'][i]\n",
    "    d = org['keyword'][i]\n",
    "    result = result.append({'법률용어':a, '쓰임새':b, '번역예시':c, '키워드':d}, ignore_index=True)"
   ]
  },
  {
   "cell_type": "code",
   "execution_count": 9,
   "id": "592e2f25-b80a-4794-9bb9-4403d0887559",
   "metadata": {},
   "outputs": [
    {
     "data": {
      "text/html": [
       "<div>\n",
       "<style scoped>\n",
       "    .dataframe tbody tr th:only-of-type {\n",
       "        vertical-align: middle;\n",
       "    }\n",
       "\n",
       "    .dataframe tbody tr th {\n",
       "        vertical-align: top;\n",
       "    }\n",
       "\n",
       "    .dataframe thead th {\n",
       "        text-align: right;\n",
       "    }\n",
       "</style>\n",
       "<table border=\"1\" class=\"dataframe\">\n",
       "  <thead>\n",
       "    <tr style=\"text-align: right;\">\n",
       "      <th></th>\n",
       "      <th>법률용어</th>\n",
       "      <th>쓰임새</th>\n",
       "      <th>번역예시</th>\n",
       "      <th>키워드</th>\n",
       "    </tr>\n",
       "  </thead>\n",
       "  <tbody>\n",
       "    <tr>\n",
       "      <th>0</th>\n",
       "      <td>원심</td>\n",
       "      <td>원심판결 이유에</td>\n",
       "      <td>직전의 재판 판결 이유에</td>\n",
       "      <td>직전의 재판</td>\n",
       "    </tr>\n",
       "    <tr>\n",
       "      <th>1</th>\n",
       "      <td>원심</td>\n",
       "      <td>원심은 이</td>\n",
       "      <td>직전의 재판은 이</td>\n",
       "      <td>직전의 재판</td>\n",
       "    </tr>\n",
       "    <tr>\n",
       "      <th>2</th>\n",
       "      <td>여부</td>\n",
       "      <td>여부를 판단함에</td>\n",
       "      <td>있는지 (소극)</td>\n",
       "      <td>맞거나 틀림</td>\n",
       "    </tr>\n",
       "    <tr>\n",
       "      <th>3</th>\n",
       "      <td>피고</td>\n",
       "      <td>피고가 별도의</td>\n",
       "      <td>민사소송에서 소송을 당한 사람이 이</td>\n",
       "      <td>민사소송에서 소송을 당한 사람</td>\n",
       "    </tr>\n",
       "    <tr>\n",
       "      <th>4</th>\n",
       "      <td>취지</td>\n",
       "      <td>취지로 설시하였음을</td>\n",
       "      <td>목적이나 요지로 설시하였음을</td>\n",
       "      <td>하려는 목적이나 요지</td>\n",
       "    </tr>\n",
       "    <tr>\n",
       "      <th>...</th>\n",
       "      <td>...</td>\n",
       "      <td>...</td>\n",
       "      <td>...</td>\n",
       "      <td>...</td>\n",
       "    </tr>\n",
       "    <tr>\n",
       "      <th>95993</th>\n",
       "      <td>개진</td>\n",
       "      <td>개진·의사의 표시·입후보와</td>\n",
       "      <td>의견이나 내용을 드러내어 전개함·의사의 표시·입후보와</td>\n",
       "      <td>의견이나 내용을 드러내어 전개함</td>\n",
       "    </tr>\n",
       "    <tr>\n",
       "      <th>95994</th>\n",
       "      <td>통상</td>\n",
       "      <td>통상적인 정당활동은</td>\n",
       "      <td>일반적인 경우 정당활동은</td>\n",
       "      <td>일반적인 경우</td>\n",
       "    </tr>\n",
       "    <tr>\n",
       "      <th>95995</th>\n",
       "      <td>취지</td>\n",
       "      <td>취지와 국민의</td>\n",
       "      <td>하려는 목적이나 요지와 국민의</td>\n",
       "      <td>하려는 목적이나 요지</td>\n",
       "    </tr>\n",
       "    <tr>\n",
       "      <th>95996</th>\n",
       "      <td>득표</td>\n",
       "      <td>득표를 위한</td>\n",
       "      <td>표에서 찬성 표를 얻음을 위한</td>\n",
       "      <td>표에서 찬성표를 얻음</td>\n",
       "    </tr>\n",
       "    <tr>\n",
       "      <th>95997</th>\n",
       "      <td>낙선</td>\n",
       "      <td>낙선을 위한</td>\n",
       "      <td>선거에서 떨어짐을 위한</td>\n",
       "      <td>선거에서 떨어짐</td>\n",
       "    </tr>\n",
       "  </tbody>\n",
       "</table>\n",
       "<p>95998 rows × 4 columns</p>\n",
       "</div>"
      ],
      "text/plain": [
       "      법률용어             쓰임새                           번역예시                키워드\n",
       "0       원심        원심판결 이유에                  직전의 재판 판결 이유에             직전의 재판\n",
       "1       원심           원심은 이                      직전의 재판은 이             직전의 재판\n",
       "2       여부        여부를 판단함에                       있는지 (소극)             맞거나 틀림\n",
       "3       피고         피고가 별도의            민사소송에서 소송을 당한 사람이 이   민사소송에서 소송을 당한 사람\n",
       "4       취지      취지로 설시하였음을                목적이나 요지로 설시하였음을        하려는 목적이나 요지\n",
       "...    ...             ...                            ...                ...\n",
       "95993   개진  개진·의사의 표시·입후보와  의견이나 내용을 드러내어 전개함·의사의 표시·입후보와  의견이나 내용을 드러내어 전개함\n",
       "95994   통상      통상적인 정당활동은                  일반적인 경우 정당활동은            일반적인 경우\n",
       "95995   취지         취지와 국민의               하려는 목적이나 요지와 국민의        하려는 목적이나 요지\n",
       "95996   득표          득표를 위한               표에서 찬성 표를 얻음을 위한        표에서 찬성표를 얻음\n",
       "95997   낙선          낙선을 위한                   선거에서 떨어짐을 위한           선거에서 떨어짐\n",
       "\n",
       "[95998 rows x 4 columns]"
      ]
     },
     "execution_count": 9,
     "metadata": {},
     "output_type": "execute_result"
    }
   ],
   "source": [
    "result"
   ]
  },
  {
   "cell_type": "code",
   "execution_count": null,
   "id": "b6fbf486-c475-4091-a5ca-dc295e86edc3",
   "metadata": {},
   "outputs": [],
   "source": [
    "result.sorted()"
   ]
  },
  {
   "cell_type": "code",
   "execution_count": 15,
   "id": "dde33d00-94d4-46e6-86ee-fc46b1ff8caa",
   "metadata": {},
   "outputs": [],
   "source": [
    "result.to_csv(f'{output_repo}/{output_filename}', index=False, encoding='utf-8-sig')"
   ]
  },
  {
   "cell_type": "code",
   "execution_count": 14,
   "id": "b0c59dc7-3ef3-4b4f-8216-01e3345da493",
   "metadata": {},
   "outputs": [
    {
     "data": {
      "text/plain": [
       "2471"
      ]
     },
     "execution_count": 14,
     "metadata": {},
     "output_type": "execute_result"
    }
   ],
   "source": [
    "len(list(set(result['법률용어'])))"
   ]
  },
  {
   "cell_type": "code",
   "execution_count": null,
   "id": "cb7d1135-c52d-406e-8724-5d52d0162498",
   "metadata": {},
   "outputs": [],
   "source": []
  }
 ],
 "metadata": {
  "kernelspec": {
   "display_name": "Python 3",
   "language": "python",
   "name": "python3"
  },
  "language_info": {
   "codemirror_mode": {
    "name": "ipython",
    "version": 3
   },
   "file_extension": ".py",
   "mimetype": "text/x-python",
   "name": "python",
   "nbconvert_exporter": "python",
   "pygments_lexer": "ipython3",
   "version": "3.8.8"
  }
 },
 "nbformat": 4,
 "nbformat_minor": 5
}
