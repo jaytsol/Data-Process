{
 "cells": [
  {
   "cell_type": "code",
   "execution_count": null,
   "id": "745b929d-085e-4108-96cf-8e034d171618",
   "metadata": {},
   "outputs": [],
   "source": [
    "def get_panrye_sentence():\n",
    "  \n",
    "    sentence_list = []\n",
    "\n",
    "    # 판례문내의 모든 문장\n",
    "\n",
    "    with open('Type1/Data/panryedata.json', 'r', encoding='utf-8') as p:\n",
    "      json_data = json.load(p)\n",
    "\n",
    "    json_data_length = len(json_data['cases'])\n",
    "\n",
    "    print('get_panrye_data ')\n",
    "    for i in trange(json_data_length):\n",
    "\n",
    "      cases_keys = json_data['cases'][i].keys()\n",
    "\n",
    "      for keys in cases_keys:\n",
    "\n",
    "        if keys == 'pansi' or keys == 'yozi' or keys == 'ref_jomun' or keys == 'ref_panrye':\n",
    "\n",
    "          for q in range(0, len(json_data['cases'][i][keys])):\n",
    "\n",
    "            text = json_data['cases'][i][keys][q]['text']\n",
    "\n",
    "            # 20자 미만 1500자 초과\n",
    "            if len(text) < 20 or len(text) > 1500:\n",
    "              continue\n",
    "              \n",
    "            sentence_list.append(text.strip())\n",
    "\n",
    "    for i in trange(json_data_length):\n",
    "\n",
    "      for j in range(0, len(json_data['cases'][i]['jeonmun'])):\n",
    "\n",
    "        jeonmun_keys = list(json_data['cases'][i]['jeonmun'][j].keys())[0]\n",
    "\n",
    "        for k in range(0, len(json_data['cases'][i]['jeonmun'][j][jeonmun_keys])):\n",
    "\n",
    "          \n",
    "          text = json_data['cases'][i]['jeonmun'][j][jeonmun_keys][k]['text']\n",
    "\n",
    "          # 20자 미만 1500자 초과\n",
    "          if len(text) < 20 or len(text) > 1500:\n",
    "            continue\n",
    "            \n",
    "          sentence_list.append(text.strip())\n",
    "    \n",
    "\n",
    "    panrye_sentence_list = list(dict.fromkeys(sentence_list))\n",
    "\n",
    "    return panrye_sentence_list"
   ]
  }
 ],
 "metadata": {
  "kernelspec": {
   "display_name": "Python 3",
   "language": "python",
   "name": "python3"
  },
  "language_info": {
   "codemirror_mode": {
    "name": "ipython",
    "version": 3
   },
   "file_extension": ".py",
   "mimetype": "text/x-python",
   "name": "python",
   "nbconvert_exporter": "python",
   "pygments_lexer": "ipython3",
   "version": "3.8.8"
  }
 },
 "nbformat": 4,
 "nbformat_minor": 5
}
