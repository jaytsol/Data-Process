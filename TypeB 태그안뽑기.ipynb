{
 "cells": [
  {
   "cell_type": "markdown",
   "id": "4109ef84-9626-4b64-853d-bccc574606f3",
   "metadata": {},
   "source": [
    "# 타입B 태그안뽑기"
   ]
  },
  {
   "cell_type": "code",
   "execution_count": 1,
   "id": "21bc0237-3e53-4a06-ace3-b71cb9ea0223",
   "metadata": {},
   "outputs": [],
   "source": [
    "import re\n",
    "from tqdm.notebook import tnrange\n",
    "import csv\n",
    "import json\n",
    "from os import walk\n",
    "import os\n",
    "import pandas as pd\n",
    "import datetime"
   ]
  },
  {
   "cell_type": "code",
   "execution_count": 2,
   "id": "867f8d24-00fc-4f29-8062-39918291ab56",
   "metadata": {},
   "outputs": [],
   "source": [
    "# 파일 불러오기\n",
    "def get_csv(input_repo, input_filename):\n",
    "    result = pd.read_csv(f'{input_repo}/{input_filename}')\n",
    "    \n",
    "    return result"
   ]
  },
  {
   "cell_type": "code",
   "execution_count": 3,
   "id": "30a20023-7493-40aa-b766-af4d6a2083a7",
   "metadata": {},
   "outputs": [],
   "source": [
    "# 전체 문장에서 태그 안만 뽑음\n",
    "# <=법률어휘 ㅇㅇㄴㅁ\n",
    "def save_tag(sentence):\n",
    "    regex = re.compile('(?<=\\<{3}).*?(?=\\>{3})')\n",
    "    result = regex.findall(sentence)\n",
    "    \n",
    "    return result"
   ]
  },
  {
   "cell_type": "code",
   "execution_count": 4,
   "id": "3f6d7e0a-a097-4b98-97b7-5df760f624c2",
   "metadata": {},
   "outputs": [],
   "source": [
    "# 태그 내 문장으로부터 법률어휘 추출\n",
    "def draw_word(sentence_tagremoved):\n",
    "    regex = re.compile('(?<=\\<=).*(?=\\>)')\n",
    "    result = regex.search(sentence_tagremoved)\n",
    "    \n",
    "    return result"
   ]
  },
  {
   "cell_type": "code",
   "execution_count": 5,
   "id": "98350b8c-ee48-40df-bbe4-40504b789d0f",
   "metadata": {},
   "outputs": [],
   "source": [
    "def get_small_tag_removed(sentence):\n",
    "    keyword_list = save_tag(sentence)\n",
    "    regex_small_tag = re.compile('(?=\\<={1}).*?(?<=\\>{1})')\n",
    "    small_tag_removed = []\n",
    "    small_tag = []\n",
    "    for i in range(len(keyword_list)):\n",
    "        small_tag.append(regex_small_tag.findall(keyword_list[i]))\n",
    "        small_tag_removed.append(keyword_list[i])\n",
    "\n",
    "        for j in range(len(small_tag[i])):\n",
    "            small_tag_removed[i] = small_tag_removed[i].replace(small_tag[i][j], '')\n",
    "            \n",
    "    return small_tag_removed"
   ]
  },
  {
   "cell_type": "code",
   "execution_count": 6,
   "id": "ca81ed90-cfc6-4f95-998a-061d6e1b5e5e",
   "metadata": {},
   "outputs": [],
   "source": [
    "def get_small_tag_removed_throw_morethan2_org(sentence):\n",
    "    keyword_list = save_tag(sentence)\n",
    "    regex_small_tag = re.compile('(?=\\<={1}).*?(?<=\\>{1})')\n",
    "    regex_small_tag_org = re.compile('(?<=\\<={1}).*')\n",
    "\n",
    "    small_tag_removed_org = []\n",
    "    small_tag_list_org = []\n",
    "\n",
    "    for i in range(len(keyword_list)):\n",
    "        small_tag = regex_small_tag.findall(keyword_list[i])\n",
    "        if len(small_tag)<2:\n",
    "            try:\n",
    "                small_tag_list_org = regex_small_tag_org.search(keyword_list[i]).group()\n",
    "                small_tag_removed_org.append(small_tag_list_org.replace('>', ''))\n",
    "            except:\n",
    "                small_tag_removed_org.append(keyword_list[i])\n",
    "\n",
    "\n",
    "        else:\n",
    "            keyword_list[i] = None\n",
    "\n",
    "    for i in range(len(keyword_list)-1, -1, -1):\n",
    "        if keyword_list[i] == None:\n",
    "            del keyword_list[i]\n",
    "\n",
    "    return small_tag_removed_org"
   ]
  },
  {
   "cell_type": "code",
   "execution_count": 7,
   "id": "724a210f-5ad6-4090-a656-fd0372428735",
   "metadata": {},
   "outputs": [],
   "source": [
    "def get_small_tag_removed_throw_morethan2(sentence):\n",
    "    keyword_list = save_tag(sentence)\n",
    "    regex_small_tag = re.compile('(?=\\<={1}).*?(?<=\\>{1})')\n",
    "    regex_small_tag_sub = re.compile('(?=\\<={1}).*')\n",
    "    small_tag_removed = []\n",
    "    small_tag_list = []\n",
    "\n",
    "    for i in range(len(keyword_list)):\n",
    "        small_tag = regex_small_tag.findall(keyword_list[i])\n",
    "        small_tag_sub = regex_small_tag_sub.findall(keyword_list[i])\n",
    "        if len(small_tag)<2:\n",
    "            try:           # 정상적인 경우\n",
    "                small_tag_list.append(regex_small_tag.search(keyword_list[i]).group())\n",
    "                small_tag_removed.append(keyword_list[i].replace(small_tag[0], ''))\n",
    "            except:\n",
    "                try:       # =>>>> 가 나올 때\n",
    "                    small_tag_list.append(regex_small_tag_sub.search(keyword_list[i]).group())\n",
    "                    small_tag_removed.append(keyword_list[i].replace(small_tag_sub[0], ''))\n",
    "                except:    # <<<>>> 안에 <=> 아예 없을 때\n",
    "                    small_tag_removed.append(keyword_list[i])\n",
    "\n",
    "        else:\n",
    "            keyword_list[i] = None\n",
    "\n",
    "    for i in range(len(keyword_list)-1, -1, -1):\n",
    "        if keyword_list[i] == None:\n",
    "            del keyword_list[i]\n",
    "\n",
    "    return small_tag_removed"
   ]
  },
  {
   "cell_type": "code",
   "execution_count": 8,
   "id": "f21de145-16d9-4f05-9cc5-0cdac3fcbde1",
   "metadata": {},
   "outputs": [],
   "source": [
    "# csv형태로 저장\n",
    "def save_as_csv(input_repo, output_repo, result):\n",
    "    year = str(datetime.datetime.now().year)[2:]\n",
    "    month = str(datetime.datetime.now().month)\n",
    "    day = str(datetime.datetime.now().day)\n",
    "    hour = str(datetime.datetime.now().hour)\n",
    "    minute = str(datetime.datetime.now().minute)\n",
    "\n",
    "    print(f'{output_repo}의 경로에 최종_{year}{month}{day}_{hour}{minute}.csv의 이름으로 파일 생성이 완료되었습니다.')\n",
    "\n",
    "    result.to_csv(f'{output_repo}/최종_{year}{month}{day}_{hour}{minute}.csv', index=False, encoding='utf-8-sig')"
   ]
  },
  {
   "cell_type": "code",
   "execution_count": 12,
   "id": "ba9e5fe2-90e4-4a34-ba59-59edb3bab815",
   "metadata": {},
   "outputs": [],
   "source": [
    "input_repo = '/Users/jaytsol/Desktop/Type23 (2)/누적/TypeB태그안뽑기'\n",
    "output_repo = '/Users/jaytsol/Desktop/Type23 (2)/누적/TypeB태그안뽑기/TypeB 최종'\n",
    "\n",
    "input_filename = '태그안뽑기_211117_1618.csv'    # 바꿔"
   ]
  },
  {
   "cell_type": "code",
   "execution_count": 13,
   "id": "f1547b57-4f8d-442b-8c4c-258fa9b01ffa",
   "metadata": {},
   "outputs": [],
   "source": [
    "org = get_csv(input_repo, input_filename)"
   ]
  },
  {
   "cell_type": "code",
   "execution_count": 14,
   "id": "03da7978-4fd9-417c-bd40-0e0436b222b7",
   "metadata": {},
   "outputs": [
    {
     "data": {
      "application/vnd.jupyter.widget-view+json": {
       "model_id": "0dfd71262676491d87b8b84bca3f6a09",
       "version_major": 2,
       "version_minor": 0
      },
      "text/plain": [
       "  0%|          | 0/76870 [00:00<?, ?it/s]"
      ]
     },
     "metadata": {},
     "output_type": "display_data"
    }
   ],
   "source": [
    "result_transcription_org = []\n",
    "for i in tnrange(len(org)):\n",
    "    result_temp = get_small_tag_removed_throw_morethan2_org(str(org['typeA'][i]))\n",
    "    result_transcription_org.append(result_temp)"
   ]
  },
  {
   "cell_type": "code",
   "execution_count": 15,
   "id": "c92cdc7f-7ffd-4119-902b-4f36ca653682",
   "metadata": {},
   "outputs": [
    {
     "data": {
      "application/vnd.jupyter.widget-view+json": {
       "model_id": "a6b5859efc91446ea4f3d762675bbd82",
       "version_major": 2,
       "version_minor": 0
      },
      "text/plain": [
       "  0%|          | 0/76870 [00:00<?, ?it/s]"
      ]
     },
     "metadata": {},
     "output_type": "display_data"
    }
   ],
   "source": [
    "result_transcription = []\n",
    "for i in tnrange(len(org)):\n",
    "    result_temp = get_small_tag_removed_throw_morethan2(str(org['transcription'][i]))\n",
    "    result_transcription.append(result_temp)"
   ]
  },
  {
   "cell_type": "code",
   "execution_count": null,
   "id": "8ac5d8be-5c8e-49a2-8a45-831b49576af3",
   "metadata": {},
   "outputs": [
    {
     "data": {
      "application/vnd.jupyter.widget-view+json": {
       "model_id": "0af2c4e919c24f76ba8c842dde23d023",
       "version_major": 2,
       "version_minor": 0
      },
      "text/plain": [
       "  0%|          | 0/76870 [00:00<?, ?it/s]"
      ]
     },
     "metadata": {},
     "output_type": "display_data"
    }
   ],
   "source": [
    "result = pd.DataFrame(columns=['법률 용어', '쓰임새', '번역예시', '키워드'])\n",
    "result['쓰임새'] = []\n",
    "result['번역예시'] = []\n",
    "for i in tnrange(len(org)):\n",
    "    word = org['word'][i]\n",
    "    for j in range(len(result_transcription_org[i])):\n",
    "        word_org = result_transcription_org[i][j]\n",
    "        try:\n",
    "            trans = result_transcription[i][j]\n",
    "        except:\n",
    "            trans = None\n",
    "        keyword = None\n",
    "        if (word in word_org)&(word_org != word)&(trans!=None):\n",
    "                result = result.append({'법률 용어':word, '쓰임새':word_org, '번역예시':trans, '키워드':keyword}, ignore_index=True)\n",
    "        else:\n",
    "            pass"
   ]
  },
  {
   "cell_type": "code",
   "execution_count": null,
   "id": "79a73c27-b5a7-4af3-919e-ec5fa9c7173d",
   "metadata": {},
   "outputs": [],
   "source": [
    "save_as_csv(input_repo, output_repo, result)"
   ]
  },
  {
   "cell_type": "code",
   "execution_count": 18,
   "id": "3576fb2f-ee56-4edb-85fc-997cf09b34eb",
   "metadata": {},
   "outputs": [],
   "source": [
    "# nan값 처리해야함. str로 넣어놨음"
   ]
  },
  {
   "cell_type": "code",
   "execution_count": null,
   "id": "98bcd249-4dee-4eb2-a979-b310f3a53f48",
   "metadata": {},
   "outputs": [],
   "source": []
  }
 ],
 "metadata": {
  "kernelspec": {
   "display_name": "Python 3",
   "language": "python",
   "name": "python3"
  },
  "language_info": {
   "codemirror_mode": {
    "name": "ipython",
    "version": 3
   },
   "file_extension": ".py",
   "mimetype": "text/x-python",
   "name": "python",
   "nbconvert_exporter": "python",
   "pygments_lexer": "ipython3",
   "version": "3.8.8"
  }
 },
 "nbformat": 4,
 "nbformat_minor": 5
}
