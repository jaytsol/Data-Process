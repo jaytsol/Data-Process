{
 "cells": [
  {
   "cell_type": "markdown",
   "id": "e6421500-1a23-4fa1-b51b-d24fc05b134e",
   "metadata": {},
   "source": [
    "# error랑 ><= 들어있는거 lineNumber 검출하는 코드"
   ]
  },
  {
   "cell_type": "markdown",
   "id": "e403f615-7ae8-4858-a772-7f846145f588",
   "metadata": {},
   "source": [
    "목표 : perfect_data만 뽑는데.. 여기에 error가 없어야함<br>\n",
    "이를 위해서..<br>\n",
    "Type C 재료에서부터 error, ><= 있는 라인넘버 뽑아서 각 perfect_data마다 에러수정한 데이터를 반영하면됨<br>"
   ]
  },
  {
   "cell_type": "markdown",
   "id": "43cab943-4944-46a3-a443-a716227f6237",
   "metadata": {},
   "source": [
    "Type C 재료 : 현준님한테 드린 통합_검수본_211028_1156.csv에서 첫 2000행 제외한거"
   ]
  },
  {
   "cell_type": "markdown",
   "id": "5819c4bd-5067-42f7-9ad1-ea12fa404cef",
   "metadata": {},
   "source": [
    "input : 에러코드 뽑을 재료<br>\n",
    "ref : perfect_data.. 1~7까지 따로 작업해야함"
   ]
  },
  {
   "cell_type": "code",
   "execution_count": 1,
   "id": "49e9ac7e-04fc-4f66-9ddc-b65a1312c59e",
   "metadata": {},
   "outputs": [],
   "source": [
    "import csv\n",
    "from os import walk\n",
    "import os\n",
    "from tqdm.notebook import tnrange\n",
    "import pandas as pd"
   ]
  },
  {
   "cell_type": "code",
   "execution_count": 2,
   "id": "421009cb-97bd-44a7-9868-bf789799e1ad",
   "metadata": {},
   "outputs": [],
   "source": [
    "input_repo = '/Users/jaytsol/Desktop/Type23 (2)/누적/accum_concat'\n",
    "ref_repo = '/Users/jaytsol/Desktop/Type23 (2)/6/2. 정완님 작업한거'                              # perfect_data_바꿔\n",
    "ans_repo = '/Users/jaytsol/Desktop/Type23 (2)/누적/concat'\n",
    "output_repo = '/Users/jaytsol/Desktop/Type23 (2)/누적/accum_concat/perfect_data'"
   ]
  },
  {
   "cell_type": "code",
   "execution_count": 3,
   "id": "6b3f1b4e-d5fd-44e7-9af7-6c10b8e0ae7f",
   "metadata": {},
   "outputs": [],
   "source": [
    "input_filename = '통합_검수본_211028_1156.csv'\n",
    "ref_filename = 'perfect_data.csv'                       # perfect_data\n",
    "ans_filename = '6.csv'\n",
    "output_filename = '6_perfect_data.csv'                  # 바꿔"
   ]
  },
  {
   "cell_type": "code",
   "execution_count": 4,
   "id": "757517db-90ab-4c16-828a-81550fc10db5",
   "metadata": {},
   "outputs": [],
   "source": [
    "org = pd.read_csv(f'{input_repo}/{input_filename}')[['lineNumber', 'originalText', 'transcription']]\n",
    "ref = pd.read_csv(f'{ref_repo}/{ref_filename}')\n",
    "ans = pd.read_csv(f'{ans_repo}/{ans_filename}')"
   ]
  },
  {
   "cell_type": "code",
   "execution_count": 5,
   "id": "5015f667-fe62-4b12-9006-b817e07321a8",
   "metadata": {},
   "outputs": [
    {
     "data": {
      "application/vnd.jupyter.widget-view+json": {
       "model_id": "e9d47bb1b2304bbb9c6775c9134cef47",
       "version_major": 2,
       "version_minor": 0
      },
      "text/plain": [
       "  0%|          | 0/18115 [00:00<?, ?it/s]"
      ]
     },
     "metadata": {},
     "output_type": "display_data"
    }
   ],
   "source": [
    "error_list = []\n",
    "for i in tnrange(len(org)):\n",
    "    if 'error' in str(org['transcription'][i]).lower():\n",
    "        error_list.append(org['lineNumber'][i])\n",
    "    elif '><=' in str(org['transcription'][i]):\n",
    "        error_list.append(org['lineNumber'][i])\n",
    "    else:\n",
    "        pass"
   ]
  },
  {
   "cell_type": "code",
   "execution_count": 6,
   "id": "08acac03-f219-4bd8-aded-ea57fc235d84",
   "metadata": {},
   "outputs": [
    {
     "data": {
      "application/vnd.jupyter.widget-view+json": {
       "model_id": "120e646ac17b4048a7cdab7caff402aa",
       "version_major": 2,
       "version_minor": 0
      },
      "text/plain": [
       "  0%|          | 0/3751 [00:00<?, ?it/s]"
      ]
     },
     "metadata": {},
     "output_type": "display_data"
    },
    {
     "name": "stderr",
     "output_type": "stream",
     "text": [
      "<ipython-input-6-ffff8b3afcfa>:5: SettingWithCopyWarning: \n",
      "A value is trying to be set on a copy of a slice from a DataFrame\n",
      "\n",
      "See the caveats in the documentation: https://pandas.pydata.org/pandas-docs/stable/user_guide/indexing.html#returning-a-view-versus-a-copy\n",
      "  ref['transcription'][i] = list(set(ans.loc[ans['lineNumber'] == error_list[j]]['transcription']))[0]\n",
      "<ipython-input-6-ffff8b3afcfa>:5: SettingWithCopyWarning: \n",
      "A value is trying to be set on a copy of a slice from a DataFrame\n",
      "\n",
      "See the caveats in the documentation: https://pandas.pydata.org/pandas-docs/stable/user_guide/indexing.html#returning-a-view-versus-a-copy\n",
      "  ref['transcription'][i] = list(set(ans.loc[ans['lineNumber'] == error_list[j]]['transcription']))[0]\n",
      "<ipython-input-6-ffff8b3afcfa>:5: SettingWithCopyWarning: \n",
      "A value is trying to be set on a copy of a slice from a DataFrame\n",
      "\n",
      "See the caveats in the documentation: https://pandas.pydata.org/pandas-docs/stable/user_guide/indexing.html#returning-a-view-versus-a-copy\n",
      "  ref['transcription'][i] = list(set(ans.loc[ans['lineNumber'] == error_list[j]]['transcription']))[0]\n",
      "<ipython-input-6-ffff8b3afcfa>:5: SettingWithCopyWarning: \n",
      "A value is trying to be set on a copy of a slice from a DataFrame\n",
      "\n",
      "See the caveats in the documentation: https://pandas.pydata.org/pandas-docs/stable/user_guide/indexing.html#returning-a-view-versus-a-copy\n",
      "  ref['transcription'][i] = list(set(ans.loc[ans['lineNumber'] == error_list[j]]['transcription']))[0]\n",
      "<ipython-input-6-ffff8b3afcfa>:5: SettingWithCopyWarning: \n",
      "A value is trying to be set on a copy of a slice from a DataFrame\n",
      "\n",
      "See the caveats in the documentation: https://pandas.pydata.org/pandas-docs/stable/user_guide/indexing.html#returning-a-view-versus-a-copy\n",
      "  ref['transcription'][i] = list(set(ans.loc[ans['lineNumber'] == error_list[j]]['transcription']))[0]\n",
      "<ipython-input-6-ffff8b3afcfa>:5: SettingWithCopyWarning: \n",
      "A value is trying to be set on a copy of a slice from a DataFrame\n",
      "\n",
      "See the caveats in the documentation: https://pandas.pydata.org/pandas-docs/stable/user_guide/indexing.html#returning-a-view-versus-a-copy\n",
      "  ref['transcription'][i] = list(set(ans.loc[ans['lineNumber'] == error_list[j]]['transcription']))[0]\n",
      "<ipython-input-6-ffff8b3afcfa>:5: SettingWithCopyWarning: \n",
      "A value is trying to be set on a copy of a slice from a DataFrame\n",
      "\n",
      "See the caveats in the documentation: https://pandas.pydata.org/pandas-docs/stable/user_guide/indexing.html#returning-a-view-versus-a-copy\n",
      "  ref['transcription'][i] = list(set(ans.loc[ans['lineNumber'] == error_list[j]]['transcription']))[0]\n",
      "<ipython-input-6-ffff8b3afcfa>:5: SettingWithCopyWarning: \n",
      "A value is trying to be set on a copy of a slice from a DataFrame\n",
      "\n",
      "See the caveats in the documentation: https://pandas.pydata.org/pandas-docs/stable/user_guide/indexing.html#returning-a-view-versus-a-copy\n",
      "  ref['transcription'][i] = list(set(ans.loc[ans['lineNumber'] == error_list[j]]['transcription']))[0]\n",
      "<ipython-input-6-ffff8b3afcfa>:5: SettingWithCopyWarning: \n",
      "A value is trying to be set on a copy of a slice from a DataFrame\n",
      "\n",
      "See the caveats in the documentation: https://pandas.pydata.org/pandas-docs/stable/user_guide/indexing.html#returning-a-view-versus-a-copy\n",
      "  ref['transcription'][i] = list(set(ans.loc[ans['lineNumber'] == error_list[j]]['transcription']))[0]\n",
      "<ipython-input-6-ffff8b3afcfa>:5: SettingWithCopyWarning: \n",
      "A value is trying to be set on a copy of a slice from a DataFrame\n",
      "\n",
      "See the caveats in the documentation: https://pandas.pydata.org/pandas-docs/stable/user_guide/indexing.html#returning-a-view-versus-a-copy\n",
      "  ref['transcription'][i] = list(set(ans.loc[ans['lineNumber'] == error_list[j]]['transcription']))[0]\n",
      "<ipython-input-6-ffff8b3afcfa>:5: SettingWithCopyWarning: \n",
      "A value is trying to be set on a copy of a slice from a DataFrame\n",
      "\n",
      "See the caveats in the documentation: https://pandas.pydata.org/pandas-docs/stable/user_guide/indexing.html#returning-a-view-versus-a-copy\n",
      "  ref['transcription'][i] = list(set(ans.loc[ans['lineNumber'] == error_list[j]]['transcription']))[0]\n",
      "<ipython-input-6-ffff8b3afcfa>:5: SettingWithCopyWarning: \n",
      "A value is trying to be set on a copy of a slice from a DataFrame\n",
      "\n",
      "See the caveats in the documentation: https://pandas.pydata.org/pandas-docs/stable/user_guide/indexing.html#returning-a-view-versus-a-copy\n",
      "  ref['transcription'][i] = list(set(ans.loc[ans['lineNumber'] == error_list[j]]['transcription']))[0]\n",
      "<ipython-input-6-ffff8b3afcfa>:5: SettingWithCopyWarning: \n",
      "A value is trying to be set on a copy of a slice from a DataFrame\n",
      "\n",
      "See the caveats in the documentation: https://pandas.pydata.org/pandas-docs/stable/user_guide/indexing.html#returning-a-view-versus-a-copy\n",
      "  ref['transcription'][i] = list(set(ans.loc[ans['lineNumber'] == error_list[j]]['transcription']))[0]\n",
      "<ipython-input-6-ffff8b3afcfa>:5: SettingWithCopyWarning: \n",
      "A value is trying to be set on a copy of a slice from a DataFrame\n",
      "\n",
      "See the caveats in the documentation: https://pandas.pydata.org/pandas-docs/stable/user_guide/indexing.html#returning-a-view-versus-a-copy\n",
      "  ref['transcription'][i] = list(set(ans.loc[ans['lineNumber'] == error_list[j]]['transcription']))[0]\n",
      "<ipython-input-6-ffff8b3afcfa>:5: SettingWithCopyWarning: \n",
      "A value is trying to be set on a copy of a slice from a DataFrame\n",
      "\n",
      "See the caveats in the documentation: https://pandas.pydata.org/pandas-docs/stable/user_guide/indexing.html#returning-a-view-versus-a-copy\n",
      "  ref['transcription'][i] = list(set(ans.loc[ans['lineNumber'] == error_list[j]]['transcription']))[0]\n",
      "<ipython-input-6-ffff8b3afcfa>:5: SettingWithCopyWarning: \n",
      "A value is trying to be set on a copy of a slice from a DataFrame\n",
      "\n",
      "See the caveats in the documentation: https://pandas.pydata.org/pandas-docs/stable/user_guide/indexing.html#returning-a-view-versus-a-copy\n",
      "  ref['transcription'][i] = list(set(ans.loc[ans['lineNumber'] == error_list[j]]['transcription']))[0]\n",
      "<ipython-input-6-ffff8b3afcfa>:5: SettingWithCopyWarning: \n",
      "A value is trying to be set on a copy of a slice from a DataFrame\n",
      "\n",
      "See the caveats in the documentation: https://pandas.pydata.org/pandas-docs/stable/user_guide/indexing.html#returning-a-view-versus-a-copy\n",
      "  ref['transcription'][i] = list(set(ans.loc[ans['lineNumber'] == error_list[j]]['transcription']))[0]\n",
      "<ipython-input-6-ffff8b3afcfa>:5: SettingWithCopyWarning: \n",
      "A value is trying to be set on a copy of a slice from a DataFrame\n",
      "\n",
      "See the caveats in the documentation: https://pandas.pydata.org/pandas-docs/stable/user_guide/indexing.html#returning-a-view-versus-a-copy\n",
      "  ref['transcription'][i] = list(set(ans.loc[ans['lineNumber'] == error_list[j]]['transcription']))[0]\n",
      "<ipython-input-6-ffff8b3afcfa>:5: SettingWithCopyWarning: \n",
      "A value is trying to be set on a copy of a slice from a DataFrame\n",
      "\n",
      "See the caveats in the documentation: https://pandas.pydata.org/pandas-docs/stable/user_guide/indexing.html#returning-a-view-versus-a-copy\n",
      "  ref['transcription'][i] = list(set(ans.loc[ans['lineNumber'] == error_list[j]]['transcription']))[0]\n",
      "<ipython-input-6-ffff8b3afcfa>:5: SettingWithCopyWarning: \n",
      "A value is trying to be set on a copy of a slice from a DataFrame\n",
      "\n",
      "See the caveats in the documentation: https://pandas.pydata.org/pandas-docs/stable/user_guide/indexing.html#returning-a-view-versus-a-copy\n",
      "  ref['transcription'][i] = list(set(ans.loc[ans['lineNumber'] == error_list[j]]['transcription']))[0]\n",
      "<ipython-input-6-ffff8b3afcfa>:5: SettingWithCopyWarning: \n",
      "A value is trying to be set on a copy of a slice from a DataFrame\n",
      "\n",
      "See the caveats in the documentation: https://pandas.pydata.org/pandas-docs/stable/user_guide/indexing.html#returning-a-view-versus-a-copy\n",
      "  ref['transcription'][i] = list(set(ans.loc[ans['lineNumber'] == error_list[j]]['transcription']))[0]\n",
      "<ipython-input-6-ffff8b3afcfa>:5: SettingWithCopyWarning: \n",
      "A value is trying to be set on a copy of a slice from a DataFrame\n",
      "\n",
      "See the caveats in the documentation: https://pandas.pydata.org/pandas-docs/stable/user_guide/indexing.html#returning-a-view-versus-a-copy\n",
      "  ref['transcription'][i] = list(set(ans.loc[ans['lineNumber'] == error_list[j]]['transcription']))[0]\n",
      "<ipython-input-6-ffff8b3afcfa>:5: SettingWithCopyWarning: \n",
      "A value is trying to be set on a copy of a slice from a DataFrame\n",
      "\n",
      "See the caveats in the documentation: https://pandas.pydata.org/pandas-docs/stable/user_guide/indexing.html#returning-a-view-versus-a-copy\n",
      "  ref['transcription'][i] = list(set(ans.loc[ans['lineNumber'] == error_list[j]]['transcription']))[0]\n",
      "<ipython-input-6-ffff8b3afcfa>:5: SettingWithCopyWarning: \n",
      "A value is trying to be set on a copy of a slice from a DataFrame\n",
      "\n",
      "See the caveats in the documentation: https://pandas.pydata.org/pandas-docs/stable/user_guide/indexing.html#returning-a-view-versus-a-copy\n",
      "  ref['transcription'][i] = list(set(ans.loc[ans['lineNumber'] == error_list[j]]['transcription']))[0]\n",
      "<ipython-input-6-ffff8b3afcfa>:5: SettingWithCopyWarning: \n",
      "A value is trying to be set on a copy of a slice from a DataFrame\n",
      "\n",
      "See the caveats in the documentation: https://pandas.pydata.org/pandas-docs/stable/user_guide/indexing.html#returning-a-view-versus-a-copy\n",
      "  ref['transcription'][i] = list(set(ans.loc[ans['lineNumber'] == error_list[j]]['transcription']))[0]\n",
      "<ipython-input-6-ffff8b3afcfa>:5: SettingWithCopyWarning: \n",
      "A value is trying to be set on a copy of a slice from a DataFrame\n",
      "\n",
      "See the caveats in the documentation: https://pandas.pydata.org/pandas-docs/stable/user_guide/indexing.html#returning-a-view-versus-a-copy\n",
      "  ref['transcription'][i] = list(set(ans.loc[ans['lineNumber'] == error_list[j]]['transcription']))[0]\n",
      "<ipython-input-6-ffff8b3afcfa>:5: SettingWithCopyWarning: \n",
      "A value is trying to be set on a copy of a slice from a DataFrame\n",
      "\n",
      "See the caveats in the documentation: https://pandas.pydata.org/pandas-docs/stable/user_guide/indexing.html#returning-a-view-versus-a-copy\n",
      "  ref['transcription'][i] = list(set(ans.loc[ans['lineNumber'] == error_list[j]]['transcription']))[0]\n",
      "<ipython-input-6-ffff8b3afcfa>:5: SettingWithCopyWarning: \n",
      "A value is trying to be set on a copy of a slice from a DataFrame\n",
      "\n",
      "See the caveats in the documentation: https://pandas.pydata.org/pandas-docs/stable/user_guide/indexing.html#returning-a-view-versus-a-copy\n",
      "  ref['transcription'][i] = list(set(ans.loc[ans['lineNumber'] == error_list[j]]['transcription']))[0]\n",
      "<ipython-input-6-ffff8b3afcfa>:5: SettingWithCopyWarning: \n",
      "A value is trying to be set on a copy of a slice from a DataFrame\n",
      "\n",
      "See the caveats in the documentation: https://pandas.pydata.org/pandas-docs/stable/user_guide/indexing.html#returning-a-view-versus-a-copy\n",
      "  ref['transcription'][i] = list(set(ans.loc[ans['lineNumber'] == error_list[j]]['transcription']))[0]\n"
     ]
    }
   ],
   "source": [
    "# ref의 lineNumber가 error_list의 라인넘버와 일치한다면 \n",
    "for i in tnrange(len(ref)):\n",
    "    for j in range(len(error_list)):\n",
    "        if ref['lineNumber'][i] == error_list[j]:\n",
    "            ref['transcription'][i] = list(set(ans.loc[ans['lineNumber'] == error_list[j]]['transcription']))[0]\n",
    "            break"
   ]
  },
  {
   "cell_type": "code",
   "execution_count": 7,
   "id": "9f2eddc2-08bb-4b27-bfdb-629ecfed4447",
   "metadata": {},
   "outputs": [
    {
     "data": {
      "text/html": [
       "<div>\n",
       "<style scoped>\n",
       "    .dataframe tbody tr th:only-of-type {\n",
       "        vertical-align: middle;\n",
       "    }\n",
       "\n",
       "    .dataframe tbody tr th {\n",
       "        vertical-align: top;\n",
       "    }\n",
       "\n",
       "    .dataframe thead th {\n",
       "        text-align: right;\n",
       "    }\n",
       "</style>\n",
       "<table border=\"1\" class=\"dataframe\">\n",
       "  <thead>\n",
       "    <tr style=\"text-align: right;\">\n",
       "      <th></th>\n",
       "      <th>lineNumber</th>\n",
       "      <th>originalText</th>\n",
       "      <th>transcription</th>\n",
       "    </tr>\n",
       "  </thead>\n",
       "  <tbody>\n",
       "    <tr>\n",
       "      <th>0</th>\n",
       "      <td>54</td>\n",
       "      <td>[1] 구 &lt;&lt;&lt;상속 받은 재산에 대한 세금&lt;=상속세&gt;법(****.**.**법률 제...</td>\n",
       "      <td>[1] 구 &lt;&lt;&lt;상속 받은 재산에 대한 세금&lt;=상속세&gt;법(****.**.**법률 제...</td>\n",
       "    </tr>\n",
       "    <tr>\n",
       "      <th>1</th>\n",
       "      <td>55</td>\n",
       "      <td>그러한데도 &lt;&lt;&lt;직전의 재판&lt;=원심&gt;이 원래의&gt;&gt;&gt; *****를 분열 후의 신청인 ...</td>\n",
       "      <td>그러한데도 &lt;&lt;&lt;직전의 재판&lt;=원심&gt;이 원래의&gt;&gt;&gt; *****를 분열 후의 신청인 ...</td>\n",
       "    </tr>\n",
       "    <tr>\n",
       "      <th>2</th>\n",
       "      <td>56</td>\n",
       "      <td>왜냐하면 부동산에 대한 경매는 집행법원의 &lt;&lt;&lt;직무상의 본분&lt;=직분&gt;에 속하기&gt;&gt;&gt;...</td>\n",
       "      <td>왜냐하면 부동산에 대한 경매는 집행법원의 &lt;&lt;&lt;직무상의 본분&lt;=직분&gt;에 속하기&gt;&gt;&gt;...</td>\n",
       "    </tr>\n",
       "    <tr>\n",
       "      <th>3</th>\n",
       "      <td>57</td>\n",
       "      <td>민사집행법 제19조 제3항에 따라 집행법상 담보 취소에 &lt;&lt;&lt;표준으로 삼아 적용함&lt;...</td>\n",
       "      <td>민사집행법 제19조 제3항에 따라 집행법상 담보 취소에 &lt;&lt;&lt;표준으로 삼아 적용&lt;=...</td>\n",
       "    </tr>\n",
       "    <tr>\n",
       "      <th>4</th>\n",
       "      <td>58</td>\n",
       "      <td>그러므로 &lt;&lt;&lt;자기 몸을 스스로 다치게 함&lt;=자해&gt;행위로 인한&gt;&gt;&gt; 사망이라 하더라...</td>\n",
       "      <td>그러므로 &lt;&lt;&lt;자기 몸을 스스로 다치게 한&lt;=자해&gt;행위로 인한&gt;&gt;&gt; 사망이라 하더라...</td>\n",
       "    </tr>\n",
       "    <tr>\n",
       "      <th>...</th>\n",
       "      <td>...</td>\n",
       "      <td>...</td>\n",
       "      <td>...</td>\n",
       "    </tr>\n",
       "    <tr>\n",
       "      <th>3746</th>\n",
       "      <td>38332</td>\n",
       "      <td>신용협동조합이 신용협동조합법에 의한 재무부장관의 &lt;&lt;&lt;인정하여 허가함&lt;=인가&gt;를 받...</td>\n",
       "      <td>신용협동조합이 신용협동조합법에 의한 재무부장관의 &lt;&lt;&lt;인가를 받지&gt;&gt;&gt; 못하고 그 ...</td>\n",
       "    </tr>\n",
       "    <tr>\n",
       "      <th>3747</th>\n",
       "      <td>38334</td>\n",
       "      <td>상표법 제93조에서 정한 상표권침해죄로 처벌하기 위해서는 범죄구성요건의 주관적 &lt;&lt;...</td>\n",
       "      <td>상표법 제93조에서 정한 상표권침해죄로 처벌하기 위해서는 범죄구성요건의 주관적 &lt;&lt;...</td>\n",
       "    </tr>\n",
       "    <tr>\n",
       "      <th>3748</th>\n",
       "      <td>38339</td>\n",
       "      <td>[2] 미필적 &lt;&lt;&lt;일정한 결과가 생길 것을 인식함&lt;=고의&gt;의 요건&gt;&gt;&gt; 및 판단 방법</td>\n",
       "      <td>[2] 미필적 &lt;&lt;&lt;고의의 요건&gt;&gt;&gt; 및 판단 방법</td>\n",
       "    </tr>\n",
       "    <tr>\n",
       "      <th>3749</th>\n",
       "      <td>38347</td>\n",
       "      <td>사기죄에서 편취 범의에 대한 판단 기준 및 미필적 &lt;&lt;&lt;일정한 결과가 생길 것을 인...</td>\n",
       "      <td>사기죄에서 편취 범의에 대한 판단 기준 및 미필적 &lt;&lt;&lt;고의를 인정하기&gt;&gt;&gt; 위한 요건</td>\n",
       "    </tr>\n",
       "    <tr>\n",
       "      <th>3750</th>\n",
       "      <td>38351</td>\n",
       "      <td>또한 부진정 &lt;&lt;&lt;일을 하지 않은 범죄나 사람&lt;=부작위범&gt;의 일정한 결과가 생길 것...</td>\n",
       "      <td>또한 부진정 &lt;&lt;&lt;부작위범의 일정한 결과가 생길 것을 인식한 고의는&gt;&gt;&gt; 반드시 구...</td>\n",
       "    </tr>\n",
       "  </tbody>\n",
       "</table>\n",
       "<p>3751 rows × 3 columns</p>\n",
       "</div>"
      ],
      "text/plain": [
       "      lineNumber                                       originalText  \\\n",
       "0             54  [1] 구 <<<상속 받은 재산에 대한 세금<=상속세>법(****.**.**법률 제...   \n",
       "1             55  그러한데도 <<<직전의 재판<=원심>이 원래의>>> *****를 분열 후의 신청인 ...   \n",
       "2             56  왜냐하면 부동산에 대한 경매는 집행법원의 <<<직무상의 본분<=직분>에 속하기>>>...   \n",
       "3             57  민사집행법 제19조 제3항에 따라 집행법상 담보 취소에 <<<표준으로 삼아 적용함<...   \n",
       "4             58  그러므로 <<<자기 몸을 스스로 다치게 함<=자해>행위로 인한>>> 사망이라 하더라...   \n",
       "...          ...                                                ...   \n",
       "3746       38332  신용협동조합이 신용협동조합법에 의한 재무부장관의 <<<인정하여 허가함<=인가>를 받...   \n",
       "3747       38334  상표법 제93조에서 정한 상표권침해죄로 처벌하기 위해서는 범죄구성요건의 주관적 <<...   \n",
       "3748       38339   [2] 미필적 <<<일정한 결과가 생길 것을 인식함<=고의>의 요건>>> 및 판단 방법   \n",
       "3749       38347  사기죄에서 편취 범의에 대한 판단 기준 및 미필적 <<<일정한 결과가 생길 것을 인...   \n",
       "3750       38351  또한 부진정 <<<일을 하지 않은 범죄나 사람<=부작위범>의 일정한 결과가 생길 것...   \n",
       "\n",
       "                                          transcription  \n",
       "0     [1] 구 <<<상속 받은 재산에 대한 세금<=상속세>법(****.**.**법률 제...  \n",
       "1     그러한데도 <<<직전의 재판<=원심>이 원래의>>> *****를 분열 후의 신청인 ...  \n",
       "2     왜냐하면 부동산에 대한 경매는 집행법원의 <<<직무상의 본분<=직분>에 속하기>>>...  \n",
       "3     민사집행법 제19조 제3항에 따라 집행법상 담보 취소에 <<<표준으로 삼아 적용<=...  \n",
       "4     그러므로 <<<자기 몸을 스스로 다치게 한<=자해>행위로 인한>>> 사망이라 하더라...  \n",
       "...                                                 ...  \n",
       "3746  신용협동조합이 신용협동조합법에 의한 재무부장관의 <<<인가를 받지>>> 못하고 그 ...  \n",
       "3747  상표법 제93조에서 정한 상표권침해죄로 처벌하기 위해서는 범죄구성요건의 주관적 <<...  \n",
       "3748                       [2] 미필적 <<<고의의 요건>>> 및 판단 방법  \n",
       "3749   사기죄에서 편취 범의에 대한 판단 기준 및 미필적 <<<고의를 인정하기>>> 위한 요건  \n",
       "3750  또한 부진정 <<<부작위범의 일정한 결과가 생길 것을 인식한 고의는>>> 반드시 구...  \n",
       "\n",
       "[3751 rows x 3 columns]"
      ]
     },
     "execution_count": 7,
     "metadata": {},
     "output_type": "execute_result"
    }
   ],
   "source": [
    "ref"
   ]
  },
  {
   "cell_type": "code",
   "execution_count": 8,
   "id": "b2bba2d8-0f46-4339-a0ff-eb07d3cb8718",
   "metadata": {},
   "outputs": [],
   "source": [
    "ref.to_csv(f'{output_repo}/{output_filename}', index=False, encoding='utf-8-sig')\n",
    "ref.to_csv(f'/Users/jaytsol/Desktop/Type23 (2)/누적/perfect_data/{output_filename}', index=False, encoding='utf-8-sig')"
   ]
  },
  {
   "cell_type": "code",
   "execution_count": null,
   "id": "97347bce-394e-4e83-a521-1248fa3d29fa",
   "metadata": {},
   "outputs": [],
   "source": []
  }
 ],
 "metadata": {
  "kernelspec": {
   "display_name": "Python 3",
   "language": "python",
   "name": "python3"
  },
  "language_info": {
   "codemirror_mode": {
    "name": "ipython",
    "version": 3
   },
   "file_extension": ".py",
   "mimetype": "text/x-python",
   "name": "python",
   "nbconvert_exporter": "python",
   "pygments_lexer": "ipython3",
   "version": "3.8.8"
  }
 },
 "nbformat": 4,
 "nbformat_minor": 5
}
