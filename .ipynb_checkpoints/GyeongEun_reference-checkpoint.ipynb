{
 "cells": [
  {
   "cell_type": "code",
   "execution_count": 1,
   "id": "b0683910-012f-4f88-af98-183a572dd29f",
   "metadata": {
    "tags": []
   },
   "outputs": [],
   "source": [
    "import json\n",
    "import csv\n",
    "from tqdm import tnrange, tqdm_notebook\n",
    "import numpy as np\n",
    "import pandas as pd"
   ]
  },
  {
   "cell_type": "code",
   "execution_count": 2,
   "id": "54d11df9-e0ff-4c30-a0c6-a0accbd013d5",
   "metadata": {},
   "outputs": [],
   "source": [
    "csvFilePath = 'C:/Users/jayts/OneDrive/바탕 화면/Tictag/json/KAS/(법률어휘번역)장현준_(1-90)_검수반영본 (1).csv'\n",
    "jsonFilePath = 'C:/Users/jayts/OneDrive/바탕 화면/Tictag/json/KAS/1차검수반영본.json'"
   ]
  },
  {
   "cell_type": "code",
   "execution_count": 3,
   "id": "717cf69d-672e-4516-9a89-7097dca34cdf",
   "metadata": {},
   "outputs": [],
   "source": [
    "data = {}\n",
    "with open(csvFilePath, encoding='UTF8') as csvFile:\n",
    "    csvReader = csv.DictReader(csvFile)\n",
    "    for rows in csvReader:\n",
    "        id = rows['법률어휘']\n",
    "        data[id] = rows"
   ]
  },
  {
   "cell_type": "code",
   "execution_count": 4,
   "id": "505370bb-3f96-4d73-b715-aca14c0c1247",
   "metadata": {},
   "outputs": [],
   "source": [
    "with open(jsonFilePath, 'w', encoding='UTF8') as jsonFile:\n",
    "    jsonFile.write(json.dumps(data, indent=4, ensure_ascii=False,))"
   ]
  },
  {
   "cell_type": "code",
   "execution_count": 5,
   "id": "cdfbb3d3-15ce-415c-ad5e-e52207b69db2",
   "metadata": {},
   "outputs": [
    {
     "data": {
      "text/plain": [
       "'1'"
      ]
     },
     "execution_count": 5,
     "metadata": {},
     "output_type": "execute_result"
    }
   ],
   "source": [
    "a = 1\n",
    "str(a)"
   ]
  },
  {
   "cell_type": "code",
   "execution_count": 7,
   "id": "04cd4137-d568-4b19-be01-71accfc3cc3c",
   "metadata": {},
   "outputs": [
    {
     "data": {
      "text/plain": [
       "'1sentence'"
      ]
     },
     "execution_count": 7,
     "metadata": {},
     "output_type": "execute_result"
    }
   ],
   "source": [
    "str(a)+'sentence'"
   ]
  },
  {
   "cell_type": "code",
   "execution_count": null,
   "id": "fd5a5eec-042b-4c33-a010-1285d5039709",
   "metadata": {},
   "outputs": [],
   "source": []
  }
 ],
 "metadata": {
  "kernelspec": {
   "display_name": "Python 3",
   "language": "python",
   "name": "python3"
  },
  "language_info": {
   "codemirror_mode": {
    "name": "ipython",
    "version": 3
   },
   "file_extension": ".py",
   "mimetype": "text/x-python",
   "name": "python",
   "nbconvert_exporter": "python",
   "pygments_lexer": "ipython3",
   "version": "3.8.8"
  }
 },
 "nbformat": 4,
 "nbformat_minor": 5
}
