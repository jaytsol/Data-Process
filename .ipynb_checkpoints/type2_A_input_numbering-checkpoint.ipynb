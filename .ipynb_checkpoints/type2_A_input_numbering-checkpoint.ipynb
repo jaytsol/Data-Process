{
 "cells": [
  {
   "cell_type": "code",
   "execution_count": 6,
   "id": "81ce4235-5837-41b7-a4d2-8dae87f6ad05",
   "metadata": {},
   "outputs": [],
   "source": [
    "import json\n",
    "import time\n",
    "from tqdm.notebook import trange"
   ]
  },
  {
   "cell_type": "code",
   "execution_count": 7,
   "id": "f39259a5-707c-4d1b-9faf-bd2fcf620158",
   "metadata": {},
   "outputs": [],
   "source": [
    "f = open('C:/Users/jayts/OneDrive/바탕 화면/Tictag/json/KAS/type2_A_input.json', 'r', encoding='UTF8')    # type3를 통해 추출된 json파일 읽어들이기\n",
    "no_number = json.load(f)\n",
    "key_list1 = list(no_number.keys())    # 어려운 단어 리스트\n",
    "key_list2 = list(no_number[key_list1[0]][0].keys())    # origin, trans, keyword, keywordOccurence\n",
    "yes_number = {}\n",
    "yes_number.update(no_number)"
   ]
  },
  {
   "cell_type": "code",
   "execution_count": 8,
   "id": "7da12b34-0614-4b08-903d-a71ac4f007dd",
   "metadata": {},
   "outputs": [
    {
     "data": {
      "application/vnd.jupyter.widget-view+json": {
       "model_id": "e252928439f04d61a50bc401e95946ec",
       "version_major": 2,
       "version_minor": 0
      },
      "text/plain": [
       "1st:   0%|          | 0/2732 [00:00<?, ?it/s]"
      ]
     },
     "metadata": {},
     "output_type": "display_data"
    }
   ],
   "source": [
    "for i in trange(len(key_list1), desc= '1st'):\n",
    "    for j in range(len(no_number[key_list1[i]])):\n",
    "        yes_number[key_list1[i]][j].update({'number':j})"
   ]
  },
  {
   "cell_type": "code",
   "execution_count": 9,
   "id": "d6ee2b16-7f61-426d-b786-13dcbd3c94b1",
   "metadata": {},
   "outputs": [
    {
     "name": "stdout",
     "output_type": "stream",
     "text": [
      "time : 8.139577865600586\n"
     ]
    }
   ],
   "source": [
    "start = time.time()  # 시작 시간 저장\n",
    "# json 파일로 저장\n",
    "with open('C:/Users/jayts/OneDrive/바탕 화면/Tictag/json/KAS/type2_A_input_withnum.json', 'w', encoding='UTF8') as json_file:\n",
    "    json.dump(yes_number, json_file, indent=4, ensure_ascii=False,)\n",
    "print(\"time :\", time.time() - start)"
   ]
  },
  {
   "cell_type": "code",
   "execution_count": null,
   "id": "eb2c7b20-2f34-40d8-b96d-982c318b808e",
   "metadata": {},
   "outputs": [],
   "source": []
  }
 ],
 "metadata": {
  "kernelspec": {
   "display_name": "Python 3",
   "language": "python",
   "name": "python3"
  },
  "language_info": {
   "codemirror_mode": {
    "name": "ipython",
    "version": 3
   },
   "file_extension": ".py",
   "mimetype": "text/x-python",
   "name": "python",
   "nbconvert_exporter": "python",
   "pygments_lexer": "ipython3",
   "version": "3.8.8"
  }
 },
 "nbformat": 4,
 "nbformat_minor": 5
}
