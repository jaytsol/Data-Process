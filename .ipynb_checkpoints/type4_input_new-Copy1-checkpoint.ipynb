{
 "cells": [
  {
   "cell_type": "code",
   "execution_count": 1,
   "id": "29607a73-aff9-4865-8589-3ed81eb0ebf9",
   "metadata": {},
   "outputs": [],
   "source": [
    "# trans에서 특수기호 없을 때의 문장길이 200자 넘는거만 추출해서 반영. 특수기호 생략한 상태로 반영."
   ]
  },
  {
   "cell_type": "code",
   "execution_count": 1,
   "id": "165b74ab-284d-47a1-a3aa-d0ad46c4ca61",
   "metadata": {},
   "outputs": [],
   "source": [
    "import json\n",
    "import csv\n",
    "from tqdm.notebook import tnrange\n",
    "import pandas as pd\n",
    "import re"
   ]
  },
  {
   "cell_type": "code",
   "execution_count": 2,
   "id": "ea72fb0a-658c-4b1f-a670-3a223d3c312b",
   "metadata": {
    "tags": []
   },
   "outputs": [],
   "source": [
    "input_repo = '/Users/jaytsol/Desktop/Type23 (2)/누적/accum_concat'\n",
    "output_repo = '/Users/jaytsol/Desktop/Type4/test'\n",
    "\n",
    "input_filename = '통합_검수본_21113_1120.csv'\n",
    "output_filename = 'type4_input'"
   ]
  },
  {
   "cell_type": "code",
   "execution_count": 3,
   "id": "c0f8c28b-6185-4837-996b-616c3b886539",
   "metadata": {},
   "outputs": [],
   "source": [
    "org_data = pd.read_csv(f'{input_repo}/{input_filename}')"
   ]
  },
  {
   "cell_type": "code",
   "execution_count": 4,
   "id": "bc7b2915-cc17-4edc-9811-0a79d666474e",
   "metadata": {},
   "outputs": [
    {
     "data": {
      "text/html": [
       "<div>\n",
       "<style scoped>\n",
       "    .dataframe tbody tr th:only-of-type {\n",
       "        vertical-align: middle;\n",
       "    }\n",
       "\n",
       "    .dataframe tbody tr th {\n",
       "        vertical-align: top;\n",
       "    }\n",
       "\n",
       "    .dataframe thead th {\n",
       "        text-align: right;\n",
       "    }\n",
       "</style>\n",
       "<table border=\"1\" class=\"dataframe\">\n",
       "  <thead>\n",
       "    <tr style=\"text-align: right;\">\n",
       "      <th></th>\n",
       "      <th>lineNumber</th>\n",
       "      <th>originalText</th>\n",
       "      <th>transcription</th>\n",
       "    </tr>\n",
       "  </thead>\n",
       "  <tbody>\n",
       "    <tr>\n",
       "      <th>0</th>\n",
       "      <td>1</td>\n",
       "      <td>&lt;&lt;&lt;직전의 재판&lt;=원심&gt;판결 이유에&gt;&gt;&gt; 의하면, &lt;&lt;&lt;직전의 재판&lt;=원심&gt;은 이...</td>\n",
       "      <td>직전의 재판판결 이유에 의하면, 직전의 재판은 이 사건 행위가 공정거래법 제3조의2...</td>\n",
       "    </tr>\n",
       "    <tr>\n",
       "      <th>1</th>\n",
       "      <td>2</td>\n",
       "      <td>비록 양 발명의 구성에 &lt;&lt;&lt;서로 다름&lt;=상이&gt;점이 있어도&gt;&gt;&gt; 그 기술분야에서 &lt;...</td>\n",
       "      <td>비록 양 발명의 구성에 서로 다른 점이 있어도 그 기술분야에서 일반적인 경우의 지식...</td>\n",
       "    </tr>\n",
       "    <tr>\n",
       "      <th>2</th>\n",
       "      <td>3</td>\n",
       "      <td>[2] 등록의장의 대상물품인 \"스위치\"가 독립거래의 대상성 및 &lt;&lt;&lt;연결되는 데 문...</td>\n",
       "      <td>[2] 등록의장의 대상물품인 \"스위치\"가 독립거래의 대상성 및 연결되는 데 문제가 ...</td>\n",
       "    </tr>\n",
       "    <tr>\n",
       "      <th>3</th>\n",
       "      <td>4</td>\n",
       "      <td>③ 이 사건 프로젝터에 사용된 LCD는 ***** 컴퓨터나 그 &lt;&lt;&lt;연결되는 데 문...</td>\n",
       "      <td>③ 이 사건 프로젝터에 사용된 LCD는 ***** 컴퓨터나 그 연결되는 데 문제가 ...</td>\n",
       "    </tr>\n",
       "    <tr>\n",
       "      <th>4</th>\n",
       "      <td>5</td>\n",
       "      <td>구 의장법 제2조 제1호에서 말하는 \"물품\"이란 독립성이 있는 구체적인 유체동산을 ...</td>\n",
       "      <td>구 의장법 제2조 제1호에서 말하는 \"물품\"이란 독립성이 있는 구체적인 유체동산을 ...</td>\n",
       "    </tr>\n",
       "    <tr>\n",
       "      <th>...</th>\n",
       "      <td>...</td>\n",
       "      <td>...</td>\n",
       "      <td>...</td>\n",
       "    </tr>\n",
       "    <tr>\n",
       "      <th>18110</th>\n",
       "      <td>38447</td>\n",
       "      <td>[3] &lt;&lt;&lt;특정 재산에 대한 처분 제한 &lt;=압류&gt;재산의 관공서가 하는 강제경매&lt;=...</td>\n",
       "      <td>[3] 특정 재산에 대한 처분 제한 재산의 관공서가 하는 강제경매공고를 함에 있어 ...</td>\n",
       "    </tr>\n",
       "    <tr>\n",
       "      <th>18111</th>\n",
       "      <td>38448</td>\n",
       "      <td>가. ***의 &lt;&lt;&lt;직무나 임무에 힘씀&lt;=복무&gt;기간은 국방의무의&gt;&gt;&gt; 본질적 내용에...</td>\n",
       "      <td>가. ***의 직무나 임무에 힘쓰는 기간은 국방의무의 본질적 내용에 관한 것이어서 ...</td>\n",
       "    </tr>\n",
       "    <tr>\n",
       "      <th>18112</th>\n",
       "      <td>38449</td>\n",
       "      <td>&lt;&lt;&lt;직전의 재판&lt;=원심&gt;은, 검사가 형사재판을 신청하는 일&lt;=공소&gt;외&gt;&gt;&gt; 4 주...</td>\n",
       "      <td>직전의 재판은, 검사가 형사재판을 신청하는 일 외 4 주식회사와 대학교 및 산업계와...</td>\n",
       "    </tr>\n",
       "    <tr>\n",
       "      <th>18113</th>\n",
       "      <td>38450</td>\n",
       "      <td>(가) &lt;&lt;&lt;민사소송을 일으킨 사람&lt;=원고&gt;는 민사소송에서 소송을 당한 사람&lt;=피고...</td>\n",
       "      <td>(가) 민사소송을 일으킨 사람은 민사소송에서 소송을 당한 사람의 보조참가인 1이 민...</td>\n",
       "    </tr>\n",
       "    <tr>\n",
       "      <th>18114</th>\n",
       "      <td>38451</td>\n",
       "      <td>[2] 지방공사인 의료원이 약제과장으로 근무하던 근로자에 대한 &lt;&lt;&lt;어떤 직무를 담...</td>\n",
       "      <td>[2] 지방공사인 의료원이 약제과장으로 근무하던 근로자에 대한 어떤 직무를 담당하는...</td>\n",
       "    </tr>\n",
       "  </tbody>\n",
       "</table>\n",
       "<p>18115 rows × 3 columns</p>\n",
       "</div>"
      ],
      "text/plain": [
       "       lineNumber                                       originalText  \\\n",
       "0               1  <<<직전의 재판<=원심>판결 이유에>>> 의하면, <<<직전의 재판<=원심>은 이...   \n",
       "1               2  비록 양 발명의 구성에 <<<서로 다름<=상이>점이 있어도>>> 그 기술분야에서 <...   \n",
       "2               3  [2] 등록의장의 대상물품인 \"스위치\"가 독립거래의 대상성 및 <<<연결되는 데 문...   \n",
       "3               4  ③ 이 사건 프로젝터에 사용된 LCD는 ***** 컴퓨터나 그 <<<연결되는 데 문...   \n",
       "4               5  구 의장법 제2조 제1호에서 말하는 \"물품\"이란 독립성이 있는 구체적인 유체동산을 ...   \n",
       "...           ...                                                ...   \n",
       "18110       38447  [3] <<<특정 재산에 대한 처분 제한 <=압류>재산의 관공서가 하는 강제경매<=...   \n",
       "18111       38448  가. ***의 <<<직무나 임무에 힘씀<=복무>기간은 국방의무의>>> 본질적 내용에...   \n",
       "18112       38449  <<<직전의 재판<=원심>은, 검사가 형사재판을 신청하는 일<=공소>외>>> 4 주...   \n",
       "18113       38450  (가) <<<민사소송을 일으킨 사람<=원고>는 민사소송에서 소송을 당한 사람<=피고...   \n",
       "18114       38451  [2] 지방공사인 의료원이 약제과장으로 근무하던 근로자에 대한 <<<어떤 직무를 담...   \n",
       "\n",
       "                                           transcription  \n",
       "0      직전의 재판판결 이유에 의하면, 직전의 재판은 이 사건 행위가 공정거래법 제3조의2...  \n",
       "1      비록 양 발명의 구성에 서로 다른 점이 있어도 그 기술분야에서 일반적인 경우의 지식...  \n",
       "2      [2] 등록의장의 대상물품인 \"스위치\"가 독립거래의 대상성 및 연결되는 데 문제가 ...  \n",
       "3      ③ 이 사건 프로젝터에 사용된 LCD는 ***** 컴퓨터나 그 연결되는 데 문제가 ...  \n",
       "4      구 의장법 제2조 제1호에서 말하는 \"물품\"이란 독립성이 있는 구체적인 유체동산을 ...  \n",
       "...                                                  ...  \n",
       "18110  [3] 특정 재산에 대한 처분 제한 재산의 관공서가 하는 강제경매공고를 함에 있어 ...  \n",
       "18111  가. ***의 직무나 임무에 힘쓰는 기간은 국방의무의 본질적 내용에 관한 것이어서 ...  \n",
       "18112  직전의 재판은, 검사가 형사재판을 신청하는 일 외 4 주식회사와 대학교 및 산업계와...  \n",
       "18113  (가) 민사소송을 일으킨 사람은 민사소송에서 소송을 당한 사람의 보조참가인 1이 민...  \n",
       "18114  [2] 지방공사인 의료원이 약제과장으로 근무하던 근로자에 대한 어떤 직무를 담당하는...  \n",
       "\n",
       "[18115 rows x 3 columns]"
      ]
     },
     "execution_count": 4,
     "metadata": {},
     "output_type": "execute_result"
    }
   ],
   "source": [
    "org_data"
   ]
  },
  {
   "cell_type": "code",
   "execution_count": 5,
   "id": "af9a74fa-16e1-4e0e-9e03-d596c81cee0f",
   "metadata": {},
   "outputs": [
    {
     "data": {
      "application/vnd.jupyter.widget-view+json": {
       "model_id": "a800b32d92254b7196e06af44d7f7314",
       "version_major": 2,
       "version_minor": 0
      },
      "text/plain": [
       "  0%|          | 0/18115 [00:00<?, ?it/s]"
      ]
     },
     "metadata": {},
     "output_type": "display_data"
    }
   ],
   "source": [
    "type4_input = []\n",
    "for i in tnrange(len(org_data)):\n",
    "    transcription_without_asterisk = re.sub('(\\<=.*?\\>{1})','',str(org_data['transcription'][i])).replace('<<<', '').replace('>>>', '')\n",
    "    if len(transcription_without_asterisk) < 200:\n",
    "        pass\n",
    "    else:\n",
    "        type4_input.append(transcription_without_asterisk)"
   ]
  },
  {
   "cell_type": "code",
   "execution_count": 6,
   "id": "5c4e49a7-fa36-4934-95fa-80aa7edd92e2",
   "metadata": {},
   "outputs": [
    {
     "data": {
      "text/plain": [
       "'직전의 재판판결 이유에 의하면, 직전의 재판은 이 사건 행위가 공정거래법 제3조의2 제1항 제3호에 규정된 ‘다른 사업자의 사업활동을 방해하는 행위’로서 부당한 것인지 맞거나 틀림을 판단함에 있어 그 여러 고려할 사항 중의 하나로, 음악파일의 상호호환을 강제할 법률적 근거는 없으므로, 민사소송에서 소송을 당한 사람이 별도의 입법조치 없이 민사소송을 일으킨 사람에게 연결되는 데 문제가 없음은 기술의 사용을 요구하거나 이를 의무화하는 것은 그 권한 범위를 넘어서는 것이라는 목적이나 요지로 설시하였음을 알 수 있고, 이 사건 행위가 공정거래법 제3조의2 제1항 제3호에 규정된 ‘다른 사업자의 사업활동을 방해하는 행위’로서 부당하다고 볼 수 없다고 본 직전의 재판의 판단은 정당하므로, 거기에 원심 판결에 불복해 재심사 요청이유에서 주장하는 바와 같은 잘못된 것을 바로잡는 것은 명령의 해석에 관한 법률의 근본 원리 오해의 법령에 어긋남이 없다.'"
      ]
     },
     "execution_count": 6,
     "metadata": {},
     "output_type": "execute_result"
    }
   ],
   "source": [
    "type4_input[0]"
   ]
  },
  {
   "cell_type": "code",
   "execution_count": 7,
   "id": "fe4c412e-0317-46f1-b908-1996e6c86f65",
   "metadata": {},
   "outputs": [],
   "source": [
    "transcription_without_asterisk_list = []\n",
    "for i in range(len(transcription_without_asterisk_list)):\n",
    "    transcription_without_asterisk_list = transcription_without_asterisk_list.append(len(transcription_without_asterisk))"
   ]
  },
  {
   "cell_type": "code",
   "execution_count": 8,
   "id": "9c381808-9922-4e1a-b20a-7910eb803aec",
   "metadata": {},
   "outputs": [
    {
     "data": {
      "text/plain": [
       "[]"
      ]
     },
     "execution_count": 8,
     "metadata": {},
     "output_type": "execute_result"
    }
   ],
   "source": [
    "transcription_without_asterisk_list"
   ]
  },
  {
   "cell_type": "code",
   "execution_count": 9,
   "id": "032de394-dc32-4afd-98d7-bdbc70705f98",
   "metadata": {},
   "outputs": [],
   "source": [
    "type4_input = pd.DataFrame(type4_input, columns=['transcription'])"
   ]
  },
  {
   "cell_type": "code",
   "execution_count": 18,
   "id": "2ae4718f-b352-4a19-af2d-5f1d40bfd413",
   "metadata": {},
   "outputs": [
    {
     "data": {
      "text/plain": [
       "0        직전의 재판판결 이유에 의하면, 직전의 재판은 이 사건 행위가 공정거래법 제3조의2...\n",
       "1        비록 양 발명의 구성에 서로 다른 점이 있어도 그 기술분야에서 일반적인 경우의 지식...\n",
       "2        ③ 이 사건 프로젝터에 사용된 LCD는 ***** 컴퓨터나 그 연결되는 데 문제가 ...\n",
       "3        구 의장법 제2조 제1호에서 말하는 \"물품\"이란 독립성이 있는 구체적인 유체동산을 ...\n",
       "4        의장법 제2조 제1호에서 말하는 \"물품\"이란 독립성이 있는 구체적인 유체동산을 의미...\n",
       "                               ...                        \n",
       "12286    [3] 특정 재산에 대한 처분 제한 재산의 관공서가 하는 강제경매공고를 함에 있어 ...\n",
       "12287    가. ***의 직무나 임무에 힘쓰는 기간은 국방의무의 본질적 내용에 관한 것이어서 ...\n",
       "12288    직전의 재판은, 검사가 형사재판을 신청하는 일 외 4 주식회사와 대학교 및 산업계와...\n",
       "12289    (가) 민사소송을 일으킨 사람은 민사소송에서 소송을 당한 사람의 보조참가인 1이 민...\n",
       "12290    [2] 지방공사인 의료원이 약제과장으로 근무하던 근로자에 대한 어떤 직무를 담당하는...\n",
       "Name: transcription, Length: 12291, dtype: object"
      ]
     },
     "execution_count": 18,
     "metadata": {},
     "output_type": "execute_result"
    }
   ],
   "source": [
    "type4_input['transcription']"
   ]
  },
  {
   "cell_type": "code",
   "execution_count": 15,
   "id": "3fcd2400-107e-43d4-9cc5-b5c078d785e6",
   "metadata": {},
   "outputs": [],
   "source": [
    "type4_input.to_csv(f'{output_repo}/{output_filename}', index=False, header=False, encoding='utf-8-sig')"
   ]
  },
  {
   "cell_type": "code",
   "execution_count": null,
   "id": "2ab7ec5d-d283-4baa-96b0-13086af16431",
   "metadata": {},
   "outputs": [],
   "source": []
  },
  {
   "cell_type": "code",
   "execution_count": null,
   "id": "e47ab863-2198-4ea3-be47-7eeb118a80df",
   "metadata": {},
   "outputs": [],
   "source": []
  }
 ],
 "metadata": {
  "kernelspec": {
   "display_name": "Python 3",
   "language": "python",
   "name": "python3"
  },
  "language_info": {
   "codemirror_mode": {
    "name": "ipython",
    "version": 3
   },
   "file_extension": ".py",
   "mimetype": "text/x-python",
   "name": "python",
   "nbconvert_exporter": "python",
   "pygments_lexer": "ipython3",
   "version": "3.8.8"
  }
 },
 "nbformat": 4,
 "nbformat_minor": 5
}
