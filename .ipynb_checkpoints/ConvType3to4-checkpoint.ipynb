{
 "cells": [
  {
   "cell_type": "markdown",
   "id": "755ad5bf-9086-46af-8948-e29b9b08fd4b",
   "metadata": {},
   "source": [
    "# Type3output_to_Type4input"
   ]
  },
  {
   "cell_type": "markdown",
   "id": "e8deab83-f83e-4ca7-8607-e550e5a821a8",
   "metadata": {},
   "source": [
    "## 개요"
   ]
  },
  {
   "cell_type": "code",
   "execution_count": 1,
   "id": "f2b077ad-5d91-4018-847f-9b4f78b24984",
   "metadata": {},
   "outputs": [],
   "source": [
    "# type3_output data를 type4_input data로, JSON 형식으로 출력하는 코드 (coded_by_JaeWhee Choi)\n",
    "# 즉, 어려운 단어를 쉬운 키워드로 치환한 문장(type3_output) 중 200자가 넘는 문장만을 뽑아내는 코드 (type4를 위한 input data 생성)"
   ]
  },
  {
   "cell_type": "markdown",
   "id": "2abf90ec-5ae6-4f33-8fd0-47121c3b464f",
   "metadata": {},
   "source": [
    "## 라이브러리"
   ]
  },
  {
   "cell_type": "code",
   "execution_count": 2,
   "id": "cfb721cf-8a12-494d-bf5b-54e55ef965fc",
   "metadata": {},
   "outputs": [],
   "source": [
    "import json\n",
    "import csv"
   ]
  },
  {
   "cell_type": "markdown",
   "id": "5a772d80-ba01-426d-a5f3-1303b4ff9273",
   "metadata": {},
   "source": [
    "## 파일호출"
   ]
  },
  {
   "cell_type": "code",
   "execution_count": 3,
   "id": "839d09a8-2956-4e7e-8f0f-e8dd2762359e",
   "metadata": {},
   "outputs": [],
   "source": [
    "f = open('C:/Users/jayts/OneDrive/바탕 화면/Tictag/json/KAS/type3_output.json', 'r', encoding='UTF8')    # type3를 통해 추출된 json파일 읽어들이기\n",
    "difficult_word = json.load(f)"
   ]
  },
  {
   "cell_type": "markdown",
   "id": "9410d5fd-0134-457b-8247-30f434e2a304",
   "metadata": {},
   "source": [
    "## 변수 초기화"
   ]
  },
  {
   "cell_type": "code",
   "execution_count": 4,
   "id": "c646413d-d2bc-494c-a0e8-deb2ee2e56a1",
   "metadata": {},
   "outputs": [],
   "source": [
    "key_list1 = list(difficult_word.keys())    # 어려운 단어 리스트\n",
    "key_list2 = list(difficult_word[key_list1[0]][0].keys())    # origin, trans, keyword, keywordOccurence\n",
    "\n",
    "# long_sentence 초기화. 행정처분 안에 딕셔너리 여러개.(리스트)\n",
    "long_sentence = {}\n",
    "long_sentence.update(difficult_word)"
   ]
  },
  {
   "cell_type": "markdown",
   "id": "1df6177f-4d4f-43e5-a3bd-569454f2c93d",
   "metadata": {},
   "source": [
    "## trans기준 200자 넘는 문장 컷"
   ]
  },
  {
   "cell_type": "code",
   "execution_count": 5,
   "id": "25606b3d-06b7-4f6b-a9f2-0b015b93245c",
   "metadata": {},
   "outputs": [],
   "source": [
    "for i in range(0, len(key_list1)):    # j, k 순서 유지를 위해 뒤에서부터 삭제\n",
    "    for j in range(len(difficult_word[key_list1[i]])-1, -1, -1):\n",
    "        for k in range(len(key_list2)-1, -1, -1):\n",
    "            if (len(difficult_word[key_list1[i]][j][\"trans\"]))<=200:\n",
    "                del(long_sentence[key_list1[i]][j])"
   ]
  },
  {
   "cell_type": "markdown",
   "id": "96389412-ddab-46e4-8929-4225d677a8cd",
   "metadata": {},
   "source": [
    "## JSON으로 저장"
   ]
  },
  {
   "cell_type": "code",
   "execution_count": 6,
   "id": "4882b251-606c-4edc-a1b5-52e0a665e622",
   "metadata": {},
   "outputs": [],
   "source": [
    "# json 파일로 저장\n",
    "with open('C:/Users/jayts/OneDrive/바탕 화면/Tictag/json/KAS/type4_input.json', 'w', encoding='UTF8') as json_file:\n",
    "    json.dump(long_sentence, json_file, indent=4, ensure_ascii=False,)"
   ]
  }
 ],
 "metadata": {
  "kernelspec": {
   "display_name": "Python 3",
   "language": "python",
   "name": "python3"
  },
  "language_info": {
   "codemirror_mode": {
    "name": "ipython",
    "version": 3
   },
   "file_extension": ".py",
   "mimetype": "text/x-python",
   "name": "python",
   "nbconvert_exporter": "python",
   "pygments_lexer": "ipython3",
   "version": "3.8.8"
  }
 },
 "nbformat": 4,
 "nbformat_minor": 5
}
