{
 "cells": [
  {
   "cell_type": "code",
   "execution_count": 1,
   "id": "7fbdc7df-ad52-41eb-85c2-46be5cd7cd93",
   "metadata": {},
   "outputs": [],
   "source": [
    "import json\n",
    "import csv\n",
    "from tqdm.notebook import tnrange\n",
    "import pandas as pd\n",
    "from collections import Counter"
   ]
  },
  {
   "cell_type": "code",
   "execution_count": 2,
   "id": "9f7d1b33-f1bd-4a0a-8bdc-e59cacfc7ae0",
   "metadata": {},
   "outputs": [],
   "source": [
    "# 해당 경로의 파일리스트 추출\n",
    "def get_filelist(input_repo):\n",
    "    file_list = []\n",
    "    for (dirpath, dirnames, filenames) in walk(input_repo):\n",
    "        file_list.extend(filenames)\n",
    "        break\n",
    "\n",
    "    return file_list"
   ]
  },
  {
   "cell_type": "code",
   "execution_count": 3,
   "id": "484d0bf1-0a8c-4d73-b0d1-02591475605b",
   "metadata": {},
   "outputs": [],
   "source": [
    "# 해당 경로의 csv파일의 경로+파일명 리스트 추출\n",
    "def get_csvlist(input_repo, file_list):\n",
    "    csv_list = []\n",
    "    for i in range(len(file_list)):\n",
    "        filename, file_extension = os.path.splitext(f'{input_repo}/{file_list[i]}')\n",
    "\n",
    "        if file_extension == '.csv':\n",
    "            csv_list.append(filename+file_extension)\n",
    "\n",
    "    return csv_list"
   ]
  },
  {
   "cell_type": "code",
   "execution_count": 4,
   "id": "75f0f20d-0ca3-4ab5-8dd8-15d816f0fe84",
   "metadata": {},
   "outputs": [],
   "source": [
    "def concat_csvfile(csv_list):\n",
    "    result = pd.concat([pd.read_csv(f) for f in csv_list])    # 라인넘버 기준 안합친파일 합치기\n",
    "    result = result.sort_values(by=['lineNumber'])    # 작업물 sort by lineNumber\n",
    "    \n",
    "    return result"
   ]
  },
  {
   "cell_type": "code",
   "execution_count": 5,
   "id": "63150879-28d0-44d4-baf8-0049c1fb04c1",
   "metadata": {},
   "outputs": [],
   "source": [
    "input_repo = '/Users/jaytsol/Desktop/Type23 (2)/누적/accum_concat'\n",
    "ref_repo = '/Users/jaytsol/Desktop/Type23 (2)'\n",
    "output_repo = '/Users/jaytsol/Desktop/Type23 (2)'\n",
    "\n",
    "input_filename = '통합_검수본_태그그대로_211115_1932.csv'\n",
    "ref_filename = 'Type_C_통합.csv'"
   ]
  },
  {
   "cell_type": "code",
   "execution_count": 6,
   "id": "f584a6eb-fde3-4c83-b28f-36150c500405",
   "metadata": {},
   "outputs": [],
   "source": [
    "org = pd.read_csv(f'{input_repo}/{input_filename}')"
   ]
  },
  {
   "cell_type": "code",
   "execution_count": 7,
   "id": "0985eb0f-436e-4765-b237-1197a6e88dd6",
   "metadata": {},
   "outputs": [],
   "source": [
    "ref = pd.read_csv(f'{ref_repo}/{ref_filename}')"
   ]
  },
  {
   "cell_type": "code",
   "execution_count": 8,
   "id": "0a215a67-7179-410d-ac5b-3c8d1ad476d9",
   "metadata": {},
   "outputs": [
    {
     "data": {
      "text/html": [
       "<div>\n",
       "<style scoped>\n",
       "    .dataframe tbody tr th:only-of-type {\n",
       "        vertical-align: middle;\n",
       "    }\n",
       "\n",
       "    .dataframe tbody tr th {\n",
       "        vertical-align: top;\n",
       "    }\n",
       "\n",
       "    .dataframe thead th {\n",
       "        text-align: right;\n",
       "    }\n",
       "</style>\n",
       "<table border=\"1\" class=\"dataframe\">\n",
       "  <thead>\n",
       "    <tr style=\"text-align: right;\">\n",
       "      <th></th>\n",
       "      <th>lineNumber</th>\n",
       "      <th>originalText</th>\n",
       "      <th>transcription</th>\n",
       "      <th>name</th>\n",
       "    </tr>\n",
       "  </thead>\n",
       "  <tbody>\n",
       "    <tr>\n",
       "      <th>0</th>\n",
       "      <td>1</td>\n",
       "      <td>&lt;&lt;&lt;직전의 재판&lt;=원심&gt;판결 이유에&gt;&gt;&gt; 의하면, &lt;&lt;&lt;직전의 재판&lt;=원심&gt;은 이...</td>\n",
       "      <td>&lt;&lt;&lt;직전의 재판&lt;=원심&gt;판결 이유에&gt;&gt;&gt; 의하면, &lt;&lt;&lt;직전의 재판&lt;=원심&gt;은 이...</td>\n",
       "      <td>NaN</td>\n",
       "    </tr>\n",
       "    <tr>\n",
       "      <th>1</th>\n",
       "      <td>2</td>\n",
       "      <td>비록 양 발명의 구성에 &lt;&lt;&lt;서로 다름&lt;=상이&gt;점이 있어도&gt;&gt;&gt; 그 기술분야에서 &lt;...</td>\n",
       "      <td>비록 양 발명의 구성에 &lt;&lt;&lt;서로 다른&lt;=상이&gt; 점이 있어도&gt;&gt;&gt; 그 기술분야에서 ...</td>\n",
       "      <td>NaN</td>\n",
       "    </tr>\n",
       "    <tr>\n",
       "      <th>2</th>\n",
       "      <td>3</td>\n",
       "      <td>[2] 등록의장의 대상물품인 \"스위치\"가 독립거래의 대상성 및 &lt;&lt;&lt;연결되는 데 문...</td>\n",
       "      <td>[2] 등록의장의 대상물품인 \"스위치\"가 독립거래의 대상성 및 &lt;&lt;&lt;연결되는 데 문...</td>\n",
       "      <td>NaN</td>\n",
       "    </tr>\n",
       "    <tr>\n",
       "      <th>3</th>\n",
       "      <td>4</td>\n",
       "      <td>③ 이 사건 프로젝터에 사용된 LCD는 ***** 컴퓨터나 그 &lt;&lt;&lt;연결되는 데 문...</td>\n",
       "      <td>③ 이 사건 프로젝터에 사용된 LCD는 ***** 컴퓨터나 그 &lt;&lt;&lt;연결되는 데 문...</td>\n",
       "      <td>NaN</td>\n",
       "    </tr>\n",
       "    <tr>\n",
       "      <th>4</th>\n",
       "      <td>5</td>\n",
       "      <td>구 의장법 제2조 제1호에서 말하는 \"물품\"이란 독립성이 있는 구체적인 유체동산을 ...</td>\n",
       "      <td>구 의장법 제2조 제1호에서 말하는 \"물품\"이란 독립성이 있는 구체적인 유체동산을 ...</td>\n",
       "      <td>NaN</td>\n",
       "    </tr>\n",
       "    <tr>\n",
       "      <th>...</th>\n",
       "      <td>...</td>\n",
       "      <td>...</td>\n",
       "      <td>...</td>\n",
       "      <td>...</td>\n",
       "    </tr>\n",
       "    <tr>\n",
       "      <th>76865</th>\n",
       "      <td>76898</td>\n",
       "      <td>구 대통령선거법 제34조는 '선거운동'고 규정하여 사전선거운동을 금지하고 이를 위반...</td>\n",
       "      <td>구 대통령선거법 제34조는 '선거운동'고 규정하여 사전선거운동을 금지하고 이를 위반...</td>\n",
       "      <td>NaN</td>\n",
       "    </tr>\n",
       "    <tr>\n",
       "      <th>76866</th>\n",
       "      <td>76899</td>\n",
       "      <td>****.**.**시행된 **** 선거구의 제16대 국회의원 선거에 &lt;&lt;민사소송을 ...</td>\n",
       "      <td>****.**.**시행된 **** 선거구의 제16대 국회의원 선거에 &lt;&lt;민사소송을 ...</td>\n",
       "      <td>NaN</td>\n",
       "    </tr>\n",
       "    <tr>\n",
       "      <th>76867</th>\n",
       "      <td>76900</td>\n",
       "      <td>&lt;&lt;직전의 재판&lt;=원심&gt;판결 이유에&gt;&gt; 의하면, &lt;&lt;직전의 재판&lt;=원심&gt;은 그&gt;&gt; ...</td>\n",
       "      <td>&lt;&lt;직전의 재판&lt;=원심&gt;판결 이유에&gt;&gt; 의하면, &lt;&lt;직전의 재판&lt;=원심&gt;은 그&gt;&gt; ...</td>\n",
       "      <td>NaN</td>\n",
       "    </tr>\n",
       "    <tr>\n",
       "      <th>76868</th>\n",
       "      <td>76901</td>\n",
       "      <td>헌법재판소가 선거운동인지를 판단하는 중요한 기준은 행위의 ‘특정후보자의 당선 내지 ...</td>\n",
       "      <td>헌법재판소가 선거운동인지를 판단하는 중요한 기준은 행위의 ‘특정후보자의 당선 내지 ...</td>\n",
       "      <td>NaN</td>\n",
       "    </tr>\n",
       "    <tr>\n",
       "      <th>76869</th>\n",
       "      <td>76902</td>\n",
       "      <td>다만, 선거에 관한 단순한 의견의 &lt;&lt;의견이나 내용을 드러내어 전개함&lt;=개진&gt;·의사...</td>\n",
       "      <td>다만, 선거에 관한 단순한 의견의 &lt;&lt;의견이나 내용을 드러내어 전개함&lt;=개진&gt;·의사...</td>\n",
       "      <td>NaN</td>\n",
       "    </tr>\n",
       "  </tbody>\n",
       "</table>\n",
       "<p>76870 rows × 4 columns</p>\n",
       "</div>"
      ],
      "text/plain": [
       "       lineNumber                                       originalText  \\\n",
       "0               1  <<<직전의 재판<=원심>판결 이유에>>> 의하면, <<<직전의 재판<=원심>은 이...   \n",
       "1               2  비록 양 발명의 구성에 <<<서로 다름<=상이>점이 있어도>>> 그 기술분야에서 <...   \n",
       "2               3  [2] 등록의장의 대상물품인 \"스위치\"가 독립거래의 대상성 및 <<<연결되는 데 문...   \n",
       "3               4  ③ 이 사건 프로젝터에 사용된 LCD는 ***** 컴퓨터나 그 <<<연결되는 데 문...   \n",
       "4               5  구 의장법 제2조 제1호에서 말하는 \"물품\"이란 독립성이 있는 구체적인 유체동산을 ...   \n",
       "...           ...                                                ...   \n",
       "76865       76898  구 대통령선거법 제34조는 '선거운동'고 규정하여 사전선거운동을 금지하고 이를 위반...   \n",
       "76866       76899  ****.**.**시행된 **** 선거구의 제16대 국회의원 선거에 <<민사소송을 ...   \n",
       "76867       76900  <<직전의 재판<=원심>판결 이유에>> 의하면, <<직전의 재판<=원심>은 그>> ...   \n",
       "76868       76901  헌법재판소가 선거운동인지를 판단하는 중요한 기준은 행위의 ‘특정후보자의 당선 내지 ...   \n",
       "76869       76902  다만, 선거에 관한 단순한 의견의 <<의견이나 내용을 드러내어 전개함<=개진>·의사...   \n",
       "\n",
       "                                           transcription name  \n",
       "0      <<<직전의 재판<=원심>판결 이유에>>> 의하면, <<<직전의 재판<=원심>은 이...  NaN  \n",
       "1      비록 양 발명의 구성에 <<<서로 다른<=상이> 점이 있어도>>> 그 기술분야에서 ...  NaN  \n",
       "2      [2] 등록의장의 대상물품인 \"스위치\"가 독립거래의 대상성 및 <<<연결되는 데 문...  NaN  \n",
       "3      ③ 이 사건 프로젝터에 사용된 LCD는 ***** 컴퓨터나 그 <<<연결되는 데 문...  NaN  \n",
       "4      구 의장법 제2조 제1호에서 말하는 \"물품\"이란 독립성이 있는 구체적인 유체동산을 ...  NaN  \n",
       "...                                                  ...  ...  \n",
       "76865  구 대통령선거법 제34조는 '선거운동'고 규정하여 사전선거운동을 금지하고 이를 위반...  NaN  \n",
       "76866  ****.**.**시행된 **** 선거구의 제16대 국회의원 선거에 <<민사소송을 ...  NaN  \n",
       "76867  <<직전의 재판<=원심>판결 이유에>> 의하면, <<직전의 재판<=원심>은 그>> ...  NaN  \n",
       "76868  헌법재판소가 선거운동인지를 판단하는 중요한 기준은 행위의 ‘특정후보자의 당선 내지 ...  NaN  \n",
       "76869  다만, 선거에 관한 단순한 의견의 <<의견이나 내용을 드러내어 전개함<=개진>·의사...  NaN  \n",
       "\n",
       "[76870 rows x 4 columns]"
      ]
     },
     "execution_count": 8,
     "metadata": {},
     "output_type": "execute_result"
    }
   ],
   "source": [
    "org"
   ]
  },
  {
   "cell_type": "code",
   "execution_count": 9,
   "id": "709c4bdf-824f-4959-992f-75375825a0e3",
   "metadata": {},
   "outputs": [
    {
     "data": {
      "text/html": [
       "<div>\n",
       "<style scoped>\n",
       "    .dataframe tbody tr th:only-of-type {\n",
       "        vertical-align: middle;\n",
       "    }\n",
       "\n",
       "    .dataframe tbody tr th {\n",
       "        vertical-align: top;\n",
       "    }\n",
       "\n",
       "    .dataframe thead th {\n",
       "        text-align: right;\n",
       "    }\n",
       "</style>\n",
       "<table border=\"1\" class=\"dataframe\">\n",
       "  <thead>\n",
       "    <tr style=\"text-align: right;\">\n",
       "      <th></th>\n",
       "      <th>lineNumber</th>\n",
       "      <th>originalText</th>\n",
       "      <th>transcription</th>\n",
       "    </tr>\n",
       "  </thead>\n",
       "  <tbody>\n",
       "    <tr>\n",
       "      <th>0</th>\n",
       "      <td>1</td>\n",
       "      <td>&lt;&lt;직전의 재판&lt;=원심&gt;판결 이유에&gt;&gt; 의하면, &lt;&lt;직전의 재판&lt;=원심&gt;은 이&gt;&gt; ...</td>\n",
       "      <td>&lt;&lt;직전의 재판&lt;=원심&gt;판결 이유에&gt;&gt; 의하면, &lt;&lt;직전의 재판&lt;=원심&gt;은 이&gt;&gt; ...</td>\n",
       "    </tr>\n",
       "    <tr>\n",
       "      <th>1</th>\n",
       "      <td>2</td>\n",
       "      <td>비록 양 발명의 구성에 &lt;&lt;서로 다른&lt;=상이&gt; 점이 있어도&gt;&gt; 그 기술분야에서 &lt;&lt;...</td>\n",
       "      <td>비록 양 발명의 구성에 &lt;&lt;서로 다른&lt;=상이&gt; 점이 있어도&gt;&gt; 그 기술분야에서 &lt;&lt;...</td>\n",
       "    </tr>\n",
       "    <tr>\n",
       "      <th>2</th>\n",
       "      <td>3</td>\n",
       "      <td>[2] 등록의장의 대상물품인 \"스위치\"가 독립거래의 대상성 및 &lt;&lt;연결되는 데 문제...</td>\n",
       "      <td>[2] 등록의장의 대상물품인 \"스위치\"가 독립거래의 대상성 및 &lt;&lt;연결되는 데 문제...</td>\n",
       "    </tr>\n",
       "    <tr>\n",
       "      <th>3</th>\n",
       "      <td>4</td>\n",
       "      <td>③ 이 사건 프로젝터에 사용된 LCD는 ***** 컴퓨터나 그 &lt;&lt;연결되는 데 문제...</td>\n",
       "      <td>③ 이 사건 프로젝터에 사용된 LCD는 ***** 컴퓨터나 그 &lt;&lt;연결되는 데 문제...</td>\n",
       "    </tr>\n",
       "    <tr>\n",
       "      <th>4</th>\n",
       "      <td>5</td>\n",
       "      <td>구 의장법 제2조 제1호에서 말하는 \"물품\"이란 독립성이 있는 구체적인 유체동산을 ...</td>\n",
       "      <td>구 의장법 제2조 제1호에서 말하는 \"물품\"이란 독립성이 있는 구체적인 유체동산을 ...</td>\n",
       "    </tr>\n",
       "    <tr>\n",
       "      <th>...</th>\n",
       "      <td>...</td>\n",
       "      <td>...</td>\n",
       "      <td>...</td>\n",
       "    </tr>\n",
       "    <tr>\n",
       "      <th>57090</th>\n",
       "      <td>75974</td>\n",
       "      <td>&lt;&lt;&lt;직전의 재판&lt;=원심&gt;판결은 민사소송을 일으킨 사람&lt;=원고&gt;가&gt;&gt;&gt; 당초 이 사...</td>\n",
       "      <td>&lt;&lt;&lt;직전의 재판&lt;=원심&gt;판결은 민사소송을 일으킨 사람&lt;=원고&gt;이&gt;&gt;&gt; 당초 이 사...</td>\n",
       "    </tr>\n",
       "    <tr>\n",
       "      <th>57091</th>\n",
       "      <td>75980</td>\n",
       "      <td>가. 건축허가 변경신고 및 그 &lt;&lt;&lt;서류를 받아서 처리하는 것&lt;=수리&gt;행위가 건축법...</td>\n",
       "      <td>가. 건축허가 변경신고 및 그 &lt;&lt;&lt;서류를 받아서 처리하는&lt;=수리&gt;행위가 건축법을&gt;...</td>\n",
       "    </tr>\n",
       "    <tr>\n",
       "      <th>57092</th>\n",
       "      <td>75985</td>\n",
       "      <td>거기에 &lt;&lt;&lt;원심 판결에 불복해 재심사 요청&lt;=상고&gt;이유에서 주장하는&gt;&gt;&gt; 바와 같...</td>\n",
       "      <td>거기에 &lt;&lt;&lt;원심 판결에 불복해 재심사 요청&lt;=상고&gt;이유에서 주장하는&gt;&gt;&gt; 바와 같...</td>\n",
       "    </tr>\n",
       "    <tr>\n",
       "      <th>57093</th>\n",
       "      <td>75990</td>\n",
       "      <td>&lt;&lt;&lt;직전의 재판&lt;=원심&gt;판결에 의하면,&gt;&gt;&gt; &lt;&lt;&lt;직전의 재판&lt;=원심&gt;은 형사소송...</td>\n",
       "      <td>&lt;&lt;&lt;직전의 재판&lt;=원심&gt;판결에 의하면,&gt;&gt;&gt; &lt;&lt;&lt;직전의 재판&lt;=원심&gt;은 형사소송...</td>\n",
       "    </tr>\n",
       "    <tr>\n",
       "      <th>57094</th>\n",
       "      <td>75991</td>\n",
       "      <td>이에 피해자의 동생은 &lt;&lt;&lt;형사소송에서 검사에의해 기소당한 사람&lt;=피고인&gt;의 뜻이&gt;...</td>\n",
       "      <td>이에 피해자의 동생은 &lt;&lt;&lt;형사소송에서 검사에의해 기소당한 사람&lt;=피고인&gt;의 뜻이&gt;...</td>\n",
       "    </tr>\n",
       "  </tbody>\n",
       "</table>\n",
       "<p>57095 rows × 3 columns</p>\n",
       "</div>"
      ],
      "text/plain": [
       "       lineNumber                                       originalText  \\\n",
       "0               1  <<직전의 재판<=원심>판결 이유에>> 의하면, <<직전의 재판<=원심>은 이>> ...   \n",
       "1               2  비록 양 발명의 구성에 <<서로 다른<=상이> 점이 있어도>> 그 기술분야에서 <<...   \n",
       "2               3  [2] 등록의장의 대상물품인 \"스위치\"가 독립거래의 대상성 및 <<연결되는 데 문제...   \n",
       "3               4  ③ 이 사건 프로젝터에 사용된 LCD는 ***** 컴퓨터나 그 <<연결되는 데 문제...   \n",
       "4               5  구 의장법 제2조 제1호에서 말하는 \"물품\"이란 독립성이 있는 구체적인 유체동산을 ...   \n",
       "...           ...                                                ...   \n",
       "57090       75974  <<<직전의 재판<=원심>판결은 민사소송을 일으킨 사람<=원고>가>>> 당초 이 사...   \n",
       "57091       75980  가. 건축허가 변경신고 및 그 <<<서류를 받아서 처리하는 것<=수리>행위가 건축법...   \n",
       "57092       75985  거기에 <<<원심 판결에 불복해 재심사 요청<=상고>이유에서 주장하는>>> 바와 같...   \n",
       "57093       75990  <<<직전의 재판<=원심>판결에 의하면,>>> <<<직전의 재판<=원심>은 형사소송...   \n",
       "57094       75991  이에 피해자의 동생은 <<<형사소송에서 검사에의해 기소당한 사람<=피고인>의 뜻이>...   \n",
       "\n",
       "                                           transcription  \n",
       "0      <<직전의 재판<=원심>판결 이유에>> 의하면, <<직전의 재판<=원심>은 이>> ...  \n",
       "1      비록 양 발명의 구성에 <<서로 다른<=상이> 점이 있어도>> 그 기술분야에서 <<...  \n",
       "2      [2] 등록의장의 대상물품인 \"스위치\"가 독립거래의 대상성 및 <<연결되는 데 문제...  \n",
       "3      ③ 이 사건 프로젝터에 사용된 LCD는 ***** 컴퓨터나 그 <<연결되는 데 문제...  \n",
       "4      구 의장법 제2조 제1호에서 말하는 \"물품\"이란 독립성이 있는 구체적인 유체동산을 ...  \n",
       "...                                                  ...  \n",
       "57090  <<<직전의 재판<=원심>판결은 민사소송을 일으킨 사람<=원고>이>>> 당초 이 사...  \n",
       "57091  가. 건축허가 변경신고 및 그 <<<서류를 받아서 처리하는<=수리>행위가 건축법을>...  \n",
       "57092  거기에 <<<원심 판결에 불복해 재심사 요청<=상고>이유에서 주장하는>>> 바와 같...  \n",
       "57093  <<<직전의 재판<=원심>판결에 의하면,>>> <<<직전의 재판<=원심>은 형사소송...  \n",
       "57094  이에 피해자의 동생은 <<<형사소송에서 검사에의해 기소당한 사람<=피고인>의 뜻이>...  \n",
       "\n",
       "[57095 rows x 3 columns]"
      ]
     },
     "execution_count": 9,
     "metadata": {},
     "output_type": "execute_result"
    }
   ],
   "source": [
    "ref"
   ]
  },
  {
   "cell_type": "code",
   "execution_count": 10,
   "id": "deb30a39-eeba-4e9c-bd97-94bbf697c4ee",
   "metadata": {},
   "outputs": [],
   "source": [
    "org_lineNumber_list = list(org['lineNumber'])\n",
    "ref_lineNumber_list = list(ref['lineNumber'])"
   ]
  },
  {
   "cell_type": "code",
   "execution_count": 11,
   "id": "0e5efeb9-217f-4aa4-a179-707646b40ad9",
   "metadata": {},
   "outputs": [
    {
     "data": {
      "text/plain": [
       "76870"
      ]
     },
     "execution_count": 11,
     "metadata": {},
     "output_type": "execute_result"
    }
   ],
   "source": [
    "len(org_lineNumber_list)"
   ]
  },
  {
   "cell_type": "code",
   "execution_count": 12,
   "id": "f5faa8cb-5e34-4c34-bfd3-54e92ee28829",
   "metadata": {},
   "outputs": [
    {
     "data": {
      "text/plain": [
       "57095"
      ]
     },
     "execution_count": 12,
     "metadata": {},
     "output_type": "execute_result"
    }
   ],
   "source": [
    "len(ref_lineNumber_list)"
   ]
  },
  {
   "cell_type": "code",
   "execution_count": 37,
   "id": "3b0707a3-0034-4c9a-80d4-ed5e568c78c5",
   "metadata": {},
   "outputs": [],
   "source": [
    "a_sub_b = list(set(org_lineNumber_list)-set(ref_lineNumber_list))"
   ]
  },
  {
   "cell_type": "code",
   "execution_count": 38,
   "id": "37318824-10a8-4df3-96f7-8ea34f6924ae",
   "metadata": {},
   "outputs": [
    {
     "data": {
      "text/plain": [
       "20378"
      ]
     },
     "execution_count": 38,
     "metadata": {},
     "output_type": "execute_result"
    }
   ],
   "source": [
    "len(a_sub_b)"
   ]
  },
  {
   "cell_type": "code",
   "execution_count": null,
   "id": "cbfc1438-f5cb-4b58-a134-8d7c690d1b1b",
   "metadata": {},
   "outputs": [
    {
     "data": {
      "application/vnd.jupyter.widget-view+json": {
       "model_id": "ca0762540aad465ebe9459b378ff59cd",
       "version_major": 2,
       "version_minor": 0
      },
      "text/plain": [
       "  0%|          | 0/20378 [00:00<?, ?it/s]"
      ]
     },
     "metadata": {},
     "output_type": "display_data"
    }
   ],
   "source": [
    "result = pd.DataFrame(columns=['lineNumber', 'originalText', 'transcription', 'check'])\n",
    "for i in tnrange(len(a_sub_b)):\n",
    "    lineNumber = a_sub_b[i]\n",
    "    for j in range(len(org_lineNumber_list)):\n",
    "        if org_lineNumber_list[j] == a_sub_b[i]:\n",
    "            originalText = org['originalText'][j]\n",
    "            transcription = org['transcription'][j]\n",
    "            result.append({'lineNumber':org_lineNumber_list[i], 'originalText':originalText, 'transcription':transcription, 'check':None}, ignore_index=True)\n",
    "            \n",
    "            break"
   ]
  },
  {
   "cell_type": "code",
   "execution_count": null,
   "id": "4902360b-430e-4b73-979b-87cc774629ad",
   "metadata": {},
   "outputs": [],
   "source": [
    "result"
   ]
  },
  {
   "cell_type": "code",
   "execution_count": null,
   "id": "f9e324e7-8c54-4574-91b9-85cf9efbb067",
   "metadata": {},
   "outputs": [],
   "source": []
  }
 ],
 "metadata": {
  "kernelspec": {
   "display_name": "Python 3",
   "language": "python",
   "name": "python3"
  },
  "language_info": {
   "codemirror_mode": {
    "name": "ipython",
    "version": 3
   },
   "file_extension": ".py",
   "mimetype": "text/x-python",
   "name": "python",
   "nbconvert_exporter": "python",
   "pygments_lexer": "ipython3",
   "version": "3.8.8"
  }
 },
 "nbformat": 4,
 "nbformat_minor": 5
}
