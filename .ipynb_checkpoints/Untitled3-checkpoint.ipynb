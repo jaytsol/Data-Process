{
 "cells": [
  {
   "cell_type": "code",
   "execution_count": 1,
   "id": "5a0cfa02-766b-47cb-8e5c-e946e09b1ad1",
   "metadata": {
    "tags": []
   },
   "outputs": [],
   "source": [
    "import csv\n",
    "import pandas as pd\n",
    "from tqdm.notebook import tnrange\n",
    "import os\n",
    "from os import walk\n",
    "import datetime\n",
    "import re"
   ]
  },
  {
   "cell_type": "code",
   "execution_count": 9,
   "id": "d169bffd-fdad-4d45-ab44-8de758a0ce9d",
   "metadata": {},
   "outputs": [],
   "source": [
    "input_repo = '/Users/jaytsol/Desktop/Type23 (2)'\n",
    "output_repo = '/Users/jaytsol/Desktop/Type23 (2)'\n",
    "\n",
    "input_filename = 'Type_C_통합.csv'"
   ]
  },
  {
   "cell_type": "code",
   "execution_count": 3,
   "id": "82e4ef44-0a49-4257-a76e-d6722f820b51",
   "metadata": {},
   "outputs": [],
   "source": [
    "org = pd.read_csv(f'{input_repo}/{input_filename}')"
   ]
  },
  {
   "cell_type": "code",
   "execution_count": 4,
   "id": "7637cd3c-13cc-470c-b615-1ef62d18a33e",
   "metadata": {},
   "outputs": [],
   "source": [
    "result = org.sort_values(by=['lineNumber'])    # 작업물 sort by lineNumber"
   ]
  },
  {
   "cell_type": "code",
   "execution_count": 5,
   "id": "307eb7e7-7369-4c9b-9ee8-9dbddbe04efb",
   "metadata": {},
   "outputs": [
    {
     "data": {
      "text/html": [
       "<div>\n",
       "<style scoped>\n",
       "    .dataframe tbody tr th:only-of-type {\n",
       "        vertical-align: middle;\n",
       "    }\n",
       "\n",
       "    .dataframe tbody tr th {\n",
       "        vertical-align: top;\n",
       "    }\n",
       "\n",
       "    .dataframe thead th {\n",
       "        text-align: right;\n",
       "    }\n",
       "</style>\n",
       "<table border=\"1\" class=\"dataframe\">\n",
       "  <thead>\n",
       "    <tr style=\"text-align: right;\">\n",
       "      <th></th>\n",
       "      <th>lineNumber</th>\n",
       "      <th>originalText</th>\n",
       "      <th>transcription</th>\n",
       "    </tr>\n",
       "  </thead>\n",
       "  <tbody>\n",
       "    <tr>\n",
       "      <th>0</th>\n",
       "      <td>1</td>\n",
       "      <td>&lt;&lt;직전의 재판&lt;=원심&gt;판결 이유에&gt;&gt; 의하면, &lt;&lt;직전의 재판&lt;=원심&gt;은 이&gt;&gt; ...</td>\n",
       "      <td>&lt;&lt;직전의 재판&lt;=원심&gt;판결 이유에&gt;&gt; 의하면, &lt;&lt;직전의 재판&lt;=원심&gt;은 이&gt;&gt; ...</td>\n",
       "    </tr>\n",
       "    <tr>\n",
       "      <th>1</th>\n",
       "      <td>2</td>\n",
       "      <td>비록 양 발명의 구성에 &lt;&lt;서로 다른&lt;=상이&gt; 점이 있어도&gt;&gt; 그 기술분야에서 &lt;&lt;...</td>\n",
       "      <td>비록 양 발명의 구성에 &lt;&lt;서로 다른&lt;=상이&gt; 점이 있어도&gt;&gt; 그 기술분야에서 &lt;&lt;...</td>\n",
       "    </tr>\n",
       "    <tr>\n",
       "      <th>2</th>\n",
       "      <td>3</td>\n",
       "      <td>[2] 등록의장의 대상물품인 \"스위치\"가 독립거래의 대상성 및 &lt;&lt;연결되는 데 문제...</td>\n",
       "      <td>[2] 등록의장의 대상물품인 \"스위치\"가 독립거래의 대상성 및 &lt;&lt;연결되는 데 문제...</td>\n",
       "    </tr>\n",
       "    <tr>\n",
       "      <th>3</th>\n",
       "      <td>4</td>\n",
       "      <td>③ 이 사건 프로젝터에 사용된 LCD는 ***** 컴퓨터나 그 &lt;&lt;연결되는 데 문제...</td>\n",
       "      <td>③ 이 사건 프로젝터에 사용된 LCD는 ***** 컴퓨터나 그 &lt;&lt;연결되는 데 문제...</td>\n",
       "    </tr>\n",
       "    <tr>\n",
       "      <th>4</th>\n",
       "      <td>5</td>\n",
       "      <td>구 의장법 제2조 제1호에서 말하는 \"물품\"이란 독립성이 있는 구체적인 유체동산을 ...</td>\n",
       "      <td>구 의장법 제2조 제1호에서 말하는 \"물품\"이란 독립성이 있는 구체적인 유체동산을 ...</td>\n",
       "    </tr>\n",
       "    <tr>\n",
       "      <th>...</th>\n",
       "      <td>...</td>\n",
       "      <td>...</td>\n",
       "      <td>...</td>\n",
       "    </tr>\n",
       "    <tr>\n",
       "      <th>57094</th>\n",
       "      <td>75991</td>\n",
       "      <td>이에 피해자의 동생은 &lt;&lt;&lt;형사소송에서 검사에의해 기소당한 사람&lt;=피고인&gt;의 뜻이&gt;...</td>\n",
       "      <td>이에 피해자의 동생은 &lt;&lt;&lt;형사소송에서 검사에의해 기소당한 사람&lt;=피고인&gt;의 뜻이&gt;...</td>\n",
       "    </tr>\n",
       "    <tr>\n",
       "      <th>28733</th>\n",
       "      <td>75992</td>\n",
       "      <td>[2] 자동차 판매대리점주 甲이 자신의 대리점에서 카마스터(car master, 자...</td>\n",
       "      <td>[2] 자동차 판매대리점주 甲이 자신의 대리점에서 카마스터(car master, 자...</td>\n",
       "    </tr>\n",
       "    <tr>\n",
       "      <th>28734</th>\n",
       "      <td>75993</td>\n",
       "      <td>［2］ 간통죄의 고소인과 그 배우자인 &lt;&lt;민사소송에서 소송을 당한 사람&lt;=피고&gt;소인...</td>\n",
       "      <td>［2］ 간통죄의 고소인과 그 배우자인 &lt;&lt;민사소송에서 소송을 당한 사람&lt;=피고&gt;소인...</td>\n",
       "    </tr>\n",
       "    <tr>\n",
       "      <th>28735</th>\n",
       "      <td>75994</td>\n",
       "      <td>&lt;&lt;직전의 재판&lt;=원심&gt;은, 민사소송을 일으킨 사람&lt;=원고&gt;이&gt;&gt; &lt;&lt;민사소송에서 ...</td>\n",
       "      <td>&lt;&lt;직전의 재판&lt;=원심&gt;은, 민사소송을 일으킨 사람&lt;=원고&gt;이&gt;&gt; &lt;&lt;민사소송에서 ...</td>\n",
       "    </tr>\n",
       "    <tr>\n",
       "      <th>28736</th>\n",
       "      <td>75995</td>\n",
       "      <td>&lt;&lt;민사소송을 일으킨 사람&lt;=원고&gt;은 위&gt;&gt; 도시설계조정심의를 받은 다음날인 ***...</td>\n",
       "      <td>&lt;&lt;민사소송을 일으킨 사람&lt;=원고&gt;은 위&gt;&gt; 도시설계조정심의를 받은 다음날인 ***...</td>\n",
       "    </tr>\n",
       "  </tbody>\n",
       "</table>\n",
       "<p>57095 rows × 3 columns</p>\n",
       "</div>"
      ],
      "text/plain": [
       "       lineNumber                                       originalText  \\\n",
       "0               1  <<직전의 재판<=원심>판결 이유에>> 의하면, <<직전의 재판<=원심>은 이>> ...   \n",
       "1               2  비록 양 발명의 구성에 <<서로 다른<=상이> 점이 있어도>> 그 기술분야에서 <<...   \n",
       "2               3  [2] 등록의장의 대상물품인 \"스위치\"가 독립거래의 대상성 및 <<연결되는 데 문제...   \n",
       "3               4  ③ 이 사건 프로젝터에 사용된 LCD는 ***** 컴퓨터나 그 <<연결되는 데 문제...   \n",
       "4               5  구 의장법 제2조 제1호에서 말하는 \"물품\"이란 독립성이 있는 구체적인 유체동산을 ...   \n",
       "...           ...                                                ...   \n",
       "57094       75991  이에 피해자의 동생은 <<<형사소송에서 검사에의해 기소당한 사람<=피고인>의 뜻이>...   \n",
       "28733       75992  [2] 자동차 판매대리점주 甲이 자신의 대리점에서 카마스터(car master, 자...   \n",
       "28734       75993  ［2］ 간통죄의 고소인과 그 배우자인 <<민사소송에서 소송을 당한 사람<=피고>소인...   \n",
       "28735       75994  <<직전의 재판<=원심>은, 민사소송을 일으킨 사람<=원고>이>> <<민사소송에서 ...   \n",
       "28736       75995  <<민사소송을 일으킨 사람<=원고>은 위>> 도시설계조정심의를 받은 다음날인 ***...   \n",
       "\n",
       "                                           transcription  \n",
       "0      <<직전의 재판<=원심>판결 이유에>> 의하면, <<직전의 재판<=원심>은 이>> ...  \n",
       "1      비록 양 발명의 구성에 <<서로 다른<=상이> 점이 있어도>> 그 기술분야에서 <<...  \n",
       "2      [2] 등록의장의 대상물품인 \"스위치\"가 독립거래의 대상성 및 <<연결되는 데 문제...  \n",
       "3      ③ 이 사건 프로젝터에 사용된 LCD는 ***** 컴퓨터나 그 <<연결되는 데 문제...  \n",
       "4      구 의장법 제2조 제1호에서 말하는 \"물품\"이란 독립성이 있는 구체적인 유체동산을 ...  \n",
       "...                                                  ...  \n",
       "57094  이에 피해자의 동생은 <<<형사소송에서 검사에의해 기소당한 사람<=피고인>의 뜻이>...  \n",
       "28733  [2] 자동차 판매대리점주 甲이 자신의 대리점에서 카마스터(car master, 자...  \n",
       "28734  ［2］ 간통죄의 고소인과 그 배우자인 <<민사소송에서 소송을 당한 사람<=피고>소인...  \n",
       "28735  <<직전의 재판<=원심>은, 민사소송을 일으킨 사람<=원고>이>> <<민사소송에서 ...  \n",
       "28736  <<민사소송을 일으킨 사람<=원고>은 위>> 도시설계조정심의를 받은 다음날인 ***...  \n",
       "\n",
       "[57095 rows x 3 columns]"
      ]
     },
     "execution_count": 5,
     "metadata": {},
     "output_type": "execute_result"
    }
   ],
   "source": [
    "result"
   ]
  },
  {
   "cell_type": "code",
   "execution_count": 7,
   "id": "25f680bf-ab5f-4557-afab-6766a281dccf",
   "metadata": {},
   "outputs": [],
   "source": [
    "# csv형태로 저장\n",
    "def save_as_csv(output_repo, result):\n",
    "    year = str(datetime.datetime.now().year)[2:]\n",
    "    month = str(datetime.datetime.now().month)\n",
    "    day = str(datetime.datetime.now().day)\n",
    "    hour = str(datetime.datetime.now().hour)\n",
    "    minute = str(datetime.datetime.now().minute)\n",
    "\n",
    "    print(f'{output_repo}의 경로에 Type_C_통합_sorted_{year}{month}{day}_{hour}{minute}.csv의 이름으로 파일 생성이 완료되었습니다.')\n",
    "\n",
    "    result.to_csv(f'{output_repo}/Type_C_통합_sorted_{year}{month}{day}_{hour}{minute}.csv', index=False, encoding='utf-8-sig')"
   ]
  },
  {
   "cell_type": "code",
   "execution_count": 8,
   "id": "bf117e0c-0e4d-4d47-a0da-c4b619813e23",
   "metadata": {},
   "outputs": [
    {
     "name": "stdout",
     "output_type": "stream",
     "text": [
      "/Users/jaytsol/Desktop/Type23 (2)/누적/의 경로에 Type_C_통합_sorted_211117_216.csv의 이름으로 파일 생성이 완료되었습니다.\n"
     ]
    }
   ],
   "source": [
    "save_as_csv(output_repo, result)"
   ]
  },
  {
   "cell_type": "code",
   "execution_count": null,
   "id": "2844fe9c-f345-467d-9b17-51690fe874ae",
   "metadata": {},
   "outputs": [],
   "source": []
  }
 ],
 "metadata": {
  "kernelspec": {
   "display_name": "Python 3",
   "language": "python",
   "name": "python3"
  },
  "language_info": {
   "codemirror_mode": {
    "name": "ipython",
    "version": 3
   },
   "file_extension": ".py",
   "mimetype": "text/x-python",
   "name": "python",
   "nbconvert_exporter": "python",
   "pygments_lexer": "ipython3",
   "version": "3.8.8"
  }
 },
 "nbformat": 4,
 "nbformat_minor": 5
}
