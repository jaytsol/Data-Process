{
 "cells": [
  {
   "cell_type": "markdown",
   "id": "fa55bf07-9905-4431-bbfc-18695ed8d560",
   "metadata": {},
   "source": [
    "len(key_list) : 2862"
   ]
  },
  {
   "cell_type": "code",
   "execution_count": 1,
   "id": "6bb9308b-3e72-41d3-8d8c-f09dff1e9c18",
   "metadata": {},
   "outputs": [],
   "source": [
    "# 키워드와 문장으로 이루어진 데이터를 sentence, word, wordOccurence, number로 펼침"
   ]
  },
  {
   "cell_type": "code",
   "execution_count": 1,
   "id": "782fd0f3-ce0c-4d80-9b82-ceec963e07ce",
   "metadata": {},
   "outputs": [],
   "source": [
    "import json\n",
    "from tqdm import tnrange, tqdm_notebook"
   ]
  },
  {
   "cell_type": "code",
   "execution_count": 2,
   "id": "e3683a31-11d9-4705-b00b-3ad6eaeb8bff",
   "metadata": {},
   "outputs": [],
   "source": [
    "# 단어 하나가 문장에 여러번 등장했을때, 모든 위치를 리스트로 뽑아내는 함수.\n",
    "# list씌워야함\n",
    "\n",
    "def find_all(a_str, sub):\n",
    "    start = 0\n",
    "    while True:\n",
    "        start = a_str.find(sub, start)\n",
    "        if start == -1: return\n",
    "        yield start\n",
    "        start += len(sub) # use start += 1 to find overlapping matches\n",
    "        \n",
    "# ex) list(find_all('안녕안녕하세요', '안녕')) --> [0,2]"
   ]
  },
  {
   "cell_type": "code",
   "execution_count": 3,
   "id": "044fb6ba-9e61-4417-a2b6-58660800d339",
   "metadata": {},
   "outputs": [],
   "source": [
    "# 중복제거\n",
    "def remove_overlap(overlapped_list):\n",
    "    result = []\n",
    "    for i in overlapped_list:\n",
    "        if i not in result:\n",
    "            result.append(i)\n",
    "            \n",
    "    return result"
   ]
  },
  {
   "cell_type": "code",
   "execution_count": 4,
   "id": "6390559f-c07b-4a35-907c-fa9883e83864",
   "metadata": {},
   "outputs": [],
   "source": [
    "# 숫자 리스트 받아와서 이에 맞게 다른 리스트의 순서 바꿔주는 함수.\n",
    "def sort_word_wordOcc(word, wordOccurence):    # 순서 바꿀 단어 리스트, 순서 알려주는 리스트\n",
    "#     try:\n",
    "    if len(word) == len(wordOccurence):\n",
    "        result = {}\n",
    "        for i in range(len(word)):\n",
    "            result.update({wordOccurence[i]['start']:word[i]})    # result = {wordOccurence:['start']:호환}\n",
    "\n",
    "        sorted_result = sorted(result.items())     # ex) [('1','원심'), (17:'원심'), (127:'호환'), (172:'호환'), (320:'원심')]\n",
    "        result_word = []\n",
    "        result_wordOcc = []\n",
    "\n",
    "        for i in range(0, len(word)):\n",
    "            result_word.append(sorted_result[i][1])\n",
    "            result_wordOcc.append({'start':sorted_result[i][0], 'end':sorted_result[i][0]+len(sorted_result[i][1])+1})\n",
    "        \n",
    "    else:\n",
    "        raise Exception('word와 word_Occurence 간 크기가 다릅니다.')\n",
    "        \n",
    "#     except Exception as e:\n",
    "#         print(\"예외가 발생했습니다.\", e)\n",
    "        \n",
    "    return result_word, result_wordOcc"
   ]
  },
  {
   "cell_type": "code",
   "execution_count": 5,
   "id": "7a5c503c-3ffb-4490-9bb9-0a5aa0c143cb",
   "metadata": {},
   "outputs": [],
   "source": [
    "# isdiff 두 문장을 갖고와서 같으면 0, 다르면 1을 출력하는 함수.\n",
    "def isdiff(sent_a, sent_b):\n",
    "    if sent_a == sent_b:\n",
    "        return 0\n",
    "    else:\n",
    "        return 1"
   ]
  },
  {
   "cell_type": "code",
   "execution_count": 6,
   "id": "a9aed460-bd46-4453-af51-39e1c361c995",
   "metadata": {},
   "outputs": [],
   "source": [
    "f = open('C:/Users/jayts/OneDrive/바탕 화면/Tictag/json/KAS/removed_duplicate_panrye_통합본_2021_8_10.json', 'r', encoding='UTF8')    # type3를 통해 추출된 json파일 읽어들이기\n",
    "# f = open('C:/Users/jayts/OneDrive/바탕 화면/Tictag/json/KAS/removed_dup_example.json', 'r', encoding='UTF8')    # type3를 통해 추출된 json파일 읽어들이기\n",
    "sent_example = json.load(f)"
   ]
  },
  {
   "cell_type": "code",
   "execution_count": 7,
   "id": "a8ddc317-7a06-4405-ac3c-f3982f2eb134",
   "metadata": {},
   "outputs": [
    {
     "name": "stderr",
     "output_type": "stream",
     "text": [
      "<ipython-input-7-11922f6c9314>:7: TqdmDeprecationWarning: Please use `tqdm.notebook.trange` instead of `tqdm.tnrange`\n",
      "  for i in tnrange(len(key_list)):\n"
     ]
    },
    {
     "data": {
      "application/vnd.jupyter.widget-view+json": {
       "model_id": "4f740aa94c364b2bab4eca4b69e4c302",
       "version_major": 2,
       "version_minor": 0
      },
      "text/plain": [
       "  0%|          | 0/2862 [00:00<?, ?it/s]"
      ]
     },
     "metadata": {},
     "output_type": "display_data"
    },
    {
     "ename": "KeyboardInterrupt",
     "evalue": "",
     "output_type": "error",
     "traceback": [
      "\u001b[1;31m---------------------------------------------------------------------------\u001b[0m",
      "\u001b[1;31mKeyboardInterrupt\u001b[0m                         Traceback (most recent call last)",
      "\u001b[1;32m<ipython-input-7-11922f6c9314>\u001b[0m in \u001b[0;36m<module>\u001b[1;34m\u001b[0m\n\u001b[0;32m     14\u001b[0m         \u001b[1;31m# 키데이터 중 문장에 있는 키워드 찾아내기\u001b[0m\u001b[1;33m\u001b[0m\u001b[1;33m\u001b[0m\u001b[1;33m\u001b[0m\u001b[0m\n\u001b[0;32m     15\u001b[0m         \u001b[1;32mfor\u001b[0m \u001b[0mk\u001b[0m \u001b[1;32min\u001b[0m \u001b[0mrange\u001b[0m\u001b[1;33m(\u001b[0m\u001b[0mlen\u001b[0m\u001b[1;33m(\u001b[0m\u001b[0mkey_list\u001b[0m\u001b[1;33m)\u001b[0m\u001b[1;33m)\u001b[0m\u001b[1;33m:\u001b[0m    \u001b[1;31m# 모든 키워드에 대해 시행\u001b[0m\u001b[1;33m\u001b[0m\u001b[1;33m\u001b[0m\u001b[0m\n\u001b[1;32m---> 16\u001b[1;33m             \u001b[0mtagged_keyword\u001b[0m \u001b[1;33m=\u001b[0m \u001b[0mtag\u001b[0m \u001b[1;33m+\u001b[0m \u001b[0mkey_list\u001b[0m\u001b[1;33m[\u001b[0m\u001b[0mk\u001b[0m\u001b[1;33m]\u001b[0m \u001b[1;33m+\u001b[0m \u001b[0mtag\u001b[0m\u001b[1;33m\u001b[0m\u001b[1;33m\u001b[0m\u001b[0m\n\u001b[0m\u001b[0;32m     17\u001b[0m             \u001b[1;32mif\u001b[0m \u001b[0msentence\u001b[0m\u001b[1;33m[\u001b[0m\u001b[1;36m0\u001b[0m\u001b[1;33m:\u001b[0m\u001b[0mlen\u001b[0m\u001b[1;33m(\u001b[0m\u001b[0mkey_list\u001b[0m\u001b[1;33m[\u001b[0m\u001b[0mk\u001b[0m\u001b[1;33m]\u001b[0m\u001b[1;33m)\u001b[0m\u001b[1;33m]\u001b[0m \u001b[1;33m==\u001b[0m \u001b[0mkey_list\u001b[0m\u001b[1;33m[\u001b[0m\u001b[0mk\u001b[0m\u001b[1;33m]\u001b[0m\u001b[1;33m:\u001b[0m    \u001b[1;31m# 문장 첫 단어로 키워드가 있을 때..\u001b[0m\u001b[1;33m\u001b[0m\u001b[1;33m\u001b[0m\u001b[0m\n\u001b[0;32m     18\u001b[0m                 \u001b[0msentence\u001b[0m \u001b[1;33m=\u001b[0m \u001b[0msentence\u001b[0m\u001b[1;33m.\u001b[0m\u001b[0mreplace\u001b[0m\u001b[1;33m(\u001b[0m\u001b[0mkey_list\u001b[0m\u001b[1;33m[\u001b[0m\u001b[0mk\u001b[0m\u001b[1;33m]\u001b[0m\u001b[1;33m,\u001b[0m \u001b[0mtagged_keyword\u001b[0m\u001b[1;33m)\u001b[0m\u001b[1;33m\u001b[0m\u001b[1;33m\u001b[0m\u001b[0m\n",
      "\u001b[1;31mKeyboardInterrupt\u001b[0m: "
     ]
    }
   ],
   "source": [
    "# sent_to_input + numbering\n",
    "type2_A_input = {}\n",
    "key_list = sorted(list(sent_example.keys()), key=len)    # 어려운 단어 리스트. 글자수가 더 많은 키워드를 먼저 ^^로 태깅하면 문제가 생김. 그래서 오름차순 정렬함\n",
    "keyword_pos = []\n",
    "tag = '^'\n",
    "\n",
    "for i in tnrange(len(key_list)):\n",
    "    type2_A_input.update({key_list[i]:[]})\n",
    "    \n",
    "    for j in range(len(sent_example[key_list[i]])):\n",
    "        sentence = sent_example[key_list[i]][j]\n",
    "        type2_A_input[key_list[i]].append({'sentence':sentence, 'word':[], 'wordOccurence':[], 'number':j})\n",
    "            \n",
    "        # 키데이터 중 문장에 있는 키워드 찾아내기\n",
    "        for k in range(len(key_list)):    # 모든 키워드에 대해 시행\n",
    "            tagged_keyword = tag + key_list[k] + tag\n",
    "            if sentence[0:len(key_list[k])] == key_list[k]:    # 문장 첫 단어로 키워드가 있을 때..\n",
    "                sentence = sentence.replace(key_list[k], tagged_keyword)\n",
    "                count = len(list(find_all(sentence, key_list[k])))\n",
    "                type2_A_input[key_list[i]][j].update({'sentence':sentence})\n",
    "                for l in range(count):\n",
    "                    type2_A_input[key_list[i]][j]['word'].append(key_list[k])\n",
    "                \n",
    "                \n",
    "            elif sentence.find(' '+key_list[k]) != -1:    # 문장 첫 단어로 키워드가 있을 때..\n",
    "                sentence = sentence.replace(key_list[k], tagged_keyword)\n",
    "                count = len(list(find_all(sentence, key_list[k])))\n",
    "                type2_A_input[key_list[i]][j].update({'sentence':sentence})\n",
    "                for l in range(count):\n",
    "                    type2_A_input[key_list[i]][j]['word'].append(key_list[k])\n",
    "                \n",
    "            else:\n",
    "                pass"
   ]
  },
  {
   "cell_type": "code",
   "execution_count": 11,
   "id": "4eb83e11-4fa1-43db-bed3-bcc3b3ee8024",
   "metadata": {},
   "outputs": [
    {
     "name": "stderr",
     "output_type": "stream",
     "text": [
      "<ipython-input-11-a2851908ec07>:2: TqdmDeprecationWarning: Please use `tqdm.notebook.trange` instead of `tqdm.tnrange`\n",
      "  for i in tnrange(len(key_list)):\n"
     ]
    },
    {
     "data": {
      "application/vnd.jupyter.widget-view+json": {
       "model_id": "92eaad3c041141b8968ca3936da455cc",
       "version_major": 2,
       "version_minor": 0
      },
      "text/plain": [
       "  0%|          | 0/2862 [00:00<?, ?it/s]"
      ]
     },
     "metadata": {},
     "output_type": "display_data"
    }
   ],
   "source": [
    "# 태그된 문장을 참고하여 wordOccurence 업데이트.\n",
    "for i in tnrange(len(key_list)):\n",
    "    for j in range(len(sent_example[key_list[i]])):\n",
    "        key_list_small = type2_A_input[key_list[i]][j]['word']\n",
    "        key_list_small_not_overlapped = remove_overlap(key_list_small)\n",
    "        for k in range(len(key_list_small_not_overlapped)):    # 문장 속 존재하는 키워드들에 대해 시행\n",
    "            sentence = type2_A_input[key_list[i]][j]['sentence']\n",
    "            start = list(find_all(sentence, key_list_small_not_overlapped[k]))\n",
    "            for l in range(len(start)):\n",
    "                type2_A_input[key_list[i]][j]['wordOccurence'].append({'start':start[l]-1, 'end':start[l]+len(key_list[k])+1})"
   ]
  },
  {
   "cell_type": "code",
   "execution_count": 12,
   "id": "2093fb02-9ecc-4c9e-b390-044b5a238d37",
   "metadata": {},
   "outputs": [
    {
     "name": "stderr",
     "output_type": "stream",
     "text": [
      "<ipython-input-12-891784168793>:2: TqdmDeprecationWarning: Please use `tqdm.notebook.trange` instead of `tqdm.tnrange`\n",
      "  for i in tnrange(len(key_list)):\n"
     ]
    },
    {
     "data": {
      "application/vnd.jupyter.widget-view+json": {
       "model_id": "f9cd4d7225b44cebac73a9cf0f5eac7a",
       "version_major": 2,
       "version_minor": 0
      },
      "text/plain": [
       "  0%|          | 0/2862 [00:00<?, ?it/s]"
      ]
     },
     "metadata": {},
     "output_type": "display_data"
    }
   ],
   "source": [
    "# word와 wordOccurence 직관적으로 정렬.\n",
    "for i in tnrange(len(key_list)):\n",
    "    for j in range(len(sent_example[key_list[i]])):\n",
    "        keyword = type2_A_input[key_list[i]][j]['word']\n",
    "        tagged_keyword_pos = type2_A_input[key_list[i]][j]['wordOccurence']\n",
    "        result_word, result_wordOcc = sort_word_wordOcc(keyword, tagged_keyword_pos)\n",
    "        type2_A_input[key_list[i]][j]['word'] = result_word\n",
    "        type2_A_input[key_list[i]][j]['wordOccurence'] = result_wordOcc"
   ]
  },
  {
   "cell_type": "code",
   "execution_count": 14,
   "id": "b4e144c9-e2db-45b8-9739-2e1d8939d26d",
   "metadata": {},
   "outputs": [],
   "source": [
    "# json 파일로 저장\n",
    "with open('C:/Users/jayts/OneDrive/바탕 화면/Tictag/json/KAS/type2_A_input.json', 'w', encoding='UTF8') as json_file:\n",
    "# with open('C:/Users/jayts/OneDrive/바탕 화면/Tictag/json/KAS/type2_A_input_example.json', 'w', encoding='UTF8') as json_file:\n",
    "    json.dump(type2_A_input, json_file, indent=4, ensure_ascii=False,)"
   ]
  },
  {
   "cell_type": "code",
   "execution_count": null,
   "id": "728f884d-5b2c-4b53-92a4-94d459e947fd",
   "metadata": {},
   "outputs": [],
   "source": []
  }
 ],
 "metadata": {
  "kernelspec": {
   "display_name": "Python 3",
   "language": "python",
   "name": "python3"
  },
  "language_info": {
   "codemirror_mode": {
    "name": "ipython",
    "version": 3
   },
   "file_extension": ".py",
   "mimetype": "text/x-python",
   "name": "python",
   "nbconvert_exporter": "python",
   "pygments_lexer": "ipython3",
   "version": "3.8.8"
  }
 },
 "nbformat": 4,
 "nbformat_minor": 5
}
