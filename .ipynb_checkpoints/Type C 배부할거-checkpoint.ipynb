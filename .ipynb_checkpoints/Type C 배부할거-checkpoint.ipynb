{
 "cells": [
  {
   "cell_type": "markdown",
   "id": "9f0014e4-0a9e-48e6-83bf-c1f8f63a48ec",
   "metadata": {},
   "source": [
    "Type C 에서 태거들에게 배부할거 만드는 코드"
   ]
  },
  {
   "cell_type": "markdown",
   "id": "837d3478-1704-488f-a3b1-8969ea726d59",
   "metadata": {},
   "source": [
    "perfect_data 모아놓은거에서 현준님이 준거 다 빼"
   ]
  },
  {
   "cell_type": "code",
   "execution_count": 1,
   "id": "f6ce1672-ea95-4b80-b23c-bc6c92153923",
   "metadata": {},
   "outputs": [],
   "source": [
    "import csv\n",
    "import pandas as pd\n",
    "import os\n",
    "from os import walk\n",
    "from tqdm.notebook import tnrange"
   ]
  },
  {
   "cell_type": "code",
   "execution_count": 2,
   "id": "9482ecb5-a69d-4d7f-868b-ce068990a361",
   "metadata": {},
   "outputs": [],
   "source": [
    "input_repo = '/Users/jaytsol/Desktop/Type23 (2)/누적/perfect_data/누적_perfect'\n",
    "ref_repo = '/Users/jaytsol/Desktop/Type23 (2)/누적/accum_concat/answer'\n",
    "output_repo = '/Users/jaytsol/Desktop/Type23 (2)/Type C/배부할거'"
   ]
  },
  {
   "cell_type": "code",
   "execution_count": 3,
   "id": "2b5c0636-8066-408c-8b57-84d0344c0fcc",
   "metadata": {},
   "outputs": [],
   "source": [
    "input_filename = 'perfect_accum.csv'\n",
    "ref_filename = 'Type_B_검수완료.csv'\n",
    "output_filename = '1.csv'"
   ]
  },
  {
   "cell_type": "code",
   "execution_count": 4,
   "id": "6020faaa-6025-48b9-8068-bad44bb7b5ff",
   "metadata": {},
   "outputs": [],
   "source": [
    "perfect_data = pd.read_csv(f'{input_repo}/{input_filename}')\n",
    "used_data = pd.read_csv(f'{ref_repo}/{ref_filename}')[['lineNumber', 'originalText', 'transcription']]"
   ]
  },
  {
   "cell_type": "code",
   "execution_count": 5,
   "id": "9afafd59-a1b4-40ba-ab03-e25656a7e246",
   "metadata": {},
   "outputs": [
    {
     "data": {
      "application/vnd.jupyter.widget-view+json": {
       "model_id": "eb12a530f5ba4bb7813e29b2546fcc34",
       "version_major": 2,
       "version_minor": 0
      },
      "text/plain": [
       "  0%|          | 0/13358 [00:00<?, ?it/s]"
      ]
     },
     "metadata": {},
     "output_type": "display_data"
    },
    {
     "name": "stderr",
     "output_type": "stream",
     "text": [
      "<ipython-input-5-78df45ee5593>:5: SettingWithCopyWarning: \n",
      "A value is trying to be set on a copy of a slice from a DataFrame\n",
      "\n",
      "See the caveats in the documentation: https://pandas.pydata.org/pandas-docs/stable/user_guide/indexing.html#returning-a-view-versus-a-copy\n",
      "  result['originalText'][i] = 'Already used'\n"
     ]
    }
   ],
   "source": [
    "result = perfect_data\n",
    "for i in tnrange(len(perfect_data)):\n",
    "    for j in range(len(used_data)):\n",
    "        if perfect_data['originalText'][i] == used_data['originalText'][j]:\n",
    "            result['originalText'][i] = 'Already used'\n",
    "            \n",
    "            break\n",
    "        else:\n",
    "            pass"
   ]
  },
  {
   "cell_type": "code",
   "execution_count": 6,
   "id": "8461edf1-e5db-4982-8c8f-d9627e788c01",
   "metadata": {},
   "outputs": [],
   "source": [
    "count = 0\n",
    "for i in range(len(result)):\n",
    "    if result['originalText'][i] == 'Already used':\n",
    "        count += 1"
   ]
  },
  {
   "cell_type": "code",
   "execution_count": 7,
   "id": "edfcb76f-cb87-4171-b1b0-5b1869f535fe",
   "metadata": {},
   "outputs": [
    {
     "data": {
      "text/plain": [
       "9484"
      ]
     },
     "execution_count": 7,
     "metadata": {},
     "output_type": "execute_result"
    }
   ],
   "source": [
    "count"
   ]
  },
  {
   "cell_type": "code",
   "execution_count": 41,
   "id": "f124539b-59f1-40fb-9b9b-64af82ed2fcf",
   "metadata": {},
   "outputs": [
    {
     "data": {
      "application/vnd.jupyter.widget-view+json": {
       "model_id": "23fea9f81dcb46699c84c5423754975c",
       "version_major": 2,
       "version_minor": 0
      },
      "text/plain": [
       "  0%|          | 0/13358 [00:00<?, ?it/s]"
      ]
     },
     "metadata": {},
     "output_type": "display_data"
    }
   ],
   "source": [
    "for i in tnrange(len(result)):\n",
    "    if result['originalText'][i] == 'Already used':\n",
    "        result = result.drop([i])\n",
    "        i -= 1"
   ]
  },
  {
   "cell_type": "code",
   "execution_count": 43,
   "id": "0c1df7ac-bf1f-44ac-a5a9-5255bf55b9a6",
   "metadata": {},
   "outputs": [],
   "source": [
    "result.to_csv(f'{output_repo}/{output_filename}', encoding='utf-8-sig', index=False)"
   ]
  },
  {
   "cell_type": "code",
   "execution_count": null,
   "id": "28d8c3d7-09b7-4eec-b517-c00fc54ae60c",
   "metadata": {},
   "outputs": [],
   "source": []
  }
 ],
 "metadata": {
  "kernelspec": {
   "display_name": "Python 3",
   "language": "python",
   "name": "python3"
  },
  "language_info": {
   "codemirror_mode": {
    "name": "ipython",
    "version": 3
   },
   "file_extension": ".py",
   "mimetype": "text/x-python",
   "name": "python",
   "nbconvert_exporter": "python",
   "pygments_lexer": "ipython3",
   "version": "3.8.8"
  }
 },
 "nbformat": 4,
 "nbformat_minor": 5
}
