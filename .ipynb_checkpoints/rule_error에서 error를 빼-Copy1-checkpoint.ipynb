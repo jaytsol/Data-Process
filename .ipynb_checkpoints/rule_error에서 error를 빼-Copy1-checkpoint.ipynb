{
 "cells": [
  {
   "cell_type": "markdown",
   "id": "e6421500-1a23-4fa1-b51b-d24fc05b134e",
   "metadata": {},
   "source": [
    "# error랑 ><= 들어있는거 lineNumber 검출하는 코드"
   ]
  },
  {
   "cell_type": "markdown",
   "id": "e403f615-7ae8-4858-a772-7f846145f588",
   "metadata": {},
   "source": [
    "목표 : rule_error_data만 뽑는데.. 여기에 error가 없어야함<br>\n",
    "이를 위해서..<br>\n",
    "Type C 재료에서부터 error, ><= 있는 라인넘버 뽑아서 각 rule_error마다 에러수정한 데이터를 반영하면됨<br>"
   ]
  },
  {
   "cell_type": "markdown",
   "id": "43cab943-4944-46a3-a443-a716227f6237",
   "metadata": {},
   "source": [
    "Type C 재료 : 현준님한테 드린 통합_검수본_211028_1156.csv에서 첫 2000행 제외한거"
   ]
  },
  {
   "cell_type": "markdown",
   "id": "5819c4bd-5067-42f7-9ad1-ea12fa404cef",
   "metadata": {},
   "source": [
    "input : 에러코드 뽑을 재료<br>\n",
    "ref : rule_error_data.. 1~7까지 따로 작업해야함"
   ]
  },
  {
   "cell_type": "code",
   "execution_count": 1,
   "id": "49e9ac7e-04fc-4f66-9ddc-b65a1312c59e",
   "metadata": {},
   "outputs": [],
   "source": [
    "import csv\n",
    "from os import walk\n",
    "import os\n",
    "from tqdm.notebook import tnrange\n",
    "import pandas as pd"
   ]
  },
  {
   "cell_type": "code",
   "execution_count": 2,
   "id": "421009cb-97bd-44a7-9868-bf789799e1ad",
   "metadata": {},
   "outputs": [],
   "source": [
    "input_repo = '/Users/jaytsol/Desktop/Type23 (2)/누적/accum_concat'\n",
    "ref_repo = '/Users/jaytsol/Desktop/Type23 (2)/6/2. 정완님 작업한거'                              # rule_error_data_바꿔\n",
    "ans_repo = '/Users/jaytsol/Desktop/Type23 (2)/누적/accum_concat/answer'\n",
    "output_repo = '/Users/jaytsol/Desktop/Type23 (2)/누적/accum_concat/rule_error_data'"
   ]
  },
  {
   "cell_type": "code",
   "execution_count": 3,
   "id": "6b3f1b4e-d5fd-44e7-9af7-6c10b8e0ae7f",
   "metadata": {},
   "outputs": [],
   "source": [
    "input_filename = '통합_검수본_211028_1156.csv'\n",
    "ref_filename = 'rule_error_data.csv'                       # rule_error_data\n",
    "ans_filename = 'Type_B_검수완료.csv'\n",
    "output_filename = '6_rule_error_data.csv'                  # 바꿔"
   ]
  },
  {
   "cell_type": "code",
   "execution_count": 4,
   "id": "757517db-90ab-4c16-828a-81550fc10db5",
   "metadata": {},
   "outputs": [],
   "source": [
    "org = pd.read_csv(f'{input_repo}/{input_filename}')[['lineNumber', 'originalText', 'transcription']]\n",
    "ref = pd.read_csv(f'{ref_repo}/{ref_filename}')\n",
    "ans = pd.read_csv(f'{ans_repo}/{ans_filename}')"
   ]
  },
  {
   "cell_type": "code",
   "execution_count": 5,
   "id": "5015f667-fe62-4b12-9006-b817e07321a8",
   "metadata": {},
   "outputs": [
    {
     "data": {
      "application/vnd.jupyter.widget-view+json": {
       "model_id": "6924a5ee0114482c9e6b65d90fa5cb9c",
       "version_major": 2,
       "version_minor": 0
      },
      "text/plain": [
       "  0%|          | 0/12790 [00:00<?, ?it/s]"
      ]
     },
     "metadata": {},
     "output_type": "display_data"
    }
   ],
   "source": [
    "error_list = []\n",
    "for i in tnrange(len(org)):\n",
    "    if 'error' in str(org['transcription'][i]).lower():\n",
    "        error_list.append(org['lineNumber'][i])\n",
    "    elif '><=' in str(org['transcription'][i]):\n",
    "        error_list.append(org['lineNumber'][i])\n",
    "    else:\n",
    "        pass"
   ]
  },
  {
   "cell_type": "code",
   "execution_count": 6,
   "id": "08acac03-f219-4bd8-aded-ea57fc235d84",
   "metadata": {},
   "outputs": [
    {
     "data": {
      "application/vnd.jupyter.widget-view+json": {
       "model_id": "973843061eda4be3a7975c26c44c627f",
       "version_major": 2,
       "version_minor": 0
      },
      "text/plain": [
       "  0%|          | 0/497 [00:00<?, ?it/s]"
      ]
     },
     "metadata": {},
     "output_type": "display_data"
    }
   ],
   "source": [
    "# ref의 lineNumber가 error_list의 라인넘버와 일치한다면 \n",
    "for i in tnrange(len(ref)):\n",
    "    for j in range(len(error_list)):\n",
    "        if ref['lineNumber'][i] == error_list[j]:\n",
    "            ref['transcription'][i] = list(set(ans.loc[ans['lineNumber'] == error_list[j]]['transcription']))[0]\n",
    "            break"
   ]
  },
  {
   "cell_type": "code",
   "execution_count": 7,
   "id": "9f2eddc2-08bb-4b27-bfdb-629ecfed4447",
   "metadata": {},
   "outputs": [
    {
     "data": {
      "text/html": [
       "<div>\n",
       "<style scoped>\n",
       "    .dataframe tbody tr th:only-of-type {\n",
       "        vertical-align: middle;\n",
       "    }\n",
       "\n",
       "    .dataframe tbody tr th {\n",
       "        vertical-align: top;\n",
       "    }\n",
       "\n",
       "    .dataframe thead th {\n",
       "        text-align: right;\n",
       "    }\n",
       "</style>\n",
       "<table border=\"1\" class=\"dataframe\">\n",
       "  <thead>\n",
       "    <tr style=\"text-align: right;\">\n",
       "      <th></th>\n",
       "      <th>lineNumber</th>\n",
       "      <th>originalText</th>\n",
       "      <th>transcription</th>\n",
       "    </tr>\n",
       "  </thead>\n",
       "  <tbody>\n",
       "    <tr>\n",
       "      <th>0</th>\n",
       "      <td>93</td>\n",
       "      <td>&lt;&lt;&lt;검사가 형사재판을 신청하는 일&lt;=공소&gt;외 4&gt;&gt;&gt; 회사와 고소인 회사 사이의 ...</td>\n",
       "      <td>&lt;&lt;&lt;검사가 형사재판을 신청하는 일&lt;=공소&gt;외 4&gt;&gt;&gt; 회사와 고소인 회사 사이의 ...</td>\n",
       "    </tr>\n",
       "    <tr>\n",
       "      <th>1</th>\n",
       "      <td>96</td>\n",
       "      <td>&lt;&lt;&lt;형사소송에서 검사에의해 기소당한 사람&lt;=피고인&gt;들은 이&gt;&gt;&gt; 사건 &lt;&lt;&lt;생산이...</td>\n",
       "      <td>&lt;&lt;&lt;형사소송에서 검사에의해 기소당한 사람&lt;=피고인&gt;은 이&gt;&gt;&gt; 사건 &lt;&lt;&lt;생산이나...</td>\n",
       "    </tr>\n",
       "    <tr>\n",
       "      <th>2</th>\n",
       "      <td>99</td>\n",
       "      <td>즉, &lt;&lt;&lt;형사소송에서 검사에의해 기소당한 사람&lt;=피고인&gt; 1은&gt;&gt;&gt; ****.**...</td>\n",
       "      <td>즉, &lt;&lt;&lt;형사소송에서 검사에게 기소당한 사람&lt;=피고인&gt; 1은&gt;&gt;&gt; ****.**....</td>\n",
       "    </tr>\n",
       "    <tr>\n",
       "      <th>3</th>\n",
       "      <td>121</td>\n",
       "      <td>&lt;&lt;&lt;검사가 형사재판을 신청하는 일&lt;=공소&gt;외 6은&gt;&gt;&gt; 위 전화회의가 끝난 뒤 같...</td>\n",
       "      <td>&lt;&lt;&lt;검사가 형사재판을 신청하는 일&lt;=공소&gt;외 6은&gt;&gt;&gt; 위 전화회의가 끝난 뒤 같...</td>\n",
       "    </tr>\n",
       "    <tr>\n",
       "      <th>4</th>\n",
       "      <td>122</td>\n",
       "      <td>다음 &lt;&lt;&lt;농사를 짓기 위한 땅&lt;=농지&gt;의 도로 돌려주는 것&lt;=반환&gt;제도를&gt;&gt;&gt; 보...</td>\n",
       "      <td>다음 &lt;&lt;&lt;농사를 짓기 위한 땅&lt;=농지&gt;을 도로 돌려주는 &lt;=반환&gt;제도를&gt;&gt;&gt; 보건...</td>\n",
       "    </tr>\n",
       "    <tr>\n",
       "      <th>...</th>\n",
       "      <td>...</td>\n",
       "      <td>...</td>\n",
       "      <td>...</td>\n",
       "    </tr>\n",
       "    <tr>\n",
       "      <th>492</th>\n",
       "      <td>37059</td>\n",
       "      <td>나. 토지 매입의 경우, 건설자금리자 &lt;&lt;&lt;제조·구매 등에 소비된 경제가치의 환산액...</td>\n",
       "      <td>나. 토지 매입의 경우, 건설자금리자 &lt;&lt;&lt;제조·구매 등에 소비된 경제가치의 환산액...</td>\n",
       "    </tr>\n",
       "    <tr>\n",
       "      <th>493</th>\n",
       "      <td>38257</td>\n",
       "      <td>&lt;&lt;&lt;직전의 재판&lt;=원심&gt;판결 이유를&gt;&gt;&gt; 위와 같은 &lt;&lt;&lt;법률의 근본 원리&lt;=법리...</td>\n",
       "      <td>&lt;&lt;&lt;직전 재판&lt;=원심&gt;의 판결 이유를&gt;&gt;&gt; 위와 같은 &lt;&lt;&lt;법률의 근본 원리&lt;=법...</td>\n",
       "    </tr>\n",
       "    <tr>\n",
       "      <th>494</th>\n",
       "      <td>38281</td>\n",
       "      <td>바. 대출취급수수료 임의 사용 관련 특경법위반(횡령)의 점 중 &lt;&lt;&lt;직전의 재판&lt;=...</td>\n",
       "      <td>바. 대출취급수수료 임의 사용 관련 특경법위반(횡령)의 점 중 &lt;&lt;&lt;직전의 재판&lt;=...</td>\n",
       "    </tr>\n",
       "    <tr>\n",
       "      <th>495</th>\n",
       "      <td>38327</td>\n",
       "      <td>주식회사의 발기설립의 경우에 &lt;&lt;&lt;금전 이외의 부동산 등을 내는 것&lt;=현물출자&gt;에 ...</td>\n",
       "      <td>주식회사의 발기설립의 경우에 &lt;&lt;&lt;금전 외 부동산 등을 내는 방법&lt;=현물출자&gt;에 의...</td>\n",
       "    </tr>\n",
       "    <tr>\n",
       "      <th>496</th>\n",
       "      <td>38349</td>\n",
       "      <td>제1종 운전면허 &lt;&lt;&lt;물건을 지니고 있는 것&lt;=소지&gt;자인 형사소송에서 검사에의해 기...</td>\n",
       "      <td>제1종 운전면허&lt;&lt;를 지니고&lt;=소지&gt; 있는 자인 본 형사소송에서 검사에 의해 기소당...</td>\n",
       "    </tr>\n",
       "  </tbody>\n",
       "</table>\n",
       "<p>497 rows × 3 columns</p>\n",
       "</div>"
      ],
      "text/plain": [
       "     lineNumber                                       originalText  \\\n",
       "0            93  <<<검사가 형사재판을 신청하는 일<=공소>외 4>>> 회사와 고소인 회사 사이의 ...   \n",
       "1            96  <<<형사소송에서 검사에의해 기소당한 사람<=피고인>들은 이>>> 사건 <<<생산이...   \n",
       "2            99  즉, <<<형사소송에서 검사에의해 기소당한 사람<=피고인> 1은>>> ****.**...   \n",
       "3           121  <<<검사가 형사재판을 신청하는 일<=공소>외 6은>>> 위 전화회의가 끝난 뒤 같...   \n",
       "4           122  다음 <<<농사를 짓기 위한 땅<=농지>의 도로 돌려주는 것<=반환>제도를>>> 보...   \n",
       "..          ...                                                ...   \n",
       "492       37059  나. 토지 매입의 경우, 건설자금리자 <<<제조·구매 등에 소비된 경제가치의 환산액...   \n",
       "493       38257  <<<직전의 재판<=원심>판결 이유를>>> 위와 같은 <<<법률의 근본 원리<=법리...   \n",
       "494       38281  바. 대출취급수수료 임의 사용 관련 특경법위반(횡령)의 점 중 <<<직전의 재판<=...   \n",
       "495       38327  주식회사의 발기설립의 경우에 <<<금전 이외의 부동산 등을 내는 것<=현물출자>에 ...   \n",
       "496       38349  제1종 운전면허 <<<물건을 지니고 있는 것<=소지>자인 형사소송에서 검사에의해 기...   \n",
       "\n",
       "                                         transcription  \n",
       "0    <<<검사가 형사재판을 신청하는 일<=공소>외 4>>> 회사와 고소인 회사 사이의 ...  \n",
       "1    <<<형사소송에서 검사에의해 기소당한 사람<=피고인>은 이>>> 사건 <<<생산이나...  \n",
       "2    즉, <<<형사소송에서 검사에게 기소당한 사람<=피고인> 1은>>> ****.**....  \n",
       "3    <<<검사가 형사재판을 신청하는 일<=공소>외 6은>>> 위 전화회의가 끝난 뒤 같...  \n",
       "4    다음 <<<농사를 짓기 위한 땅<=농지>을 도로 돌려주는 <=반환>제도를>>> 보건...  \n",
       "..                                                 ...  \n",
       "492  나. 토지 매입의 경우, 건설자금리자 <<<제조·구매 등에 소비된 경제가치의 환산액...  \n",
       "493  <<<직전 재판<=원심>의 판결 이유를>>> 위와 같은 <<<법률의 근본 원리<=법...  \n",
       "494  바. 대출취급수수료 임의 사용 관련 특경법위반(횡령)의 점 중 <<<직전의 재판<=...  \n",
       "495  주식회사의 발기설립의 경우에 <<<금전 외 부동산 등을 내는 방법<=현물출자>에 의...  \n",
       "496  제1종 운전면허<<를 지니고<=소지> 있는 자인 본 형사소송에서 검사에 의해 기소당...  \n",
       "\n",
       "[497 rows x 3 columns]"
      ]
     },
     "execution_count": 7,
     "metadata": {},
     "output_type": "execute_result"
    }
   ],
   "source": [
    "ref"
   ]
  },
  {
   "cell_type": "code",
   "execution_count": 8,
   "id": "b2bba2d8-0f46-4339-a0ff-eb07d3cb8718",
   "metadata": {},
   "outputs": [],
   "source": [
    "ref.to_csv(f'{output_repo}/{output_filename}', index=False, encoding='utf-8-sig')\n",
    "ref.to_csv(f'/Users/jaytsol/Desktop/Type23 (2)/누적/rule_error_data/{output_filename}', index=False, encoding='utf-8-sig')"
   ]
  },
  {
   "cell_type": "code",
   "execution_count": null,
   "id": "97347bce-394e-4e83-a521-1248fa3d29fa",
   "metadata": {},
   "outputs": [],
   "source": []
  }
 ],
 "metadata": {
  "kernelspec": {
   "display_name": "Python 3",
   "language": "python",
   "name": "python3"
  },
  "language_info": {
   "codemirror_mode": {
    "name": "ipython",
    "version": 3
   },
   "file_extension": ".py",
   "mimetype": "text/x-python",
   "name": "python",
   "nbconvert_exporter": "python",
   "pygments_lexer": "ipython3",
   "version": "3.8.8"
  }
 },
 "nbformat": 4,
 "nbformat_minor": 5
}
