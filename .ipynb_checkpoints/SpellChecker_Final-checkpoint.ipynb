{
 "cells": [
  {
   "cell_type": "code",
   "execution_count": 1,
   "id": "c142fc2d-2290-45d6-8dcb-e4e432dd3e97",
   "metadata": {},
   "outputs": [],
   "source": [
    "import json\n",
    "from tqdm import tnrange, tqdm_notebook\n",
    "from hanspell import spell_checker"
   ]
  },
  {
   "cell_type": "code",
   "execution_count": 2,
   "id": "406d09a3-c858-4f50-b6d7-7453013708e8",
   "metadata": {},
   "outputs": [],
   "source": [
    "# 단어 하나가 문장에 여러번 등장했을때, 모든 위치를 리스트로 뽑아내는 함수.\n",
    "# list씌워야함\n",
    "\n",
    "def find_all(a_str, sub):\n",
    "    start = 0\n",
    "    while True:\n",
    "        start = a_str.find(sub, start)\n",
    "        if start == -1: return\n",
    "        yield start\n",
    "        start += len(sub) # use start += 1 to find overlapping matches\n",
    "        \n",
    "# ex) list(find_all('안녕안녕하세요', '안녕')) --> [0,2]"
   ]
  },
  {
   "cell_type": "code",
   "execution_count": 3,
   "id": "7da93033-1ac2-41ef-bb26-240fe601e316",
   "metadata": {},
   "outputs": [],
   "source": [
    "# 중복제거\n",
    "def remove_overlap(overlapped_list):\n",
    "    result = []\n",
    "    for i in overlapped_list:\n",
    "        if i not in result:\n",
    "            result.append(i)\n",
    "            \n",
    "    return result"
   ]
  },
  {
   "cell_type": "code",
   "execution_count": 4,
   "id": "f8e6cc72-ad4a-4db1-87e8-88ab1102352c",
   "metadata": {},
   "outputs": [],
   "source": [
    "# 숫자 리스트 받아와서 이에 맞게 다른 리스트의 순서 바꿔주는 함수.\n",
    "def sort_word_wordOcc(word, wordOccurence):    # 순서 바꿀 단어 리스트, 순서 알려주는 리스트\n",
    "#     try:\n",
    "    if len(word) == len(wordOccurence):\n",
    "        result = {}\n",
    "        for i in range(len(word)):\n",
    "            result.update({wordOccurence[i]['start']:word[i]})    # result = {wordOccurence:['start']:호환}\n",
    "\n",
    "        sorted_result = sorted(result.items())     # ex) [('1','원심'), (17:'원심'), (127:'호환'), (172:'호환'), (320:'원심')]\n",
    "        result_word = []\n",
    "        result_wordOcc = []\n",
    "\n",
    "        for i in range(0, len(word)):\n",
    "            result_word.append(sorted_result[i][1])\n",
    "            result_wordOcc.append({'start':sorted_result[i][0], 'end':sorted_result[i][0]+len(sorted_result[i][1])+1})\n",
    "        \n",
    "    else:\n",
    "        raise Exception('word와 word_Occurence 간 크기가 다릅니다.')\n",
    "        \n",
    "#     except Exception as e:\n",
    "#         print(\"예외가 발생했습니다.\", e)\n",
    "        \n",
    "    return result_word, result_wordOcc"
   ]
  },
  {
   "cell_type": "code",
   "execution_count": 5,
   "id": "9682b75a-3d2e-4693-bdae-315834047fb5",
   "metadata": {},
   "outputs": [],
   "source": [
    "# 에러 여부 출력\n",
    "def iserrors(ori_sent):\n",
    "    spelled_sent = spell_checker.check(ori_sent)\n",
    "    \n",
    "    if spelled_sent.errors >= 1:\n",
    "        return 1\n",
    "    else:\n",
    "        return 0"
   ]
  },
  {
   "cell_type": "code",
   "execution_count": 6,
   "id": "1713dd7b-a91e-441a-9a39-c374c5b3088c",
   "metadata": {},
   "outputs": [],
   "source": [
    "# isdiff 두 문장을 갖고와서 같으면 0, 다르면 1을 출력하는 함수.\n",
    "def isdiff(sent_a, sent_b):\n",
    "    if sent_a == sent_b:\n",
    "        return 0\n",
    "    else:\n",
    "        return 1"
   ]
  },
  {
   "cell_type": "code",
   "execution_count": 7,
   "id": "5b9f9c0c-ba28-491b-8d5d-ea9958e24bc3",
   "metadata": {},
   "outputs": [],
   "source": [
    "# 문장 맞춤법 고쳐서 수정된 문장 출력.\n",
    "def correction(ori_sent):\n",
    "    spelled_sent = spell_checker.check(ori_sent)\n",
    "    \n",
    "    return spelled_sent.checked, spelled_sent.errors"
   ]
  },
  {
   "cell_type": "code",
   "execution_count": 8,
   "id": "54dcb894-2ace-48df-aaf1-a0cd2f6c67b5",
   "metadata": {},
   "outputs": [],
   "source": [
    "f = open('C:/Users/jayts/OneDrive/바탕 화면/Tictag/json/KAS/removed_duplicate_panrye_통합본_2021_8_10.json', 'r', encoding='UTF8')    # type3를 통해 추출된 json파일 읽어들이기\n",
    "# f = open('C:/Users/jayts/OneDrive/바탕 화면/Tictag/json/KAS/removed_dup_example.json', 'r', encoding='UTF8')    # type3를 통해 추출된 json파일 읽어들이기\n",
    "sent_example = json.load(f)"
   ]
  },
  {
   "cell_type": "code",
   "execution_count": 15,
   "id": "ae672bd4-32ad-47f8-9667-97a432747b03",
   "metadata": {},
   "outputs": [
    {
     "name": "stderr",
     "output_type": "stream",
     "text": [
      "<ipython-input-15-6b6dfb70dcbb>:7: TqdmDeprecationWarning: Please use `tqdm.notebook.trange` instead of `tqdm.tnrange`\n",
      "  for i in tnrange(len(key_list)):\n"
     ]
    },
    {
     "data": {
      "application/vnd.jupyter.widget-view+json": {
       "model_id": "a31c01266a1c4fb8b69cbb16ddca1acb",
       "version_major": 2,
       "version_minor": 0
      },
      "text/plain": [
       "  0%|          | 0/2862 [00:00<?, ?it/s]"
      ]
     },
     "metadata": {},
     "output_type": "display_data"
    },
    {
     "ename": "IndexError",
     "evalue": "list index out of range",
     "output_type": "error",
     "traceback": [
      "\u001b[1;31m---------------------------------------------------------------------------\u001b[0m",
      "\u001b[1;31mIndexError\u001b[0m                                Traceback (most recent call last)",
      "\u001b[1;32m<ipython-input-15-6b6dfb70dcbb>\u001b[0m in \u001b[0;36m<module>\u001b[1;34m\u001b[0m\n\u001b[0;32m     12\u001b[0m         \u001b[0msentence_checked\u001b[0m \u001b[1;33m=\u001b[0m \u001b[0mcorrection\u001b[0m\u001b[1;33m(\u001b[0m\u001b[0msentence\u001b[0m\u001b[1;33m)\u001b[0m\u001b[1;33m[\u001b[0m\u001b[1;36m0\u001b[0m\u001b[1;33m]\u001b[0m\u001b[1;33m\u001b[0m\u001b[1;33m\u001b[0m\u001b[0m\n\u001b[0;32m     13\u001b[0m         \u001b[0merrors\u001b[0m \u001b[1;33m=\u001b[0m \u001b[0mcorrection\u001b[0m\u001b[1;33m(\u001b[0m\u001b[0msentence\u001b[0m\u001b[1;33m)\u001b[0m\u001b[1;33m[\u001b[0m\u001b[1;36m1\u001b[0m\u001b[1;33m]\u001b[0m\u001b[1;33m\u001b[0m\u001b[1;33m\u001b[0m\u001b[0m\n\u001b[1;32m---> 14\u001b[1;33m         \u001b[0mtype2_A_input\u001b[0m\u001b[1;33m[\u001b[0m\u001b[0mkey_list\u001b[0m\u001b[1;33m[\u001b[0m\u001b[0mi\u001b[0m\u001b[1;33m]\u001b[0m\u001b[1;33m]\u001b[0m\u001b[1;33m[\u001b[0m\u001b[0mj\u001b[0m\u001b[1;33m]\u001b[0m\u001b[1;33m.\u001b[0m\u001b[0mupdate\u001b[0m\u001b[1;33m(\u001b[0m\u001b[1;33m{\u001b[0m\u001b[1;34m'number'\u001b[0m\u001b[1;33m:\u001b[0m\u001b[0mj\u001b[0m\u001b[1;33m,\u001b[0m \u001b[1;34m'sentence'\u001b[0m\u001b[1;33m:\u001b[0m\u001b[0msentence\u001b[0m\u001b[1;33m,\u001b[0m \u001b[1;34m'sentence_checked'\u001b[0m\u001b[1;33m:\u001b[0m\u001b[0msentence_checked\u001b[0m\u001b[1;33m,\u001b[0m \u001b[1;34m'word'\u001b[0m\u001b[1;33m:\u001b[0m\u001b[1;33m[\u001b[0m\u001b[1;33m]\u001b[0m\u001b[1;33m,\u001b[0m \u001b[1;34m'wordOccurence'\u001b[0m\u001b[1;33m:\u001b[0m\u001b[1;33m[\u001b[0m\u001b[1;33m]\u001b[0m\u001b[1;33m,\u001b[0m \u001b[1;34m'errors'\u001b[0m\u001b[1;33m:\u001b[0m\u001b[0merrors\u001b[0m\u001b[1;33m}\u001b[0m\u001b[1;33m)\u001b[0m\u001b[1;33m\u001b[0m\u001b[1;33m\u001b[0m\u001b[0m\n\u001b[0m\u001b[0;32m     15\u001b[0m \u001b[1;33m\u001b[0m\u001b[0m\n\u001b[0;32m     16\u001b[0m         \u001b[1;32mfor\u001b[0m \u001b[0mk\u001b[0m \u001b[1;32min\u001b[0m \u001b[0mrange\u001b[0m\u001b[1;33m(\u001b[0m\u001b[1;36m0\u001b[0m\u001b[1;33m,\u001b[0m \u001b[0mlen\u001b[0m\u001b[1;33m(\u001b[0m\u001b[0msent_example\u001b[0m\u001b[1;33m[\u001b[0m\u001b[0mkey_list1\u001b[0m\u001b[1;33m[\u001b[0m\u001b[0mi\u001b[0m\u001b[1;33m]\u001b[0m\u001b[1;33m]\u001b[0m\u001b[1;33m[\u001b[0m\u001b[0mj\u001b[0m\u001b[1;33m]\u001b[0m\u001b[1;33m[\u001b[0m\u001b[1;34m'word'\u001b[0m\u001b[1;33m]\u001b[0m\u001b[1;33m)\u001b[0m\u001b[1;33m)\u001b[0m\u001b[1;33m:\u001b[0m    \u001b[1;31m# 단어 수\u001b[0m\u001b[1;33m\u001b[0m\u001b[1;33m\u001b[0m\u001b[0m\n",
      "\u001b[1;31mIndexError\u001b[0m: list index out of range"
     ]
    }
   ],
   "source": [
    "# sent_to_input + numbering\n",
    "type2_A_input = {}\n",
    "key_list = sorted(list(sent_example.keys()), key=len)    # 어려운 단어 리스트. 글자수가 더 많은 키워드를 먼저 ^^로 태깅하면 문제가 생김. 그래서 오름차순 정렬함\n",
    "keyword_pos = []\n",
    "tag = '^'\n",
    "\n",
    "for i in tnrange(len(key_list)):\n",
    "    type2_A_input.update({key_list[i]:[]})\n",
    "    \n",
    "    for j in range(len(sent_example[key_list[i]])):\n",
    "        sentence = sent_example[key_list[i]][j]\n",
    "        sentence_checked = correction(sentence)[0]\n",
    "        errors = correction(sentence)[1]\n",
    "        type2_A_input[key_list[i]][j].update({'number':j, 'sentence':sentence, 'sentence_checked':sentence_checked, 'word':[], 'wordOccurence':[], 'errors':errors})\n",
    "        \n",
    "        for k in range(0, len(sent_example[key_list1[i]][j]['word'])):    # 단어 수\n",
    "            keyword = sent_example[key_list[i]][j]['word'][k]    # 키워드\n",
    "            checked_keyword = correction(keyword)\n",
    "        \n",
    "        type2_A_input[key_list[i]][j].update({'keyword_error':isdiff(keyword, checked_keyword)})"
   ]
  },
  {
   "cell_type": "code",
   "execution_count": null,
   "id": "9cf90a08-ca4e-4182-96b5-a4874f0d4f83",
   "metadata": {},
   "outputs": [],
   "source": []
  },
  {
   "cell_type": "code",
   "execution_count": 10,
   "id": "ef618d31-25c6-49f2-8b00-e6d07d29405b",
   "metadata": {},
   "outputs": [],
   "source": [
    "# json 파일로 저장\n",
    "with open('C:/Users/jayts/OneDrive/바탕 화면/Tictag/json/KAS/type2_A_input_checked.json', 'w', encoding='UTF8') as json_file:\n",
    "# with open('C:/Users/jayts/OneDrive/바탕 화면/Tictag/json/KAS/type2_A_input_example.json', 'w', encoding='UTF8') as json_file:\n",
    "    json.dump(type2_A_input, json_file, indent=4, ensure_ascii=False,)"
   ]
  },
  {
   "cell_type": "code",
   "execution_count": null,
   "id": "45e277bc-0d9a-43f0-abbc-845820f9ca4f",
   "metadata": {},
   "outputs": [],
   "source": []
  }
 ],
 "metadata": {
  "kernelspec": {
   "display_name": "Python 3",
   "language": "python",
   "name": "python3"
  },
  "language_info": {
   "codemirror_mode": {
    "name": "ipython",
    "version": 3
   },
   "file_extension": ".py",
   "mimetype": "text/x-python",
   "name": "python",
   "nbconvert_exporter": "python",
   "pygments_lexer": "ipython3",
   "version": "3.8.8"
  }
 },
 "nbformat": 4,
 "nbformat_minor": 5
}
