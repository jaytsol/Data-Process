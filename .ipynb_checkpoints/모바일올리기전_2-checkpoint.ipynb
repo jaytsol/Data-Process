{
 "cells": [
  {
   "cell_type": "code",
   "execution_count": 1,
   "id": "04ec9db2-0176-40d2-aad9-fa59c1a28baa",
   "metadata": {},
   "outputs": [],
   "source": [
    "import pandas as pd\n",
    "import re\n",
    "from tqdm import trange"
   ]
  },
  {
   "cell_type": "code",
   "execution_count": 2,
   "id": "8ab6269c-d02f-4a17-ac5f-8d879945a632",
   "metadata": {},
   "outputs": [],
   "source": [
    "# 문제점 1 \n",
    "# 법률 어휘 키워드로 변환\n",
    "def change(part):\n",
    "  \n",
    "  flag = False\n",
    "  \n",
    "  law_word = 'Error'\n",
    "    \n",
    "  for word, keyword in temp_dict.items():\n",
    "  \n",
    "    word_place = part.find(word)\n",
    "\n",
    "    if word_place != -1 and word_place == 0:\n",
    "      \n",
    "      law_word = word\n",
    "      \n",
    "      part = part.replace(word, keyword + f'<={law_word}>')\n",
    "\n",
    "      flag = True\n",
    "\n",
    "      break\n",
    "\n",
    "  return part, flag, law_word"
   ]
  },
  {
   "cell_type": "code",
   "execution_count": 3,
   "id": "52f779b5-ae0c-4767-82f3-ff2fe2bd5afa",
   "metadata": {},
   "outputs": [
    {
     "name": "stderr",
     "output_type": "stream",
     "text": [
      "100%|██████████| 8944/8944 [00:01<00:00, 5540.55it/s]\n",
      "  0%|          | 0/2826 [00:00<?, ?it/s]"
     ]
    },
    {
     "name": "stdout",
     "output_type": "stream",
     "text": [
      "2316\n",
      "2316\n"
     ]
    },
    {
     "name": "stderr",
     "output_type": "stream",
     "text": [
      "100%|██████████| 2826/2826 [20:09<00:00,  2.34it/s]"
     ]
    },
    {
     "name": "stdout",
     "output_type": "stream",
     "text": [
      "76902\n",
      "38451\n"
     ]
    },
    {
     "name": "stderr",
     "output_type": "stream",
     "text": [
      "\n"
     ]
    }
   ],
   "source": [
    "data_list = []\n",
    "data_origin_list = []\n",
    "\n",
    "temp_dict = {}\n",
    "count1 = 0\n",
    "count2 = 0\n",
    "keyword_data = pd.read_csv('/Users/jaytsol/Desktop/Type23 (2)/오리지널/태깅 이전 데이터/현경은님_2차검수_작업파일.csv')\n",
    "origin_data = pd.read_csv('/Users/jaytsol/Desktop/Type23 (2)/오리지널/태깅 이전 데이터/asterisk_panrye_data.csv')\n",
    "\n",
    "# 법률어휘 - 키워드 쌍으로 딕셔너리 생성\n",
    "for i in trange(0,len(keyword_data)):\n",
    "  \n",
    "  word = str(keyword_data.loc[i]['단어'])\n",
    "  first_trans_word_to_keyword = str(keyword_data.loc[i]['1차 번역 어휘'])\n",
    "  second_trans_word_to_keyword = str(keyword_data.loc[i]['최종 검수 어휘'])\n",
    "  final_keyword = ''\n",
    "\n",
    "  if first_trans_word_to_keyword != 'nan':\n",
    "    \n",
    "    if second_trans_word_to_keyword == 'nan':\n",
    "      \n",
    "      count1 = count1 + 1\n",
    "      final_keyword = first_trans_word_to_keyword\n",
    "    \n",
    "    else:\n",
    "      count2 = count2 + 1\n",
    "      final_keyword = second_trans_word_to_keyword\n",
    "    \n",
    "    # 단어 길이순 정렬해야댐\n",
    "    temp_dict[word] = final_keyword\n",
    "    \n",
    "  else:\n",
    "\n",
    "    pass\n",
    "print(count1 +count2)\n",
    "temp_dict = dict(sorted(temp_dict.items(), key = lambda item: len(item[0]), reverse=True))\n",
    "print(len(temp_dict))\n",
    "\n",
    "for i in trange(0,len(origin_data)):\n",
    "  \n",
    "  word = origin_data.loc[i]['word']\n",
    "  \n",
    "  ## 임시\n",
    "  \n",
    "  # if len(data_origin_list) >= 10 :\n",
    "    \n",
    "  #   continue\n",
    "  \n",
    "  for j in range(1,41):\n",
    "    \n",
    "    sentence = str(origin_data.loc[i][f'sentence_{j}'])\n",
    "    \n",
    "    if sentence == 'nan':\n",
    "      \n",
    "      continue\n",
    "    \n",
    "    splitted_sentence = sentence.split(' ')\n",
    "    \n",
    "    splitted_sentence_length = len(splitted_sentence)\n",
    "    \n",
    "    origin_sentence = ''\n",
    "    \n",
    "    new_sentence = ''\n",
    "    \n",
    "    count = 0\n",
    "    \n",
    "    is_changed_part = False\n",
    "    \n",
    "    for part in splitted_sentence:\n",
    "      \n",
    "      changed_part, flag, law_word = change(part)\n",
    "      \n",
    "      if is_changed_part:\n",
    "        \n",
    "        is_changed_part = False\n",
    "        continue\n",
    "      \n",
    "      # 문장에서 맨 마지막 어절일 떄\n",
    "      if count + 1 == splitted_sentence_length:\n",
    "        \n",
    "        previous_part = splitted_sentence[count-1]\n",
    "        \n",
    "        new_previous_part, previous_flag, dump_value = change(previous_part)\n",
    "        \n",
    "        # 해당 어절이 변환될 단어일 때\n",
    "        if flag:\n",
    "      \n",
    "\n",
    "                              \n",
    "          # 마지막에서 두 번째 어절이 변환될 단어 일 때 (이미 삿갓표시와 해당 어절이 변환 되어있음)\n",
    "          if previous_flag:\n",
    "            \n",
    "            pass\n",
    "          \n",
    "          # elif new_sentence.split(' ')[-1].find('>') != -1 or new_sentence.split(' ')[-1].find('<') != -1:\n",
    "            \n",
    "          #   origin_sentence = origin_sentence + ' ' + part\n",
    "          #   new_sentence = new_sentence + ' ' + changed_part\n",
    "            \n",
    "          #   pass       \n",
    "          # 마지막에서 두 번째 어절이 변환되지 않을 단어 일 때 (삿갓표시 안되어있음)\n",
    "          else:\n",
    "            splitted_origin_sentence = origin_sentence.split(' ')\n",
    "            temp = ' '.join(splitted_origin_sentence[0:-1])\n",
    "            origin_sentence = temp + ' ' + '<<<' + previous_part + ' ' + part  + '>>>'\n",
    "            \n",
    "            splitted_new_sentence = new_sentence.split(' ')\n",
    "            temp = ' '.join(splitted_new_sentence[0:-1])\n",
    "            new_sentence = temp + ' ' + '<<<' + new_previous_part + ' ' + changed_part  + '>>>'\n",
    "        \n",
    "        # 해당 어절이 변환될 단어가 아닐 때\n",
    "        else:\n",
    "    \n",
    "          origin_sentence = origin_sentence + ' ' + part\n",
    "          new_sentence = new_sentence + ' ' + part\n",
    "\n",
    "      # 문장에서 맨 마지막 어절이 아닐 때\n",
    "      else :\n",
    "\n",
    "        # 해당 어절이 변환될 단어일 때\n",
    "        if flag:\n",
    "          \n",
    "          changed_next_part, next_flag, next_law_word = change(splitted_sentence[count+1])\n",
    "          \n",
    "          # 해당 어절 다음 어절이 변환될 단어일 때\n",
    "          if next_flag:\n",
    "            \n",
    "            origin_sentence = origin_sentence + ' ' + '<<<' + part  + ' ' + splitted_sentence[count+1] + '>>>'\n",
    "            new_sentence = new_sentence + ' ' + '<<<' + changed_part  + ' ' + changed_next_part + '>>>'\n",
    "            is_changed_part = True\n",
    "            count = count + 1\n",
    "          \n",
    "          # 해당 어절 다음 어절이 변환될 단어가 아닐 때\n",
    "          else:\n",
    "          \n",
    "            origin_sentence = origin_sentence + ' ' + '<<<' + part  + ' ' + splitted_sentence[count+1] + '>>>'\n",
    "            new_sentence = new_sentence + ' ' + '<<<' + changed_part  + ' ' + changed_next_part + '>>>'\n",
    "            is_changed_part = True\n",
    "            count = count + 1\n",
    "        \n",
    "        else :\n",
    "          origin_sentence = origin_sentence + ' ' + part\n",
    "          new_sentence = new_sentence + ' ' + part          \n",
    "        \n",
    "        count = count + 1\n",
    "\n",
    "    data_origin_list.append(origin_sentence.strip())\n",
    "    data_list.append(new_sentence.strip())\n",
    "    \n",
    "    # print(origin_sentence)\n",
    "    # print(new_sentence)\n",
    "print(len(data_list))\n",
    "\n",
    "# Split Data\n",
    "data_list1 = data_list[0:int(len(data_list)/2)]\n",
    "data_list2 = data_list[int(len(data_list)/2):]\n",
    "\n",
    "print(len(data_list1))\n",
    "# print(len(data_list2))\n",
    "\n",
    "# dataframe = pd.DataFrame(data_list)\n",
    "# dataframe.to_csv('Type2/Data/input_data/sample_type2_input.csv',index=False,header=False)\n",
    "\n",
    "# dataframe = pd.DataFrame(data_list1)\n",
    "# dataframe.to_csv('Type2/Data/input_data/sample_type2_input_1.csv',index=False,header=False)\n",
    "\n",
    "# dataframe = pd.DataFrame(data_list2)\n",
    "# dataframe.to_csv('Type2/Data/input_data/sample_type2_input_2.csv',index=False,header=False)\n",
    "\n",
    "# dataframe = pd.DataFrame(data_list2)\n",
    "# dataframe.to_csv('Type2/Data/input_data/sample3_type2_input_2.csv',index=False,header=False)"
   ]
  },
  {
   "cell_type": "code",
   "execution_count": 9,
   "id": "f260bf5e-471f-4e55-bdd3-ca078c6e33d4",
   "metadata": {},
   "outputs": [
    {
     "data": {
      "text/plain": [
       "76902"
      ]
     },
     "execution_count": 9,
     "metadata": {},
     "output_type": "execute_result"
    }
   ],
   "source": [
    "len(data_list)"
   ]
  },
  {
   "cell_type": "code",
   "execution_count": 13,
   "id": "a007dba5-d356-46cc-845e-e15ce7e9c2e1",
   "metadata": {},
   "outputs": [
    {
     "data": {
      "text/plain": [
       "38451"
      ]
     },
     "execution_count": 13,
     "metadata": {},
     "output_type": "execute_result"
    }
   ],
   "source": [
    "len(data_list2)"
   ]
  },
  {
   "cell_type": "code",
   "execution_count": 18,
   "id": "26146ad5-c258-4d63-abce-41cffaeed21d",
   "metadata": {},
   "outputs": [
    {
     "data": {
      "text/plain": [
       "['<<<직전의 재판<=원심>판결 이유에>>> 의하면, <<<직전의 재판<=원심>은 이>>> 사건 행위가 공정거래법 제3조의2 제1항 제3호에 규정된 ‘다른 사업자의 사업활동을 방해하는 행위’로서 부당한 것인지 <<<맞거나 틀림<=여부>를 판단함에>>> 있어 그 여러 고려할 사항 중의 하나로, 음악파일의 상호호환을 강제할 법률적 근거는 없으므로, <<<민사소송에서 소송을 당한 사람<=피고>가 별도의>>> 입법조치 없이 <<<민사소송을 일으킨 사람<=원고>에게 연결되는 데 문제가 없음<=호환>기술의>>> 사용을 요구하거나 이를 의무화하는 것은 그 권한 범위를 넘어서는 것이라는 <<<하려는 목적이나 요지<=취지>로 설시하였음을>>> 알 수 있고, 이 사건 행위가 공정거래법 제3조의2 제1항 제3호에 규정된 ‘다른 사업자의 사업활동을 방해하는 행위’로서 부당하다고 볼 수 없다고 본 <<<직전의 재판<=원심>의 판단은>>> 정당하므로, 거기에 <<<원심 판결에 불복해 재심사 요청<=상고>이유에서 주장하는>>> 바와 같은 <<<잘못된 것을 바로잡는 것<=시정>명령의 해석에>>> 관한 <<<법률의 근본 원리<=법리>오해의 법령에 어긋남<=위법>이>>> 없다.',\n",
       " '비록 양 발명의 구성에 <<<서로 다름<=상이>점이 있어도>>> 그 기술분야에서 <<<일반적인 경우<=통상>의 지식을>>> 가진 자가 보통으로 채용하는 정도의 변경에 지나지 아니하고 발명의 목적과 작용효과에 격별한 차이를 일으키지 아니하는 경우에는 양 발명은 역시 동일한 발명이라 할 것인바 기록에 의하면 이건 특허와 <<<특허권을 얻기 위해 특허청장에게 신청함<=출원>은 두>>> 발명 모두가 감광지에 액상 진주박등 혼합액을 도포하고 그 위에 천연자개의 색감을 낼 수 있는 각종 색의 안료를 사용하여 무늬를 도층한 후 건조시켜 그 위에 장식무늬를 스크린 인쇄하는 단계에 이르기까지 그 기술적 사상이 동일하고 <<<직전의 재판<=원심>결이 이>>> 단계에 있어서 차이점으로 드는 무늬형성방법과 착색제 조성상의 <<<서로 다름<=상이>나 특히>>> 이건 <<<특허권을 얻기 위해 특허청장에게 신청함<=출원>에 첨가되는>>> 수성염료가 이건 특허에서는 삭제되었다는 점은 수성염료도 착색제로서는 다른 안료와 <<<연결되는 데 문제가 없음<=호환>성을 갖는>>> 재료라 할 것이고',\n",
       " '[2] 등록의장의 대상물품인 \"스위치\"가 독립거래의 대상성 및 <<<연결되는 데 문제가 없음<=호환>성이 있어>>> 의장법상의 물품으로서 의장의 대상이 될 수 있다고 한 사례']"
      ]
     },
     "execution_count": 18,
     "metadata": {},
     "output_type": "execute_result"
    }
   ],
   "source": [
    "data_list[0:3]"
   ]
  },
  {
   "cell_type": "code",
   "execution_count": 17,
   "id": "c84b7d1c-37be-4ffc-adb7-36014f4c687d",
   "metadata": {},
   "outputs": [
    {
     "data": {
      "text/plain": [
       "['<<<원심판결 이유에>>> 의하면, <<<원심은 이>>> 사건 행위가 공정거래법 제3조의2 제1항 제3호에 규정된 ‘다른 사업자의 사업활동을 방해하는 행위’로서 부당한 것인지 <<<여부를 판단함에>>> 있어 그 여러 고려할 사항 중의 하나로, 음악파일의 상호호환을 강제할 법률적 근거는 없으므로, <<<피고가 별도의>>> 입법조치 없이 <<<원고에게 호환기술의>>> 사용을 요구하거나 이를 의무화하는 것은 그 권한 범위를 넘어서는 것이라는 <<<취지로 설시하였음을>>> 알 수 있고, 이 사건 행위가 공정거래법 제3조의2 제1항 제3호에 규정된 ‘다른 사업자의 사업활동을 방해하는 행위’로서 부당하다고 볼 수 없다고 본 <<<원심의 판단은>>> 정당하므로, 거기에 <<<상고이유에서 주장하는>>> 바와 같은 <<<시정명령의 해석에>>> 관한 <<<법리오해의 위법이>>> 없다.',\n",
       " '비록 양 발명의 구성에 <<<상이점이 있어도>>> 그 기술분야에서 <<<통상의 지식을>>> 가진 자가 보통으로 채용하는 정도의 변경에 지나지 아니하고 발명의 목적과 작용효과에 격별한 차이를 일으키지 아니하는 경우에는 양 발명은 역시 동일한 발명이라 할 것인바 기록에 의하면 이건 특허와 <<<출원은 두>>> 발명 모두가 감광지에 액상 진주박등 혼합액을 도포하고 그 위에 천연자개의 색감을 낼 수 있는 각종 색의 안료를 사용하여 무늬를 도층한 후 건조시켜 그 위에 장식무늬를 스크린 인쇄하는 단계에 이르기까지 그 기술적 사상이 동일하고 <<<원심결이 이>>> 단계에 있어서 차이점으로 드는 무늬형성방법과 착색제 조성상의 <<<상이나 특히>>> 이건 <<<출원에 첨가되는>>> 수성염료가 이건 특허에서는 삭제되었다는 점은 수성염료도 착색제로서는 다른 안료와 <<<호환성을 갖는>>> 재료라 할 것이고',\n",
       " '[2] 등록의장의 대상물품인 \"스위치\"가 독립거래의 대상성 및 <<<호환성이 있어>>> 의장법상의 물품으로서 의장의 대상이 될 수 있다고 한 사례']"
      ]
     },
     "execution_count": 17,
     "metadata": {},
     "output_type": "execute_result"
    }
   ],
   "source": [
    "data_origin_list[0:3]"
   ]
  },
  {
   "cell_type": "code",
   "execution_count": 36,
   "id": "62b13b13-11e6-4755-8189-28795d7c719d",
   "metadata": {},
   "outputs": [
    {
     "name": "stderr",
     "output_type": "stream",
     "text": [
      "100%|██████████| 76902/76902 [00:00<00:00, 249592.68it/s]\n"
     ]
    }
   ],
   "source": [
    "data_origin_list_without_asterisk = []\n",
    "for i in trange(len(data_origin_list)):\n",
    "    data_origin_list_without_asterisk.append(data_origin_list[i].replace('<<<', '').replace('>>>', ''))"
   ]
  },
  {
   "cell_type": "code",
   "execution_count": 26,
   "id": "256ac47d-9328-40bd-8e1c-de0e5e0b05bb",
   "metadata": {},
   "outputs": [
    {
     "data": {
      "text/plain": [
       "'원심판결 이유에 의하면, 원심은 이 사건 행위가 공정거래법 제3조의2 제1항 제3호에 규정된 ‘다른 사업자의 사업활동을 방해하는 행위’로서 부당한 것인지 여부를 판단함에 있어 그 여러 고려할 사항 중의 하나로, 음악파일의 상호호환을 강제할 법률적 근거는 없으므로, 피고가 별도의 입법조치 없이 원고에게 호환기술의 사용을 요구하거나 이를 의무화하는 것은 그 권한 범위를 넘어서는 것이라는 취지로 설시하였음을 알 수 있고, 이 사건 행위가 공정거래법 제3조의2 제1항 제3호에 규정된 ‘다른 사업자의 사업활동을 방해하는 행위’로서 부당하다고 볼 수 없다고 본 원심의 판단은 정당하므로, 거기에 상고이유에서 주장하는 바와 같은 시정명령의 해석에 관한 법리오해의 위법이 없다.'"
      ]
     },
     "execution_count": 26,
     "metadata": {},
     "output_type": "execute_result"
    }
   ],
   "source": [
    "data_origin_list_without_asterisk[0]"
   ]
  },
  {
   "cell_type": "code",
   "execution_count": 19,
   "id": "3fbe28c8-3820-4137-8d42-7b547e3f3c13",
   "metadata": {},
   "outputs": [
    {
     "data": {
      "text/plain": [
       "76902"
      ]
     },
     "execution_count": 19,
     "metadata": {},
     "output_type": "execute_result"
    }
   ],
   "source": [
    "len(data_origin_list)"
   ]
  },
  {
   "cell_type": "code",
   "execution_count": 37,
   "id": "980b4d41-7762-427f-be5a-151cbe7b9457",
   "metadata": {},
   "outputs": [],
   "source": [
    "result = pd.DataFrame(zip(data_origin_list_without_asterisk, data_list), columns = ['org', 'tagged'])"
   ]
  },
  {
   "cell_type": "code",
   "execution_count": 38,
   "id": "17d39045-078a-45fd-99da-0e9da028026b",
   "metadata": {},
   "outputs": [
    {
     "data": {
      "text/html": [
       "<div>\n",
       "<style scoped>\n",
       "    .dataframe tbody tr th:only-of-type {\n",
       "        vertical-align: middle;\n",
       "    }\n",
       "\n",
       "    .dataframe tbody tr th {\n",
       "        vertical-align: top;\n",
       "    }\n",
       "\n",
       "    .dataframe thead th {\n",
       "        text-align: right;\n",
       "    }\n",
       "</style>\n",
       "<table border=\"1\" class=\"dataframe\">\n",
       "  <thead>\n",
       "    <tr style=\"text-align: right;\">\n",
       "      <th></th>\n",
       "      <th>org</th>\n",
       "      <th>tagged</th>\n",
       "    </tr>\n",
       "  </thead>\n",
       "  <tbody>\n",
       "    <tr>\n",
       "      <th>0</th>\n",
       "      <td>원심판결 이유에 의하면, 원심은 이 사건 행위가 공정거래법 제3조의2 제1항 제3호...</td>\n",
       "      <td>&lt;&lt;&lt;직전의 재판&lt;=원심&gt;판결 이유에&gt;&gt;&gt; 의하면, &lt;&lt;&lt;직전의 재판&lt;=원심&gt;은 이...</td>\n",
       "    </tr>\n",
       "    <tr>\n",
       "      <th>1</th>\n",
       "      <td>비록 양 발명의 구성에 상이점이 있어도 그 기술분야에서 통상의 지식을 가진 자가 보...</td>\n",
       "      <td>비록 양 발명의 구성에 &lt;&lt;&lt;서로 다름&lt;=상이&gt;점이 있어도&gt;&gt;&gt; 그 기술분야에서 &lt;...</td>\n",
       "    </tr>\n",
       "    <tr>\n",
       "      <th>2</th>\n",
       "      <td>[2] 등록의장의 대상물품인 \"스위치\"가 독립거래의 대상성 및 호환성이 있어 의장법...</td>\n",
       "      <td>[2] 등록의장의 대상물품인 \"스위치\"가 독립거래의 대상성 및 &lt;&lt;&lt;연결되는 데 문...</td>\n",
       "    </tr>\n",
       "    <tr>\n",
       "      <th>3</th>\n",
       "      <td>③ 이 사건 프로젝터에 사용된 LCD는 ***** 컴퓨터나 그 호환컴퓨터에 대표적으...</td>\n",
       "      <td>③ 이 사건 프로젝터에 사용된 LCD는 ***** 컴퓨터나 그 &lt;&lt;&lt;연결되는 데 문...</td>\n",
       "    </tr>\n",
       "    <tr>\n",
       "      <th>4</th>\n",
       "      <td>구 의장법 제2조 제1호에서 말하는 \"물품\"이란 독립성이 있는 구체적인 유체동산을 ...</td>\n",
       "      <td>구 의장법 제2조 제1호에서 말하는 \"물품\"이란 독립성이 있는 구체적인 유체동산을 ...</td>\n",
       "    </tr>\n",
       "    <tr>\n",
       "      <th>...</th>\n",
       "      <td>...</td>\n",
       "      <td>...</td>\n",
       "    </tr>\n",
       "    <tr>\n",
       "      <th>76897</th>\n",
       "      <td>구 대통령선거법 제34조는 '선거운동'고 규정하여 사전선거운동을 금지하고 이를 위반...</td>\n",
       "      <td>구 대통령선거법 제34조는 '선거운동'고 규정하여 사전선거운동을 금지하고 이를 위반...</td>\n",
       "    </tr>\n",
       "    <tr>\n",
       "      <th>76898</th>\n",
       "      <td>****.**.**시행된 **** 선거구의 제16대 국회의원 선거에 원고가 기호 3...</td>\n",
       "      <td>****.**.**시행된 **** 선거구의 제16대 국회의원 선거에 &lt;&lt;&lt;민사소송을...</td>\n",
       "    </tr>\n",
       "    <tr>\n",
       "      <th>76899</th>\n",
       "      <td>원심판결 이유에 의하면, 원심은 그 거시 증거를 종합하여 엽연초생산협동조합법에 의하...</td>\n",
       "      <td>&lt;&lt;&lt;직전의 재판&lt;=원심&gt;판결 이유에&gt;&gt;&gt; 의하면, &lt;&lt;&lt;직전의 재판&lt;=원심&gt;은 그...</td>\n",
       "    </tr>\n",
       "    <tr>\n",
       "      <th>76900</th>\n",
       "      <td>헌법재판소가 선거운동인지를 판단하는 중요한 기준은 행위의 ‘특정후보자의 당선 내지 ...</td>\n",
       "      <td>헌법재판소가 선거운동인지를 판단하는 중요한 기준은 행위의 ‘특정후보자의 당선 내지 ...</td>\n",
       "    </tr>\n",
       "    <tr>\n",
       "      <th>76901</th>\n",
       "      <td>다만, 선거에 관한 단순한 의견의 개진·의사의 표시·입후보와 선거를 위한 준비행위 ...</td>\n",
       "      <td>다만, 선거에 관한 단순한 의견의 &lt;&lt;&lt;의견이나 내용을 드러내어 전개함&lt;=개진&gt;·의...</td>\n",
       "    </tr>\n",
       "  </tbody>\n",
       "</table>\n",
       "<p>76902 rows × 2 columns</p>\n",
       "</div>"
      ],
      "text/plain": [
       "                                                     org  \\\n",
       "0      원심판결 이유에 의하면, 원심은 이 사건 행위가 공정거래법 제3조의2 제1항 제3호...   \n",
       "1      비록 양 발명의 구성에 상이점이 있어도 그 기술분야에서 통상의 지식을 가진 자가 보...   \n",
       "2      [2] 등록의장의 대상물품인 \"스위치\"가 독립거래의 대상성 및 호환성이 있어 의장법...   \n",
       "3      ③ 이 사건 프로젝터에 사용된 LCD는 ***** 컴퓨터나 그 호환컴퓨터에 대표적으...   \n",
       "4      구 의장법 제2조 제1호에서 말하는 \"물품\"이란 독립성이 있는 구체적인 유체동산을 ...   \n",
       "...                                                  ...   \n",
       "76897  구 대통령선거법 제34조는 '선거운동'고 규정하여 사전선거운동을 금지하고 이를 위반...   \n",
       "76898  ****.**.**시행된 **** 선거구의 제16대 국회의원 선거에 원고가 기호 3...   \n",
       "76899  원심판결 이유에 의하면, 원심은 그 거시 증거를 종합하여 엽연초생산협동조합법에 의하...   \n",
       "76900  헌법재판소가 선거운동인지를 판단하는 중요한 기준은 행위의 ‘특정후보자의 당선 내지 ...   \n",
       "76901  다만, 선거에 관한 단순한 의견의 개진·의사의 표시·입후보와 선거를 위한 준비행위 ...   \n",
       "\n",
       "                                                  tagged  \n",
       "0      <<<직전의 재판<=원심>판결 이유에>>> 의하면, <<<직전의 재판<=원심>은 이...  \n",
       "1      비록 양 발명의 구성에 <<<서로 다름<=상이>점이 있어도>>> 그 기술분야에서 <...  \n",
       "2      [2] 등록의장의 대상물품인 \"스위치\"가 독립거래의 대상성 및 <<<연결되는 데 문...  \n",
       "3      ③ 이 사건 프로젝터에 사용된 LCD는 ***** 컴퓨터나 그 <<<연결되는 데 문...  \n",
       "4      구 의장법 제2조 제1호에서 말하는 \"물품\"이란 독립성이 있는 구체적인 유체동산을 ...  \n",
       "...                                                  ...  \n",
       "76897  구 대통령선거법 제34조는 '선거운동'고 규정하여 사전선거운동을 금지하고 이를 위반...  \n",
       "76898  ****.**.**시행된 **** 선거구의 제16대 국회의원 선거에 <<<민사소송을...  \n",
       "76899  <<<직전의 재판<=원심>판결 이유에>>> 의하면, <<<직전의 재판<=원심>은 그...  \n",
       "76900  헌법재판소가 선거운동인지를 판단하는 중요한 기준은 행위의 ‘특정후보자의 당선 내지 ...  \n",
       "76901  다만, 선거에 관한 단순한 의견의 <<<의견이나 내용을 드러내어 전개함<=개진>·의...  \n",
       "\n",
       "[76902 rows x 2 columns]"
      ]
     },
     "execution_count": 38,
     "metadata": {},
     "output_type": "execute_result"
    }
   ],
   "source": [
    "result"
   ]
  },
  {
   "cell_type": "code",
   "execution_count": 39,
   "id": "a1600750-25d4-42c9-9efa-94081feb1c57",
   "metadata": {},
   "outputs": [],
   "source": [
    "result.to_csv('/Users/jaytsol/Desktop/Type23 (2)/오리지널/total_original/save_lineNumber.csv', index=False, encoding='utf-8-sig')"
   ]
  },
  {
   "cell_type": "code",
   "execution_count": null,
   "id": "c485d8ca-b97d-43cc-b8a2-bbfe245b3882",
   "metadata": {},
   "outputs": [],
   "source": []
  }
 ],
 "metadata": {
  "kernelspec": {
   "display_name": "Python 3",
   "language": "python",
   "name": "python3"
  },
  "language_info": {
   "codemirror_mode": {
    "name": "ipython",
    "version": 3
   },
   "file_extension": ".py",
   "mimetype": "text/x-python",
   "name": "python",
   "nbconvert_exporter": "python",
   "pygments_lexer": "ipython3",
   "version": "3.8.8"
  }
 },
 "nbformat": 4,
 "nbformat_minor": 5
}
