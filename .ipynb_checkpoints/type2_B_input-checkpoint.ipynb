{
 "cells": [
  {
   "cell_type": "code",
   "execution_count": 1,
   "id": "be5e048b-f93b-44ee-840d-d5790db4c0ee",
   "metadata": {},
   "outputs": [],
   "source": [
    "import json\n",
    "from tqdm import tnrange, tqdm_notebook"
   ]
  },
  {
   "cell_type": "code",
   "execution_count": 2,
   "id": "9a9e1e3e-f0b4-411e-8f30-bd40075199d4",
   "metadata": {},
   "outputs": [],
   "source": [
    "f = open('C:/Users/jayts/OneDrive/바탕 화면/Tictag/json/KAS/removed_duplicate_panrye_통합본_2021_8_10_longsent_removed.json', 'r', encoding='UTF8')    # type3를 통해 추출된 json파일 읽어들이기\n",
    "# f = open('C:/Users/jayts/OneDrive/바탕 화면/Tictag/json/KAS/removed_dup_example.json', 'r', encoding='UTF8')    # type3를 통해 추출된 json파일 읽어들이기\n",
    "original = json.load(f)"
   ]
  },
  {
   "cell_type": "code",
   "execution_count": null,
   "id": "cad1e1fa-8902-446e-a5c9-d7d62cde6afe",
   "metadata": {},
   "outputs": [],
   "source": []
  }
 ],
 "metadata": {
  "kernelspec": {
   "display_name": "Python 3",
   "language": "python",
   "name": "python3"
  },
  "language_info": {
   "codemirror_mode": {
    "name": "ipython",
    "version": 3
   },
   "file_extension": ".py",
   "mimetype": "text/x-python",
   "name": "python",
   "nbconvert_exporter": "python",
   "pygments_lexer": "ipython3",
   "version": "3.8.8"
  }
 },
 "nbformat": 4,
 "nbformat_minor": 5
}
