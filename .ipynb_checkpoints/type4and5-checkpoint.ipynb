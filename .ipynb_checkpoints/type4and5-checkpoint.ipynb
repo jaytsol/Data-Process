{
 "cells": [
  {
   "cell_type": "code",
   "execution_count": 1,
   "id": "b6facdf4-fc33-48e1-8665-a0413b4bf959",
   "metadata": {},
   "outputs": [],
   "source": [
    "import json\n",
    "import csv\n",
    "import numpy as np\n",
    "from tqdm import tnrange, tqdm_notebook\n",
    "import pandas as pd"
   ]
  },
  {
   "cell_type": "code",
   "execution_count": 2,
   "id": "40e2890d-1772-4cf6-8d0b-597c49358fe7",
   "metadata": {},
   "outputs": [],
   "source": [
    "f = open('C:/Users/jayts/OneDrive/바탕 화면/Tictag/json/KAS/panryedata.json', 'r', encoding='UTF8')\n",
    "original = json.load(f)\n",
    "f.close()"
   ]
  },
  {
   "cell_type": "code",
   "execution_count": 3,
   "id": "56b5cb6c-5c43-41f2-bfa7-5470c4efe9e2",
   "metadata": {},
   "outputs": [
    {
     "name": "stderr",
     "output_type": "stream",
     "text": [
      "<ipython-input-3-b4a7549d2a4f>:2: TqdmDeprecationWarning: Please use `tqdm.notebook.trange` instead of `tqdm.tnrange`\n",
      "  for i in tnrange(len(original['cases'])):\n"
     ]
    },
    {
     "data": {
      "application/vnd.jupyter.widget-view+json": {
       "model_id": "a61a740f86d04cb9aeb6b7354258e030",
       "version_major": 2,
       "version_minor": 0
      },
      "text/plain": [
       "  0%|          | 0/50000 [00:00<?, ?it/s]"
      ]
     },
     "metadata": {},
     "output_type": "display_data"
    }
   ],
   "source": [
    "text_pansi = []\n",
    "for i in tnrange(len(original['cases'])):\n",
    "    try:\n",
    "        for j in range(len(original['cases'][i]['pansi'])):\n",
    "            text_pansi.append(original['cases'][i]['pansi'][j]['text'])\n",
    "    except:\n",
    "        continue"
   ]
  },
  {
   "cell_type": "code",
   "execution_count": 4,
   "id": "f912e987-48d9-4969-9fda-dff429eb1240",
   "metadata": {},
   "outputs": [
    {
     "name": "stderr",
     "output_type": "stream",
     "text": [
      "<ipython-input-4-0a8c030cbf20>:2: TqdmDeprecationWarning: Please use `tqdm.notebook.trange` instead of `tqdm.tnrange`\n",
      "  for i in tnrange(len(original['cases'])):\n"
     ]
    },
    {
     "data": {
      "application/vnd.jupyter.widget-view+json": {
       "model_id": "abb0a7395ff546aca0c9f4f19e935473",
       "version_major": 2,
       "version_minor": 0
      },
      "text/plain": [
       "  0%|          | 0/50000 [00:00<?, ?it/s]"
      ]
     },
     "metadata": {},
     "output_type": "display_data"
    }
   ],
   "source": [
    "text_yozi = []\n",
    "for i in tnrange(len(original['cases'])):\n",
    "    try:\n",
    "        for j in range(len(original['cases'][i]['yozi'])):\n",
    "            text_yozi.append(original['cases'][i]['yozi'][j]['text'])\n",
    "    except:\n",
    "        continue"
   ]
  },
  {
   "cell_type": "code",
   "execution_count": 5,
   "id": "cd39d469-4b89-46ef-9cce-38e874eefedd",
   "metadata": {},
   "outputs": [
    {
     "name": "stderr",
     "output_type": "stream",
     "text": [
      "<ipython-input-5-c7ed1b22750e>:2: TqdmDeprecationWarning: Please use `tqdm.notebook.trange` instead of `tqdm.tnrange`\n",
      "  for i in tnrange(len(original['cases'])):\n"
     ]
    },
    {
     "data": {
      "application/vnd.jupyter.widget-view+json": {
       "model_id": "44b7cdf1cbaa4ff985935d50d1774e4f",
       "version_major": 2,
       "version_minor": 0
      },
      "text/plain": [
       "  0%|          | 0/50000 [00:00<?, ?it/s]"
      ]
     },
     "metadata": {},
     "output_type": "display_data"
    }
   ],
   "source": [
    "text_reason = []\n",
    "for i in tnrange(len(original['cases'])):\n",
    "    for j in range(len(original['cases'][i]['jeonmun'])):\n",
    "        try:\n",
    "            for k in range(len(original['cases'][i]['jeonmun'][j]['reason'])):\n",
    "                if original['cases'][i]['jeonmun'][j]['reason'][k]['mokcha'] == '【이    유】':\n",
    "                    text_reason.append(original['cases'][i]['jeonmun'][j]['reason'][k]['text'])\n",
    "        except:\n",
    "            continue"
   ]
  },
  {
   "cell_type": "code",
   "execution_count": 12,
   "id": "43f2a8ae-c380-4d7d-8ec3-e112c775a939",
   "metadata": {},
   "outputs": [
    {
     "name": "stderr",
     "output_type": "stream",
     "text": [
      "<ipython-input-12-9bb4fd5a37d0>:2: TqdmDeprecationWarning: Please use `tqdm.notebook.trange` instead of `tqdm.tnrange`\n",
      "  for i in tnrange(len(original['cases'])):\n"
     ]
    },
    {
     "data": {
      "application/vnd.jupyter.widget-view+json": {
       "model_id": "3acc822518e34ac8b92741bf7b641a3a",
       "version_major": 2,
       "version_minor": 0
      },
      "text/plain": [
       "  0%|          | 0/50000 [00:00<?, ?it/s]"
      ]
     },
     "metadata": {},
     "output_type": "display_data"
    }
   ],
   "source": [
    "long_mokcha = []\n",
    "for i in tnrange(len(original['cases'])):\n",
    "    for j in range(len(original['cases'][i]['jeonmun'])-2):\n",
    "        try:\n",
    "            for k in range(len(original['cases'][i]['jeonmun'][j]['mokcha_'+str(j)])):\n",
    "                if len(original['cases'][i]['jeonmun'][j]['mokcha_'+str(j)][k]['text']) > 200:\n",
    "                    long_mokcha.append(original['cases'][i]['jeonmun'][j]['mokcha_'+str(j)][k]['text'])\n",
    "        except:\n",
    "            continue"
   ]
  },
  {
   "cell_type": "code",
   "execution_count": 15,
   "id": "2e0cbcec-216f-4d12-91f1-b2888efea624",
   "metadata": {},
   "outputs": [
    {
     "name": "stderr",
     "output_type": "stream",
     "text": [
      "<ipython-input-15-17b2c50df017>:2: TqdmDeprecationWarning: Please use `tqdm.notebook.trange` instead of `tqdm.tnrange`\n",
      "  for i in tnrange(len(original['cases'])):\n"
     ]
    },
    {
     "data": {
      "application/vnd.jupyter.widget-view+json": {
       "model_id": "77648617d7d64b349b84baa9dbf54363",
       "version_major": 2,
       "version_minor": 0
      },
      "text/plain": [
       "  0%|          | 0/50000 [00:00<?, ?it/s]"
      ]
     },
     "metadata": {},
     "output_type": "display_data"
    }
   ],
   "source": [
    "long_joomun = []\n",
    "for i in tnrange(len(original['cases'])):\n",
    "    index_of_joomun = len(original['cases'][i]['jeonmun']) - 2\n",
    "    try:\n",
    "        for k in range(len(original['cases'][i]['jeonmun'][index_of_joomun]['joomun'])):\n",
    "            if len(original['cases'][i]['jeonmun'][index_of_joomun]['joomun'][k]['text'])>200:\n",
    "                long_joomun.append(original['cases'][i]['jeonmun'][index_of_joomun]['joomun'][k]['text'])\n",
    "    except:\n",
    "        continue"
   ]
  },
  {
   "cell_type": "code",
   "execution_count": 16,
   "id": "dc7d7fe5-07fc-4be2-9efb-0e86117f90e7",
   "metadata": {},
   "outputs": [],
   "source": [
    "type5_input = []\n",
    "for i in range(len(long_joomun)):\n",
    "    type5_input.append('.')"
   ]
  },
  {
   "cell_type": "code",
   "execution_count": 23,
   "id": "4cc807fe-e5df-4a07-afdb-f78383ee6dcd",
   "metadata": {},
   "outputs": [
    {
     "name": "stderr",
     "output_type": "stream",
     "text": [
      "<ipython-input-23-ac9afa536859>:3: TqdmDeprecationWarning: Please use `tqdm.notebook.trange` instead of `tqdm.tnrange`\n",
      "  for i in tnrange(len(text_pansi)):\n"
     ]
    },
    {
     "data": {
      "application/vnd.jupyter.widget-view+json": {
       "model_id": "e399143004ed40fd98789a2eb161f487",
       "version_major": 2,
       "version_minor": 0
      },
      "text/plain": [
       "  0%|          | 0/102894 [00:00<?, ?it/s]"
      ]
     },
     "metadata": {},
     "output_type": "display_data"
    }
   ],
   "source": [
    "long_text_pansi = []\n",
    "\n",
    "for i in tnrange(len(text_pansi)):\n",
    "    if len(text_pansi[i]) >= 200 :\n",
    "        long_text_pansi.append(text_pansi[i])"
   ]
  },
  {
   "cell_type": "code",
   "execution_count": 24,
   "id": "16c5dda3-0c2a-4d50-936b-3620156471b0",
   "metadata": {},
   "outputs": [
    {
     "name": "stderr",
     "output_type": "stream",
     "text": [
      "<ipython-input-24-bbe3f3d3f64e>:3: TqdmDeprecationWarning: Please use `tqdm.notebook.trange` instead of `tqdm.tnrange`\n",
      "  for i in tnrange(len(text_yozi)):\n"
     ]
    },
    {
     "data": {
      "application/vnd.jupyter.widget-view+json": {
       "model_id": "3c378d15d77d48bd80cbf4b3fa14b224",
       "version_major": 2,
       "version_minor": 0
      },
      "text/plain": [
       "  0%|          | 0/122715 [00:00<?, ?it/s]"
      ]
     },
     "metadata": {},
     "output_type": "display_data"
    }
   ],
   "source": [
    "long_text_yozi = []\n",
    "\n",
    "for i in tnrange(len(text_yozi)):\n",
    "    if len(text_yozi[i]) >= 200 :\n",
    "        long_text_yozi.append(text_yozi[i])"
   ]
  },
  {
   "cell_type": "code",
   "execution_count": 25,
   "id": "ef0ad5c5-a363-4755-acb6-e444806d70d0",
   "metadata": {},
   "outputs": [
    {
     "name": "stderr",
     "output_type": "stream",
     "text": [
      "<ipython-input-25-15c707ecf385>:3: TqdmDeprecationWarning: Please use `tqdm.notebook.trange` instead of `tqdm.tnrange`\n",
      "  for i in tnrange(len(text_reason)):\n"
     ]
    },
    {
     "data": {
      "application/vnd.jupyter.widget-view+json": {
       "model_id": "708a5edcddaa422cad63a0bea292120b",
       "version_major": 2,
       "version_minor": 0
      },
      "text/plain": [
       "  0%|          | 0/438539 [00:00<?, ?it/s]"
      ]
     },
     "metadata": {},
     "output_type": "display_data"
    }
   ],
   "source": [
    "long_text_reason = []\n",
    "\n",
    "for i in tnrange(len(text_reason)):\n",
    "    if len(text_reason[i]) >= 200 :\n",
    "        long_text_reason.append(text_reason[i])"
   ]
  },
  {
   "cell_type": "code",
   "execution_count": 31,
   "id": "99fde5f4-a395-4b7f-8b30-65712a1fc9f3",
   "metadata": {},
   "outputs": [],
   "source": [
    "long_joomun_np = np.array(long_joomun)"
   ]
  },
  {
   "cell_type": "code",
   "execution_count": 32,
   "id": "ce0158a7-452e-410a-b7be-5f7fad911a92",
   "metadata": {},
   "outputs": [],
   "source": [
    "long_joomun_result = long_joomun_np.reshape(-1, 1)"
   ]
  },
  {
   "cell_type": "code",
   "execution_count": 33,
   "id": "5863a9fa-6c32-45d4-ada5-a758981244f4",
   "metadata": {},
   "outputs": [],
   "source": [
    "zero = []\n",
    "for i in range(len(long_joomun)):\n",
    "    zero.append(0)\n",
    "zero_np = np.array(zero)\n",
    "zero_result = zero_np.reshape(-1, 1)"
   ]
  },
  {
   "cell_type": "code",
   "execution_count": 34,
   "id": "f1ebaae2-1709-40d7-afdf-b5ba4272da0d",
   "metadata": {},
   "outputs": [],
   "source": [
    "result = np.hstack([long_joomun_result, zero_result])"
   ]
  },
  {
   "cell_type": "code",
   "execution_count": 35,
   "id": "82ef99e5-e66f-4a63-a140-3ead3491876a",
   "metadata": {},
   "outputs": [],
   "source": [
    "with open('C:/Users/jayts/OneDrive/바탕 화면/Tictag/json/KAS/joomun.csv', 'w', newline='') as file:\n",
    "    wr = csv.writer(file)\n",
    "    wr.writerow(long_joomun_result)"
   ]
  },
  {
   "cell_type": "code",
   "execution_count": null,
   "id": "aec0438e-1749-4e34-bf4d-4a90ba592b18",
   "metadata": {},
   "outputs": [],
   "source": []
  }
 ],
 "metadata": {
  "kernelspec": {
   "display_name": "Python 3",
   "language": "python",
   "name": "python3"
  },
  "language_info": {
   "codemirror_mode": {
    "name": "ipython",
    "version": 3
   },
   "file_extension": ".py",
   "mimetype": "text/x-python",
   "name": "python",
   "nbconvert_exporter": "python",
   "pygments_lexer": "ipython3",
   "version": "3.8.8"
  }
 },
 "nbformat": 4,
 "nbformat_minor": 5
}
