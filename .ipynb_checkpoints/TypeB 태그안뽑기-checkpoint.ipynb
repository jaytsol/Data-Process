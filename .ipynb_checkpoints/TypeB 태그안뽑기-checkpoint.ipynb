{
 "cells": [
  {
   "cell_type": "markdown",
   "id": "4109ef84-9626-4b64-853d-bccc574606f3",
   "metadata": {},
   "source": [
    "# 타입B 태그안뽑기"
   ]
  },
  {
   "cell_type": "code",
   "execution_count": 1,
   "id": "21bc0237-3e53-4a06-ace3-b71cb9ea0223",
   "metadata": {},
   "outputs": [],
   "source": [
    "import re\n",
    "from tqdm.notebook import tnrange\n",
    "import csv\n",
    "import json\n",
    "from os import walk\n",
    "import os\n",
    "import pandas as pd\n",
    "import datetime"
   ]
  },
  {
   "cell_type": "code",
   "execution_count": 2,
   "id": "867f8d24-00fc-4f29-8062-39918291ab56",
   "metadata": {},
   "outputs": [],
   "source": [
    "# 파일 불러오기\n",
    "def get_csv(input_repo, input_filename):\n",
    "    result = pd.read_csv(f'{input_repo}/{input_filename}')\n",
    "    \n",
    "    return result"
   ]
  },
  {
   "cell_type": "code",
   "execution_count": 3,
   "id": "30a20023-7493-40aa-b766-af4d6a2083a7",
   "metadata": {},
   "outputs": [],
   "source": [
    "# 전체 문장에서 태그 안만 뽑음\n",
    "def save_tag(sentence):\n",
    "    regex = re.compile('(?<=\\<{3}).*?(?=\\>{3})')\n",
    "    result = regex.findall(sentence)\n",
    "    \n",
    "    return result"
   ]
  },
  {
   "cell_type": "code",
   "execution_count": 4,
   "id": "6ef8096d-a31b-463f-aa7f-238c8ab4ecca",
   "metadata": {},
   "outputs": [],
   "source": [
    "# 전체 문장으로부터 태그 제거\n",
    "def remove_tag(sentence):\n",
    "    result = sentence.replace('<<<', '').replace('>>>', '')\n",
    "        \n",
    "    return result"
   ]
  },
  {
   "cell_type": "code",
   "execution_count": 5,
   "id": "3f6d7e0a-a097-4b98-97b7-5df760f624c2",
   "metadata": {},
   "outputs": [],
   "source": [
    "# 태그 내 문장으로부터 법률어휘 추출\n",
    "def draw_word(sentence_tagremoved):\n",
    "    regex = re.compile('(?<=\\<=).*(?=\\>)')\n",
    "    result = regex.search(sentence_tagremoved)\n",
    "    \n",
    "    return result"
   ]
  },
  {
   "cell_type": "code",
   "execution_count": 6,
   "id": "98350b8c-ee48-40df-bbe4-40504b789d0f",
   "metadata": {},
   "outputs": [],
   "source": [
    "def get_small_tag_removed(sentence):\n",
    "    keyword_list = save_tag(sentence)\n",
    "    regex_small_tag = re.compile('(?=\\<={1}).*?(?<=\\>{1})')\n",
    "    small_tag_removed = []\n",
    "    small_tag = []\n",
    "    for i in range(len(keyword_list)):\n",
    "        small_tag.append(regex_small_tag.findall(keyword_list[i]))\n",
    "        small_tag_removed.append(keyword_list[i])\n",
    "\n",
    "        for j in range(len(small_tag[i])):\n",
    "            small_tag_removed[i] = small_tag_removed[i].replace(small_tag[i][j], '')\n",
    "            \n",
    "    return small_tag_removed"
   ]
  },
  {
   "cell_type": "code",
   "execution_count": 7,
   "id": "ff4c35b0-5197-4961-8de8-1064d2878549",
   "metadata": {},
   "outputs": [],
   "source": [
    "def get_small_tag_removed_throw_morethan2_backup(sentence):\n",
    "    keyword_list = save_tag(org['transcription'][0])\n",
    "    regex_small_tag = re.compile('(?=\\<={1}).*?(?<=\\>{1})')\n",
    "    small_tag_removed = []\n",
    "    small_tag_list = []\n",
    "    for i in range(len(keyword_list)):\n",
    "        small_tag = regex_small_tag.findall(keyword_list[i])\n",
    "        if len(small_tag)<2:\n",
    "            small_tag_list.append(regex_small_tag.search(keyword_list[i]).group())\n",
    "            small_tag_removed.append(keyword_list[i].replace(small_tag[0], ''))\n",
    "\n",
    "        else:\n",
    "            keyword_list[i] = None\n",
    "\n",
    "    for i in range(len(keyword_list)-1, -1, -1):\n",
    "        if keyword_list[i] == None:\n",
    "            del keyword_list[i]\n",
    "\n",
    "    return small_tag_removed"
   ]
  },
  {
   "cell_type": "code",
   "execution_count": 15,
   "id": "724a210f-5ad6-4090-a656-fd0372428735",
   "metadata": {},
   "outputs": [],
   "source": [
    "# def get_small_tag_removed_throw_morethan2(sentence):\n",
    "keyword_list = save_tag(org['transcription'][0])\n",
    "regex_small_tag = re.compile('(?=\\<={1}).*?(?<=\\>{1})')\n",
    "small_tag_removed = []\n",
    "small_tag_list = []\n",
    "\n",
    "for i in range(len(keyword_list)):\n",
    "    small_tag = regex_small_tag.findall(keyword_list[i])\n",
    "    if len(small_tag)<2:\n",
    "        small_tag_list.append(regex_small_tag.search(keyword_list[i]).group())\n",
    "        small_tag_removed.append(keyword_list[i].replace(small_tag[0], ''))\n",
    "\n",
    "    else:\n",
    "        keyword_list[i] = None\n",
    "\n",
    "for i in range(len(keyword_list)-1, -1, -1):\n",
    "    if keyword_list[i] == None:\n",
    "        del keyword_list[i]\n",
    "\n",
    "#     return small_tag_removed"
   ]
  },
  {
   "cell_type": "code",
   "execution_count": 32,
   "id": "ca81ed90-cfc6-4f95-998a-061d6e1b5e5e",
   "metadata": {},
   "outputs": [],
   "source": [
    "# def get_small_tag_removed_throw_morethan2_org(sentence):\n",
    "keyword_list = save_tag(org['original'][0])\n",
    "regex_small_tag_org = re.compile('(?<=\\<={1}).*')\n",
    "\n",
    "small_tag_removed_org = []\n",
    "small_tag_list_org = []\n",
    "\n",
    "for i in range(len(keyword_list)):\n",
    "    small_tag = regex_small_tag_org.findall(keyword_list[i])\n",
    "    if len(small_tag)<2:\n",
    "        small_tag_list_org.append(regex_small_tag_org.search(keyword_list[i]).group())\n",
    "        small_tag_removed_org.append(keyword_list[i].replace('>', ''))\n",
    "\n",
    "    else:\n",
    "        keyword_list[i] = None\n",
    "\n",
    "for i in range(len(keyword_list)-1, -1, -1):\n",
    "    if keyword_list[i] == None:\n",
    "        del keyword_list[i]\n",
    "\n",
    "#     return small_tag_removed_org"
   ]
  },
  {
   "cell_type": "code",
   "execution_count": 34,
   "id": "5a1e3a7b-d69e-4ab3-b6d0-e6c20c412234",
   "metadata": {},
   "outputs": [
    {
     "data": {
      "text/html": [
       "<div>\n",
       "<style scoped>\n",
       "    .dataframe tbody tr th:only-of-type {\n",
       "        vertical-align: middle;\n",
       "    }\n",
       "\n",
       "    .dataframe tbody tr th {\n",
       "        vertical-align: top;\n",
       "    }\n",
       "\n",
       "    .dataframe thead th {\n",
       "        text-align: right;\n",
       "    }\n",
       "</style>\n",
       "<table border=\"1\" class=\"dataframe\">\n",
       "  <thead>\n",
       "    <tr style=\"text-align: right;\">\n",
       "      <th></th>\n",
       "      <th>lineNumber</th>\n",
       "      <th>word</th>\n",
       "      <th>originalText</th>\n",
       "      <th>transcription</th>\n",
       "    </tr>\n",
       "  </thead>\n",
       "  <tbody>\n",
       "    <tr>\n",
       "      <th>0</th>\n",
       "      <td>1</td>\n",
       "      <td>호환</td>\n",
       "      <td>원심판결 이유에 의하면, 원심은 이 사건 행위가 공정거래법 제3조의2 제1항 제3호...</td>\n",
       "      <td>&lt;&lt;&lt;직전의 재판&lt;=원심&gt;판결 이유에&gt;&gt;&gt; 의하면, &lt;&lt;&lt;직전의 재판&lt;=원심&gt;은 이...</td>\n",
       "    </tr>\n",
       "    <tr>\n",
       "      <th>1</th>\n",
       "      <td>2</td>\n",
       "      <td>호환</td>\n",
       "      <td>비록 양 발명의 구성에 상이점이 있어도 그 기술분야에서 통상의 지식을 가진 자가 보...</td>\n",
       "      <td>비록 양 발명의 구성에 &lt;&lt;&lt;서로 다른&lt;=상이&gt; 점이 있어도&gt;&gt;&gt; 그 기술분야에서 ...</td>\n",
       "    </tr>\n",
       "    <tr>\n",
       "      <th>2</th>\n",
       "      <td>3</td>\n",
       "      <td>호환</td>\n",
       "      <td>[2] 등록의장의 대상물품인 \"스위치\"가 독립거래의 대상성 및 호환성이 있어 의장법...</td>\n",
       "      <td>[2] 등록의장의 대상물품인 \"스위치\"가 독립거래의 대상성 및 &lt;&lt;&lt;연결되는 데 문...</td>\n",
       "    </tr>\n",
       "    <tr>\n",
       "      <th>3</th>\n",
       "      <td>4</td>\n",
       "      <td>호환</td>\n",
       "      <td>③ 이 사건 프로젝터에 사용된 LCD는 ***** 컴퓨터나 그 호환컴퓨터에 대표적으...</td>\n",
       "      <td>③ 이 사건 프로젝터에 사용된 LCD는 ***** 컴퓨터나 그 &lt;&lt;&lt;연결되는 데 문...</td>\n",
       "    </tr>\n",
       "    <tr>\n",
       "      <th>4</th>\n",
       "      <td>5</td>\n",
       "      <td>호환</td>\n",
       "      <td>구 의장법 제2조 제1호에서 말하는 \"물품\"이란 독립성이 있는 구체적인 유체동산을 ...</td>\n",
       "      <td>구 의장법 제2조 제1호에서 말하는 \"물품\"이란 독립성이 있는 구체적인 유체동산을 ...</td>\n",
       "    </tr>\n",
       "    <tr>\n",
       "      <th>...</th>\n",
       "      <td>...</td>\n",
       "      <td>...</td>\n",
       "      <td>...</td>\n",
       "      <td>...</td>\n",
       "    </tr>\n",
       "    <tr>\n",
       "      <th>52432</th>\n",
       "      <td>75991</td>\n",
       "      <td>종용</td>\n",
       "      <td>이에 피해자의 동생은 피고인의 뜻이 확고하다면 이혼을 하더라도 살 집이라도 마련해 ...</td>\n",
       "      <td>이에 피해자의 동생은 &lt;&lt;&lt;형사소송에서 검사에의해 기소당한 사람&lt;=피고인&gt;의 뜻이&gt;...</td>\n",
       "    </tr>\n",
       "    <tr>\n",
       "      <th>52433</th>\n",
       "      <td>75992</td>\n",
       "      <td>종용</td>\n",
       "      <td>[2] 자동차 판매대리점주 甲이 자신의 대리점에서 카마스터(car master, 자...</td>\n",
       "      <td>[2] 자동차 판매대리점주 甲이 자신의 대리점에서 카마스터(car master, 자...</td>\n",
       "    </tr>\n",
       "    <tr>\n",
       "      <th>52434</th>\n",
       "      <td>75993</td>\n",
       "      <td>종용</td>\n",
       "      <td>［2］ 간통죄의 고소인과 그 배우자인 피고소인 쌍방이 혼인관계를 지속할 의사가 없었...</td>\n",
       "      <td>［2］ 간통죄의 고소인과 그 배우자인 &lt;&lt;&lt;민사소송에서 소송을 당한 사람&lt;=피고&gt;소...</td>\n",
       "    </tr>\n",
       "    <tr>\n",
       "      <th>52435</th>\n",
       "      <td>75994</td>\n",
       "      <td>종용</td>\n",
       "      <td>원심은, 원고가 피고보조참가인(이하 \"참가인\"이라 한다) 등을 사업장에서 배제하게 ...</td>\n",
       "      <td>&lt;&lt;&lt;직전의 재판&lt;=원심&gt;은, 민사소송을 일으킨 사람&lt;=원고&gt;이&gt;&gt;&gt; &lt;&lt;&lt;민사소송...</td>\n",
       "    </tr>\n",
       "    <tr>\n",
       "      <th>52436</th>\n",
       "      <td>75995</td>\n",
       "      <td>종용</td>\n",
       "      <td>원고는 위 도시설계조정심의를 받은 다음날인 ****.**.**피고 *****시 강남...</td>\n",
       "      <td>&lt;&lt;&lt;민사소송을 일으킨 사람&lt;=원고&gt;은 위&gt;&gt;&gt; 도시설계조정심의를 받은 다음날인 *...</td>\n",
       "    </tr>\n",
       "  </tbody>\n",
       "</table>\n",
       "<p>52437 rows × 4 columns</p>\n",
       "</div>"
      ],
      "text/plain": [
       "       lineNumber word                                       originalText  \\\n",
       "0               1   호환  원심판결 이유에 의하면, 원심은 이 사건 행위가 공정거래법 제3조의2 제1항 제3호...   \n",
       "1               2   호환  비록 양 발명의 구성에 상이점이 있어도 그 기술분야에서 통상의 지식을 가진 자가 보...   \n",
       "2               3   호환  [2] 등록의장의 대상물품인 \"스위치\"가 독립거래의 대상성 및 호환성이 있어 의장법...   \n",
       "3               4   호환  ③ 이 사건 프로젝터에 사용된 LCD는 ***** 컴퓨터나 그 호환컴퓨터에 대표적으...   \n",
       "4               5   호환  구 의장법 제2조 제1호에서 말하는 \"물품\"이란 독립성이 있는 구체적인 유체동산을 ...   \n",
       "...           ...  ...                                                ...   \n",
       "52432       75991   종용  이에 피해자의 동생은 피고인의 뜻이 확고하다면 이혼을 하더라도 살 집이라도 마련해 ...   \n",
       "52433       75992   종용  [2] 자동차 판매대리점주 甲이 자신의 대리점에서 카마스터(car master, 자...   \n",
       "52434       75993   종용  ［2］ 간통죄의 고소인과 그 배우자인 피고소인 쌍방이 혼인관계를 지속할 의사가 없었...   \n",
       "52435       75994   종용  원심은, 원고가 피고보조참가인(이하 \"참가인\"이라 한다) 등을 사업장에서 배제하게 ...   \n",
       "52436       75995   종용  원고는 위 도시설계조정심의를 받은 다음날인 ****.**.**피고 *****시 강남...   \n",
       "\n",
       "                                           transcription  \n",
       "0      <<<직전의 재판<=원심>판결 이유에>>> 의하면, <<<직전의 재판<=원심>은 이...  \n",
       "1      비록 양 발명의 구성에 <<<서로 다른<=상이> 점이 있어도>>> 그 기술분야에서 ...  \n",
       "2      [2] 등록의장의 대상물품인 \"스위치\"가 독립거래의 대상성 및 <<<연결되는 데 문...  \n",
       "3      ③ 이 사건 프로젝터에 사용된 LCD는 ***** 컴퓨터나 그 <<<연결되는 데 문...  \n",
       "4      구 의장법 제2조 제1호에서 말하는 \"물품\"이란 독립성이 있는 구체적인 유체동산을 ...  \n",
       "...                                                  ...  \n",
       "52432  이에 피해자의 동생은 <<<형사소송에서 검사에의해 기소당한 사람<=피고인>의 뜻이>...  \n",
       "52433  [2] 자동차 판매대리점주 甲이 자신의 대리점에서 카마스터(car master, 자...  \n",
       "52434  ［2］ 간통죄의 고소인과 그 배우자인 <<<민사소송에서 소송을 당한 사람<=피고>소...  \n",
       "52435  <<<직전의 재판<=원심>은, 민사소송을 일으킨 사람<=원고>이>>> <<<민사소송...  \n",
       "52436  <<<민사소송을 일으킨 사람<=원고>은 위>>> 도시설계조정심의를 받은 다음날인 *...  \n",
       "\n",
       "[52437 rows x 4 columns]"
      ]
     },
     "execution_count": 34,
     "metadata": {},
     "output_type": "execute_result"
    }
   ],
   "source": [
    "org"
   ]
  },
  {
   "cell_type": "code",
   "execution_count": 33,
   "id": "1c3e9cdd-fd66-4180-8fb2-4039012ff060",
   "metadata": {},
   "outputs": [
    {
     "data": {
      "text/plain": [
       "['직전의 재판<=원심판결 이유에',\n",
       " '직전의 재판<=원심은 이',\n",
       " '맞거나 틀림<=여부을 판단함에',\n",
       " '민사소송에서 소송을 당한 사람<=피고이 별도의',\n",
       " '민사소송을 일으킨 사람<=원고에게 연결되는 데 문제가 없음<=호환은 기술의',\n",
       " '목적이나 요지<=취지로 설시하였음을',\n",
       " '직전의 재판<=원심의 판단은',\n",
       " '원심 판결에 불복해 재심사 요청<=상고이유에서 주장하는',\n",
       " '잘못된 것을 바로잡는 것<=시정은 명령의 해석에',\n",
       " '법률의 근본 원리<=법리 오해의 법령에 어긋남<=위법이']"
      ]
     },
     "execution_count": 33,
     "metadata": {},
     "output_type": "execute_result"
    }
   ],
   "source": [
    "small_tag_removed_org"
   ]
  },
  {
   "cell_type": "code",
   "execution_count": 30,
   "id": "f05e1c01-5a3a-41e0-a778-1a5395821729",
   "metadata": {},
   "outputs": [
    {
     "data": {
      "text/plain": [
       "['<=법리>', '<=위법>']"
      ]
     },
     "execution_count": 30,
     "metadata": {},
     "output_type": "execute_result"
    }
   ],
   "source": [
    "small_tag"
   ]
  },
  {
   "cell_type": "code",
   "execution_count": 27,
   "id": "13eac832-9a25-46f1-aecf-17fdf2cc65d6",
   "metadata": {},
   "outputs": [
    {
     "data": {
      "text/plain": [
       "['<=원심>', '<=원심>', '<=여부>', '<=피고>', '<=취지>', '<=원심>', '<=상고>', '<=시정>']"
      ]
     },
     "execution_count": 27,
     "metadata": {},
     "output_type": "execute_result"
    }
   ],
   "source": [
    "small_tag_list"
   ]
  },
  {
   "cell_type": "code",
   "execution_count": 28,
   "id": "d8f3edfb-47c4-4ad6-88e4-08bf69d2675d",
   "metadata": {},
   "outputs": [
    {
     "data": {
      "text/plain": [
       "['직전의 재판판결 이유에',\n",
       " '직전의 재판은 이',\n",
       " '맞거나 틀림을 판단함에',\n",
       " '민사소송에서 소송을 당한 사람이 별도의',\n",
       " '목적이나 요지로 설시하였음을',\n",
       " '직전의 재판의 판단은',\n",
       " '원심 판결에 불복해 재심사 요청이유에서 주장하는',\n",
       " '잘못된 것을 바로잡는 것은 명령의 해석에']"
      ]
     },
     "execution_count": 28,
     "metadata": {},
     "output_type": "execute_result"
    }
   ],
   "source": [
    "small_tag_removed"
   ]
  },
  {
   "cell_type": "code",
   "execution_count": 29,
   "id": "beb8c48e-d6d0-4527-8dcc-9e42a22325fa",
   "metadata": {},
   "outputs": [
    {
     "data": {
      "text/plain": [
       "['직전의 재판<=원심>판결 이유에',\n",
       " '직전의 재판<=원심>은 이',\n",
       " '맞거나 틀림<=여부>을 판단함에',\n",
       " '민사소송에서 소송을 당한 사람<=피고>이 별도의',\n",
       " '목적이나 요지<=취지>로 설시하였음을',\n",
       " '직전의 재판<=원심>의 판단은',\n",
       " '원심 판결에 불복해 재심사 요청<=상고>이유에서 주장하는',\n",
       " '잘못된 것을 바로잡는 것<=시정>은 명령의 해석에']"
      ]
     },
     "execution_count": 29,
     "metadata": {},
     "output_type": "execute_result"
    }
   ],
   "source": [
    "keyword_list"
   ]
  },
  {
   "cell_type": "code",
   "execution_count": 16,
   "id": "66a28985-bffc-42a7-b45a-c116092da26d",
   "metadata": {},
   "outputs": [],
   "source": [
    "test = regex_small_tag_org.search(keyword_list[0])"
   ]
  },
  {
   "cell_type": "code",
   "execution_count": 26,
   "id": "4ea8acc4-08bb-43f0-bc9c-2d2c5dbebd1e",
   "metadata": {},
   "outputs": [
    {
     "data": {
      "text/plain": [
       "'원심판결 이유에'"
      ]
     },
     "execution_count": 26,
     "metadata": {},
     "output_type": "execute_result"
    }
   ],
   "source": [
    "test.group().replace('>', '')"
   ]
  },
  {
   "cell_type": "code",
   "execution_count": 20,
   "id": "f21de145-16d9-4f05-9cc5-0cdac3fcbde1",
   "metadata": {},
   "outputs": [],
   "source": [
    "# csv형태로 저장\n",
    "def save_as_csv(input_repo, output_repo, result):\n",
    "    year = str(datetime.datetime.now().year)[2:]\n",
    "    month = str(datetime.datetime.now().month)\n",
    "    day = str(datetime.datetime.now().day)\n",
    "    hour = str(datetime.datetime.now().hour)\n",
    "    minute = str(datetime.datetime.now().minute)\n",
    "\n",
    "    print(f'{output_repo}의 경로에 태그안뽑기_{year}{month}{day}_{hour}{minute}.csv의 이름으로 파일 생성이 완료되었습니다.')\n",
    "\n",
    "    result.to_csv(f'{output_repo}/태그안뽑기_{year}{month}{day}_{hour}{minute}.csv', index=False, encoding='utf-8-sig')"
   ]
  },
  {
   "cell_type": "code",
   "execution_count": 8,
   "id": "ba9e5fe2-90e4-4a34-ba59-59edb3bab815",
   "metadata": {},
   "outputs": [],
   "source": [
    "input_repo = '/Users/jaytsol/Desktop/Type23 (2)/누적/TypeB태그안뽑기'\n",
    "output_repo = '/Users/jaytsol/Desktop/Type23 (2)/누적/TypeB태그안뽑기/TypeB 최종'\n",
    "\n",
    "input_filename = '태그안뽑기_211110_1616.csv'"
   ]
  },
  {
   "cell_type": "code",
   "execution_count": 9,
   "id": "d8b0f9de-f321-4ebe-b700-be04040b9f7f",
   "metadata": {},
   "outputs": [],
   "source": [
    "org = get_csv(input_repo, input_filename)"
   ]
  },
  {
   "cell_type": "code",
   "execution_count": 10,
   "id": "21f40a42-f17f-4240-b8a9-d92a8c76d5b0",
   "metadata": {},
   "outputs": [
    {
     "data": {
      "text/html": [
       "<div>\n",
       "<style scoped>\n",
       "    .dataframe tbody tr th:only-of-type {\n",
       "        vertical-align: middle;\n",
       "    }\n",
       "\n",
       "    .dataframe tbody tr th {\n",
       "        vertical-align: top;\n",
       "    }\n",
       "\n",
       "    .dataframe thead th {\n",
       "        text-align: right;\n",
       "    }\n",
       "</style>\n",
       "<table border=\"1\" class=\"dataframe\">\n",
       "  <thead>\n",
       "    <tr style=\"text-align: right;\">\n",
       "      <th></th>\n",
       "      <th>lineNumber</th>\n",
       "      <th>word</th>\n",
       "      <th>originalText</th>\n",
       "      <th>transcription</th>\n",
       "    </tr>\n",
       "  </thead>\n",
       "  <tbody>\n",
       "    <tr>\n",
       "      <th>0</th>\n",
       "      <td>1</td>\n",
       "      <td>호환</td>\n",
       "      <td>원심판결 이유에 의하면, 원심은 이 사건 행위가 공정거래법 제3조의2 제1항 제3호...</td>\n",
       "      <td>&lt;&lt;&lt;직전의 재판&lt;=원심&gt;판결 이유에&gt;&gt;&gt; 의하면, &lt;&lt;&lt;직전의 재판&lt;=원심&gt;은 이...</td>\n",
       "    </tr>\n",
       "    <tr>\n",
       "      <th>1</th>\n",
       "      <td>2</td>\n",
       "      <td>호환</td>\n",
       "      <td>비록 양 발명의 구성에 상이점이 있어도 그 기술분야에서 통상의 지식을 가진 자가 보...</td>\n",
       "      <td>비록 양 발명의 구성에 &lt;&lt;&lt;서로 다른&lt;=상이&gt; 점이 있어도&gt;&gt;&gt; 그 기술분야에서 ...</td>\n",
       "    </tr>\n",
       "    <tr>\n",
       "      <th>2</th>\n",
       "      <td>3</td>\n",
       "      <td>호환</td>\n",
       "      <td>[2] 등록의장의 대상물품인 \"스위치\"가 독립거래의 대상성 및 호환성이 있어 의장법...</td>\n",
       "      <td>[2] 등록의장의 대상물품인 \"스위치\"가 독립거래의 대상성 및 &lt;&lt;&lt;연결되는 데 문...</td>\n",
       "    </tr>\n",
       "    <tr>\n",
       "      <th>3</th>\n",
       "      <td>4</td>\n",
       "      <td>호환</td>\n",
       "      <td>③ 이 사건 프로젝터에 사용된 LCD는 ***** 컴퓨터나 그 호환컴퓨터에 대표적으...</td>\n",
       "      <td>③ 이 사건 프로젝터에 사용된 LCD는 ***** 컴퓨터나 그 &lt;&lt;&lt;연결되는 데 문...</td>\n",
       "    </tr>\n",
       "    <tr>\n",
       "      <th>4</th>\n",
       "      <td>5</td>\n",
       "      <td>호환</td>\n",
       "      <td>구 의장법 제2조 제1호에서 말하는 \"물품\"이란 독립성이 있는 구체적인 유체동산을 ...</td>\n",
       "      <td>구 의장법 제2조 제1호에서 말하는 \"물품\"이란 독립성이 있는 구체적인 유체동산을 ...</td>\n",
       "    </tr>\n",
       "    <tr>\n",
       "      <th>...</th>\n",
       "      <td>...</td>\n",
       "      <td>...</td>\n",
       "      <td>...</td>\n",
       "      <td>...</td>\n",
       "    </tr>\n",
       "    <tr>\n",
       "      <th>52432</th>\n",
       "      <td>75991</td>\n",
       "      <td>종용</td>\n",
       "      <td>이에 피해자의 동생은 피고인의 뜻이 확고하다면 이혼을 하더라도 살 집이라도 마련해 ...</td>\n",
       "      <td>이에 피해자의 동생은 &lt;&lt;&lt;형사소송에서 검사에의해 기소당한 사람&lt;=피고인&gt;의 뜻이&gt;...</td>\n",
       "    </tr>\n",
       "    <tr>\n",
       "      <th>52433</th>\n",
       "      <td>75992</td>\n",
       "      <td>종용</td>\n",
       "      <td>[2] 자동차 판매대리점주 甲이 자신의 대리점에서 카마스터(car master, 자...</td>\n",
       "      <td>[2] 자동차 판매대리점주 甲이 자신의 대리점에서 카마스터(car master, 자...</td>\n",
       "    </tr>\n",
       "    <tr>\n",
       "      <th>52434</th>\n",
       "      <td>75993</td>\n",
       "      <td>종용</td>\n",
       "      <td>［2］ 간통죄의 고소인과 그 배우자인 피고소인 쌍방이 혼인관계를 지속할 의사가 없었...</td>\n",
       "      <td>［2］ 간통죄의 고소인과 그 배우자인 &lt;&lt;&lt;민사소송에서 소송을 당한 사람&lt;=피고&gt;소...</td>\n",
       "    </tr>\n",
       "    <tr>\n",
       "      <th>52435</th>\n",
       "      <td>75994</td>\n",
       "      <td>종용</td>\n",
       "      <td>원심은, 원고가 피고보조참가인(이하 \"참가인\"이라 한다) 등을 사업장에서 배제하게 ...</td>\n",
       "      <td>&lt;&lt;&lt;직전의 재판&lt;=원심&gt;은, 민사소송을 일으킨 사람&lt;=원고&gt;이&gt;&gt;&gt; &lt;&lt;&lt;민사소송...</td>\n",
       "    </tr>\n",
       "    <tr>\n",
       "      <th>52436</th>\n",
       "      <td>75995</td>\n",
       "      <td>종용</td>\n",
       "      <td>원고는 위 도시설계조정심의를 받은 다음날인 ****.**.**피고 *****시 강남...</td>\n",
       "      <td>&lt;&lt;&lt;민사소송을 일으킨 사람&lt;=원고&gt;은 위&gt;&gt;&gt; 도시설계조정심의를 받은 다음날인 *...</td>\n",
       "    </tr>\n",
       "  </tbody>\n",
       "</table>\n",
       "<p>52437 rows × 4 columns</p>\n",
       "</div>"
      ],
      "text/plain": [
       "       lineNumber word                                       originalText  \\\n",
       "0               1   호환  원심판결 이유에 의하면, 원심은 이 사건 행위가 공정거래법 제3조의2 제1항 제3호...   \n",
       "1               2   호환  비록 양 발명의 구성에 상이점이 있어도 그 기술분야에서 통상의 지식을 가진 자가 보...   \n",
       "2               3   호환  [2] 등록의장의 대상물품인 \"스위치\"가 독립거래의 대상성 및 호환성이 있어 의장법...   \n",
       "3               4   호환  ③ 이 사건 프로젝터에 사용된 LCD는 ***** 컴퓨터나 그 호환컴퓨터에 대표적으...   \n",
       "4               5   호환  구 의장법 제2조 제1호에서 말하는 \"물품\"이란 독립성이 있는 구체적인 유체동산을 ...   \n",
       "...           ...  ...                                                ...   \n",
       "52432       75991   종용  이에 피해자의 동생은 피고인의 뜻이 확고하다면 이혼을 하더라도 살 집이라도 마련해 ...   \n",
       "52433       75992   종용  [2] 자동차 판매대리점주 甲이 자신의 대리점에서 카마스터(car master, 자...   \n",
       "52434       75993   종용  ［2］ 간통죄의 고소인과 그 배우자인 피고소인 쌍방이 혼인관계를 지속할 의사가 없었...   \n",
       "52435       75994   종용  원심은, 원고가 피고보조참가인(이하 \"참가인\"이라 한다) 등을 사업장에서 배제하게 ...   \n",
       "52436       75995   종용  원고는 위 도시설계조정심의를 받은 다음날인 ****.**.**피고 *****시 강남...   \n",
       "\n",
       "                                           transcription  \n",
       "0      <<<직전의 재판<=원심>판결 이유에>>> 의하면, <<<직전의 재판<=원심>은 이...  \n",
       "1      비록 양 발명의 구성에 <<<서로 다른<=상이> 점이 있어도>>> 그 기술분야에서 ...  \n",
       "2      [2] 등록의장의 대상물품인 \"스위치\"가 독립거래의 대상성 및 <<<연결되는 데 문...  \n",
       "3      ③ 이 사건 프로젝터에 사용된 LCD는 ***** 컴퓨터나 그 <<<연결되는 데 문...  \n",
       "4      구 의장법 제2조 제1호에서 말하는 \"물품\"이란 독립성이 있는 구체적인 유체동산을 ...  \n",
       "...                                                  ...  \n",
       "52432  이에 피해자의 동생은 <<<형사소송에서 검사에의해 기소당한 사람<=피고인>의 뜻이>...  \n",
       "52433  [2] 자동차 판매대리점주 甲이 자신의 대리점에서 카마스터(car master, 자...  \n",
       "52434  ［2］ 간통죄의 고소인과 그 배우자인 <<<민사소송에서 소송을 당한 사람<=피고>소...  \n",
       "52435  <<<직전의 재판<=원심>은, 민사소송을 일으킨 사람<=원고>이>>> <<<민사소송...  \n",
       "52436  <<<민사소송을 일으킨 사람<=원고>은 위>>> 도시설계조정심의를 받은 다음날인 *...  \n",
       "\n",
       "[52437 rows x 4 columns]"
      ]
     },
     "execution_count": 10,
     "metadata": {},
     "output_type": "execute_result"
    }
   ],
   "source": [
    "org"
   ]
  },
  {
   "cell_type": "code",
   "execution_count": 12,
   "id": "03da7978-4fd9-417c-bd40-0e0436b222b7",
   "metadata": {},
   "outputs": [],
   "source": [
    "result_transcription = []\n",
    "for i in range(len(org)):\n",
    "    result_temp = get_small_tag_removed_throw_morethan2(org['transcription'][i])\n",
    "    result_transcription.append(result_temp)"
   ]
  },
  {
   "cell_type": "code",
   "execution_count": 14,
   "id": "b1e8ec2a-98c4-447a-a02f-c2a1a53944f2",
   "metadata": {},
   "outputs": [
    {
     "data": {
      "text/plain": [
       "52437"
      ]
     },
     "execution_count": 14,
     "metadata": {},
     "output_type": "execute_result"
    }
   ],
   "source": [
    "len(result_transcription)"
   ]
  },
  {
   "cell_type": "code",
   "execution_count": null,
   "id": "79a73c27-b5a7-4af3-919e-ec5fa9c7173d",
   "metadata": {},
   "outputs": [],
   "source": [
    "save_as_csv(input_repo, output_repo, result)"
   ]
  },
  {
   "cell_type": "code",
   "execution_count": null,
   "id": "3576fb2f-ee56-4edb-85fc-997cf09b34eb",
   "metadata": {},
   "outputs": [],
   "source": []
  }
 ],
 "metadata": {
  "kernelspec": {
   "display_name": "Python 3",
   "language": "python",
   "name": "python3"
  },
  "language_info": {
   "codemirror_mode": {
    "name": "ipython",
    "version": 3
   },
   "file_extension": ".py",
   "mimetype": "text/x-python",
   "name": "python",
   "nbconvert_exporter": "python",
   "pygments_lexer": "ipython3",
   "version": "3.8.8"
  }
 },
 "nbformat": 4,
 "nbformat_minor": 5
}
