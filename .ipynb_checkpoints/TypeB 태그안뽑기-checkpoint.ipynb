{
 "cells": [
  {
   "cell_type": "markdown",
   "id": "4109ef84-9626-4b64-853d-bccc574606f3",
   "metadata": {},
   "source": [
    "# 타입B 태그안뽑기"
   ]
  },
  {
   "cell_type": "code",
   "execution_count": 1,
   "id": "21bc0237-3e53-4a06-ace3-b71cb9ea0223",
   "metadata": {},
   "outputs": [],
   "source": [
    "import re\n",
    "from tqdm.notebook import tnrange\n",
    "import csv\n",
    "import json\n",
    "from os import walk\n",
    "import os\n",
    "import pandas as pd\n",
    "import datetime"
   ]
  },
  {
   "cell_type": "code",
   "execution_count": 2,
   "id": "867f8d24-00fc-4f29-8062-39918291ab56",
   "metadata": {},
   "outputs": [],
   "source": [
    "# 파일 불러오기\n",
    "def get_csv(input_repo, input_filename):\n",
    "    result = pd.read_csv(f'{input_repo}/{input_filename}')\n",
    "    \n",
    "    return result"
   ]
  },
  {
   "cell_type": "code",
   "execution_count": 3,
   "id": "30a20023-7493-40aa-b766-af4d6a2083a7",
   "metadata": {},
   "outputs": [],
   "source": [
    "# 전체 문장에서 태그 안만 뽑음\n",
    "def save_tag(sentence):\n",
    "    regex = re.compile('(?<=\\<{3}).*?(?=\\>{3})')\n",
    "    result = regex.findall(sentence)\n",
    "    \n",
    "    return result"
   ]
  },
  {
   "cell_type": "code",
   "execution_count": 4,
   "id": "6ef8096d-a31b-463f-aa7f-238c8ab4ecca",
   "metadata": {},
   "outputs": [],
   "source": [
    "# 전체 문장으로부터 태그 제거\n",
    "def remove_tag(sentence):\n",
    "    result = sentence.replace('<<<', '').replace('>>>', '')\n",
    "        \n",
    "    return result"
   ]
  },
  {
   "cell_type": "code",
   "execution_count": 5,
   "id": "3f6d7e0a-a097-4b98-97b7-5df760f624c2",
   "metadata": {},
   "outputs": [],
   "source": [
    "# 태그 내 문장으로부터 법률어휘 추출\n",
    "def draw_word(sentence_tagremoved):\n",
    "    regex = re.compile('(?<=\\<=).*(?=\\>)')\n",
    "    result = regex.search(sentence_tagremoved)\n",
    "    \n",
    "    return result"
   ]
  },
  {
   "cell_type": "code",
   "execution_count": 6,
   "id": "98350b8c-ee48-40df-bbe4-40504b789d0f",
   "metadata": {},
   "outputs": [],
   "source": [
    "def get_small_tag_removed(sentence):\n",
    "    keyword_list = save_tag(sentence)\n",
    "    regex_small_tag = re.compile('(?=\\<={1}).*?(?<=\\>{1})')\n",
    "    small_tag_removed = []\n",
    "    small_tag = []\n",
    "    for i in range(len(keyword_list)):\n",
    "        small_tag.append(regex_small_tag.findall(keyword_list[i]))\n",
    "        small_tag_removed.append(keyword_list[i])\n",
    "\n",
    "        for j in range(len(small_tag[i])):\n",
    "            small_tag_removed[i] = small_tag_removed[i].replace(small_tag[i][j], '')\n",
    "            \n",
    "    return small_tag_removed"
   ]
  },
  {
   "cell_type": "code",
   "execution_count": 9,
   "id": "ba9e5fe2-90e4-4a34-ba59-59edb3bab815",
   "metadata": {},
   "outputs": [],
   "source": [
    "input_repo = '/Users/jaytsol/Desktop/Type23 (2)/누적/TypeB태그안뽑기'\n",
    "output_repo = '/Users/jaytsol/Desktop/Type23 (2)/누적/TypeB태그안뽑기/TypeB 최종'\n",
    "\n",
    "input_filename = '태그안뽑기_211110_1616.csv'"
   ]
  },
  {
   "cell_type": "code",
   "execution_count": 10,
   "id": "d8b0f9de-f321-4ebe-b700-be04040b9f7f",
   "metadata": {},
   "outputs": [],
   "source": [
    "org = get_csv(input_repo, input_filename)"
   ]
  },
  {
   "cell_type": "code",
   "execution_count": 15,
   "id": "724a210f-5ad6-4090-a656-fd0372428735",
   "metadata": {},
   "outputs": [],
   "source": [
    "# def get_small_tag_removed_throw_morethan2(sentence):\n",
    "keyword_list = save_tag(org['transcription'][0])\n",
    "regex_small_tag = re.compile('(?=\\<={1}).*?(?<=\\>{1})')\n",
    "small_tag_removed = []\n",
    "small_tag_list = []\n",
    "for i in range(len(keyword_list)):\n",
    "    small_tag = regex_small_tag.findall(keyword_list[i])\n",
    "    if len(small_tag)<2:\n",
    "        small_tag_list.append(regex_small_tag.search(keyword_list[i]).group())\n",
    "        small_tag_removed.append(keyword_list[i].replace(small_tag[0], ''))\n",
    "    \n",
    "    else:\n",
    "        keyword_list[i] = None\n",
    "\n",
    "for i in range(len(keyword_list)-1, -1, -1):\n",
    "    if keyword_list[i] == None:\n",
    "        del keyword_list[i]\n",
    "        \n",
    "# return small_tag_removed"
   ]
  },
  {
   "cell_type": "code",
   "execution_count": 16,
   "id": "71a2a321-e5e9-48ef-87f6-0dbfae47fb67",
   "metadata": {},
   "outputs": [
    {
     "data": {
      "text/plain": [
       "['<=원심>', '<=원심>', '<=여부>', '<=피고>', '<=취지>', '<=원심>', '<=상고>', '<=시정>']"
      ]
     },
     "execution_count": 16,
     "metadata": {},
     "output_type": "execute_result"
    }
   ],
   "source": [
    "small_tag_list"
   ]
  },
  {
   "cell_type": "code",
   "execution_count": 17,
   "id": "c618721d-0768-4d04-a911-0dd2915c47ae",
   "metadata": {},
   "outputs": [
    {
     "data": {
      "text/plain": [
       "['<=원심>', '<=원심>', '<=여부>', '<=피고>', '<=취지>', '<=원심>', '<=상고>', '<=시정>']"
      ]
     },
     "execution_count": 17,
     "metadata": {},
     "output_type": "execute_result"
    }
   ],
   "source": [
    "small_tag_list"
   ]
  },
  {
   "cell_type": "code",
   "execution_count": 18,
   "id": "a63648a3-5e3d-4b10-93bf-c2c085d7f4e5",
   "metadata": {},
   "outputs": [
    {
     "data": {
      "text/plain": [
       "['직전의 재판<=원심>판결 이유에',\n",
       " '직전의 재판<=원심>은 이',\n",
       " '맞거나 틀림<=여부>을 판단함에',\n",
       " '민사소송에서 소송을 당한 사람<=피고>이 별도의',\n",
       " '목적이나 요지<=취지>로 설시하였음을',\n",
       " '직전의 재판<=원심>의 판단은',\n",
       " '원심 판결에 불복해 재심사 요청<=상고>이유에서 주장하는',\n",
       " '잘못된 것을 바로잡는 것<=시정>은 명령의 해석에']"
      ]
     },
     "execution_count": 18,
     "metadata": {},
     "output_type": "execute_result"
    }
   ],
   "source": [
    "keyword_list"
   ]
  },
  {
   "cell_type": "code",
   "execution_count": 19,
   "id": "1d6dd4c8-5355-443f-a7a3-be09d71bc62e",
   "metadata": {},
   "outputs": [
    {
     "data": {
      "text/plain": [
       "['직전의 재판판결 이유에',\n",
       " '직전의 재판은 이',\n",
       " '맞거나 틀림을 판단함에',\n",
       " '민사소송에서 소송을 당한 사람이 별도의',\n",
       " '목적이나 요지로 설시하였음을',\n",
       " '직전의 재판의 판단은',\n",
       " '원심 판결에 불복해 재심사 요청이유에서 주장하는',\n",
       " '잘못된 것을 바로잡는 것은 명령의 해석에']"
      ]
     },
     "execution_count": 19,
     "metadata": {},
     "output_type": "execute_result"
    }
   ],
   "source": [
    "small_tag_removed"
   ]
  },
  {
   "cell_type": "code",
   "execution_count": 20,
   "id": "f21de145-16d9-4f05-9cc5-0cdac3fcbde1",
   "metadata": {},
   "outputs": [],
   "source": [
    "# csv형태로 저장\n",
    "def save_as_csv(input_repo, output_repo, result):\n",
    "    year = str(datetime.datetime.now().year)[2:]\n",
    "    month = str(datetime.datetime.now().month)\n",
    "    day = str(datetime.datetime.now().day)\n",
    "    hour = str(datetime.datetime.now().hour)\n",
    "    minute = str(datetime.datetime.now().minute)\n",
    "\n",
    "    print(f'{output_repo}의 경로에 태그안뽑기_{year}{month}{day}_{hour}{minute}.csv의 이름으로 파일 생성이 완료되었습니다.')\n",
    "\n",
    "    result.to_csv(f'{output_repo}/태그안뽑기_{year}{month}{day}_{hour}{minute}.csv', index=False, encoding='utf-8-sig')"
   ]
  },
  {
   "cell_type": "code",
   "execution_count": 21,
   "id": "348e8f6a-fb76-48f1-b6f3-8fe8918e9e83",
   "metadata": {},
   "outputs": [
    {
     "data": {
      "text/html": [
       "<div>\n",
       "<style scoped>\n",
       "    .dataframe tbody tr th:only-of-type {\n",
       "        vertical-align: middle;\n",
       "    }\n",
       "\n",
       "    .dataframe tbody tr th {\n",
       "        vertical-align: top;\n",
       "    }\n",
       "\n",
       "    .dataframe thead th {\n",
       "        text-align: right;\n",
       "    }\n",
       "</style>\n",
       "<table border=\"1\" class=\"dataframe\">\n",
       "  <thead>\n",
       "    <tr style=\"text-align: right;\">\n",
       "      <th></th>\n",
       "      <th>lineNumber</th>\n",
       "      <th>word</th>\n",
       "      <th>originalText</th>\n",
       "      <th>transcription</th>\n",
       "    </tr>\n",
       "  </thead>\n",
       "  <tbody>\n",
       "    <tr>\n",
       "      <th>0</th>\n",
       "      <td>1</td>\n",
       "      <td>호환</td>\n",
       "      <td>원심판결 이유에 의하면, 원심은 이 사건 행위가 공정거래법 제3조의2 제1항 제3호...</td>\n",
       "      <td>&lt;&lt;&lt;직전의 재판&lt;=원심&gt;판결 이유에&gt;&gt;&gt; 의하면, &lt;&lt;&lt;직전의 재판&lt;=원심&gt;은 이...</td>\n",
       "    </tr>\n",
       "    <tr>\n",
       "      <th>1</th>\n",
       "      <td>2</td>\n",
       "      <td>호환</td>\n",
       "      <td>비록 양 발명의 구성에 상이점이 있어도 그 기술분야에서 통상의 지식을 가진 자가 보...</td>\n",
       "      <td>비록 양 발명의 구성에 &lt;&lt;&lt;서로 다른&lt;=상이&gt; 점이 있어도&gt;&gt;&gt; 그 기술분야에서 ...</td>\n",
       "    </tr>\n",
       "    <tr>\n",
       "      <th>2</th>\n",
       "      <td>3</td>\n",
       "      <td>호환</td>\n",
       "      <td>[2] 등록의장의 대상물품인 \"스위치\"가 독립거래의 대상성 및 호환성이 있어 의장법...</td>\n",
       "      <td>[2] 등록의장의 대상물품인 \"스위치\"가 독립거래의 대상성 및 &lt;&lt;&lt;연결되는 데 문...</td>\n",
       "    </tr>\n",
       "    <tr>\n",
       "      <th>3</th>\n",
       "      <td>4</td>\n",
       "      <td>호환</td>\n",
       "      <td>③ 이 사건 프로젝터에 사용된 LCD는 ***** 컴퓨터나 그 호환컴퓨터에 대표적으...</td>\n",
       "      <td>③ 이 사건 프로젝터에 사용된 LCD는 ***** 컴퓨터나 그 &lt;&lt;&lt;연결되는 데 문...</td>\n",
       "    </tr>\n",
       "    <tr>\n",
       "      <th>4</th>\n",
       "      <td>5</td>\n",
       "      <td>호환</td>\n",
       "      <td>구 의장법 제2조 제1호에서 말하는 \"물품\"이란 독립성이 있는 구체적인 유체동산을 ...</td>\n",
       "      <td>구 의장법 제2조 제1호에서 말하는 \"물품\"이란 독립성이 있는 구체적인 유체동산을 ...</td>\n",
       "    </tr>\n",
       "    <tr>\n",
       "      <th>...</th>\n",
       "      <td>...</td>\n",
       "      <td>...</td>\n",
       "      <td>...</td>\n",
       "      <td>...</td>\n",
       "    </tr>\n",
       "    <tr>\n",
       "      <th>52432</th>\n",
       "      <td>75991</td>\n",
       "      <td>종용</td>\n",
       "      <td>이에 피해자의 동생은 피고인의 뜻이 확고하다면 이혼을 하더라도 살 집이라도 마련해 ...</td>\n",
       "      <td>이에 피해자의 동생은 &lt;&lt;&lt;형사소송에서 검사에의해 기소당한 사람&lt;=피고인&gt;의 뜻이&gt;...</td>\n",
       "    </tr>\n",
       "    <tr>\n",
       "      <th>52433</th>\n",
       "      <td>75992</td>\n",
       "      <td>종용</td>\n",
       "      <td>[2] 자동차 판매대리점주 甲이 자신의 대리점에서 카마스터(car master, 자...</td>\n",
       "      <td>[2] 자동차 판매대리점주 甲이 자신의 대리점에서 카마스터(car master, 자...</td>\n",
       "    </tr>\n",
       "    <tr>\n",
       "      <th>52434</th>\n",
       "      <td>75993</td>\n",
       "      <td>종용</td>\n",
       "      <td>［2］ 간통죄의 고소인과 그 배우자인 피고소인 쌍방이 혼인관계를 지속할 의사가 없었...</td>\n",
       "      <td>［2］ 간통죄의 고소인과 그 배우자인 &lt;&lt;&lt;민사소송에서 소송을 당한 사람&lt;=피고&gt;소...</td>\n",
       "    </tr>\n",
       "    <tr>\n",
       "      <th>52435</th>\n",
       "      <td>75994</td>\n",
       "      <td>종용</td>\n",
       "      <td>원심은, 원고가 피고보조참가인(이하 \"참가인\"이라 한다) 등을 사업장에서 배제하게 ...</td>\n",
       "      <td>&lt;&lt;&lt;직전의 재판&lt;=원심&gt;은, 민사소송을 일으킨 사람&lt;=원고&gt;이&gt;&gt;&gt; &lt;&lt;&lt;민사소송...</td>\n",
       "    </tr>\n",
       "    <tr>\n",
       "      <th>52436</th>\n",
       "      <td>75995</td>\n",
       "      <td>종용</td>\n",
       "      <td>원고는 위 도시설계조정심의를 받은 다음날인 ****.**.**피고 *****시 강남...</td>\n",
       "      <td>&lt;&lt;&lt;민사소송을 일으킨 사람&lt;=원고&gt;은 위&gt;&gt;&gt; 도시설계조정심의를 받은 다음날인 *...</td>\n",
       "    </tr>\n",
       "  </tbody>\n",
       "</table>\n",
       "<p>52437 rows × 4 columns</p>\n",
       "</div>"
      ],
      "text/plain": [
       "       lineNumber word                                       originalText  \\\n",
       "0               1   호환  원심판결 이유에 의하면, 원심은 이 사건 행위가 공정거래법 제3조의2 제1항 제3호...   \n",
       "1               2   호환  비록 양 발명의 구성에 상이점이 있어도 그 기술분야에서 통상의 지식을 가진 자가 보...   \n",
       "2               3   호환  [2] 등록의장의 대상물품인 \"스위치\"가 독립거래의 대상성 및 호환성이 있어 의장법...   \n",
       "3               4   호환  ③ 이 사건 프로젝터에 사용된 LCD는 ***** 컴퓨터나 그 호환컴퓨터에 대표적으...   \n",
       "4               5   호환  구 의장법 제2조 제1호에서 말하는 \"물품\"이란 독립성이 있는 구체적인 유체동산을 ...   \n",
       "...           ...  ...                                                ...   \n",
       "52432       75991   종용  이에 피해자의 동생은 피고인의 뜻이 확고하다면 이혼을 하더라도 살 집이라도 마련해 ...   \n",
       "52433       75992   종용  [2] 자동차 판매대리점주 甲이 자신의 대리점에서 카마스터(car master, 자...   \n",
       "52434       75993   종용  ［2］ 간통죄의 고소인과 그 배우자인 피고소인 쌍방이 혼인관계를 지속할 의사가 없었...   \n",
       "52435       75994   종용  원심은, 원고가 피고보조참가인(이하 \"참가인\"이라 한다) 등을 사업장에서 배제하게 ...   \n",
       "52436       75995   종용  원고는 위 도시설계조정심의를 받은 다음날인 ****.**.**피고 *****시 강남...   \n",
       "\n",
       "                                           transcription  \n",
       "0      <<<직전의 재판<=원심>판결 이유에>>> 의하면, <<<직전의 재판<=원심>은 이...  \n",
       "1      비록 양 발명의 구성에 <<<서로 다른<=상이> 점이 있어도>>> 그 기술분야에서 ...  \n",
       "2      [2] 등록의장의 대상물품인 \"스위치\"가 독립거래의 대상성 및 <<<연결되는 데 문...  \n",
       "3      ③ 이 사건 프로젝터에 사용된 LCD는 ***** 컴퓨터나 그 <<<연결되는 데 문...  \n",
       "4      구 의장법 제2조 제1호에서 말하는 \"물품\"이란 독립성이 있는 구체적인 유체동산을 ...  \n",
       "...                                                  ...  \n",
       "52432  이에 피해자의 동생은 <<<형사소송에서 검사에의해 기소당한 사람<=피고인>의 뜻이>...  \n",
       "52433  [2] 자동차 판매대리점주 甲이 자신의 대리점에서 카마스터(car master, 자...  \n",
       "52434  ［2］ 간통죄의 고소인과 그 배우자인 <<<민사소송에서 소송을 당한 사람<=피고>소...  \n",
       "52435  <<<직전의 재판<=원심>은, 민사소송을 일으킨 사람<=원고>이>>> <<<민사소송...  \n",
       "52436  <<<민사소송을 일으킨 사람<=원고>은 위>>> 도시설계조정심의를 받은 다음날인 *...  \n",
       "\n",
       "[52437 rows x 4 columns]"
      ]
     },
     "execution_count": 21,
     "metadata": {},
     "output_type": "execute_result"
    }
   ],
   "source": [
    "org"
   ]
  },
  {
   "cell_type": "code",
   "execution_count": 22,
   "id": "7fa7309e-1f8f-4809-a427-e616246ca09d",
   "metadata": {},
   "outputs": [
    {
     "data": {
      "text/plain": [
       "['직전의 재판판결 이유에',\n",
       " '직전의 재판은 이',\n",
       " '맞거나 틀림을 판단함에',\n",
       " '민사소송에서 소송을 당한 사람이 별도의',\n",
       " '민사소송을 일으킨 사람에게 연결되는 데 문제가 없음은 기술의',\n",
       " '목적이나 요지로 설시하였음을',\n",
       " '직전의 재판의 판단은',\n",
       " '원심 판결에 불복해 재심사 요청이유에서 주장하는',\n",
       " '잘못된 것을 바로잡는 것은 명령의 해석에',\n",
       " '법률의 근본 원리 오해의 법령에 어긋남이']"
      ]
     },
     "execution_count": 22,
     "metadata": {},
     "output_type": "execute_result"
    }
   ],
   "source": [
    "get_small_tag_removed(org['transcription'][0])"
   ]
  },
  {
   "cell_type": "code",
   "execution_count": 24,
   "id": "5a82e51c-c4b7-403b-b6f7-76e1324d218e",
   "metadata": {},
   "outputs": [
    {
     "name": "stdout",
     "output_type": "stream",
     "text": [
      "/Users/jaytsol/Desktop/Type23 (2)/누적/TypeB태그안뽑기/TypeB 최종의 경로에 태그안뽑기_211110_188.csv의 이름으로 파일 생성이 완료되었습니다.\n"
     ]
    },
    {
     "ename": "AttributeError",
     "evalue": "'list' object has no attribute 'to_csv'",
     "output_type": "error",
     "traceback": [
      "\u001b[0;31m---------------------------------------------------------------------------\u001b[0m",
      "\u001b[0;31mAttributeError\u001b[0m                            Traceback (most recent call last)",
      "\u001b[0;32m<ipython-input-24-408dc5c08fa4>\u001b[0m in \u001b[0;36m<module>\u001b[0;34m\u001b[0m\n\u001b[0;32m----> 1\u001b[0;31m \u001b[0msave_as_csv\u001b[0m\u001b[0;34m(\u001b[0m\u001b[0minput_repo\u001b[0m\u001b[0;34m,\u001b[0m \u001b[0moutput_repo\u001b[0m\u001b[0;34m,\u001b[0m \u001b[0msmall_tag_removed\u001b[0m\u001b[0;34m)\u001b[0m\u001b[0;34m\u001b[0m\u001b[0;34m\u001b[0m\u001b[0m\n\u001b[0m",
      "\u001b[0;32m<ipython-input-20-edb6ea263ba5>\u001b[0m in \u001b[0;36msave_as_csv\u001b[0;34m(input_repo, output_repo, result)\u001b[0m\n\u001b[1;32m      9\u001b[0m     \u001b[0mprint\u001b[0m\u001b[0;34m(\u001b[0m\u001b[0;34mf'{output_repo}의 경로에 태그안뽑기_{year}{month}{day}_{hour}{minute}.csv의 이름으로 파일 생성이 완료되었습니다.'\u001b[0m\u001b[0;34m)\u001b[0m\u001b[0;34m\u001b[0m\u001b[0;34m\u001b[0m\u001b[0m\n\u001b[1;32m     10\u001b[0m \u001b[0;34m\u001b[0m\u001b[0m\n\u001b[0;32m---> 11\u001b[0;31m     \u001b[0mresult\u001b[0m\u001b[0;34m.\u001b[0m\u001b[0mto_csv\u001b[0m\u001b[0;34m(\u001b[0m\u001b[0;34mf'{output_repo}/태그안뽑기_{year}{month}{day}_{hour}{minute}.csv'\u001b[0m\u001b[0;34m,\u001b[0m \u001b[0mindex\u001b[0m\u001b[0;34m=\u001b[0m\u001b[0;32mFalse\u001b[0m\u001b[0;34m,\u001b[0m \u001b[0mencoding\u001b[0m\u001b[0;34m=\u001b[0m\u001b[0;34m'utf-8-sig'\u001b[0m\u001b[0;34m)\u001b[0m\u001b[0;34m\u001b[0m\u001b[0;34m\u001b[0m\u001b[0m\n\u001b[0m",
      "\u001b[0;31mAttributeError\u001b[0m: 'list' object has no attribute 'to_csv'"
     ]
    }
   ],
   "source": [
    "save_as_csv(input_repo, output_repo, small_tag_removed)"
   ]
  },
  {
   "cell_type": "code",
   "execution_count": null,
   "id": "3576fb2f-ee56-4edb-85fc-997cf09b34eb",
   "metadata": {},
   "outputs": [],
   "source": []
  }
 ],
 "metadata": {
  "kernelspec": {
   "display_name": "Python 3",
   "language": "python",
   "name": "python3"
  },
  "language_info": {
   "codemirror_mode": {
    "name": "ipython",
    "version": 3
   },
   "file_extension": ".py",
   "mimetype": "text/x-python",
   "name": "python",
   "nbconvert_exporter": "python",
   "pygments_lexer": "ipython3",
   "version": "3.8.8"
  }
 },
 "nbformat": 4,
 "nbformat_minor": 5
}
