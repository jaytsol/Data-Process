{
 "cells": [
  {
   "cell_type": "code",
   "execution_count": 1,
   "id": "f14f331a-f5d6-4989-aef4-22ace63d0956",
   "metadata": {},
   "outputs": [],
   "source": [
    "import pandas as pd\n",
    "import json\n",
    "import csv\n",
    "from tqdm import tnrange, tqdm_notebook"
   ]
  },
  {
   "cell_type": "code",
   "execution_count": 2,
   "id": "e9b6f055-e3cf-4234-b69e-4c297cfc730f",
   "metadata": {},
   "outputs": [],
   "source": [
    "f = open('C:/Users/jayts/OneDrive/바탕 화면/Tictag/json/KAS/for_coding2.json', 'r', encoding='UTF8')    # type3를 통해 추출된 json파일 읽어들이기\n",
    "original_exp = json.load(f)\n",
    "key_list = sorted(list(original_exp.keys()), key=len)    # 어려운 단어 리스트. 글자수가 더 많은 키워드를 먼저 ^^로 태깅하면 문제가 생김. 그래서 오름차순 정렬함"
   ]
  },
  {
   "cell_type": "code",
   "execution_count": 3,
   "id": "07c93589-270c-463e-a422-3ea0793c7123",
   "metadata": {},
   "outputs": [],
   "source": [
    "# 단어 하나가 문장에 여러번 등장했을때, 모든 위치를 리스트로 뽑아내는 함수.\n",
    "# list씌워야함\n",
    "\n",
    "def find_all(a_str, sub):\n",
    "    start = 0\n",
    "    while True:\n",
    "        start = a_str.find(sub, start)\n",
    "        if start == -1: return\n",
    "        yield start\n",
    "        start += len(sub) # use start += 1 to find overlapping matches\n",
    "        \n",
    "# ex) list(find_all('안녕안녕하세요', '안녕')) --> [0,2]"
   ]
  },
  {
   "cell_type": "code",
   "execution_count": 4,
   "id": "8deb61b1-a618-4aa4-b423-f865c707cc54",
   "metadata": {},
   "outputs": [],
   "source": [
    "# isdiff 두 문장을 갖고와서 같으면 0, 다르면 1을 출력하는 함수.\n",
    "def isdiff(sent_a, sent_b):\n",
    "    if sent_a == sent_b:\n",
    "        return 0\n",
    "    else:\n",
    "        return 1"
   ]
  },
  {
   "cell_type": "code",
   "execution_count": 5,
   "id": "e6274a99-4719-4964-9c7f-4f27cd76eeff",
   "metadata": {},
   "outputs": [],
   "source": [
    "# 숫자 리스트 받아와서 이에 맞게 다른 리스트의 순서 바꿔주는 함수.\n",
    "def sort_word_wordOcc(word, wordOccurence):    # 순서 바꿀 단어 리스트, 순서 알려주는 리스트\n",
    "#     try:\n",
    "    if len(word) == len(wordOccurence):\n",
    "        result = {}\n",
    "        for i in range(len(word)):\n",
    "            result.update({wordOccurence[i]['start']:word[i]})    # result = {wordOccurence:['start']:호환}\n",
    "\n",
    "        sorted_result = sorted(result.items())     # ex) [('1','원심'), (17:'원심'), (127:'호환'), (172:'호환'), (320:'원심')]\n",
    "        result_word = []\n",
    "        result_wordOcc = []\n",
    "\n",
    "        for i in range(0, len(word)):\n",
    "            result_word.append(sorted_result[i][1])\n",
    "            result_wordOcc.append({'start':sorted_result[i][0], 'end':sorted_result[i][0]+len(sorted_result[i][1])+1})\n",
    "        \n",
    "    else:\n",
    "        raise Exception('word와 word_Occurence 간 크기가 다릅니다.')\n",
    "        \n",
    "#     except Exception as e:\n",
    "#         print(\"예외가 발생했습니다.\", e)\n",
    "        \n",
    "    return result_word, result_wordOcc"
   ]
  },
  {
   "cell_type": "code",
   "execution_count": 6,
   "id": "acf1b453-d5e7-42f1-8409-44e493631d15",
   "metadata": {},
   "outputs": [],
   "source": [
    "# 중복제거\n",
    "def remove_overlap(overlapped_list):\n",
    "    result = []\n",
    "    for i in overlapped_list:\n",
    "        if i not in result:\n",
    "            result.append(i)\n",
    "            \n",
    "    return result"
   ]
  },
  {
   "cell_type": "code",
   "execution_count": 7,
   "id": "fe1a866b-e45c-4247-abd5-4765b0d58bff",
   "metadata": {},
   "outputs": [
    {
     "name": "stderr",
     "output_type": "stream",
     "text": [
      "<ipython-input-7-8c697acb1443>:4: TqdmDeprecationWarning: Please use `tqdm.notebook.trange` instead of `tqdm.tnrange`\n",
      "  for i in tnrange(len(key_list)):\n"
     ]
    },
    {
     "data": {
      "application/vnd.jupyter.widget-view+json": {
       "model_id": "fffd063a4a2948b5be30f378bf606353",
       "version_major": 2,
       "version_minor": 0
      },
      "text/plain": [
       "  0%|          | 0/2 [00:00<?, ?it/s]"
      ]
     },
     "metadata": {},
     "output_type": "display_data"
    }
   ],
   "source": [
    "result = {}\n",
    "tag = '^'\n",
    "\n",
    "for i in tnrange(len(key_list)):\n",
    "    result.update({key_list[i]:[]})\n",
    "    \n",
    "    for j in range(len(original_exp[key_list[i]])):\n",
    "        sentence = original_exp[key_list[i]][j][\"sentence\"]\n",
    "        paragraph = original_exp[key_list[i]][j][\"paragraph\"]\n",
    "        keyword = original_exp[key_list[i]][j][\"keyword\"]\n",
    "        keywordOccurence = []\n",
    "        \n",
    "        for k in range(len(paragraph)):\n",
    "            sentence = sentence.replace(paragraph[k], tag + keyword[k] + tag)\n",
    "            \n",
    "        for q in range(len(paragraph)):\n",
    "            start = list(find_all(sentence, keyword[q]))\n",
    "            \n",
    "            for l in range(len(start)):\n",
    "                keywordOccurence.append({'start':start[l]-1, 'end':start[l]+len(keyword[k])})\n",
    "            \n",
    "        result[key_list[i]].append({'sentence':sentence, 'paragraph': paragraph, 'keyword':keyword, 'keywordOccurence':keywordOccurence})\n",
    "        \n",
    "#         # 키데이터 중 문장에 있는 키워드 찾아내기\n",
    "#         for k in range(len(key_list)):    # 모든 키워드에 대해 시행\n",
    "#             if sentence[0:len(key_list[k])] == key_list[k]:    # 문장 첫 단어로 키워드가 있을 때..\n",
    "#                 tagged_keyword = tag + data1[3] + tag\n",
    "#                 sentence = sentence.replace(key_list[k], tagged_keyword)\n",
    "#                 count = len(list(find_all(sentence, key_list[k])))\n",
    "#                 result[key_list[i]][j].update({'sentence':sentence})\n",
    "#                 for l in range(count):\n",
    "#                     result[key_list[i]][j]['keyword'].append(key_list[k])\n",
    "                \n",
    "                \n",
    "#             elif sentence.find(' '+key_list[k]) != -1:    # 문장 첫 단어로 키워드가 있을 때..\n",
    "#                 tagged_keyword = tag + key_list[k] + tag\n",
    "#                 sentence = sentence.replace(key_list[k], tagged_keyword)\n",
    "#                 count = len(list(find_all(sentence, key_list[k])))\n",
    "#                 result[key_list[i]][j].update({'sentence':sentence})\n",
    "#                 for l in range(count):\n",
    "#                     result[key_list[i]][j]['keyword'].append(key_list[k])\n",
    "                \n",
    "#             else:\n",
    "#                 pass"
   ]
  },
  {
   "cell_type": "code",
   "execution_count": 8,
   "id": "e21725c7-ee03-42ef-9ab3-68b595745c2a",
   "metadata": {},
   "outputs": [
    {
     "name": "stderr",
     "output_type": "stream",
     "text": [
      "<ipython-input-8-cb0679df4dae>:2: TqdmDeprecationWarning: Please use `tqdm.notebook.trange` instead of `tqdm.tnrange`\n",
      "  for i in tnrange(len(key_list)):\n"
     ]
    },
    {
     "data": {
      "application/vnd.jupyter.widget-view+json": {
       "model_id": "edce736a0193484cad37d12446b49cce",
       "version_major": 2,
       "version_minor": 0
      },
      "text/plain": [
       "  0%|          | 0/2 [00:00<?, ?it/s]"
      ]
     },
     "metadata": {},
     "output_type": "display_data"
    }
   ],
   "source": [
    "# word와 wordOccurence 직관적으로 정렬.\n",
    "for i in tnrange(len(key_list)):\n",
    "    for j in range(len(original_exp[key_list[i]])):\n",
    "        paragraph = result[key_list[i]][j]['paragraph']\n",
    "        keyword = result[key_list[i]][j]['keyword']\n",
    "        tagged_keyword_pos = result[key_list[i]][j]['keywordOccurence']\n",
    "        result_word, result_wordOcc = sort_word_wordOcc(paragraph, tagged_keyword_pos)\n",
    "        result[key_list[i]][j]['paragraph'] = result_word\n",
    "        result_word, result_wordOcc = sort_word_wordOcc(keyword, tagged_keyword_pos)\n",
    "        result[key_list[i]][j]['keyword'] = result_word\n",
    "        result[key_list[i]][j]['keywordOccurence'] = result_wordOcc"
   ]
  },
  {
   "cell_type": "code",
   "execution_count": 9,
   "id": "d0ec35b8-4ed4-4938-bcac-3caaac89f11c",
   "metadata": {},
   "outputs": [],
   "source": [
    "# json 파일로 저장\n",
    "with open('C:/Users/jayts/OneDrive/바탕 화면/Tictag/json/KAS/type2_B_input.json', 'w', encoding='UTF8') as json_file:\n",
    "# with open('C:/Users/jayts/OneDrive/바탕 화면/Tictag/json/KAS/type2_A_input_example.json', 'w', encoding='UTF8') as json_file:\n",
    "    json.dump(result, json_file, indent=4, ensure_ascii=False,)"
   ]
  },
  {
   "cell_type": "code",
   "execution_count": 10,
   "id": "1bfeadae-b2f1-4735-b2f2-bde7c1efe3ab",
   "metadata": {},
   "outputs": [
    {
     "name": "stderr",
     "output_type": "stream",
     "text": [
      "<ipython-input-10-b5c48387b1fa>:2: TqdmDeprecationWarning: Please use `tqdm.notebook.trange` instead of `tqdm.tnrange`\n",
      "  for i in tnrange(len(key_list)):\n"
     ]
    },
    {
     "data": {
      "application/vnd.jupyter.widget-view+json": {
       "model_id": "c94b4bdafb78484ca68b665d1e8ec542",
       "version_major": 2,
       "version_minor": 0
      },
      "text/plain": [
       "  0%|          | 0/2 [00:00<?, ?it/s]"
      ]
     },
     "metadata": {},
     "output_type": "display_data"
    }
   ],
   "source": [
    "result_sentence = {}\n",
    "for i in tnrange(len(key_list)):\n",
    "    result_sentence.update({key_list[i]:[]})\n",
    "    for j in range(len(original_exp[key_list[i]])):\n",
    "        sentence = result[key_list[i]][j][\"sentence\"]\n",
    "        result_sentence[key_list[i]].append({'sentence':sentence})"
   ]
  },
  {
   "cell_type": "code",
   "execution_count": 11,
   "id": "38b9f740-e3e7-4e20-919f-6fb6b7b44531",
   "metadata": {},
   "outputs": [],
   "source": [
    "# 앱 업로드용 csv 파일로 저장\n",
    "with open('C:/Users/jayts/OneDrive/바탕 화면/Tictag/json/KAS/type2_B_app_input.csv', 'w', newline='') as file:\n",
    "    fieldnames=['sentence']\n",
    "    writer = csv.DictWriter(file, fieldnames=fieldnames)\n",
    "    writer.writeheader()\n",
    "    for i in range(len(result_sentence)):\n",
    "        for j in range(len(result_sentence[key_list[i]])):\n",
    "            writer.writerow(result_sentence[key_list[i]][j])"
   ]
  },
  {
   "cell_type": "code",
   "execution_count": 12,
   "id": "1c259fec-519c-4dfc-b55f-8662272fadd3",
   "metadata": {},
   "outputs": [
    {
     "data": {
      "text/plain": [
       "{'기금': [{'sentence': '[1] 증권투자신탁업법 제59조 제1호、 제4조는 \"그 법에 의하지 아니하고 현금 등의 재산을 납입받아 유가증권에 투자 운용하고 그 수익권을 분할하여 불특정 다수인에게 취득시키는 업무를 행하는 것\"을 처벌하고 있는바、 이에 해당하기 위하여는 우선 투자자들로부터 납입받은 재산을 유가증권에 투자하는 것이어야 하고、 또 투자자들로부터 납입받은 재산으로 일정한 ^기초 자금을 만드는 것하고^ 그 기금으로부터 발생하는 수익 또는 손실이 각 참여 투자자들에게 투자금액에 비례하여 귀속하는 방식으로 운용되는 것이어야 한다.'},\n",
       "  {'sentence': '[2] ^손님이 증권을 다루는 회사에^ 대한 채권이 증권투자자보호기금의 지급대상임을 주장하면서 증권회사에 권리신고 및 지급청구를 하였으나 증권회사에서 그 채권이 증권투자자보호기금의 지급대상이 아니라는 이유로 그 신고접수를 거절할 경우 고객으로서는 증권관리위원회에 자신의 채권이 그 지급대상에 해당함의 확인을 구하고、 증권관리위원회의 결정에 따라 그 채권을 ^기초자금운용회사로부터 지급받아야^ 하고、 만약 증권관리위원회가 그 채권이 증권투자자보호기금의 지급대상이 아니라고 판단할 경우 구 증권거래법(1998. 1. 8. 법률 제5498호로 개정되기 전의 것) 제206조에 정하여진 절차에 따라 재정경제부장관을 대상으로 행정심판을 청구하는 등의 불복절차를 밟아야 한다.'}],\n",
       " '각서': [{'sentence': '[2] 증권회사 직원이 증권투자로 인한 고객의 손해에 대하여 책임을 지겠다는 내용의 ^쌍방의 합의가 약속된 문서를 작성해^ 준 사안에서、 그 각서를 단지 그 동안의 손실에 대하여 사과하고 그 회복을 위해 최선을 다하겠다는 의미로 해석하는 것은 경험칙과 논리칙에 반하지만、 그 각서가 남편을 안심시키려는 고객의 요청에 따라 작성된 경위 등에 비추어 비진의 의사표시로서 무효라고 본 사례'},\n",
       "  {'sentence': '[1] 수사 도중에 피의자가 수사관에게 소유권포기 ^쌍방의 합의가 약속된 문서를 제출한^ 경우 수사기관의 압수물 환부의무가 면제되는지 여부(소극) 및 피의자의 압수물 환부청구권도 소멸하는지 여부(소극)'}]}"
      ]
     },
     "execution_count": 12,
     "metadata": {},
     "output_type": "execute_result"
    }
   ],
   "source": [
    "result_sentence"
   ]
  },
  {
   "cell_type": "code",
   "execution_count": null,
   "id": "a441fbf5-0047-49e3-be05-7e8a5433be1a",
   "metadata": {},
   "outputs": [],
   "source": []
  }
 ],
 "metadata": {
  "kernelspec": {
   "display_name": "Python 3",
   "language": "python",
   "name": "python3"
  },
  "language_info": {
   "codemirror_mode": {
    "name": "ipython",
    "version": 3
   },
   "file_extension": ".py",
   "mimetype": "text/x-python",
   "name": "python",
   "nbconvert_exporter": "python",
   "pygments_lexer": "ipython3",
   "version": "3.8.8"
  }
 },
 "nbformat": 4,
 "nbformat_minor": 5
}
